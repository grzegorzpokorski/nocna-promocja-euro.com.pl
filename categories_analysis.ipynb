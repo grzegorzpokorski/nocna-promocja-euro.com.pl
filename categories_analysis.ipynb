{
 "cells": [
  {
   "cell_type": "markdown",
   "id": "48c5361a",
   "metadata": {},
   "source": [
    "# Analiza kategorii w sklepie euro.com.pl"
   ]
  },
  {
   "cell_type": "markdown",
   "id": "aca46aef",
   "metadata": {},
   "source": [
    "## 1. Wprowadzenie"
   ]
  },
  {
   "cell_type": "markdown",
   "id": "4d67bb07",
   "metadata": {},
   "source": [
    "### 1.1 Cel analizy"
   ]
  },
  {
   "cell_type": "markdown",
   "id": "f0ee3e71",
   "metadata": {},
   "source": [
    "<p>\n",
    "Analiza ma na celu poznanie dostępnych kategorii w sklepie internetowym euro.com.pl należącego do sieci sklepów RTV EURO AGD.\n",
    "Dowiedzmy się, czy sklep RTV EURO AGD jest bardziej RTV, czy AGD, a może dominują produkty z nietytułowych kategorii. Wnioski z analizy będą pomocne przy analizowaniu promocji, cyklicznie pojawiających się w tym sklepie.\n",
    "<p>"
   ]
  },
  {
   "cell_type": "markdown",
   "id": "ec82818c",
   "metadata": {},
   "source": [
    "### 1.2 Pochodzenie zbioru danych"
   ]
  },
  {
   "cell_type": "markdown",
   "id": "2c108739",
   "metadata": {},
   "source": [
    "<p>\n",
    "    Dane z analizowanego pliku pochodzą ze sklepu internetowego euro.com.pl. Zostały zebrane w dniu 31.01.2022 r. W tym celu posłużyłem się skryptem scrapującym napisanym w Pythonie. Kod źródłowy wykorzystanego skryptu oraz plik z zebranymi danymi znajduje się w folderze 'categories' tego repozytorium.\n",
    "</p>"
   ]
  },
  {
   "cell_type": "markdown",
   "id": "e3cd4d15",
   "metadata": {},
   "source": [
    "## 2. Wczytanie potrzebnych bibliotek"
   ]
  },
  {
   "cell_type": "code",
   "execution_count": null,
   "id": "5da464cb",
   "metadata": {},
   "outputs": [],
   "source": [
    "import pandas as pd\n",
    "import matplotlib.pyplot as plt\n",
    "import seaborn as sns"
   ]
  },
  {
   "cell_type": "markdown",
   "id": "ba366ea0",
   "metadata": {},
   "source": [
    "## 3. Wczytanie zbioru z danymi"
   ]
  },
  {
   "cell_type": "code",
   "execution_count": 53,
   "id": "b77e4582",
   "metadata": {},
   "outputs": [],
   "source": [
    "df = pd.read_csv('./categories/categories.csv', header=0)"
   ]
  },
  {
   "cell_type": "markdown",
   "id": "9a2fdc8f",
   "metadata": {},
   "source": [
    "### 3.1 Przegląd zbioru."
   ]
  },
  {
   "cell_type": "code",
   "execution_count": 54,
   "id": "d18e7f2a",
   "metadata": {},
   "outputs": [
    {
     "name": "stdout",
     "output_type": "stream",
     "text": [
      "Zbiór zawiera 418 obserwacji oraz 4 zmiennych.\n"
     ]
    }
   ],
   "source": [
    "print(f'Zbiór zawiera {df.shape[0]} obserwacji oraz {df.shape[1]} zmiennych.')"
   ]
  },
  {
   "cell_type": "code",
   "execution_count": 55,
   "id": "d4adea4d",
   "metadata": {},
   "outputs": [
    {
     "name": "stdout",
     "output_type": "stream",
     "text": [
      "Dostępne zmienne: ['parent_category', 'category', 'link_to_category', 'offers_count']\n"
     ]
    }
   ],
   "source": [
    "print(f'Dostępne zmienne: {df.columns.tolist()}')"
   ]
  },
  {
   "cell_type": "code",
   "execution_count": 56,
   "id": "364153e0",
   "metadata": {
    "scrolled": false
   },
   "outputs": [
    {
     "name": "stdout",
     "output_type": "stream",
     "text": [
      "Typy zmiennych:\n"
     ]
    },
    {
     "data": {
      "text/plain": [
       "parent_category      object\n",
       "category             object\n",
       "link_to_category     object\n",
       "offers_count        float64\n",
       "dtype: object"
      ]
     },
     "execution_count": 56,
     "metadata": {},
     "output_type": "execute_result"
    }
   ],
   "source": [
    "print(f'Typy zmiennych:')\n",
    "df.dtypes"
   ]
  },
  {
   "cell_type": "code",
   "execution_count": 57,
   "id": "3b1ca8f4",
   "metadata": {
    "scrolled": true
   },
   "outputs": [
    {
     "name": "stdout",
     "output_type": "stream",
     "text": [
      "Zbior zawiera 7 kategorii głównych:\n",
      "['agd' 'agd-do-zabudowy' 'agd-male' 'rtv' 'telefony-i-nawigacja-gps'\n",
      " 'komputery' 'gry-i-konsole']\n"
     ]
    }
   ],
   "source": [
    "print(f'Zbior zawiera {len(df.parent_category.unique())} kategorii głównych:\\n{df.parent_category.unique()}')"
   ]
  },
  {
   "cell_type": "code",
   "execution_count": 58,
   "id": "bd3805e6",
   "metadata": {},
   "outputs": [
    {
     "name": "stdout",
     "output_type": "stream",
     "text": [
      "Zbior zawiera 418 kategorii podrzędnych.\n"
     ]
    }
   ],
   "source": [
    "print(f'Zbior zawiera {len(df.category.unique())} kategorii podrzędnych.')"
   ]
  },
  {
   "cell_type": "code",
   "execution_count": 59,
   "id": "3b285994",
   "metadata": {},
   "outputs": [
    {
     "data": {
      "text/html": [
       "<div>\n",
       "<style scoped>\n",
       "    .dataframe tbody tr th:only-of-type {\n",
       "        vertical-align: middle;\n",
       "    }\n",
       "\n",
       "    .dataframe tbody tr th {\n",
       "        vertical-align: top;\n",
       "    }\n",
       "\n",
       "    .dataframe thead th {\n",
       "        text-align: right;\n",
       "    }\n",
       "</style>\n",
       "<table border=\"1\" class=\"dataframe\">\n",
       "  <thead>\n",
       "    <tr style=\"text-align: right;\">\n",
       "      <th></th>\n",
       "      <th>has_null</th>\n",
       "      <th>qty</th>\n",
       "      <th>%</th>\n",
       "    </tr>\n",
       "  </thead>\n",
       "  <tbody>\n",
       "    <tr>\n",
       "      <th>parent_category</th>\n",
       "      <td>False</td>\n",
       "      <td>0</td>\n",
       "      <td>0.0</td>\n",
       "    </tr>\n",
       "    <tr>\n",
       "      <th>category</th>\n",
       "      <td>False</td>\n",
       "      <td>0</td>\n",
       "      <td>0.0</td>\n",
       "    </tr>\n",
       "    <tr>\n",
       "      <th>link_to_category</th>\n",
       "      <td>False</td>\n",
       "      <td>0</td>\n",
       "      <td>0.0</td>\n",
       "    </tr>\n",
       "    <tr>\n",
       "      <th>offers_count</th>\n",
       "      <td>False</td>\n",
       "      <td>0</td>\n",
       "      <td>0.0</td>\n",
       "    </tr>\n",
       "  </tbody>\n",
       "</table>\n",
       "</div>"
      ],
      "text/plain": [
       "                  has_null  qty    %\n",
       "parent_category      False    0  0.0\n",
       "category             False    0  0.0\n",
       "link_to_category     False    0  0.0\n",
       "offers_count         False    0  0.0"
      ]
     },
     "execution_count": 59,
     "metadata": {},
     "output_type": "execute_result"
    }
   ],
   "source": [
    "nulls = pd.DataFrame({'has_null': df.isnull().any()})\n",
    "nulls['qty'] = df.isnull().sum()\n",
    "nulls['%']= round((df.isnull().mean()*100),2)\n",
    "nulls"
   ]
  },
  {
   "cell_type": "markdown",
   "id": "a6bb106e",
   "metadata": {},
   "source": [
    "<p>\n",
    "    Zbior nie zawiera obserwacji, w których brakowało by danych.\n",
    "</p>"
   ]
  },
  {
   "cell_type": "markdown",
   "id": "931f59cc",
   "metadata": {},
   "source": [
    "## 4. Analiza zbioru"
   ]
  },
  {
   "cell_type": "markdown",
   "id": "293251d0",
   "metadata": {},
   "source": [
    "<p>\n",
    "Na potrzeby dalszej analizy wykorzystywać będę wszystkie zmienne oprócz zmiennej zawierającej link do danej kategorii w sklepie euro.com.pl, dlatego ją usunę ze zbioru. Bliżej przyjrzę się samym kategoriom głównym, podrzędnym oraz zmiennej opisującej ilość ofert w poszczególnych kategoriach.\n",
    "</p>"
   ]
  },
  {
   "cell_type": "code",
   "execution_count": 60,
   "id": "ec4e7148",
   "metadata": {},
   "outputs": [],
   "source": [
    "df.drop('link_to_category', axis=1, inplace=True)"
   ]
  },
  {
   "cell_type": "markdown",
   "id": "769abd23",
   "metadata": {},
   "source": [
    "### 4.1 Analiza kategorii głównych"
   ]
  },
  {
   "cell_type": "markdown",
   "id": "fdf84f8d",
   "metadata": {},
   "source": [
    "#### 4.1.1 Ogólne podsumowanie ilości ofert oraz ilości kategorii podrzędnych"
   ]
  },
  {
   "cell_type": "code",
   "execution_count": 61,
   "id": "8c6ecfbc",
   "metadata": {},
   "outputs": [
    {
     "data": {
      "text/html": [
       "<div>\n",
       "<style scoped>\n",
       "    .dataframe tbody tr th:only-of-type {\n",
       "        vertical-align: middle;\n",
       "    }\n",
       "\n",
       "    .dataframe tbody tr th {\n",
       "        vertical-align: top;\n",
       "    }\n",
       "\n",
       "    .dataframe thead th {\n",
       "        text-align: right;\n",
       "    }\n",
       "</style>\n",
       "<table border=\"1\" class=\"dataframe\">\n",
       "  <thead>\n",
       "    <tr style=\"text-align: right;\">\n",
       "      <th></th>\n",
       "      <th>parent_category</th>\n",
       "      <th>offers_count</th>\n",
       "      <th>categories_count</th>\n",
       "      <th>percent_of_offers</th>\n",
       "      <th>percent_of_categories</th>\n",
       "    </tr>\n",
       "  </thead>\n",
       "  <tbody>\n",
       "    <tr>\n",
       "      <th>0</th>\n",
       "      <td>komputery</td>\n",
       "      <td>8858.0</td>\n",
       "      <td>87</td>\n",
       "      <td>23.21</td>\n",
       "      <td>20.81</td>\n",
       "    </tr>\n",
       "    <tr>\n",
       "      <th>1</th>\n",
       "      <td>agd-male</td>\n",
       "      <td>7453.0</td>\n",
       "      <td>146</td>\n",
       "      <td>19.53</td>\n",
       "      <td>34.93</td>\n",
       "    </tr>\n",
       "    <tr>\n",
       "      <th>2</th>\n",
       "      <td>telefony-i-nawigacja-gps</td>\n",
       "      <td>6457.0</td>\n",
       "      <td>31</td>\n",
       "      <td>16.92</td>\n",
       "      <td>7.42</td>\n",
       "    </tr>\n",
       "    <tr>\n",
       "      <th>3</th>\n",
       "      <td>rtv</td>\n",
       "      <td>6250.0</td>\n",
       "      <td>71</td>\n",
       "      <td>16.38</td>\n",
       "      <td>16.99</td>\n",
       "    </tr>\n",
       "    <tr>\n",
       "      <th>4</th>\n",
       "      <td>agd</td>\n",
       "      <td>5914.0</td>\n",
       "      <td>39</td>\n",
       "      <td>15.50</td>\n",
       "      <td>9.33</td>\n",
       "    </tr>\n",
       "    <tr>\n",
       "      <th>5</th>\n",
       "      <td>gry-i-konsole</td>\n",
       "      <td>1655.0</td>\n",
       "      <td>28</td>\n",
       "      <td>4.34</td>\n",
       "      <td>6.70</td>\n",
       "    </tr>\n",
       "    <tr>\n",
       "      <th>6</th>\n",
       "      <td>agd-do-zabudowy</td>\n",
       "      <td>1578.0</td>\n",
       "      <td>16</td>\n",
       "      <td>4.13</td>\n",
       "      <td>3.83</td>\n",
       "    </tr>\n",
       "  </tbody>\n",
       "</table>\n",
       "</div>"
      ],
      "text/plain": [
       "            parent_category  offers_count  categories_count  \\\n",
       "0                 komputery        8858.0                87   \n",
       "1                  agd-male        7453.0               146   \n",
       "2  telefony-i-nawigacja-gps        6457.0                31   \n",
       "3                       rtv        6250.0                71   \n",
       "4                       agd        5914.0                39   \n",
       "5             gry-i-konsole        1655.0                28   \n",
       "6           agd-do-zabudowy        1578.0                16   \n",
       "\n",
       "   percent_of_offers  percent_of_categories  \n",
       "0              23.21                  20.81  \n",
       "1              19.53                  34.93  \n",
       "2              16.92                   7.42  \n",
       "3              16.38                  16.99  \n",
       "4              15.50                   9.33  \n",
       "5               4.34                   6.70  \n",
       "6               4.13                   3.83  "
      ]
     },
     "execution_count": 61,
     "metadata": {},
     "output_type": "execute_result"
    }
   ],
   "source": [
    "parent_categories_summary = df.groupby(['parent_category']).agg(offers_count=('offers_count','sum'), categories_count=('category', 'count'))\n",
    "parent_categories_summary = parent_categories_summary.sort_values(by='offers_count', ascending=False)\n",
    "parent_categories_summary = parent_categories_summary.reset_index()\n",
    "parent_categories_summary['percent_of_offers'] = parent_categories_summary.offers_count.apply(lambda x: round(x/parent_categories_summary.offers_count.sum()*100, 2))\n",
    "parent_categories_summary['percent_of_categories'] = parent_categories_summary.categories_count.apply(lambda x: round(x/parent_categories_summary.categories_count.sum()*100, 2))\n",
    "\n",
    "parent_categories_summary"
   ]
  },
  {
   "cell_type": "code",
   "execution_count": 91,
   "id": "4dc0484a",
   "metadata": {},
   "outputs": [
    {
     "data": {
      "text/html": [
       "<div>\n",
       "<style scoped>\n",
       "    .dataframe tbody tr th:only-of-type {\n",
       "        vertical-align: middle;\n",
       "    }\n",
       "\n",
       "    .dataframe tbody tr th {\n",
       "        vertical-align: top;\n",
       "    }\n",
       "\n",
       "    .dataframe thead th {\n",
       "        text-align: right;\n",
       "    }\n",
       "</style>\n",
       "<table border=\"1\" class=\"dataframe\">\n",
       "  <thead>\n",
       "    <tr style=\"text-align: right;\">\n",
       "      <th></th>\n",
       "      <th>sum</th>\n",
       "    </tr>\n",
       "  </thead>\n",
       "  <tbody>\n",
       "    <tr>\n",
       "      <th>offers_count</th>\n",
       "      <td>38165.0</td>\n",
       "    </tr>\n",
       "    <tr>\n",
       "      <th>categories_count</th>\n",
       "      <td>418.0</td>\n",
       "    </tr>\n",
       "  </tbody>\n",
       "</table>\n",
       "</div>"
      ],
      "text/plain": [
       "                      sum\n",
       "offers_count      38165.0\n",
       "categories_count    418.0"
      ]
     },
     "execution_count": 91,
     "metadata": {},
     "output_type": "execute_result"
    }
   ],
   "source": [
    "parent_categories_summary.agg(['sum'])[['offers_count','categories_count']].T"
   ]
  },
  {
   "cell_type": "markdown",
   "id": "3397406a",
   "metadata": {},
   "source": [
    "<p>\n",
    "Analizując dane z powyższej tabeli można wyciągnąć prosty wniosek, iż obecnie to kategorie 'telefony-i-nawigacja-gps' oraz 'komputery' stanowią największą liczbę ofert w sklepie przy prezentowanym podziale na kategorie.\n",
    "</p>\n",
    "<p>\n",
    "Jeśli chodzi o kategorie uwzglednione w nazwie marki sklepu, to wyraźnie wyróżnia się kategoria 'agd-małe' pod względem ilości ofert oraz kategorii podrzędnych.\n",
    "</p>\n",
    "<p>\n",
    "    Kategorią najmniejszą jest 'gry-i-konsole' - zarówno najmniejszy udział w ofercie oraz kategoriach sklepu.\n",
    "</p>\n",
    "<p>\n",
    "    W tym miejscu warto sięgnąć do definicji sprzetu <a href=\"https://pl.wikipedia.org/wiki/Artyku%C5%82y_gospodarstwa_domowego\">AGD</a> oraz <a href=\"https://pl.wikipedia.org/wiki/Elektronika_u%C5%BCytkowa\">RTV</a>. Uważam tak, gdyż pozwala to zrozumieć, jak wiele innych znaczących kategorii sprzętów elektronicznych wyłoniło się na przestrzeni lat, a które są w ofercie sklepu z założenia na początku mającego sprzedawać tylko sprzęty RTV i AGD.\n",
    "</p>\n",
    "<p>\n",
    "    Sklep ma do zaoferowania ponad 38 tysięcy różnych towarów.\n",
    "</p>"
   ]
  },
  {
   "cell_type": "code",
   "execution_count": 63,
   "id": "22a4b77d",
   "metadata": {},
   "outputs": [
    {
     "data": {
      "image/png": "[encoded data removed]",
      "text/plain": [
       "<Figure size 648x360 with 1 Axes>"
      ]
     },
     "metadata": {
      "needs_background": "light"
     },
     "output_type": "display_data"
    }
   ],
   "source": [
    "parent_categories_summary[['parent_category','offers_count']].set_index('parent_category').sort_values(by='parent_category', ascending=False).plot.barh(figsize=(9,5))\n",
    "plt.title('liczba ofert w kategoriach głównych')\n",
    "plt.xlabel('liczba ofert')\n",
    "plt.ylabel('kategoria główna')\n",
    "plt.grid()\n",
    "plt.savefig('./charts/liczba ofert w kategoriach głównych.png')\n",
    "plt.show()"
   ]
  },
  {
   "cell_type": "code",
   "execution_count": 64,
   "id": "be2acf7b",
   "metadata": {},
   "outputs": [
    {
     "data": {
      "image/png": "[encoded data removed]",
      "text/plain": [
       "<Figure size 648x360 with 1 Axes>"
      ]
     },
     "metadata": {
      "needs_background": "light"
     },
     "output_type": "display_data"
    }
   ],
   "source": [
    "parent_categories_summary[['parent_category','categories_count']].set_index('parent_category').sort_values(by='parent_category', ascending=False).plot.barh(figsize=(9,5))\n",
    "plt.title('liczba kategorii podrzędnych w kategoriach głównych')\n",
    "plt.xlabel('liczba kategorii')\n",
    "plt.ylabel('kategoria główna')\n",
    "plt.grid()\n",
    "plt.savefig('./charts/liczba kategorii podrzędnych w kategoriach głównych.png')\n",
    "plt.show()"
   ]
  },
  {
   "cell_type": "code",
   "execution_count": 159,
   "id": "24dddbce",
   "metadata": {},
   "outputs": [
    {
     "data": {
      "image/png": "[encoded data removed]",
      "text/plain": [
       "<Figure size 432x432 with 1 Axes>"
      ]
     },
     "metadata": {},
     "output_type": "display_data"
    }
   ],
   "source": [
    "parent_categories_summary[['parent_category','offers_count']].set_index('parent_category').plot.pie(y='offers_count', autopct='%1.1f%%', figsize=(6,6))\n",
    "plt.legend(loc='center left', bbox_to_anchor=(-0.5, 1))\n",
    "plt.title('udział liczby ofert w sklepie')\n",
    "plt.ylabel('')\n",
    "plt.savefig(f'./charts/udział liczby ofert w sklepie.png')\n",
    "plt.show()"
   ]
  },
  {
   "cell_type": "code",
   "execution_count": 158,
   "id": "92e402f4",
   "metadata": {},
   "outputs": [
    {
     "data": {
      "image/png": "[encoded data removed]",
      "text/plain": [
       "<Figure size 432x432 with 1 Axes>"
      ]
     },
     "metadata": {},
     "output_type": "display_data"
    }
   ],
   "source": [
    "parent_categories_summary[['parent_category','categories_count']].set_index('parent_category').plot.pie(y='categories_count', autopct='%1.1f%%', figsize=(6,6))\n",
    "plt.legend(loc='center left', bbox_to_anchor=(-0.5, 1))\n",
    "plt.title('udział liczby kategorii w ofercie sklepu')\n",
    "plt.ylabel('')\n",
    "plt.savefig(f'./charts/udział liczby kategorii w ofercie sklepu.png')\n",
    "plt.show()"
   ]
  },
  {
   "cell_type": "markdown",
   "id": "4028359e",
   "metadata": {},
   "source": [
    "#### 4.1.2 Analiza: agd vs rtv vs reszta kategorii"
   ]
  },
  {
   "cell_type": "code",
   "execution_count": 65,
   "id": "ddd7c103",
   "metadata": {},
   "outputs": [],
   "source": [
    "only_within_agd = parent_categories_summary[parent_categories_summary.parent_category.str.contains('agd')]\n",
    "rtv = parent_categories_summary[parent_categories_summary.parent_category == 'rtv']\n",
    "without_agd_and_rtv = parent_categories_summary[~parent_categories_summary.parent_category.isin(list(only_within_agd.parent_category) + list(rtv.parent_category))]"
   ]
  },
  {
   "cell_type": "code",
   "execution_count": 66,
   "id": "1d0ee4d8",
   "metadata": {
    "scrolled": true
   },
   "outputs": [
    {
     "data": {
      "text/html": [
       "<div>\n",
       "<style scoped>\n",
       "    .dataframe tbody tr th:only-of-type {\n",
       "        vertical-align: middle;\n",
       "    }\n",
       "\n",
       "    .dataframe tbody tr th {\n",
       "        vertical-align: top;\n",
       "    }\n",
       "\n",
       "    .dataframe thead th {\n",
       "        text-align: right;\n",
       "    }\n",
       "</style>\n",
       "<table border=\"1\" class=\"dataframe\">\n",
       "  <thead>\n",
       "    <tr style=\"text-align: right;\">\n",
       "      <th></th>\n",
       "      <th>parent_category</th>\n",
       "      <th>offers_count</th>\n",
       "      <th>categories_count</th>\n",
       "      <th>percent_of_offers</th>\n",
       "      <th>percent_of_categories</th>\n",
       "    </tr>\n",
       "  </thead>\n",
       "  <tbody>\n",
       "    <tr>\n",
       "      <th>1</th>\n",
       "      <td>agd-male</td>\n",
       "      <td>7453.0</td>\n",
       "      <td>146</td>\n",
       "      <td>19.53</td>\n",
       "      <td>34.93</td>\n",
       "    </tr>\n",
       "    <tr>\n",
       "      <th>4</th>\n",
       "      <td>agd</td>\n",
       "      <td>5914.0</td>\n",
       "      <td>39</td>\n",
       "      <td>15.50</td>\n",
       "      <td>9.33</td>\n",
       "    </tr>\n",
       "    <tr>\n",
       "      <th>6</th>\n",
       "      <td>agd-do-zabudowy</td>\n",
       "      <td>1578.0</td>\n",
       "      <td>16</td>\n",
       "      <td>4.13</td>\n",
       "      <td>3.83</td>\n",
       "    </tr>\n",
       "  </tbody>\n",
       "</table>\n",
       "</div>"
      ],
      "text/plain": [
       "   parent_category  offers_count  categories_count  percent_of_offers  \\\n",
       "1         agd-male        7453.0               146              19.53   \n",
       "4              agd        5914.0                39              15.50   \n",
       "6  agd-do-zabudowy        1578.0                16               4.13   \n",
       "\n",
       "   percent_of_categories  \n",
       "1                  34.93  \n",
       "4                   9.33  \n",
       "6                   3.83  "
      ]
     },
     "execution_count": 66,
     "metadata": {},
     "output_type": "execute_result"
    }
   ],
   "source": [
    "only_within_agd"
   ]
  },
  {
   "cell_type": "code",
   "execution_count": 67,
   "id": "9cd4a1dd",
   "metadata": {
    "scrolled": true
   },
   "outputs": [
    {
     "name": "stdout",
     "output_type": "stream",
     "text": [
      "Suma ofert w kategoriach głównych związanych z AGD: 14945.0\n",
      "Udział ofert z kategorii głównych związanych z AGD w całej ofercie: 39.16%\n",
      "\n",
      "Suma kategorii podrzędnych w kategoriach głównych związanych z AGD: 201\n",
      "Udział kategorii podrzędnych związanych z AGD w całym sklepie: 48.09%\n"
     ]
    }
   ],
   "source": [
    "print(f'Suma ofert w kategoriach głównych związanych z AGD: {only_within_agd.offers_count.sum()}')\n",
    "print(f'Udział ofert z kategorii głównych związanych z AGD w całej ofercie: {round(only_within_agd.percent_of_offers.sum(),2)}%\\n')\n",
    "print(f'Suma kategorii podrzędnych w kategoriach głównych związanych z AGD: {only_within_agd.categories_count.sum()}')\n",
    "print(f'Udział kategorii podrzędnych związanych z AGD w całym sklepie: {round(only_within_agd.percent_of_categories.sum(),2)}%')"
   ]
  },
  {
   "cell_type": "code",
   "execution_count": 68,
   "id": "2dffdb0b",
   "metadata": {},
   "outputs": [
    {
     "data": {
      "text/html": [
       "<div>\n",
       "<style scoped>\n",
       "    .dataframe tbody tr th:only-of-type {\n",
       "        vertical-align: middle;\n",
       "    }\n",
       "\n",
       "    .dataframe tbody tr th {\n",
       "        vertical-align: top;\n",
       "    }\n",
       "\n",
       "    .dataframe thead th {\n",
       "        text-align: right;\n",
       "    }\n",
       "</style>\n",
       "<table border=\"1\" class=\"dataframe\">\n",
       "  <thead>\n",
       "    <tr style=\"text-align: right;\">\n",
       "      <th></th>\n",
       "      <th>parent_category</th>\n",
       "      <th>offers_count</th>\n",
       "      <th>categories_count</th>\n",
       "      <th>percent_of_offers</th>\n",
       "      <th>percent_of_categories</th>\n",
       "    </tr>\n",
       "  </thead>\n",
       "  <tbody>\n",
       "    <tr>\n",
       "      <th>3</th>\n",
       "      <td>rtv</td>\n",
       "      <td>6250.0</td>\n",
       "      <td>71</td>\n",
       "      <td>16.38</td>\n",
       "      <td>16.99</td>\n",
       "    </tr>\n",
       "  </tbody>\n",
       "</table>\n",
       "</div>"
      ],
      "text/plain": [
       "  parent_category  offers_count  categories_count  percent_of_offers  \\\n",
       "3             rtv        6250.0                71              16.38   \n",
       "\n",
       "   percent_of_categories  \n",
       "3                  16.99  "
      ]
     },
     "execution_count": 68,
     "metadata": {},
     "output_type": "execute_result"
    }
   ],
   "source": [
    "rtv"
   ]
  },
  {
   "cell_type": "code",
   "execution_count": 69,
   "id": "240cf132",
   "metadata": {},
   "outputs": [
    {
     "data": {
      "text/html": [
       "<div>\n",
       "<style scoped>\n",
       "    .dataframe tbody tr th:only-of-type {\n",
       "        vertical-align: middle;\n",
       "    }\n",
       "\n",
       "    .dataframe tbody tr th {\n",
       "        vertical-align: top;\n",
       "    }\n",
       "\n",
       "    .dataframe thead th {\n",
       "        text-align: right;\n",
       "    }\n",
       "</style>\n",
       "<table border=\"1\" class=\"dataframe\">\n",
       "  <thead>\n",
       "    <tr style=\"text-align: right;\">\n",
       "      <th></th>\n",
       "      <th>parent_category</th>\n",
       "      <th>offers_count</th>\n",
       "      <th>categories_count</th>\n",
       "      <th>percent_of_offers</th>\n",
       "      <th>percent_of_categories</th>\n",
       "    </tr>\n",
       "  </thead>\n",
       "  <tbody>\n",
       "    <tr>\n",
       "      <th>0</th>\n",
       "      <td>komputery</td>\n",
       "      <td>8858.0</td>\n",
       "      <td>87</td>\n",
       "      <td>23.21</td>\n",
       "      <td>20.81</td>\n",
       "    </tr>\n",
       "    <tr>\n",
       "      <th>2</th>\n",
       "      <td>telefony-i-nawigacja-gps</td>\n",
       "      <td>6457.0</td>\n",
       "      <td>31</td>\n",
       "      <td>16.92</td>\n",
       "      <td>7.42</td>\n",
       "    </tr>\n",
       "    <tr>\n",
       "      <th>5</th>\n",
       "      <td>gry-i-konsole</td>\n",
       "      <td>1655.0</td>\n",
       "      <td>28</td>\n",
       "      <td>4.34</td>\n",
       "      <td>6.70</td>\n",
       "    </tr>\n",
       "  </tbody>\n",
       "</table>\n",
       "</div>"
      ],
      "text/plain": [
       "            parent_category  offers_count  categories_count  \\\n",
       "0                 komputery        8858.0                87   \n",
       "2  telefony-i-nawigacja-gps        6457.0                31   \n",
       "5             gry-i-konsole        1655.0                28   \n",
       "\n",
       "   percent_of_offers  percent_of_categories  \n",
       "0              23.21                  20.81  \n",
       "2              16.92                   7.42  \n",
       "5               4.34                   6.70  "
      ]
     },
     "execution_count": 69,
     "metadata": {},
     "output_type": "execute_result"
    }
   ],
   "source": [
    "without_agd_and_rtv"
   ]
  },
  {
   "cell_type": "code",
   "execution_count": 70,
   "id": "305a71ee",
   "metadata": {},
   "outputs": [
    {
     "name": "stdout",
     "output_type": "stream",
     "text": [
      "Suma ofert w kategoriach głównych niezwiązanych z RTV i AGD: 16970.0\n",
      "Udział ofert w kategoriach głównych niezwiązanych z RTV i AGD: 44.47%\n",
      "\n",
      "Suma kategorii podrzędnych w kategoriach głównych niezwiązanych z RTV i AGD: 146\n",
      "Udział kategorii podrzędnych niezwiązanych z RTV i AGD: 34.93%\n"
     ]
    }
   ],
   "source": [
    "print(f'Suma ofert w kategoriach głównych niezwiązanych z RTV i AGD: {without_agd_and_rtv.offers_count.sum()}')\n",
    "print(f'Udział ofert w kategoriach głównych niezwiązanych z RTV i AGD: {without_agd_and_rtv.percent_of_offers.sum()}%\\n')\n",
    "print(f'Suma kategorii podrzędnych w kategoriach głównych niezwiązanych z RTV i AGD: {without_agd_and_rtv.categories_count.sum()}')\n",
    "print(f'Udział kategorii podrzędnych niezwiązanych z RTV i AGD: {without_agd_and_rtv.percent_of_categories.sum()}%')"
   ]
  },
  {
   "cell_type": "code",
   "execution_count": 125,
   "id": "6dce6e07",
   "metadata": {},
   "outputs": [
    {
     "data": {
      "image/png": "[encoded data removed]",
      "text/plain": [
       "<Figure size 432x432 with 1 Axes>"
      ]
     },
     "metadata": {},
     "output_type": "display_data"
    }
   ],
   "source": [
    "pie_offers = pd.DataFrame({'values': [only_within_agd.percent_of_offers.sum(), rtv.percent_of_offers.sum(), without_agd_and_rtv.percent_of_offers.sum()]})\n",
    "pie_offers.index = ['only AGD caetgories', 'RTV', 'without AGD and RTV']\n",
    "pie_offers.plot.pie(y='values', autopct='%1.1f%%', figsize=(6,6))\n",
    "plt.legend(loc='center left', bbox_to_anchor=(1, 0.5))\n",
    "plt.title('udział liczby ofert przy podziale na kategorie tytułowe')\n",
    "plt.ylabel('')\n",
    "plt.savefig(f'./charts/udział liczby ofert przy podziale na kategorie tytułowe.png')\n",
    "plt.show()"
   ]
  },
  {
   "cell_type": "code",
   "execution_count": 126,
   "id": "92fdad88",
   "metadata": {},
   "outputs": [
    {
     "data": {
      "image/png": "[encoded data removed]",
      "text/plain": [
       "<Figure size 432x432 with 1 Axes>"
      ]
     },
     "metadata": {},
     "output_type": "display_data"
    }
   ],
   "source": [
    "pie_categories = pd.DataFrame({'values': [only_within_agd.percent_of_categories.sum(), rtv.percent_of_categories.sum(), without_agd_and_rtv.percent_of_categories.sum()]})\n",
    "pie_categories.index = ['only AGD caetgories', 'RTV', 'without AGD and RTV']\n",
    "pie_categories.plot.pie(y='values', autopct='%1.1f%%', figsize=(6,6))\n",
    "plt.legend(loc='center left', bbox_to_anchor=(1, 0.5))\n",
    "plt.title('udział liczby kategorii podrzędnych przy podziale na kategorie tytułowe')\n",
    "plt.ylabel('')\n",
    "plt.savefig(f'./charts/udział liczby kategorii podrzędnych przy podziale na kategorie tytułowe.png')\n",
    "plt.show()"
   ]
  },
  {
   "cell_type": "markdown",
   "id": "837636cc",
   "metadata": {},
   "source": [
    "##### 4.1.2.1 Wnioski"
   ]
  },
  {
   "cell_type": "markdown",
   "id": "456b4bb8",
   "metadata": {},
   "source": [
    "<p>\n",
    "Oferty niezwiązane z AGD i RTV stanowią najwiekszą część oferty sklepu euro.com.pl. Na drugim miejscu plasują się kategorie związane z AGD, a dopiero na końcu RTV.</p><p>Powyższe dane pokazują, rozmiar i znaczenie kategorii związanych z komunikacją oraz rozrywką\n",
    "</p>\n",
    "<p>\n",
    "    Najbardziej róznorodną grupą asortymentową są kategorie związane z AGD, a najmniej z RTV - patrz udział kategorii podrzędnych.\n",
    "</p>"
   ]
  },
  {
   "cell_type": "markdown",
   "id": "bf792886",
   "metadata": {},
   "source": [
    "### 4.2 Analiza ilości ofert w kategoriach podrzędnych"
   ]
  },
  {
   "cell_type": "markdown",
   "id": "4dabf850",
   "metadata": {},
   "source": [
    "#### 4.2.1 Wybrane statystyki"
   ]
  },
  {
   "cell_type": "code",
   "execution_count": 71,
   "id": "1c5075a3",
   "metadata": {},
   "outputs": [
    {
     "data": {
      "text/plain": [
       "count     418.000000\n",
       "mean       91.303828\n",
       "std       201.063315\n",
       "min         1.000000\n",
       "25%        11.000000\n",
       "50%        30.000000\n",
       "75%        89.750000\n",
       "max      2631.000000\n",
       "Name: offers_count, dtype: float64"
      ]
     },
     "execution_count": 71,
     "metadata": {},
     "output_type": "execute_result"
    }
   ],
   "source": [
    "df.offers_count.describe()"
   ]
  },
  {
   "cell_type": "code",
   "execution_count": 72,
   "id": "19c7db9f",
   "metadata": {},
   "outputs": [
    {
     "data": {
      "text/plain": [
       "min          1.000000\n",
       "median      30.000000\n",
       "max       2631.000000\n",
       "mean        91.303828\n",
       "Name: offers_count, dtype: float64"
      ]
     },
     "execution_count": 72,
     "metadata": {},
     "output_type": "execute_result"
    }
   ],
   "source": [
    "df.offers_count.agg(['min', 'median', 'max', 'mean'])"
   ]
  },
  {
   "cell_type": "markdown",
   "id": "ae73e246",
   "metadata": {},
   "source": [
    "<p>Poniżej kategoria podrzędna z największą liczbą ofert:</p>"
   ]
  },
  {
   "cell_type": "code",
   "execution_count": 73,
   "id": "9765ca5c",
   "metadata": {},
   "outputs": [
    {
     "data": {
      "text/html": [
       "<div>\n",
       "<style scoped>\n",
       "    .dataframe tbody tr th:only-of-type {\n",
       "        vertical-align: middle;\n",
       "    }\n",
       "\n",
       "    .dataframe tbody tr th {\n",
       "        vertical-align: top;\n",
       "    }\n",
       "\n",
       "    .dataframe thead th {\n",
       "        text-align: right;\n",
       "    }\n",
       "</style>\n",
       "<table border=\"1\" class=\"dataframe\">\n",
       "  <thead>\n",
       "    <tr style=\"text-align: right;\">\n",
       "      <th></th>\n",
       "      <th>parent_category</th>\n",
       "      <th>category</th>\n",
       "      <th>offers_count</th>\n",
       "    </tr>\n",
       "  </thead>\n",
       "  <tbody>\n",
       "    <tr>\n",
       "      <th>286</th>\n",
       "      <td>telefony-i-nawigacja-gps</td>\n",
       "      <td>folie-ochronne</td>\n",
       "      <td>2631.0</td>\n",
       "    </tr>\n",
       "  </tbody>\n",
       "</table>\n",
       "</div>"
      ],
      "text/plain": [
       "              parent_category        category  offers_count\n",
       "286  telefony-i-nawigacja-gps  folie-ochronne        2631.0"
      ]
     },
     "execution_count": 73,
     "metadata": {},
     "output_type": "execute_result"
    }
   ],
   "source": [
    "df[df.offers_count == df.offers_count.max()]"
   ]
  },
  {
   "cell_type": "markdown",
   "id": "85ebeb75",
   "metadata": {},
   "source": [
    "<p>Poniżej kategorie podrzędne z najmniejszą liczbą ofert:</p>"
   ]
  },
  {
   "cell_type": "code",
   "execution_count": 74,
   "id": "1fef4c0d",
   "metadata": {},
   "outputs": [
    {
     "data": {
      "text/html": [
       "<div>\n",
       "<style scoped>\n",
       "    .dataframe tbody tr th:only-of-type {\n",
       "        vertical-align: middle;\n",
       "    }\n",
       "\n",
       "    .dataframe tbody tr th {\n",
       "        vertical-align: top;\n",
       "    }\n",
       "\n",
       "    .dataframe thead th {\n",
       "        text-align: right;\n",
       "    }\n",
       "</style>\n",
       "<table border=\"1\" class=\"dataframe\">\n",
       "  <thead>\n",
       "    <tr style=\"text-align: right;\">\n",
       "      <th></th>\n",
       "      <th>parent_category</th>\n",
       "      <th>category</th>\n",
       "      <th>offers_count</th>\n",
       "    </tr>\n",
       "  </thead>\n",
       "  <tbody>\n",
       "    <tr>\n",
       "      <th>22</th>\n",
       "      <td>agd</td>\n",
       "      <td>systemy-filtrujace-wode</td>\n",
       "      <td>1.0</td>\n",
       "    </tr>\n",
       "    <tr>\n",
       "      <th>23</th>\n",
       "      <td>agd</td>\n",
       "      <td>filtry-do-systemow-filtrujacych-wode</td>\n",
       "      <td>1.0</td>\n",
       "    </tr>\n",
       "    <tr>\n",
       "      <th>95</th>\n",
       "      <td>agd-male</td>\n",
       "      <td>kombiwary</td>\n",
       "      <td>1.0</td>\n",
       "    </tr>\n",
       "    <tr>\n",
       "      <th>98</th>\n",
       "      <td>agd-male</td>\n",
       "      <td>urzadzenie-do-czekolady</td>\n",
       "      <td>1.0</td>\n",
       "    </tr>\n",
       "    <tr>\n",
       "      <th>99</th>\n",
       "      <td>agd-male</td>\n",
       "      <td>chlebaki</td>\n",
       "      <td>1.0</td>\n",
       "    </tr>\n",
       "    <tr>\n",
       "      <th>159</th>\n",
       "      <td>agd-male</td>\n",
       "      <td>prasowalnice</td>\n",
       "      <td>1.0</td>\n",
       "    </tr>\n",
       "    <tr>\n",
       "      <th>170</th>\n",
       "      <td>agd-male</td>\n",
       "      <td>akcesoria-do-fotelikow-samochodowych</td>\n",
       "      <td>1.0</td>\n",
       "    </tr>\n",
       "    <tr>\n",
       "      <th>172</th>\n",
       "      <td>agd-male</td>\n",
       "      <td>zabawki</td>\n",
       "      <td>1.0</td>\n",
       "    </tr>\n",
       "    <tr>\n",
       "      <th>174</th>\n",
       "      <td>agd-male</td>\n",
       "      <td>pielegnacja-niemowlat</td>\n",
       "      <td>1.0</td>\n",
       "    </tr>\n",
       "    <tr>\n",
       "      <th>175</th>\n",
       "      <td>agd-male</td>\n",
       "      <td>lozeczka-dla-dzieci</td>\n",
       "      <td>1.0</td>\n",
       "    </tr>\n",
       "    <tr>\n",
       "      <th>177</th>\n",
       "      <td>agd-male</td>\n",
       "      <td>przechowywanie</td>\n",
       "      <td>1.0</td>\n",
       "    </tr>\n",
       "    <tr>\n",
       "      <th>195</th>\n",
       "      <td>agd-male</td>\n",
       "      <td>akcesoria-oswietleniowe</td>\n",
       "      <td>1.0</td>\n",
       "    </tr>\n",
       "    <tr>\n",
       "      <th>216</th>\n",
       "      <td>rtv</td>\n",
       "      <td>odtwarzacze-cd</td>\n",
       "      <td>1.0</td>\n",
       "    </tr>\n",
       "    <tr>\n",
       "      <th>236</th>\n",
       "      <td>rtv</td>\n",
       "      <td>filmy-dvd</td>\n",
       "      <td>1.0</td>\n",
       "    </tr>\n",
       "    <tr>\n",
       "      <th>255</th>\n",
       "      <td>rtv</td>\n",
       "      <td>wzmacniacze-sluchawkowe</td>\n",
       "      <td>1.0</td>\n",
       "    </tr>\n",
       "    <tr>\n",
       "      <th>302</th>\n",
       "      <td>telefony-i-nawigacja-gps</td>\n",
       "      <td>kask</td>\n",
       "      <td>1.0</td>\n",
       "    </tr>\n",
       "    <tr>\n",
       "      <th>356</th>\n",
       "      <td>komputery</td>\n",
       "      <td>bindownice</td>\n",
       "      <td>1.0</td>\n",
       "    </tr>\n",
       "    <tr>\n",
       "      <th>388</th>\n",
       "      <td>komputery</td>\n",
       "      <td>przetwornice</td>\n",
       "      <td>1.0</td>\n",
       "    </tr>\n",
       "  </tbody>\n",
       "</table>\n",
       "</div>"
      ],
      "text/plain": [
       "              parent_category                              category  \\\n",
       "22                        agd               systemy-filtrujace-wode   \n",
       "23                        agd  filtry-do-systemow-filtrujacych-wode   \n",
       "95                   agd-male                             kombiwary   \n",
       "98                   agd-male               urzadzenie-do-czekolady   \n",
       "99                   agd-male                              chlebaki   \n",
       "159                  agd-male                          prasowalnice   \n",
       "170                  agd-male  akcesoria-do-fotelikow-samochodowych   \n",
       "172                  agd-male                               zabawki   \n",
       "174                  agd-male                 pielegnacja-niemowlat   \n",
       "175                  agd-male                   lozeczka-dla-dzieci   \n",
       "177                  agd-male                        przechowywanie   \n",
       "195                  agd-male               akcesoria-oswietleniowe   \n",
       "216                       rtv                        odtwarzacze-cd   \n",
       "236                       rtv                             filmy-dvd   \n",
       "255                       rtv               wzmacniacze-sluchawkowe   \n",
       "302  telefony-i-nawigacja-gps                                  kask   \n",
       "356                 komputery                            bindownice   \n",
       "388                 komputery                          przetwornice   \n",
       "\n",
       "     offers_count  \n",
       "22            1.0  \n",
       "23            1.0  \n",
       "95            1.0  \n",
       "98            1.0  \n",
       "99            1.0  \n",
       "159           1.0  \n",
       "170           1.0  \n",
       "172           1.0  \n",
       "174           1.0  \n",
       "175           1.0  \n",
       "177           1.0  \n",
       "195           1.0  \n",
       "216           1.0  \n",
       "236           1.0  \n",
       "255           1.0  \n",
       "302           1.0  \n",
       "356           1.0  \n",
       "388           1.0  "
      ]
     },
     "execution_count": 74,
     "metadata": {},
     "output_type": "execute_result"
    }
   ],
   "source": [
    "df[df.offers_count == df.offers_count.min()]"
   ]
  },
  {
   "cell_type": "markdown",
   "id": "69ed1a94",
   "metadata": {},
   "source": [
    "#### 4.2.2 Analiza wartości odstających"
   ]
  },
  {
   "cell_type": "markdown",
   "id": "9c877716",
   "metadata": {},
   "source": [
    "<p>Przed pominięciem wartości odstających:<p>"
   ]
  },
  {
   "cell_type": "code",
   "execution_count": 75,
   "id": "6893e837",
   "metadata": {},
   "outputs": [
    {
     "data": {
      "text/plain": [
       "0.01      1.00\n",
       "0.25     11.00\n",
       "0.50     30.00\n",
       "0.75     89.75\n",
       "0.99    731.13\n",
       "Name: offers_count, dtype: float64"
      ]
     },
     "execution_count": 75,
     "metadata": {},
     "output_type": "execute_result"
    }
   ],
   "source": [
    "df.offers_count.quantile([.01,.25,.50,.75,.99])"
   ]
  },
  {
   "cell_type": "code",
   "execution_count": 76,
   "id": "80486827",
   "metadata": {},
   "outputs": [
    {
     "name": "stdout",
     "output_type": "stream",
     "text": [
      "Rozspęp kwartylny: 78.75\n"
     ]
    }
   ],
   "source": [
    "q1, q3 = df.offers_count.quantile([.25,.75])\n",
    "iqr = q3 - q1\n",
    "\n",
    "print(f'Rozspęp kwartylny: {iqr}')"
   ]
  },
  {
   "cell_type": "code",
   "execution_count": 77,
   "id": "2e541a33",
   "metadata": {
    "scrolled": true
   },
   "outputs": [
    {
     "data": {
      "image/png": "[encoded data removed]",
      "text/plain": [
       "<Figure size 648x360 with 1 Axes>"
      ]
     },
     "metadata": {
      "needs_background": "light"
     },
     "output_type": "display_data"
    }
   ],
   "source": [
    "df.offers_count.plot.hist(figsize=(9,5))\n",
    "plt.title(\"histogram - liczba ofert\")\n",
    "plt.xlabel('liczba ofert')\n",
    "plt.ylabel('liczba kategorii')\n",
    "plt.grid()\n",
    "plt.savefig('./charts/histogram - liczba ofert.png')\n",
    "plt.show()"
   ]
  },
  {
   "cell_type": "code",
   "execution_count": 78,
   "id": "2fb87f76",
   "metadata": {},
   "outputs": [],
   "source": [
    "down_boundary = q1-iqr*1.5\n",
    "upper_boundary = q3+iqr*1.5\n",
    "\n",
    "without_outliers = df[(df.offers_count < upper_boundary) & (df.offers_count > down_boundary)]"
   ]
  },
  {
   "cell_type": "markdown",
   "id": "c22744b0",
   "metadata": {},
   "source": [
    "<p>Po pominięciu wartości odstających:</p>"
   ]
  },
  {
   "cell_type": "code",
   "execution_count": 79,
   "id": "9fe04f5c",
   "metadata": {},
   "outputs": [
    {
     "data": {
      "text/html": [
       "<div>\n",
       "<style scoped>\n",
       "    .dataframe tbody tr th:only-of-type {\n",
       "        vertical-align: middle;\n",
       "    }\n",
       "\n",
       "    .dataframe tbody tr th {\n",
       "        vertical-align: top;\n",
       "    }\n",
       "\n",
       "    .dataframe thead th {\n",
       "        text-align: right;\n",
       "    }\n",
       "</style>\n",
       "<table border=\"1\" class=\"dataframe\">\n",
       "  <thead>\n",
       "    <tr style=\"text-align: right;\">\n",
       "      <th></th>\n",
       "      <th>offers_count</th>\n",
       "    </tr>\n",
       "  </thead>\n",
       "  <tbody>\n",
       "    <tr>\n",
       "      <th>0.01</th>\n",
       "      <td>1.00</td>\n",
       "    </tr>\n",
       "    <tr>\n",
       "      <th>0.25</th>\n",
       "      <td>10.00</td>\n",
       "    </tr>\n",
       "    <tr>\n",
       "      <th>0.50</th>\n",
       "      <td>25.50</td>\n",
       "    </tr>\n",
       "    <tr>\n",
       "      <th>0.75</th>\n",
       "      <td>61.25</td>\n",
       "    </tr>\n",
       "    <tr>\n",
       "      <th>0.99</th>\n",
       "      <td>178.48</td>\n",
       "    </tr>\n",
       "  </tbody>\n",
       "</table>\n",
       "</div>"
      ],
      "text/plain": [
       "      offers_count\n",
       "0.01          1.00\n",
       "0.25         10.00\n",
       "0.50         25.50\n",
       "0.75         61.25\n",
       "0.99        178.48"
      ]
     },
     "execution_count": 79,
     "metadata": {},
     "output_type": "execute_result"
    }
   ],
   "source": [
    "without_outliers.quantile([.01,.25,.50,.75,.99])"
   ]
  },
  {
   "cell_type": "code",
   "execution_count": 80,
   "id": "f144a205",
   "metadata": {
    "scrolled": true
   },
   "outputs": [
    {
     "data": {
      "image/png": "[encoded data removed]",
      "text/plain": [
       "<Figure size 648x360 with 1 Axes>"
      ]
     },
     "metadata": {
      "needs_background": "light"
     },
     "output_type": "display_data"
    }
   ],
   "source": [
    "without_outliers.offers_count.plot.hist(figsize=(9,5))\n",
    "plt.title(\"histogram - liczba ofert, po odjęciu wartosci odstających\")\n",
    "plt.xlabel('liczba ofert')\n",
    "plt.ylabel('liczba kategorii')\n",
    "plt.grid()\n",
    "plt.savefig('./charts/histogram - liczba ofert, po odjęciu wartosci odstających.png')\n",
    "plt.show()"
   ]
  },
  {
   "cell_type": "code",
   "execution_count": 81,
   "id": "d58c59c4",
   "metadata": {},
   "outputs": [
    {
     "data": {
      "text/plain": [
       "count      46.000000\n",
       "mean      476.434783\n",
       "std       432.093285\n",
       "min       222.000000\n",
       "25%       259.000000\n",
       "50%       320.500000\n",
       "75%       501.000000\n",
       "max      2631.000000\n",
       "Name: offers_count, dtype: float64"
      ]
     },
     "execution_count": 81,
     "metadata": {},
     "output_type": "execute_result"
    }
   ],
   "source": [
    "outliers = df[~df.category.isin(without_outliers.category)]\n",
    "outliers.offers_count.describe()"
   ]
  },
  {
   "cell_type": "markdown",
   "id": "287f7e04",
   "metadata": {},
   "source": [
    "<p>Powyżej wybrane statystyki dla kategorii odstających pod względem ilości ofert, a poniżej nazwy tych kategorii z liczbą ofert posortowane od najliczniejszej:</p>"
   ]
  },
  {
   "cell_type": "code",
   "execution_count": 82,
   "id": "4b287c91",
   "metadata": {},
   "outputs": [
    {
     "data": {
      "text/plain": [
       "[['folie-ochronne', 2631.0],\n",
       " ['zlewozmywaki', 1676.0],\n",
       " ['sluchawki', 1355.0],\n",
       " ['laptopy-i-netbooki', 779.0],\n",
       " ['telefony-komorkowe', 733.0],\n",
       " ['monitory-led-i-lcd', 722.0],\n",
       " ['okapy', 700.0],\n",
       " ['baterie-kuchenne', 654.0],\n",
       " ['myszy', 638.0],\n",
       " ['smartwatch', 611.0],\n",
       " ['kable-do-telefonow', 585.0],\n",
       " ['lodowki', 503.0],\n",
       " ['torby-do-laptopow', 495.0],\n",
       " ['sluchawki-dla-graczy-pc', 448.0],\n",
       " ['plyty-do-zabudowy', 444.0],\n",
       " ['telewizory-led-lcd-plazmowe', 428.0],\n",
       " ['pamieci-ram', 395.0],\n",
       " ['kawy', 391.0],\n",
       " ['czajniki', 382.0],\n",
       " ['akcesoria-do-zegarkow', 355.0],\n",
       " ['ladowarki-akumulatory-przenosne', 325.0],\n",
       " ['pendrive-pamieci-usb', 323.0],\n",
       " ['patelnie', 321.0],\n",
       " ['kable-apple-ipod-iphone-ipad', 320.0],\n",
       " ['piekarniki-do-zabudowy', 318.0],\n",
       " ['pralki', 296.0],\n",
       " ['kable', 295.0],\n",
       " ['glosniki-przenosne', 295.0],\n",
       " ['uchwyty-do-telefonow', 292.0],\n",
       " ['klawiatury', 281.0],\n",
       " ['ladowarki-sieciowe', 276.0],\n",
       " ['ekspresy-cisnieniowe', 275.0],\n",
       " ['garnki', 271.0],\n",
       " ['gry-xbox-one', 262.0],\n",
       " ['baterie-do-laptopow', 258.0],\n",
       " ['fotele-i-stojaki-do-kierownicy', 255.0],\n",
       " ['przybory-kuchenne', 250.0],\n",
       " ['gry-playstation-4', 240.0],\n",
       " ['dyski-wewnetrzne-ssd', 236.0],\n",
       " ['inteligentne-oswietlenie', 235.0],\n",
       " ['obudowy-pc', 233.0],\n",
       " ['kontrolery-do-gier', 233.0],\n",
       " ['plyty-glowne', 228.0],\n",
       " ['adaptery-i-przejsciowki', 227.0],\n",
       " ['podkladki-pod-mysz', 224.0],\n",
       " ['ladowarki-do-telefonow1', 222.0]]"
      ]
     },
     "execution_count": 82,
     "metadata": {},
     "output_type": "execute_result"
    }
   ],
   "source": [
    "outliers.sort_values(by='offers_count', ascending=False)[['category', 'offers_count']].values.tolist()"
   ]
  },
  {
   "cell_type": "markdown",
   "id": "ad540e8c",
   "metadata": {},
   "source": [
    "##### 4.2.2.1 Wnioski"
   ]
  },
  {
   "cell_type": "markdown",
   "id": "b046c764",
   "metadata": {},
   "source": [
    "<p>Analiza przed pominięciem wartości odstających pokazała, iż ilość ofert w poszczególnych kategoriach jest bardzo zróżnicowana - widać to z resztą na histogramie.</p>\n",
    "<p>\n",
    "    Po pominięciu kategorii odstających oczom ukazał się obraz, iż większość kategorii posiada od 10 do 67 ofert.\n",
    "    </p><p>Najczęściej kategorie mają od 26 do 33 ofert.\n",
    "</p>"
   ]
  },
  {
   "cell_type": "markdown",
   "id": "2d337cac",
   "metadata": {},
   "source": [
    "### Top 10 najwiekszych kategorii podrzędnych po kategoriach głównych:"
   ]
  },
  {
   "cell_type": "code",
   "execution_count": 83,
   "id": "42942db8",
   "metadata": {},
   "outputs": [
    {
     "name": "stdout",
     "output_type": "stream",
     "text": [
      "\n",
      "agd:\n",
      "\n",
      "   index          category  offers_count\n",
      "0      0      zlewozmywaki        1676.0\n",
      "1      1             okapy         700.0\n",
      "2      2  baterie-kuchenne         654.0\n",
      "3      3           lodowki         503.0\n",
      "4      4          patelnie         321.0\n",
      "5      5            pralki         296.0\n",
      "6      6            garnki         271.0\n",
      "7      7           kuchnie         157.0\n",
      "8      8          zmywarki         110.0\n",
      "9      9          suszarki         107.0\n",
      "\n",
      "agd-do-zabudowy:\n",
      "\n",
      "   index                          category  offers_count\n",
      "0     10                 plyty-do-zabudowy         444.0\n",
      "1     11                              kawy         391.0\n",
      "2     12            piekarniki-do-zabudowy         318.0\n",
      "3     13              zmywarki-do-zabudowy         147.0\n",
      "4     14               lodowki-do-zabudowy         112.0\n",
      "5     15  kuchenki-mikrofalowe-do-zabudowy          85.0\n",
      "6     16                pralki-do-zabudowy          16.0\n",
      "7     17            zamrazarki-do-zabudowy          14.0\n",
      "8     18              ekspresy-do-zabudowy          10.0\n",
      "9     19                 szuflady-grzewcze          10.0\n",
      "\n",
      "agd-male:\n",
      "\n",
      "   index                           category  offers_count\n",
      "0     20                           czajniki         382.0\n",
      "1     21               ekspresy-cisnieniowe         275.0\n",
      "2     22                  przybory-kuchenne         250.0\n",
      "3     23           inteligentne-oswietlenie         235.0\n",
      "4     24                         odkurzacze         198.0\n",
      "5     25          wyposazenie-do-odkurzaczy         191.0\n",
      "6     26            szczoteczki-elektryczne         175.0\n",
      "7     27  wyposazenie-do-robotow-kuchennych         175.0\n",
      "8     28                      noze-kuchenne         169.0\n",
      "9     29                 miksery-kielichowe         167.0\n",
      "\n",
      "gry-i-konsole:\n",
      "\n",
      "   index                      category  offers_count\n",
      "0     30                  gry-xbox-one         262.0\n",
      "1     31             gry-playstation-4         240.0\n",
      "2     32            kontrolery-do-gier         233.0\n",
      "3     33                        gry-pc         126.0\n",
      "4     34       cyfrowe-dodatki-do-gier          96.0\n",
      "5     35             gry-playstation-5          83.0\n",
      "6     36           gry-nintendo-switch          74.0\n",
      "7     37  cyfrowe-dodatki-do-gier-xbox          68.0\n",
      "8     38           konsole-xbox-series          60.0\n",
      "9     39                 kierownice-pc          53.0\n",
      "\n",
      "komputery:\n",
      "\n",
      "   index                        category  offers_count\n",
      "0     40              laptopy-i-netbooki         779.0\n",
      "1     41              monitory-led-i-lcd         722.0\n",
      "2     42                           myszy         638.0\n",
      "3     43               torby-do-laptopow         495.0\n",
      "4     44         sluchawki-dla-graczy-pc         448.0\n",
      "5     45                     pamieci-ram         395.0\n",
      "6     46            pendrive-pamieci-usb         323.0\n",
      "7     47                      klawiatury         281.0\n",
      "8     48             baterie-do-laptopow         258.0\n",
      "9     49  fotele-i-stojaki-do-kierownicy         255.0\n",
      "\n",
      "rtv:\n",
      "\n",
      "   index                      category  offers_count\n",
      "0     50                     sluchawki        1355.0\n",
      "1     51            kable-do-telefonow         585.0\n",
      "2     52   telewizory-led-lcd-plazmowe         428.0\n",
      "3     53  kable-apple-ipod-iphone-ipad         320.0\n",
      "4     54            glosniki-przenosne         295.0\n",
      "5     55                         kable         295.0\n",
      "6     56       adaptery-i-przejsciowki         227.0\n",
      "7     57          glosniki-komputerowe         187.0\n",
      "8     58  kable-i-adaptery-komputerowe         173.0\n",
      "9     59          akcesoria-audio-hifi         166.0\n",
      "\n",
      "telefony-i-nawigacja-gps:\n",
      "\n",
      "   index                         category  offers_count\n",
      "0     60                   folie-ochronne        2631.0\n",
      "1     61               telefony-komorkowe         733.0\n",
      "2     62                       smartwatch         611.0\n",
      "3     63            akcesoria-do-zegarkow         355.0\n",
      "4     64  ladowarki-akumulatory-przenosne         325.0\n",
      "5     65             uchwyty-do-telefonow         292.0\n",
      "6     66               ladowarki-sieciowe         276.0\n",
      "7     67          ladowarki-do-telefonow1         222.0\n",
      "8     68     ipad-i-tablety-multimedialne         199.0\n",
      "9     69                    karty-pamieci         154.0\n"
     ]
    }
   ],
   "source": [
    "categories_summary = df.set_index('category').groupby('parent_category').offers_count.nlargest(10)\n",
    "categories_summary = categories_summary.reset_index()\n",
    "\n",
    "grouped = categories_summary.groupby('parent_category')\n",
    "\n",
    "for group in grouped.groups:\n",
    "    print(f'\\n{group}:\\n')\n",
    "    data = categories_summary[categories_summary.parent_category == group].loc[:, 'category':]\n",
    "    print(data.reset_index())"
   ]
  },
  {
   "cell_type": "code",
   "execution_count": null,
   "id": "3311345b",
   "metadata": {},
   "outputs": [],
   "source": []
  },
  {
   "cell_type": "code",
   "execution_count": null,
   "id": "9d8f39c1",
   "metadata": {},
   "outputs": [],
   "source": []
  }
 ],
 "metadata": {
  "kernelspec": {
   "display_name": "Python 3 (ipykernel)",
   "language": "python",
   "name": "python3"
  },
  "language_info": {
   "codemirror_mode": {
    "name": "ipython",
    "version": 3
   },
   "file_extension": ".py",
   "mimetype": "text/x-python",
   "name": "python",
   "nbconvert_exporter": "python",
   "pygments_lexer": "ipython3",
   "version": "3.7.3"
  }
 },
 "nbformat": 4,
 "nbformat_minor": 5
}
