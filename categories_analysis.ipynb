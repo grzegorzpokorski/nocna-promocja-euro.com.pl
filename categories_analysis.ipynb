{
 "cells": [
  {
   "cell_type": "markdown",
   "id": "48c5361a",
   "metadata": {},
   "source": [
    "# Analiza kategorii w sklepie euro.com.pl"
   ]
  },
  {
   "cell_type": "markdown",
   "id": "aca46aef",
   "metadata": {},
   "source": [
    "## 1. Wprowadzenie"
   ]
  },
  {
   "cell_type": "markdown",
   "id": "4d67bb07",
   "metadata": {},
   "source": [
    "### 1.1 Cel analizy"
   ]
  },
  {
   "cell_type": "markdown",
   "id": "f0ee3e71",
   "metadata": {},
   "source": [
    "<p>\n",
    "Analiza ma na celu poznanie dostępnych kategorii w sklepie internetowym euro.com.pl należącego do sieci sklepów RTV EURO AGD.\n",
    "Dowiedzmy się, czy sklep RTV EURO AGD jest bardziej RTV, czy AGD, a może dominują produkty z nietytułowych kategorii. Wnioski z analizy będą pomocne przy analizowaniu promocji, cyklicznie pojawiających się w tym sklepie.\n",
    "<p>"
   ]
  },
  {
   "cell_type": "markdown",
   "id": "ec82818c",
   "metadata": {},
   "source": [
    "### 1.2 Pochodzenie zbioru danych"
   ]
  },
  {
   "cell_type": "markdown",
   "id": "2c108739",
   "metadata": {},
   "source": [
    "<p>\n",
    "    Dane z analizowanego pliku pochodzą ze sklepu internetowego euro.com.pl. Zostały zebrane w dniu 31.01.2022 r. W tym celu posłużyłem się skryptem scrapującym napisanym w Pythonie. Kod źródłowy wykorzystanego skryptu oraz plik z zebranymi danymi znajduje się w folderze 'categories' tego repozytorium.\n",
    "</p>"
   ]
  },
  {
   "cell_type": "markdown",
   "id": "e3cd4d15",
   "metadata": {},
   "source": [
    "## 2. Wczytanie potrzebnych bibliotek"
   ]
  },
  {
   "cell_type": "code",
   "execution_count": 267,
   "id": "5da464cb",
   "metadata": {},
   "outputs": [],
   "source": [
    "import pandas as pd\n",
    "import matplotlib.pyplot as plt"
   ]
  },
  {
   "cell_type": "markdown",
   "id": "ba366ea0",
   "metadata": {},
   "source": [
    "## 3. Wczytanie zbioru z danymi"
   ]
  },
  {
   "cell_type": "code",
   "execution_count": 268,
   "id": "b77e4582",
   "metadata": {},
   "outputs": [],
   "source": [
    "df = pd.read_csv('./categories/categories.csv', header=0)"
   ]
  },
  {
   "cell_type": "markdown",
   "id": "9a2fdc8f",
   "metadata": {},
   "source": [
    "### 3.1 Przegląd zbioru."
   ]
  },
  {
   "cell_type": "code",
   "execution_count": 269,
   "id": "d18e7f2a",
   "metadata": {},
   "outputs": [
    {
     "name": "stdout",
     "output_type": "stream",
     "text": [
      "Zbiór zawiera 489 obserwacji oraz 4 zmiennych.\n"
     ]
    }
   ],
   "source": [
    "print(f'Zbiór zawiera {df.shape[0]} obserwacji oraz {df.shape[1]} zmiennych.')"
   ]
  },
  {
   "cell_type": "code",
   "execution_count": 270,
   "id": "d4adea4d",
   "metadata": {},
   "outputs": [
    {
     "name": "stdout",
     "output_type": "stream",
     "text": [
      "Dostępne zmienne: ['parent_category', 'category', 'link_to_category', 'offers_count']\n"
     ]
    }
   ],
   "source": [
    "print(f'Dostępne zmienne: {df.columns.tolist()}')"
   ]
  },
  {
   "cell_type": "code",
   "execution_count": 271,
   "id": "364153e0",
   "metadata": {
    "scrolled": false
   },
   "outputs": [
    {
     "name": "stdout",
     "output_type": "stream",
     "text": [
      "Typy zmiennych:\n"
     ]
    },
    {
     "data": {
      "text/plain": [
       "parent_category      object\n",
       "category             object\n",
       "link_to_category     object\n",
       "offers_count        float64\n",
       "dtype: object"
      ]
     },
     "execution_count": 271,
     "metadata": {},
     "output_type": "execute_result"
    }
   ],
   "source": [
    "print(f'Typy zmiennych:')\n",
    "df.dtypes"
   ]
  },
  {
   "cell_type": "code",
   "execution_count": 272,
   "id": "3b1ca8f4",
   "metadata": {
    "scrolled": true
   },
   "outputs": [
    {
     "name": "stdout",
     "output_type": "stream",
     "text": [
      "Zbior zawiera 7 kategorii głównych:\n",
      "['agd' 'agd-do-zabudowy' 'agd-male' 'rtv' 'telefony-i-nawigacja-gps'\n",
      " 'komputery' 'gry-i-konsole']\n"
     ]
    }
   ],
   "source": [
    "print(f'Zbior zawiera {len(df.parent_category.unique())} kategorii głównych:\\n{df.parent_category.unique()}')"
   ]
  },
  {
   "cell_type": "code",
   "execution_count": 273,
   "id": "bd3805e6",
   "metadata": {},
   "outputs": [
    {
     "name": "stdout",
     "output_type": "stream",
     "text": [
      "Zbior zawiera 418 kategorii podrzędnych.\n"
     ]
    }
   ],
   "source": [
    "print(f'Zbior zawiera {len(df.category.unique())} kategorii podrzędnych.')"
   ]
  },
  {
   "cell_type": "code",
   "execution_count": 274,
   "id": "6d66d221",
   "metadata": {},
   "outputs": [
    {
     "data": {
      "text/html": [
       "<div>\n",
       "<style scoped>\n",
       "    .dataframe tbody tr th:only-of-type {\n",
       "        vertical-align: middle;\n",
       "    }\n",
       "\n",
       "    .dataframe tbody tr th {\n",
       "        vertical-align: top;\n",
       "    }\n",
       "\n",
       "    .dataframe thead th {\n",
       "        text-align: right;\n",
       "    }\n",
       "</style>\n",
       "<table border=\"1\" class=\"dataframe\">\n",
       "  <thead>\n",
       "    <tr style=\"text-align: right;\">\n",
       "      <th></th>\n",
       "      <th>has_null</th>\n",
       "      <th>qty</th>\n",
       "      <th>%</th>\n",
       "    </tr>\n",
       "  </thead>\n",
       "  <tbody>\n",
       "    <tr>\n",
       "      <th>parent_category</th>\n",
       "      <td>False</td>\n",
       "      <td>0</td>\n",
       "      <td>0.0</td>\n",
       "    </tr>\n",
       "    <tr>\n",
       "      <th>category</th>\n",
       "      <td>False</td>\n",
       "      <td>0</td>\n",
       "      <td>0.0</td>\n",
       "    </tr>\n",
       "    <tr>\n",
       "      <th>link_to_category</th>\n",
       "      <td>False</td>\n",
       "      <td>0</td>\n",
       "      <td>0.0</td>\n",
       "    </tr>\n",
       "    <tr>\n",
       "      <th>offers_count</th>\n",
       "      <td>False</td>\n",
       "      <td>0</td>\n",
       "      <td>0.0</td>\n",
       "    </tr>\n",
       "  </tbody>\n",
       "</table>\n",
       "</div>"
      ],
      "text/plain": [
       "                  has_null  qty    %\n",
       "parent_category      False    0  0.0\n",
       "category             False    0  0.0\n",
       "link_to_category     False    0  0.0\n",
       "offers_count         False    0  0.0"
      ]
     },
     "execution_count": 274,
     "metadata": {},
     "output_type": "execute_result"
    }
   ],
   "source": [
    "nulls = pd.DataFrame({'has_null': df.isnull().any()})\n",
    "nulls['qty'] = df.isnull().sum()\n",
    "nulls['%']= round((df.isnull().mean()*100),2)\n",
    "nulls"
   ]
  },
  {
   "cell_type": "markdown",
   "id": "88cc8fd9",
   "metadata": {},
   "source": [
    "<p>\n",
    "    Zbior nie zawiera obserwacji, w których brakowało by danych.\n",
    "</p>"
   ]
  },
  {
   "cell_type": "markdown",
   "id": "931f59cc",
   "metadata": {},
   "source": [
    "## 4. Analiza zbioru"
   ]
  },
  {
   "cell_type": "markdown",
   "id": "13cb9fbb",
   "metadata": {},
   "source": [
    "<p>\n",
    "Na potrzeby dalszej analizy wykorzystywać będę wszystkie zmienne oprócz zmiennej zawierającej link do danej kategorii w sklepie euro.com.pl, dlatego ją usunę ze zbioru. Bliżej przyjrzę się samym kategoriom głównym, podrzędnym oraz zmiennej opisującej ilość ofert w poszczególnych kategoriach.\n",
    "</p>"
   ]
  },
  {
   "cell_type": "code",
   "execution_count": 275,
   "id": "2a2b1f75",
   "metadata": {},
   "outputs": [],
   "source": [
    "df.drop('link_to_category', axis=1, inplace=True)"
   ]
  },
  {
   "cell_type": "markdown",
   "id": "769abd23",
   "metadata": {},
   "source": [
    "### 4.1 Analiza kategorii głównych"
   ]
  },
  {
   "cell_type": "markdown",
   "id": "fdf84f8d",
   "metadata": {},
   "source": [
    "#### 4.1.1 Ogólne podsumowanie ilości ofert oraz ilości kategorii podrzędnych"
   ]
  },
  {
   "cell_type": "code",
   "execution_count": 276,
   "id": "8c6ecfbc",
   "metadata": {},
   "outputs": [
    {
     "data": {
      "text/html": [
       "<div>\n",
       "<style scoped>\n",
       "    .dataframe tbody tr th:only-of-type {\n",
       "        vertical-align: middle;\n",
       "    }\n",
       "\n",
       "    .dataframe tbody tr th {\n",
       "        vertical-align: top;\n",
       "    }\n",
       "\n",
       "    .dataframe thead th {\n",
       "        text-align: right;\n",
       "    }\n",
       "</style>\n",
       "<table border=\"1\" class=\"dataframe\">\n",
       "  <thead>\n",
       "    <tr style=\"text-align: right;\">\n",
       "      <th></th>\n",
       "      <th>parent_category</th>\n",
       "      <th>offers_count</th>\n",
       "      <th>categories_count</th>\n",
       "      <th>percent_of_offers</th>\n",
       "      <th>percent_of_categories</th>\n",
       "    </tr>\n",
       "  </thead>\n",
       "  <tbody>\n",
       "    <tr>\n",
       "      <th>0</th>\n",
       "      <td>komputery</td>\n",
       "      <td>10348.0</td>\n",
       "      <td>98</td>\n",
       "      <td>20.48</td>\n",
       "      <td>20.04</td>\n",
       "    </tr>\n",
       "    <tr>\n",
       "      <th>1</th>\n",
       "      <td>telefony-i-nawigacja-gps</td>\n",
       "      <td>9838.0</td>\n",
       "      <td>47</td>\n",
       "      <td>19.47</td>\n",
       "      <td>9.61</td>\n",
       "    </tr>\n",
       "    <tr>\n",
       "      <th>2</th>\n",
       "      <td>agd-male</td>\n",
       "      <td>8724.0</td>\n",
       "      <td>157</td>\n",
       "      <td>17.27</td>\n",
       "      <td>32.11</td>\n",
       "    </tr>\n",
       "    <tr>\n",
       "      <th>3</th>\n",
       "      <td>rtv</td>\n",
       "      <td>6335.0</td>\n",
       "      <td>73</td>\n",
       "      <td>12.54</td>\n",
       "      <td>14.93</td>\n",
       "    </tr>\n",
       "    <tr>\n",
       "      <th>4</th>\n",
       "      <td>agd-do-zabudowy</td>\n",
       "      <td>5993.0</td>\n",
       "      <td>40</td>\n",
       "      <td>11.86</td>\n",
       "      <td>8.18</td>\n",
       "    </tr>\n",
       "    <tr>\n",
       "      <th>5</th>\n",
       "      <td>agd</td>\n",
       "      <td>5914.0</td>\n",
       "      <td>39</td>\n",
       "      <td>11.71</td>\n",
       "      <td>7.98</td>\n",
       "    </tr>\n",
       "    <tr>\n",
       "      <th>6</th>\n",
       "      <td>gry-i-konsole</td>\n",
       "      <td>3367.0</td>\n",
       "      <td>35</td>\n",
       "      <td>6.66</td>\n",
       "      <td>7.16</td>\n",
       "    </tr>\n",
       "  </tbody>\n",
       "</table>\n",
       "</div>"
      ],
      "text/plain": [
       "            parent_category  offers_count  categories_count  \\\n",
       "0                 komputery       10348.0                98   \n",
       "1  telefony-i-nawigacja-gps        9838.0                47   \n",
       "2                  agd-male        8724.0               157   \n",
       "3                       rtv        6335.0                73   \n",
       "4           agd-do-zabudowy        5993.0                40   \n",
       "5                       agd        5914.0                39   \n",
       "6             gry-i-konsole        3367.0                35   \n",
       "\n",
       "   percent_of_offers  percent_of_categories  \n",
       "0              20.48                  20.04  \n",
       "1              19.47                   9.61  \n",
       "2              17.27                  32.11  \n",
       "3              12.54                  14.93  \n",
       "4              11.86                   8.18  \n",
       "5              11.71                   7.98  \n",
       "6               6.66                   7.16  "
      ]
     },
     "execution_count": 276,
     "metadata": {},
     "output_type": "execute_result"
    }
   ],
   "source": [
    "parent_categories_summary = df.groupby(['parent_category']).agg(offers_count=('offers_count','sum'), categories_count=('category', 'count'))\n",
    "parent_categories_summary = parent_categories_summary.sort_values(by='offers_count', ascending=False)\n",
    "parent_categories_summary = parent_categories_summary.reset_index()\n",
    "parent_categories_summary['percent_of_offers'] = parent_categories_summary.offers_count.apply(lambda x: round(x/parent_categories_summary.offers_count.sum()*100, 2))\n",
    "parent_categories_summary['percent_of_categories'] = parent_categories_summary.categories_count.apply(lambda x: round(x/parent_categories_summary.categories_count.sum()*100, 2))\n",
    "\n",
    "parent_categories_summary"
   ]
  },
  {
   "cell_type": "code",
   "execution_count": 277,
   "id": "0148a685",
   "metadata": {},
   "outputs": [
    {
     "data": {
      "text/html": [
       "<div>\n",
       "<style scoped>\n",
       "    .dataframe tbody tr th:only-of-type {\n",
       "        vertical-align: middle;\n",
       "    }\n",
       "\n",
       "    .dataframe tbody tr th {\n",
       "        vertical-align: top;\n",
       "    }\n",
       "\n",
       "    .dataframe thead th {\n",
       "        text-align: right;\n",
       "    }\n",
       "</style>\n",
       "<table border=\"1\" class=\"dataframe\">\n",
       "  <thead>\n",
       "    <tr style=\"text-align: right;\">\n",
       "      <th></th>\n",
       "      <th>sum</th>\n",
       "    </tr>\n",
       "  </thead>\n",
       "  <tbody>\n",
       "    <tr>\n",
       "      <th>offers_count</th>\n",
       "      <td>50519.0</td>\n",
       "    </tr>\n",
       "    <tr>\n",
       "      <th>categories_count</th>\n",
       "      <td>489.0</td>\n",
       "    </tr>\n",
       "  </tbody>\n",
       "</table>\n",
       "</div>"
      ],
      "text/plain": [
       "                      sum\n",
       "offers_count      50519.0\n",
       "categories_count    489.0"
      ]
     },
     "execution_count": 277,
     "metadata": {},
     "output_type": "execute_result"
    }
   ],
   "source": [
    "parent_categories_summary.agg(['sum'])[['offers_count','categories_count']].T"
   ]
  },
  {
   "cell_type": "markdown",
   "id": "3397406a",
   "metadata": {},
   "source": [
    "<p>\n",
    "Analizując dane z powyższej tabeli można wyciągnąć prosty wniosek, iż obecnie to kategorie 'telefony-i-nawigacja-gps' oraz 'komputery' stanowią największą liczbę ofert w sklepie przy prezentowanym podziale na kategorie.\n",
    "</p>\n",
    "<p>\n",
    "Jeśli chodzi o kategorie uwzglednione w nazwie marki sklepu, to wyraźnie wyróżnia się kategoria 'agd-małe' pod względem ilośći ofert oraz kategorii podrzędnych.\n",
    "</p>\n",
    "<p>\n",
    "    Kategorią najmniejszą jest 'gry-i-konsole' - zarówno najmniejszy udział w ofercie oraz kategoriach sklepu.\n",
    "</p>\n",
    "<p>\n",
    "    W tym miejscu warto sięgnąć do definicji sprzetu <a href=\"https://pl.wikipedia.org/wiki/Artyku%C5%82y_gospodarstwa_domowego\">AGD</a> oraz <a href=\"https://pl.wikipedia.org/wiki/Elektronika_u%C5%BCytkowa\">RTV</a>. Uważam tak, gdyż pozwala to zrozumieć, jak wiele innych znaczących kategorii sprzętów elektronicznych wyłoniło się na przestrzeni lat, a które są w ofercie sklepu z założenia na początku mającego sprzedawać tylko sprzęty RTV i AGD.\n",
    "</p>\n",
    "<p>\n",
    "    Sklep ma do zaoferowania ponad 50.5 tysiąca różnych towarów.\n",
    "</p>"
   ]
  },
  {
   "cell_type": "code",
   "execution_count": 278,
   "id": "22a4b77d",
   "metadata": {},
   "outputs": [
    {
     "data": {
      "image/png": "[encoded data removed]",
      "text/plain": [
       "<Figure size 648x360 with 1 Axes>"
      ]
     },
     "metadata": {
      "needs_background": "light"
     },
     "output_type": "display_data"
    }
   ],
   "source": [
    "parent_categories_summary[['parent_category','offers_count']].set_index('parent_category').sort_values(by='parent_category', ascending=False).plot.barh(figsize=(9,5))\n",
    "plt.title('liczba ofert w kategoriach głównych')\n",
    "plt.xlabel('liczba ofert')\n",
    "plt.ylabel('kategoria główna')\n",
    "plt.grid()\n",
    "plt.savefig('./charts/liczba ofert w kategoriach głównych.png')\n",
    "plt.show()"
   ]
  },
  {
   "cell_type": "code",
   "execution_count": 279,
   "id": "be2acf7b",
   "metadata": {},
   "outputs": [
    {
     "data": {
      "image/png": "[encoded data removed]",
      "text/plain": [
       "<Figure size 648x360 with 1 Axes>"
      ]
     },
     "metadata": {
      "needs_background": "light"
     },
     "output_type": "display_data"
    }
   ],
   "source": [
    "parent_categories_summary[['parent_category','categories_count']].set_index('parent_category').sort_values(by='parent_category', ascending=False).plot.barh(figsize=(9,5))\n",
    "plt.title('liczba kategorii podrzędnych w kategoriach głównych')\n",
    "plt.xlabel('liczba kategorii')\n",
    "plt.ylabel('kategoria główna')\n",
    "plt.grid()\n",
    "plt.savefig('./charts/liczba kategorii podrzędnych w kategoriach głównych.png')\n",
    "plt.show()"
   ]
  },
  {
   "cell_type": "markdown",
   "id": "4028359e",
   "metadata": {},
   "source": [
    "#### 4.1.2 Analiza: agd vs rtv vs reszta kategorii"
   ]
  },
  {
   "cell_type": "code",
   "execution_count": 280,
   "id": "ddd7c103",
   "metadata": {},
   "outputs": [],
   "source": [
    "only_within_agd = parent_categories_summary[parent_categories_summary.parent_category.str.contains('agd')]\n",
    "rtv = parent_categories_summary[parent_categories_summary.parent_category == 'rtv']\n",
    "without_agd_and_rtv = parent_categories_summary[~parent_categories_summary.parent_category.isin(list(only_within_agd.parent_category) + list(rtv.parent_category))]"
   ]
  },
  {
   "cell_type": "code",
   "execution_count": 281,
   "id": "1d0ee4d8",
   "metadata": {
    "scrolled": true
   },
   "outputs": [
    {
     "data": {
      "text/html": [
       "<div>\n",
       "<style scoped>\n",
       "    .dataframe tbody tr th:only-of-type {\n",
       "        vertical-align: middle;\n",
       "    }\n",
       "\n",
       "    .dataframe tbody tr th {\n",
       "        vertical-align: top;\n",
       "    }\n",
       "\n",
       "    .dataframe thead th {\n",
       "        text-align: right;\n",
       "    }\n",
       "</style>\n",
       "<table border=\"1\" class=\"dataframe\">\n",
       "  <thead>\n",
       "    <tr style=\"text-align: right;\">\n",
       "      <th></th>\n",
       "      <th>parent_category</th>\n",
       "      <th>offers_count</th>\n",
       "      <th>categories_count</th>\n",
       "      <th>percent_of_offers</th>\n",
       "      <th>percent_of_categories</th>\n",
       "    </tr>\n",
       "  </thead>\n",
       "  <tbody>\n",
       "    <tr>\n",
       "      <th>2</th>\n",
       "      <td>agd-male</td>\n",
       "      <td>8724.0</td>\n",
       "      <td>157</td>\n",
       "      <td>17.27</td>\n",
       "      <td>32.11</td>\n",
       "    </tr>\n",
       "    <tr>\n",
       "      <th>4</th>\n",
       "      <td>agd-do-zabudowy</td>\n",
       "      <td>5993.0</td>\n",
       "      <td>40</td>\n",
       "      <td>11.86</td>\n",
       "      <td>8.18</td>\n",
       "    </tr>\n",
       "    <tr>\n",
       "      <th>5</th>\n",
       "      <td>agd</td>\n",
       "      <td>5914.0</td>\n",
       "      <td>39</td>\n",
       "      <td>11.71</td>\n",
       "      <td>7.98</td>\n",
       "    </tr>\n",
       "  </tbody>\n",
       "</table>\n",
       "</div>"
      ],
      "text/plain": [
       "   parent_category  offers_count  categories_count  percent_of_offers  \\\n",
       "2         agd-male        8724.0               157              17.27   \n",
       "4  agd-do-zabudowy        5993.0                40              11.86   \n",
       "5              agd        5914.0                39              11.71   \n",
       "\n",
       "   percent_of_categories  \n",
       "2                  32.11  \n",
       "4                   8.18  \n",
       "5                   7.98  "
      ]
     },
     "execution_count": 281,
     "metadata": {},
     "output_type": "execute_result"
    }
   ],
   "source": [
    "only_within_agd"
   ]
  },
  {
   "cell_type": "code",
   "execution_count": 282,
   "id": "9cd4a1dd",
   "metadata": {
    "scrolled": true
   },
   "outputs": [
    {
     "name": "stdout",
     "output_type": "stream",
     "text": [
      "Suma ofert w kategoriach głównych związanych z AGD: 20631.0\n",
      "Udział ofert z kategorii głównych związanych z AGD w całej ofercie: 40.84%\n",
      "\n",
      "Suma kategorii podrzędnych w kategoriach głównych związanych z AGD: 236\n",
      "Udział kategorii podrzędnych związanych z AGD w całym sklepie: 48.27%\n"
     ]
    }
   ],
   "source": [
    "print(f'Suma ofert w kategoriach głównych związanych z AGD: {only_within_agd.offers_count.sum()}')\n",
    "print(f'Udział ofert z kategorii głównych związanych z AGD w całej ofercie: {round(only_within_agd.percent_of_offers.sum(),2)}%\\n')\n",
    "print(f'Suma kategorii podrzędnych w kategoriach głównych związanych z AGD: {only_within_agd.categories_count.sum()}')\n",
    "print(f'Udział kategorii podrzędnych związanych z AGD w całym sklepie: {round(only_within_agd.percent_of_categories.sum(),2)}%')"
   ]
  },
  {
   "cell_type": "code",
   "execution_count": 283,
   "id": "2db23fd7",
   "metadata": {},
   "outputs": [
    {
     "data": {
      "text/html": [
       "<div>\n",
       "<style scoped>\n",
       "    .dataframe tbody tr th:only-of-type {\n",
       "        vertical-align: middle;\n",
       "    }\n",
       "\n",
       "    .dataframe tbody tr th {\n",
       "        vertical-align: top;\n",
       "    }\n",
       "\n",
       "    .dataframe thead th {\n",
       "        text-align: right;\n",
       "    }\n",
       "</style>\n",
       "<table border=\"1\" class=\"dataframe\">\n",
       "  <thead>\n",
       "    <tr style=\"text-align: right;\">\n",
       "      <th></th>\n",
       "      <th>parent_category</th>\n",
       "      <th>offers_count</th>\n",
       "      <th>categories_count</th>\n",
       "      <th>percent_of_offers</th>\n",
       "      <th>percent_of_categories</th>\n",
       "    </tr>\n",
       "  </thead>\n",
       "  <tbody>\n",
       "    <tr>\n",
       "      <th>3</th>\n",
       "      <td>rtv</td>\n",
       "      <td>6335.0</td>\n",
       "      <td>73</td>\n",
       "      <td>12.54</td>\n",
       "      <td>14.93</td>\n",
       "    </tr>\n",
       "  </tbody>\n",
       "</table>\n",
       "</div>"
      ],
      "text/plain": [
       "  parent_category  offers_count  categories_count  percent_of_offers  \\\n",
       "3             rtv        6335.0                73              12.54   \n",
       "\n",
       "   percent_of_categories  \n",
       "3                  14.93  "
      ]
     },
     "execution_count": 283,
     "metadata": {},
     "output_type": "execute_result"
    }
   ],
   "source": [
    "rtv"
   ]
  },
  {
   "cell_type": "code",
   "execution_count": 284,
   "id": "240cf132",
   "metadata": {},
   "outputs": [
    {
     "data": {
      "text/html": [
       "<div>\n",
       "<style scoped>\n",
       "    .dataframe tbody tr th:only-of-type {\n",
       "        vertical-align: middle;\n",
       "    }\n",
       "\n",
       "    .dataframe tbody tr th {\n",
       "        vertical-align: top;\n",
       "    }\n",
       "\n",
       "    .dataframe thead th {\n",
       "        text-align: right;\n",
       "    }\n",
       "</style>\n",
       "<table border=\"1\" class=\"dataframe\">\n",
       "  <thead>\n",
       "    <tr style=\"text-align: right;\">\n",
       "      <th></th>\n",
       "      <th>parent_category</th>\n",
       "      <th>offers_count</th>\n",
       "      <th>categories_count</th>\n",
       "      <th>percent_of_offers</th>\n",
       "      <th>percent_of_categories</th>\n",
       "    </tr>\n",
       "  </thead>\n",
       "  <tbody>\n",
       "    <tr>\n",
       "      <th>0</th>\n",
       "      <td>komputery</td>\n",
       "      <td>10348.0</td>\n",
       "      <td>98</td>\n",
       "      <td>20.48</td>\n",
       "      <td>20.04</td>\n",
       "    </tr>\n",
       "    <tr>\n",
       "      <th>1</th>\n",
       "      <td>telefony-i-nawigacja-gps</td>\n",
       "      <td>9838.0</td>\n",
       "      <td>47</td>\n",
       "      <td>19.47</td>\n",
       "      <td>9.61</td>\n",
       "    </tr>\n",
       "    <tr>\n",
       "      <th>6</th>\n",
       "      <td>gry-i-konsole</td>\n",
       "      <td>3367.0</td>\n",
       "      <td>35</td>\n",
       "      <td>6.66</td>\n",
       "      <td>7.16</td>\n",
       "    </tr>\n",
       "  </tbody>\n",
       "</table>\n",
       "</div>"
      ],
      "text/plain": [
       "            parent_category  offers_count  categories_count  \\\n",
       "0                 komputery       10348.0                98   \n",
       "1  telefony-i-nawigacja-gps        9838.0                47   \n",
       "6             gry-i-konsole        3367.0                35   \n",
       "\n",
       "   percent_of_offers  percent_of_categories  \n",
       "0              20.48                  20.04  \n",
       "1              19.47                   9.61  \n",
       "6               6.66                   7.16  "
      ]
     },
     "execution_count": 284,
     "metadata": {},
     "output_type": "execute_result"
    }
   ],
   "source": [
    "without_agd_and_rtv"
   ]
  },
  {
   "cell_type": "code",
   "execution_count": 285,
   "id": "305a71ee",
   "metadata": {},
   "outputs": [
    {
     "name": "stdout",
     "output_type": "stream",
     "text": [
      "Suma ofert w kategoriach głównych niezwiązanych z RTV i AGD: 23553.0\n",
      "Udział ofert w kategoriach głównych niezwiązanych z RTV i AGD: 46.61%\n",
      "\n",
      "Suma kategorii podrzędnych w kategoriach głównych niezwiązanych z RTV i AGD: 180\n",
      "Udział kategorii podrzędnych niezwiązanych z RTV i AGD: 36.81%\n"
     ]
    }
   ],
   "source": [
    "print(f'Suma ofert w kategoriach głównych niezwiązanych z RTV i AGD: {without_agd_and_rtv.offers_count.sum()}')\n",
    "print(f'Udział ofert w kategoriach głównych niezwiązanych z RTV i AGD: {without_agd_and_rtv.percent_of_offers.sum()}%\\n')\n",
    "print(f'Suma kategorii podrzędnych w kategoriach głównych niezwiązanych z RTV i AGD: {without_agd_and_rtv.categories_count.sum()}')\n",
    "print(f'Udział kategorii podrzędnych niezwiązanych z RTV i AGD: {without_agd_and_rtv.percent_of_categories.sum()}%')"
   ]
  },
  {
   "cell_type": "markdown",
   "id": "837636cc",
   "metadata": {},
   "source": [
    "##### 4.1.2.1 Wnioski"
   ]
  },
  {
   "cell_type": "markdown",
   "id": "456b4bb8",
   "metadata": {},
   "source": [
    "<p>\n",
    "Oferty niezwiązane z AGD i RTV stanowią najwiekszą część oferty sklepu euro.com.pl. Na drugim miejscu plasują się kategorie związane z AGD, a dopiero na końcu RTV.</p><p>Powyższe dane pokazują, rozmiar i znaczenie kategorii związanych z komunikacją oraz rozrywką\n",
    "</p>\n",
    "<p>\n",
    "    Najbardziej róznorodną grupą asortymentową są kategorie związane z AGD, a najmniej z RTV.\n",
    "</p>"
   ]
  },
  {
   "cell_type": "markdown",
   "id": "bf792886",
   "metadata": {},
   "source": [
    "### 4.2 Analiza ilości ofert w kategoriach podrzędnych"
   ]
  },
  {
   "cell_type": "markdown",
   "id": "4dabf850",
   "metadata": {},
   "source": [
    "#### 4.2.1 Wybrane statystyki"
   ]
  },
  {
   "cell_type": "code",
   "execution_count": 286,
   "id": "1c5075a3",
   "metadata": {},
   "outputs": [
    {
     "data": {
      "text/plain": [
       "count     489.000000\n",
       "mean      103.310838\n",
       "std       217.343776\n",
       "min         1.000000\n",
       "25%        12.000000\n",
       "50%        33.000000\n",
       "75%        94.000000\n",
       "max      2631.000000\n",
       "Name: offers_count, dtype: float64"
      ]
     },
     "execution_count": 286,
     "metadata": {},
     "output_type": "execute_result"
    }
   ],
   "source": [
    "df.offers_count.describe()"
   ]
  },
  {
   "cell_type": "code",
   "execution_count": 287,
   "id": "19c7db9f",
   "metadata": {},
   "outputs": [
    {
     "data": {
      "text/plain": [
       "min          1.000000\n",
       "median      33.000000\n",
       "max       2631.000000\n",
       "mean       103.310838\n",
       "Name: offers_count, dtype: float64"
      ]
     },
     "execution_count": 287,
     "metadata": {},
     "output_type": "execute_result"
    }
   ],
   "source": [
    "df.offers_count.agg(['min', 'median', 'max', 'mean'])"
   ]
  },
  {
   "cell_type": "markdown",
   "id": "fe2946a6",
   "metadata": {},
   "source": [
    "<p>Poniżej kategoria podrzędna z największą liczbą ofert:</p>"
   ]
  },
  {
   "cell_type": "code",
   "execution_count": 288,
   "id": "e0a551ff",
   "metadata": {},
   "outputs": [
    {
     "data": {
      "text/html": [
       "<div>\n",
       "<style scoped>\n",
       "    .dataframe tbody tr th:only-of-type {\n",
       "        vertical-align: middle;\n",
       "    }\n",
       "\n",
       "    .dataframe tbody tr th {\n",
       "        vertical-align: top;\n",
       "    }\n",
       "\n",
       "    .dataframe thead th {\n",
       "        text-align: right;\n",
       "    }\n",
       "</style>\n",
       "<table border=\"1\" class=\"dataframe\">\n",
       "  <thead>\n",
       "    <tr style=\"text-align: right;\">\n",
       "      <th></th>\n",
       "      <th>parent_category</th>\n",
       "      <th>category</th>\n",
       "      <th>offers_count</th>\n",
       "    </tr>\n",
       "  </thead>\n",
       "  <tbody>\n",
       "    <tr>\n",
       "      <th>330</th>\n",
       "      <td>telefony-i-nawigacja-gps</td>\n",
       "      <td>folie-ochronne</td>\n",
       "      <td>2631.0</td>\n",
       "    </tr>\n",
       "  </tbody>\n",
       "</table>\n",
       "</div>"
      ],
      "text/plain": [
       "              parent_category        category  offers_count\n",
       "330  telefony-i-nawigacja-gps  folie-ochronne        2631.0"
      ]
     },
     "execution_count": 288,
     "metadata": {},
     "output_type": "execute_result"
    }
   ],
   "source": [
    "df[df.offers_count == df.offers_count.max()]"
   ]
  },
  {
   "cell_type": "markdown",
   "id": "89da849d",
   "metadata": {},
   "source": [
    "<p>Poniżej kategorie podrzędne z najmniejszą liczbą ofert:</p>"
   ]
  },
  {
   "cell_type": "code",
   "execution_count": 289,
   "id": "8870b4be",
   "metadata": {},
   "outputs": [
    {
     "data": {
      "text/html": [
       "<div>\n",
       "<style scoped>\n",
       "    .dataframe tbody tr th:only-of-type {\n",
       "        vertical-align: middle;\n",
       "    }\n",
       "\n",
       "    .dataframe tbody tr th {\n",
       "        vertical-align: top;\n",
       "    }\n",
       "\n",
       "    .dataframe thead th {\n",
       "        text-align: right;\n",
       "    }\n",
       "</style>\n",
       "<table border=\"1\" class=\"dataframe\">\n",
       "  <thead>\n",
       "    <tr style=\"text-align: right;\">\n",
       "      <th></th>\n",
       "      <th>parent_category</th>\n",
       "      <th>category</th>\n",
       "      <th>offers_count</th>\n",
       "    </tr>\n",
       "  </thead>\n",
       "  <tbody>\n",
       "    <tr>\n",
       "      <th>22</th>\n",
       "      <td>agd</td>\n",
       "      <td>systemy-filtrujace-wode</td>\n",
       "      <td>1.0</td>\n",
       "    </tr>\n",
       "    <tr>\n",
       "      <th>23</th>\n",
       "      <td>agd</td>\n",
       "      <td>filtry-do-systemow-filtrujacych-wode</td>\n",
       "      <td>1.0</td>\n",
       "    </tr>\n",
       "    <tr>\n",
       "      <th>56</th>\n",
       "      <td>agd-do-zabudowy</td>\n",
       "      <td>systemy-filtrujace-wode</td>\n",
       "      <td>1.0</td>\n",
       "    </tr>\n",
       "    <tr>\n",
       "      <th>57</th>\n",
       "      <td>agd-do-zabudowy</td>\n",
       "      <td>filtry-do-systemow-filtrujacych-wode</td>\n",
       "      <td>1.0</td>\n",
       "    </tr>\n",
       "    <tr>\n",
       "      <th>123</th>\n",
       "      <td>agd-male</td>\n",
       "      <td>kombiwary</td>\n",
       "      <td>1.0</td>\n",
       "    </tr>\n",
       "    <tr>\n",
       "      <th>126</th>\n",
       "      <td>agd-male</td>\n",
       "      <td>urzadzenie-do-czekolady</td>\n",
       "      <td>1.0</td>\n",
       "    </tr>\n",
       "    <tr>\n",
       "      <th>127</th>\n",
       "      <td>agd-male</td>\n",
       "      <td>chlebaki</td>\n",
       "      <td>1.0</td>\n",
       "    </tr>\n",
       "    <tr>\n",
       "      <th>191</th>\n",
       "      <td>agd-male</td>\n",
       "      <td>prasowalnice</td>\n",
       "      <td>1.0</td>\n",
       "    </tr>\n",
       "    <tr>\n",
       "      <th>202</th>\n",
       "      <td>agd-male</td>\n",
       "      <td>akcesoria-do-fotelikow-samochodowych</td>\n",
       "      <td>1.0</td>\n",
       "    </tr>\n",
       "    <tr>\n",
       "      <th>204</th>\n",
       "      <td>agd-male</td>\n",
       "      <td>zabawki</td>\n",
       "      <td>1.0</td>\n",
       "    </tr>\n",
       "    <tr>\n",
       "      <th>206</th>\n",
       "      <td>agd-male</td>\n",
       "      <td>pielegnacja-niemowlat</td>\n",
       "      <td>1.0</td>\n",
       "    </tr>\n",
       "    <tr>\n",
       "      <th>207</th>\n",
       "      <td>agd-male</td>\n",
       "      <td>lozeczka-dla-dzieci</td>\n",
       "      <td>1.0</td>\n",
       "    </tr>\n",
       "    <tr>\n",
       "      <th>210</th>\n",
       "      <td>agd-male</td>\n",
       "      <td>przechowywanie</td>\n",
       "      <td>1.0</td>\n",
       "    </tr>\n",
       "    <tr>\n",
       "      <th>230</th>\n",
       "      <td>agd-male</td>\n",
       "      <td>akcesoria-oswietleniowe</td>\n",
       "      <td>1.0</td>\n",
       "    </tr>\n",
       "    <tr>\n",
       "      <th>251</th>\n",
       "      <td>rtv</td>\n",
       "      <td>odtwarzacze-cd</td>\n",
       "      <td>1.0</td>\n",
       "    </tr>\n",
       "    <tr>\n",
       "      <th>271</th>\n",
       "      <td>rtv</td>\n",
       "      <td>filmy-dvd</td>\n",
       "      <td>1.0</td>\n",
       "    </tr>\n",
       "    <tr>\n",
       "      <th>290</th>\n",
       "      <td>rtv</td>\n",
       "      <td>wzmacniacze-sluchawkowe</td>\n",
       "      <td>1.0</td>\n",
       "    </tr>\n",
       "    <tr>\n",
       "      <th>303</th>\n",
       "      <td>rtv</td>\n",
       "      <td>akcesoria-oswietleniowe</td>\n",
       "      <td>1.0</td>\n",
       "    </tr>\n",
       "    <tr>\n",
       "      <th>355</th>\n",
       "      <td>telefony-i-nawigacja-gps</td>\n",
       "      <td>kask</td>\n",
       "      <td>1.0</td>\n",
       "    </tr>\n",
       "    <tr>\n",
       "      <th>415</th>\n",
       "      <td>komputery</td>\n",
       "      <td>bindownice</td>\n",
       "      <td>1.0</td>\n",
       "    </tr>\n",
       "    <tr>\n",
       "      <th>451</th>\n",
       "      <td>komputery</td>\n",
       "      <td>przetwornice</td>\n",
       "      <td>1.0</td>\n",
       "    </tr>\n",
       "    <tr>\n",
       "      <th>486</th>\n",
       "      <td>gry-i-konsole</td>\n",
       "      <td>zabawki</td>\n",
       "      <td>1.0</td>\n",
       "    </tr>\n",
       "  </tbody>\n",
       "</table>\n",
       "</div>"
      ],
      "text/plain": [
       "              parent_category                              category  \\\n",
       "22                        agd               systemy-filtrujace-wode   \n",
       "23                        agd  filtry-do-systemow-filtrujacych-wode   \n",
       "56            agd-do-zabudowy               systemy-filtrujace-wode   \n",
       "57            agd-do-zabudowy  filtry-do-systemow-filtrujacych-wode   \n",
       "123                  agd-male                             kombiwary   \n",
       "126                  agd-male               urzadzenie-do-czekolady   \n",
       "127                  agd-male                              chlebaki   \n",
       "191                  agd-male                          prasowalnice   \n",
       "202                  agd-male  akcesoria-do-fotelikow-samochodowych   \n",
       "204                  agd-male                               zabawki   \n",
       "206                  agd-male                 pielegnacja-niemowlat   \n",
       "207                  agd-male                   lozeczka-dla-dzieci   \n",
       "210                  agd-male                        przechowywanie   \n",
       "230                  agd-male               akcesoria-oswietleniowe   \n",
       "251                       rtv                        odtwarzacze-cd   \n",
       "271                       rtv                             filmy-dvd   \n",
       "290                       rtv               wzmacniacze-sluchawkowe   \n",
       "303                       rtv               akcesoria-oswietleniowe   \n",
       "355  telefony-i-nawigacja-gps                                  kask   \n",
       "415                 komputery                            bindownice   \n",
       "451                 komputery                          przetwornice   \n",
       "486             gry-i-konsole                               zabawki   \n",
       "\n",
       "     offers_count  \n",
       "22            1.0  \n",
       "23            1.0  \n",
       "56            1.0  \n",
       "57            1.0  \n",
       "123           1.0  \n",
       "126           1.0  \n",
       "127           1.0  \n",
       "191           1.0  \n",
       "202           1.0  \n",
       "204           1.0  \n",
       "206           1.0  \n",
       "207           1.0  \n",
       "210           1.0  \n",
       "230           1.0  \n",
       "251           1.0  \n",
       "271           1.0  \n",
       "290           1.0  \n",
       "303           1.0  \n",
       "355           1.0  \n",
       "415           1.0  \n",
       "451           1.0  \n",
       "486           1.0  "
      ]
     },
     "execution_count": 289,
     "metadata": {},
     "output_type": "execute_result"
    }
   ],
   "source": [
    "df[df.offers_count == df.offers_count.min()]"
   ]
  },
  {
   "cell_type": "markdown",
   "id": "69ed1a94",
   "metadata": {},
   "source": [
    "#### 4.2.2 Analiza wartości odstających"
   ]
  },
  {
   "cell_type": "markdown",
   "id": "51c8f5de",
   "metadata": {},
   "source": [
    "<p>Przed pominięciem wartości odstających:<p>"
   ]
  },
  {
   "cell_type": "code",
   "execution_count": 290,
   "id": "6893e837",
   "metadata": {},
   "outputs": [
    {
     "data": {
      "text/plain": [
       "0.01      1.00\n",
       "0.25     12.00\n",
       "0.50     33.00\n",
       "0.75     94.00\n",
       "0.99    848.12\n",
       "Name: offers_count, dtype: float64"
      ]
     },
     "execution_count": 290,
     "metadata": {},
     "output_type": "execute_result"
    }
   ],
   "source": [
    "df.offers_count.quantile([.01,.25,.50,.75,.99])"
   ]
  },
  {
   "cell_type": "code",
   "execution_count": 291,
   "id": "2db7e73a",
   "metadata": {},
   "outputs": [
    {
     "name": "stdout",
     "output_type": "stream",
     "text": [
      "Rozspęp kwartylny: 82.0\n"
     ]
    }
   ],
   "source": [
    "q1, q3 = df.offers_count.quantile([.25,.75])\n",
    "iqr = q3 - q1\n",
    "\n",
    "print(f'Rozspęp kwartylny: {iqr}')"
   ]
  },
  {
   "cell_type": "code",
   "execution_count": 292,
   "id": "2e541a33",
   "metadata": {
    "scrolled": true
   },
   "outputs": [
    {
     "data": {
      "image/png": "[encoded data removed]",
      "text/plain": [
       "<Figure size 648x360 with 1 Axes>"
      ]
     },
     "metadata": {
      "needs_background": "light"
     },
     "output_type": "display_data"
    }
   ],
   "source": [
    "df.offers_count.plot.hist(figsize=(9,5))\n",
    "plt.title(\"histogram - liczba ofert\")\n",
    "plt.xlabel('liczba ofert')\n",
    "plt.ylabel('liczba kategorii')\n",
    "plt.grid()\n",
    "plt.savefig('./charts/histogram - liczba ofert.png')\n",
    "plt.show()"
   ]
  },
  {
   "cell_type": "code",
   "execution_count": 293,
   "id": "2fb87f76",
   "metadata": {},
   "outputs": [],
   "source": [
    "down_boundary = q1-iqr*1.5\n",
    "upper_boundary = q3+iqr*1.5\n",
    "\n",
    "without_outliers = df[(df.offers_count < upper_boundary) & (df.offers_count > down_boundary)]"
   ]
  },
  {
   "cell_type": "markdown",
   "id": "e9707caf",
   "metadata": {},
   "source": [
    "<p>Po pominięciem wartości odstających:</p>"
   ]
  },
  {
   "cell_type": "code",
   "execution_count": 294,
   "id": "b8302329",
   "metadata": {},
   "outputs": [
    {
     "data": {
      "text/html": [
       "<div>\n",
       "<style scoped>\n",
       "    .dataframe tbody tr th:only-of-type {\n",
       "        vertical-align: middle;\n",
       "    }\n",
       "\n",
       "    .dataframe tbody tr th {\n",
       "        vertical-align: top;\n",
       "    }\n",
       "\n",
       "    .dataframe thead th {\n",
       "        text-align: right;\n",
       "    }\n",
       "</style>\n",
       "<table border=\"1\" class=\"dataframe\">\n",
       "  <thead>\n",
       "    <tr style=\"text-align: right;\">\n",
       "      <th></th>\n",
       "      <th>offers_count</th>\n",
       "    </tr>\n",
       "  </thead>\n",
       "  <tbody>\n",
       "    <tr>\n",
       "      <th>0.01</th>\n",
       "      <td>1.00</td>\n",
       "    </tr>\n",
       "    <tr>\n",
       "      <th>0.25</th>\n",
       "      <td>10.00</td>\n",
       "    </tr>\n",
       "    <tr>\n",
       "      <th>0.50</th>\n",
       "      <td>26.00</td>\n",
       "    </tr>\n",
       "    <tr>\n",
       "      <th>0.75</th>\n",
       "      <td>66.75</td>\n",
       "    </tr>\n",
       "    <tr>\n",
       "      <th>0.99</th>\n",
       "      <td>187.00</td>\n",
       "    </tr>\n",
       "  </tbody>\n",
       "</table>\n",
       "</div>"
      ],
      "text/plain": [
       "      offers_count\n",
       "0.01          1.00\n",
       "0.25         10.00\n",
       "0.50         26.00\n",
       "0.75         66.75\n",
       "0.99        187.00"
      ]
     },
     "execution_count": 294,
     "metadata": {},
     "output_type": "execute_result"
    }
   ],
   "source": [
    "without_outliers.quantile([.01,.25,.50,.75,.99])"
   ]
  },
  {
   "cell_type": "code",
   "execution_count": 295,
   "id": "2f0bbc8d",
   "metadata": {},
   "outputs": [
    {
     "data": {
      "image/png": "[encoded data removed]",
      "text/plain": [
       "<Figure size 648x360 with 1 Axes>"
      ]
     },
     "metadata": {
      "needs_background": "light"
     },
     "output_type": "display_data"
    }
   ],
   "source": [
    "without_outliers.offers_count.plot.hist(figsize=(9,5))\n",
    "plt.title(\"histogram - liczba ofert, po odjęciu wartosci odstających\")\n",
    "plt.xlabel('liczba ofert')\n",
    "plt.ylabel('liczba kategorii')\n",
    "plt.grid()\n",
    "plt.savefig('./charts/histogram - liczba ofert, po odjęciu wartosci odstających.png')\n",
    "plt.show()"
   ]
  },
  {
   "cell_type": "code",
   "execution_count": 296,
   "id": "eada3e85",
   "metadata": {},
   "outputs": [
    {
     "data": {
      "text/html": [
       "<div>\n",
       "<style scoped>\n",
       "    .dataframe tbody tr th:only-of-type {\n",
       "        vertical-align: middle;\n",
       "    }\n",
       "\n",
       "    .dataframe tbody tr th {\n",
       "        vertical-align: top;\n",
       "    }\n",
       "\n",
       "    .dataframe thead th {\n",
       "        text-align: right;\n",
       "    }\n",
       "</style>\n",
       "<table border=\"1\" class=\"dataframe\">\n",
       "  <thead>\n",
       "    <tr style=\"text-align: right;\">\n",
       "      <th></th>\n",
       "      <th>parent_category</th>\n",
       "      <th>category</th>\n",
       "      <th>offers_count</th>\n",
       "    </tr>\n",
       "  </thead>\n",
       "  <tbody>\n",
       "    <tr>\n",
       "      <th>0</th>\n",
       "      <td>agd</td>\n",
       "      <td>pralki</td>\n",
       "      <td>296.0</td>\n",
       "    </tr>\n",
       "    <tr>\n",
       "      <th>4</th>\n",
       "      <td>agd</td>\n",
       "      <td>lodowki</td>\n",
       "      <td>503.0</td>\n",
       "    </tr>\n",
       "    <tr>\n",
       "      <th>13</th>\n",
       "      <td>agd</td>\n",
       "      <td>okapy</td>\n",
       "      <td>700.0</td>\n",
       "    </tr>\n",
       "    <tr>\n",
       "      <th>15</th>\n",
       "      <td>agd</td>\n",
       "      <td>zlewozmywaki</td>\n",
       "      <td>1676.0</td>\n",
       "    </tr>\n",
       "    <tr>\n",
       "      <th>17</th>\n",
       "      <td>agd</td>\n",
       "      <td>baterie-kuchenne</td>\n",
       "      <td>654.0</td>\n",
       "    </tr>\n",
       "    <tr>\n",
       "      <th>...</th>\n",
       "      <td>...</td>\n",
       "      <td>...</td>\n",
       "      <td>...</td>\n",
       "    </tr>\n",
       "    <tr>\n",
       "      <th>462</th>\n",
       "      <td>gry-i-konsole</td>\n",
       "      <td>fotele-i-stojaki-do-kierownicy</td>\n",
       "      <td>255.0</td>\n",
       "    </tr>\n",
       "    <tr>\n",
       "      <th>466</th>\n",
       "      <td>gry-i-konsole</td>\n",
       "      <td>gry-xbox-one</td>\n",
       "      <td>262.0</td>\n",
       "    </tr>\n",
       "    <tr>\n",
       "      <th>470</th>\n",
       "      <td>gry-i-konsole</td>\n",
       "      <td>gry-playstation-4</td>\n",
       "      <td>240.0</td>\n",
       "    </tr>\n",
       "    <tr>\n",
       "      <th>476</th>\n",
       "      <td>gry-i-konsole</td>\n",
       "      <td>myszy</td>\n",
       "      <td>638.0</td>\n",
       "    </tr>\n",
       "    <tr>\n",
       "      <th>477</th>\n",
       "      <td>gry-i-konsole</td>\n",
       "      <td>klawiatury</td>\n",
       "      <td>281.0</td>\n",
       "    </tr>\n",
       "  </tbody>\n",
       "</table>\n",
       "<p>67 rows × 3 columns</p>\n",
       "</div>"
      ],
      "text/plain": [
       "    parent_category                        category  offers_count\n",
       "0               agd                          pralki         296.0\n",
       "4               agd                         lodowki         503.0\n",
       "13              agd                           okapy         700.0\n",
       "15              agd                    zlewozmywaki        1676.0\n",
       "17              agd                baterie-kuchenne         654.0\n",
       "..              ...                             ...           ...\n",
       "462   gry-i-konsole  fotele-i-stojaki-do-kierownicy         255.0\n",
       "466   gry-i-konsole                    gry-xbox-one         262.0\n",
       "470   gry-i-konsole               gry-playstation-4         240.0\n",
       "476   gry-i-konsole                           myszy         638.0\n",
       "477   gry-i-konsole                      klawiatury         281.0\n",
       "\n",
       "[67 rows x 3 columns]"
      ]
     },
     "execution_count": 296,
     "metadata": {},
     "output_type": "execute_result"
    }
   ],
   "source": [
    "outliers = df[~df.category.isin(without_outliers.category)]\n",
    "outliers"
   ]
  },
  {
   "cell_type": "markdown",
   "id": "433dc2e5",
   "metadata": {},
   "source": [
    "##### 4.2.2.1 Wnioski"
   ]
  },
  {
   "cell_type": "markdown",
   "id": "3e102ed1",
   "metadata": {},
   "source": [
    "<p>Analiza przed pominięciem wartości odstających pokazała, iż ilość ofert w poszczególnych kategoriach jest bardzo zróżnicowana - widać to z resztą na histogramie.</p>\n",
    "<p>\n",
    "    Po pominięciu kategorii odstających oczom ukazał się obraz, iż większość kategorii posiada od 10 do 67 ofert.\n",
    "    </p><p>Najczęściej kategorie mają po 33 oferty.\n",
    "</p>"
   ]
  },
  {
   "cell_type": "markdown",
   "id": "2d337cac",
   "metadata": {},
   "source": [
    "### Top 10 najwiekszych kategorii podrzędnych po kategoriach głównych:"
   ]
  },
  {
   "cell_type": "code",
   "execution_count": 297,
   "id": "42942db8",
   "metadata": {},
   "outputs": [
    {
     "name": "stdout",
     "output_type": "stream",
     "text": [
      "\n",
      "agd:\n",
      "\n",
      "           category  offers_count\n",
      "0      zlewozmywaki        1676.0\n",
      "1             okapy         700.0\n",
      "2  baterie-kuchenne         654.0\n",
      "3           lodowki         503.0\n",
      "4          patelnie         321.0\n",
      "5            pralki         296.0\n",
      "6            garnki         271.0\n",
      "7           kuchnie         157.0\n",
      "8          zmywarki         110.0\n",
      "9          suszarki         107.0\n",
      "\n",
      "agd-do-zabudowy:\n",
      "\n",
      "                  category  offers_count\n",
      "10            zlewozmywaki        1676.0\n",
      "11                   okapy         700.0\n",
      "12        baterie-kuchenne         654.0\n",
      "13       plyty-do-zabudowy         444.0\n",
      "14                    kawy         391.0\n",
      "15                patelnie         321.0\n",
      "16  piekarniki-do-zabudowy         318.0\n",
      "17                  garnki         271.0\n",
      "18    zmywarki-do-zabudowy         147.0\n",
      "19     lodowki-do-zabudowy         112.0\n",
      "\n",
      "agd-male:\n",
      "\n",
      "                     category  offers_count\n",
      "20                       kawy         391.0\n",
      "21                   czajniki         382.0\n",
      "22                   patelnie         321.0\n",
      "23       ekspresy-cisnieniowe         275.0\n",
      "24                     garnki         271.0\n",
      "25          przybory-kuchenne         250.0\n",
      "26   inteligentne-oswietlenie         235.0\n",
      "27                 odkurzacze         198.0\n",
      "28  wyposazenie-do-odkurzaczy         191.0\n",
      "29    szczoteczki-elektryczne         175.0\n",
      "\n",
      "gry-i-konsole:\n",
      "\n",
      "                          category  offers_count\n",
      "30                           myszy         638.0\n",
      "31         sluchawki-dla-graczy-pc         448.0\n",
      "32                      klawiatury         281.0\n",
      "33                    gry-xbox-one         262.0\n",
      "34  fotele-i-stojaki-do-kierownicy         255.0\n",
      "35               gry-playstation-4         240.0\n",
      "36              kontrolery-do-gier         233.0\n",
      "37                          gry-pc         126.0\n",
      "38         cyfrowe-dodatki-do-gier          96.0\n",
      "39               gry-playstation-5          83.0\n",
      "\n",
      "komputery:\n",
      "\n",
      "                           category  offers_count\n",
      "40               laptopy-i-netbooki         779.0\n",
      "41               monitory-led-i-lcd         722.0\n",
      "42                            myszy         638.0\n",
      "43                torby-do-laptopow         495.0\n",
      "44          sluchawki-dla-graczy-pc         448.0\n",
      "45                      pamieci-ram         395.0\n",
      "46  ladowarki-akumulatory-przenosne         325.0\n",
      "47             pendrive-pamieci-usb         323.0\n",
      "48     kable-apple-ipod-iphone-ipad         320.0\n",
      "49                       klawiatury         281.0\n",
      "\n",
      "rtv:\n",
      "\n",
      "                        category  offers_count\n",
      "50                     sluchawki        1355.0\n",
      "51            kable-do-telefonow         585.0\n",
      "52   telewizory-led-lcd-plazmowe         428.0\n",
      "53  kable-apple-ipod-iphone-ipad         320.0\n",
      "54            glosniki-przenosne         295.0\n",
      "55                         kable         295.0\n",
      "56       adaptery-i-przejsciowki         227.0\n",
      "57          glosniki-komputerowe         187.0\n",
      "58  kable-i-adaptery-komputerowe         173.0\n",
      "59          akcesoria-audio-hifi         166.0\n",
      "\n",
      "telefony-i-nawigacja-gps:\n",
      "\n",
      "                           category  offers_count\n",
      "60                   folie-ochronne        2631.0\n",
      "61                        sluchawki        1355.0\n",
      "62               telefony-komorkowe         733.0\n",
      "63                       smartwatch         611.0\n",
      "64               kable-do-telefonow         585.0\n",
      "65            akcesoria-do-zegarkow         355.0\n",
      "66  ladowarki-akumulatory-przenosne         325.0\n",
      "67     kable-apple-ipod-iphone-ipad         320.0\n",
      "68               glosniki-przenosne         295.0\n",
      "69             uchwyty-do-telefonow         292.0\n"
     ]
    }
   ],
   "source": [
    "categories_summary = df.set_index('category').groupby('parent_category').offers_count.nlargest(10)\n",
    "categories_summary = categories_summary.reset_index()\n",
    "\n",
    "grouped = categories_summary.groupby('parent_category')\n",
    "\n",
    "for group in grouped.groups:\n",
    "    print(f'\\n{group}:\\n')\n",
    "    data = categories_summary[categories_summary.parent_category == group].loc[:, 'category':]\n",
    "    print(data)"
   ]
  }
 ],
 "metadata": {
  "kernelspec": {
   "display_name": "Python 3 (ipykernel)",
   "language": "python",
   "name": "python3"
  },
  "language_info": {
   "codemirror_mode": {
    "name": "ipython",
    "version": 3
   },
   "file_extension": ".py",
   "mimetype": "text/x-python",
   "name": "python",
   "nbconvert_exporter": "python",
   "pygments_lexer": "ipython3",
   "version": "3.7.3"
  }
 },
 "nbformat": 4,
 "nbformat_minor": 5
}
