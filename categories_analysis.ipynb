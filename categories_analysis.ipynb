{
 "cells": [
  {
   "cell_type": "markdown",
   "id": "48c5361a",
   "metadata": {},
   "source": [
    "# Analiza kategorii w sklepie euro.com.pl"
   ]
  },
  {
   "cell_type": "markdown",
   "id": "aca46aef",
   "metadata": {},
   "source": [
    "## 1. Wprowadzenie"
   ]
  },
  {
   "cell_type": "markdown",
   "id": "f0ee3e71",
   "metadata": {},
   "source": [
    "<h4>Cel analizy</h4>\n",
    "<p>\n",
    "Analiza ma na celu poznanie dostępnych kategorii w sklepie internetowym euro.com.pl należącego do sieci sklepów RTVeuroAGD.\n",
    "Dowiedzmy się, czy sklep RTVeuroAGD jest bardziej RTV, czy AGD, a może dominują produkty z nietytułowych kategorii. Wnioski z analizy będą pomocne przy analizowaniu promocji, cyklicznie pojawiających się w tym sklepie.\n",
    "<p>\n",
    "<h4>Pochodzenie zbioru danych</h4>\n",
    "<p>\n",
    "    Dane z analizowanego pliku pochodzą ze sklepu internetowego euro.com.pl. Zostały zebrane w dniu 31.01.2022 r. W tym celu posłużyłem się skryptem scrapującym napisanym w Pythonie. Kod źródłowy wykorzystanego skryptu oraz plik z zebranymi danymi znajduje się w folderze 'categories' tego repozytorium.\n",
    "</p>"
   ]
  },
  {
   "cell_type": "markdown",
   "id": "e3cd4d15",
   "metadata": {},
   "source": [
    "## 2. Wczytanie potrzebnych bibliotek"
   ]
  },
  {
   "cell_type": "code",
   "execution_count": 19,
   "id": "5da464cb",
   "metadata": {},
   "outputs": [],
   "source": [
    "import pandas as pd\n",
    "import matplotlib.pyplot as plt"
   ]
  },
  {
   "cell_type": "markdown",
   "id": "ba366ea0",
   "metadata": {},
   "source": [
    "## 3. Wczytanie zbioru z danymi"
   ]
  },
  {
   "cell_type": "code",
   "execution_count": 20,
   "id": "b77e4582",
   "metadata": {},
   "outputs": [],
   "source": [
    "df = pd.read_csv('./categories/categories.csv', header=0)"
   ]
  },
  {
   "cell_type": "markdown",
   "id": "9a2fdc8f",
   "metadata": {},
   "source": [
    "### 3.1 Przegląd zbioru."
   ]
  },
  {
   "cell_type": "code",
   "execution_count": 21,
   "id": "d18e7f2a",
   "metadata": {},
   "outputs": [
    {
     "name": "stdout",
     "output_type": "stream",
     "text": [
      "Zbiór zawiera 496 obserwacji oraz 4 zmiennych.\n"
     ]
    }
   ],
   "source": [
    "print(f'Zbiór zawiera {df.shape[0]} obserwacji oraz {df.shape[1]} zmiennych.')"
   ]
  },
  {
   "cell_type": "code",
   "execution_count": 22,
   "id": "d4adea4d",
   "metadata": {},
   "outputs": [
    {
     "name": "stdout",
     "output_type": "stream",
     "text": [
      "Dostępne zmienne: ['parent_category', 'category', 'link_to_category', 'offers_count']\n"
     ]
    }
   ],
   "source": [
    "print(f'Dostępne zmienne: {df.columns.tolist()}')"
   ]
  },
  {
   "cell_type": "code",
   "execution_count": 23,
   "id": "364153e0",
   "metadata": {
    "scrolled": false
   },
   "outputs": [
    {
     "name": "stdout",
     "output_type": "stream",
     "text": [
      "Typy zmiennych:\n"
     ]
    },
    {
     "data": {
      "text/plain": [
       "parent_category      object\n",
       "category             object\n",
       "link_to_category     object\n",
       "offers_count        float64\n",
       "dtype: object"
      ]
     },
     "execution_count": 23,
     "metadata": {},
     "output_type": "execute_result"
    }
   ],
   "source": [
    "print(f'Typy zmiennych:')\n",
    "df.dtypes"
   ]
  },
  {
   "cell_type": "code",
   "execution_count": 24,
   "id": "3b1ca8f4",
   "metadata": {
    "scrolled": true
   },
   "outputs": [
    {
     "name": "stdout",
     "output_type": "stream",
     "text": [
      "Zbior zawiera 7 kategorii głównych:\n",
      "['agd' 'agd-do-zabudowy' 'agd-male' 'rtv' 'telefony-i-nawigacja-gps'\n",
      " 'komputery' 'gry-i-konsole']\n"
     ]
    }
   ],
   "source": [
    "print(f'Zbior zawiera {len(df.parent_category.unique())} kategorii głównych:\\n{df.parent_category.unique()}')"
   ]
  },
  {
   "cell_type": "code",
   "execution_count": 25,
   "id": "bd3805e6",
   "metadata": {},
   "outputs": [
    {
     "name": "stdout",
     "output_type": "stream",
     "text": [
      "Zbior zawiera 424 kategorii podrzędnych.\n"
     ]
    }
   ],
   "source": [
    "print(f'Zbior zawiera {len(df.category.unique())} kategorii podrzędnych.')"
   ]
  },
  {
   "cell_type": "markdown",
   "id": "931f59cc",
   "metadata": {},
   "source": [
    "## 4. Analiza zbioru"
   ]
  },
  {
   "cell_type": "markdown",
   "id": "769abd23",
   "metadata": {},
   "source": [
    "### 4.1 Analiza kategorii głównych"
   ]
  },
  {
   "cell_type": "code",
   "execution_count": 44,
   "id": "8c6ecfbc",
   "metadata": {},
   "outputs": [
    {
     "data": {
      "text/html": [
       "<div>\n",
       "<style scoped>\n",
       "    .dataframe tbody tr th:only-of-type {\n",
       "        vertical-align: middle;\n",
       "    }\n",
       "\n",
       "    .dataframe tbody tr th {\n",
       "        vertical-align: top;\n",
       "    }\n",
       "\n",
       "    .dataframe thead th {\n",
       "        text-align: right;\n",
       "    }\n",
       "</style>\n",
       "<table border=\"1\" class=\"dataframe\">\n",
       "  <thead>\n",
       "    <tr style=\"text-align: right;\">\n",
       "      <th></th>\n",
       "      <th>parent_category</th>\n",
       "      <th>offers_count</th>\n",
       "      <th>categories_count</th>\n",
       "    </tr>\n",
       "  </thead>\n",
       "  <tbody>\n",
       "    <tr>\n",
       "      <th>0</th>\n",
       "      <td>komputery</td>\n",
       "      <td>10348.0</td>\n",
       "      <td>100</td>\n",
       "    </tr>\n",
       "    <tr>\n",
       "      <th>1</th>\n",
       "      <td>telefony-i-nawigacja-gps</td>\n",
       "      <td>9838.0</td>\n",
       "      <td>48</td>\n",
       "    </tr>\n",
       "    <tr>\n",
       "      <th>2</th>\n",
       "      <td>agd-male</td>\n",
       "      <td>8724.0</td>\n",
       "      <td>159</td>\n",
       "    </tr>\n",
       "    <tr>\n",
       "      <th>3</th>\n",
       "      <td>rtv</td>\n",
       "      <td>6335.0</td>\n",
       "      <td>74</td>\n",
       "    </tr>\n",
       "    <tr>\n",
       "      <th>4</th>\n",
       "      <td>agd-do-zabudowy</td>\n",
       "      <td>5993.0</td>\n",
       "      <td>40</td>\n",
       "    </tr>\n",
       "    <tr>\n",
       "      <th>5</th>\n",
       "      <td>agd</td>\n",
       "      <td>5914.0</td>\n",
       "      <td>39</td>\n",
       "    </tr>\n",
       "    <tr>\n",
       "      <th>6</th>\n",
       "      <td>gry-i-konsole</td>\n",
       "      <td>3367.0</td>\n",
       "      <td>36</td>\n",
       "    </tr>\n",
       "  </tbody>\n",
       "</table>\n",
       "</div>"
      ],
      "text/plain": [
       "            parent_category  offers_count  categories_count\n",
       "0                 komputery       10348.0               100\n",
       "1  telefony-i-nawigacja-gps        9838.0                48\n",
       "2                  agd-male        8724.0               159\n",
       "3                       rtv        6335.0                74\n",
       "4           agd-do-zabudowy        5993.0                40\n",
       "5                       agd        5914.0                39\n",
       "6             gry-i-konsole        3367.0                36"
      ]
     },
     "execution_count": 44,
     "metadata": {},
     "output_type": "execute_result"
    }
   ],
   "source": [
    "parent_categories_summary = df.groupby(['parent_category']).agg(offers_count=('offers_count','sum'), categories_count=('category', 'count'))\n",
    "parent_categories_summary = parent_categories_summary.sort_values(by='offers_count', ascending=False)\n",
    "parent_categories_summary = parent_categories_summary.reset_index()\n",
    "parent_categories_summary"
   ]
  },
  {
   "cell_type": "code",
   "execution_count": 68,
   "id": "0789e3a7",
   "metadata": {},
   "outputs": [
    {
     "data": {
      "image/png": "[encoded data removed]",
      "text/plain": [
       "<Figure size 648x360 with 1 Axes>"
      ]
     },
     "metadata": {
      "needs_background": "light"
     },
     "output_type": "display_data"
    }
   ],
   "source": [
    "parent_categories_summary[['parent_category','categories_count']].set_index('parent_category').sort_values(by='categories_count', ascending=False).plot.barh(figsize=(9,5))\n",
    "plt.title('liczba kategorii podrzędnych w kategoriach głównych')\n",
    "plt.xlabel('liczba kategorii')\n",
    "plt.ylabel('kategoria główna')\n",
    "plt.grid()\n",
    "plt.savefig('./charts/liczba kategorii podrzędnych w kategoriach głównych.png')\n",
    "plt.show()"
   ]
  },
  {
   "cell_type": "code",
   "execution_count": 67,
   "id": "8607405c",
   "metadata": {
    "scrolled": true
   },
   "outputs": [
    {
     "data": {
      "image/png": "[encoded data removed]",
      "text/plain": [
       "<Figure size 648x360 with 1 Axes>"
      ]
     },
     "metadata": {
      "needs_background": "light"
     },
     "output_type": "display_data"
    }
   ],
   "source": [
    "parent_categories_summary[['parent_category','offers_count']].set_index('parent_category').sort_values(by='offers_count', ascending=False).plot.barh(figsize=(9,5))\n",
    "plt.title('liczba ofert w kategoriach głównych')\n",
    "plt.xlabel('liczba ofert')\n",
    "plt.ylabel('kategoria główna')\n",
    "plt.grid()\n",
    "plt.savefig('./charts/liczba ofert w kategoriach głównych.png')\n",
    "plt.show()"
   ]
  },
  {
   "cell_type": "markdown",
   "id": "bf792886",
   "metadata": {},
   "source": [
    "### 4.2 Analiza kategorii podrzędnych"
   ]
  },
  {
   "cell_type": "code",
   "execution_count": 31,
   "id": "42942db8",
   "metadata": {},
   "outputs": [
    {
     "name": "stdout",
     "output_type": "stream",
     "text": [
      "Top 3 najwiekszych kategorii podrzędnych po kategoriach głównych:\n"
     ]
    },
    {
     "data": {
      "text/plain": [
       "parent_category           category                   \n",
       "agd                       zlewozmywaki                   1676.0\n",
       "                          okapy                           700.0\n",
       "                          baterie-kuchenne                654.0\n",
       "agd-do-zabudowy           zlewozmywaki                   1676.0\n",
       "                          okapy                           700.0\n",
       "                          baterie-kuchenne                654.0\n",
       "agd-male                  kawy                            391.0\n",
       "                          czajniki                        382.0\n",
       "                          patelnie                        321.0\n",
       "gry-i-konsole             myszy                           638.0\n",
       "                          sluchawki-dla-graczy-pc         448.0\n",
       "                          klawiatury                      281.0\n",
       "komputery                 laptopy-i-netbooki              779.0\n",
       "                          monitory-led-i-lcd              722.0\n",
       "                          myszy                           638.0\n",
       "rtv                       sluchawki                      1355.0\n",
       "                          kable-do-telefonow              585.0\n",
       "                          telewizory-led-lcd-plazmowe     428.0\n",
       "telefony-i-nawigacja-gps  folie-ochronne                 2631.0\n",
       "                          sluchawki                      1355.0\n",
       "                          telefony-komorkowe              733.0\n",
       "Name: offers_count, dtype: float64"
      ]
     },
     "execution_count": 31,
     "metadata": {},
     "output_type": "execute_result"
    }
   ],
   "source": [
    "categories_summary = df.set_index('category').groupby('parent_category').offers_count.nlargest(3)\n",
    "print('Top 3 najwiekszych kategorii podrzędnych po kategoriach głównych:')\n",
    "categories_summary"
   ]
  },
  {
   "cell_type": "code",
   "execution_count": null,
   "id": "5fccdafc",
   "metadata": {},
   "outputs": [],
   "source": []
  }
 ],
 "metadata": {
  "kernelspec": {
   "display_name": "Python 3 (ipykernel)",
   "language": "python",
   "name": "python3"
  },
  "language_info": {
   "codemirror_mode": {
    "name": "ipython",
    "version": 3
   },
   "file_extension": ".py",
   "mimetype": "text/x-python",
   "name": "python",
   "nbconvert_exporter": "python",
   "pygments_lexer": "ipython3",
   "version": "3.7.3"
  }
 },
 "nbformat": 4,
 "nbformat_minor": 5
}
