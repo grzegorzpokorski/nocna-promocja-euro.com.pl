{
 "cells": [
  {
   "cell_type": "markdown",
   "id": "49e50e25",
   "metadata": {},
   "source": [
    "# Analiza 'nocnej promocji' w sklepie euro.com.pl"
   ]
  },
  {
   "cell_type": "markdown",
   "id": "92927913",
   "metadata": {},
   "source": [
    "## 1. Wprowadzenie"
   ]
  },
  {
   "cell_type": "markdown",
   "id": "69599343",
   "metadata": {},
   "source": [
    "### 1.1 Cel analizy"
   ]
  },
  {
   "cell_type": "markdown",
   "id": "9d702939",
   "metadata": {},
   "source": [
    "<p>\n",
    "Analiza promocji 'nocna promocja' dostępnej w sklepie internetowym euro.com.pl, ma na celu poznanie czy jseteśmy w stanie odkryć jakie produkty / kategorie produktów są częściej przeceniane.\n",
    "</p>\n",
    "<p>\n",
    "Postaram się znaleźć odpowiedź na pytanie czy warto codziennie przeglądać tą promocję, czy produkty się zmieniają, czy sklep 'odgrzewa stare kotlety'.\n",
    "</p>"
   ]
  },
  {
   "cell_type": "markdown",
   "id": "63eb1b87",
   "metadata": {},
   "source": [
    "### 1.2 O zbiorze danych"
   ]
  },
  {
   "cell_type": "markdown",
   "id": "b8273751",
   "metadata": {},
   "source": [
    "<p>\n",
    "Dane analizowane w tym miejscu pochodzą ze sklepu internetowego euro.com.pl, a zbierane były za pomocą autorskiego skryptu scrapującego napisanego w Pythonie. Dane ze strony pobierane były przez 7 dni - od 25.01.2022 r. do 31.01.2022 r. Skrypt scrapujący oraz zebrane pliki w formacie csv z danymi podzielonymi na poszczególne dni znajdują się w folderze 'data' tego repozytorium.\n",
    "</p>\n",
    "<p>\n",
    "    Zebrane dane o promocji wzbogacone zostaną o dane doytczące kategorii produktów dostępnych w tym sklepie, a których analiza znajduje się w pliku 'category_analysis' będącym w tym repozytorium.\n",
    "</p>"
   ]
  },
  {
   "cell_type": "markdown",
   "id": "e6a99d63",
   "metadata": {},
   "source": [
    "## 2. Przygotowanie zbioru"
   ]
  },
  {
   "cell_type": "markdown",
   "id": "ecd92b0f",
   "metadata": {},
   "source": [
    "### 2.1 Wczytanie potrzebnych bibliotek oraz plików z danymi"
   ]
  },
  {
   "cell_type": "markdown",
   "id": "a6fdea8c",
   "metadata": {},
   "source": [
    "#### Niezbędne biblioteki:"
   ]
  },
  {
   "cell_type": "code",
   "execution_count": 40,
   "id": "c7eb112a",
   "metadata": {},
   "outputs": [],
   "source": [
    "import os\n",
    "import pandas as pd\n",
    "import matplotlib.pyplot as plt"
   ]
  },
  {
   "cell_type": "markdown",
   "id": "619aa3dd",
   "metadata": {},
   "source": [
    "#### Wczytanie plików z danymi oraz połączenie z danymi dot. kategorii znajdujących się w sklepie:"
   ]
  },
  {
   "cell_type": "code",
   "execution_count": 41,
   "id": "464c3275",
   "metadata": {},
   "outputs": [],
   "source": [
    "pliki_z_danymi = []\n",
    "storage_path = './data'\n",
    "\n",
    "for item in os.listdir(storage_path):\n",
    "\tif item.endswith(\".csv\"):\n",
    "\t\tpliki_z_danymi.append(f'{storage_path}/{item}')\n",
    "\n",
    "df = pd.DataFrame()\n",
    "\n",
    "for plik in pliki_z_danymi:\n",
    "\tdf = pd.concat([df, pd.read_csv(plik, header=0, parse_dates=['scraping_time'])], ignore_index=True)\n",
    "\n",
    "df_categories = pd.read_csv('./categories/categories.csv', names=['parent_category', 'category', 'link_to_category', 'how_many_offers'])\n",
    "\n",
    "df = df.merge(df_categories, on='category')"
   ]
  },
  {
   "cell_type": "markdown",
   "id": "23ae6a74",
   "metadata": {},
   "source": [
    "#### Nazwy zmiennych"
   ]
  },
  {
   "cell_type": "markdown",
   "id": "dd1abbb3",
   "metadata": {},
   "source": [
    "<p>\n",
    "Na etapie zbierania danych zadbano o prawidłowe nazwanie zmiennych, aby łatwo można było się zorientować, z czym mamy do czynienia, dlatego nie ma potrzeby zmian.\n",
    "</p>"
   ]
  },
  {
   "cell_type": "markdown",
   "id": "4f439801",
   "metadata": {},
   "source": [
    "### 2.2 Zmiana typów zmiennych"
   ]
  },
  {
   "cell_type": "code",
   "execution_count": 42,
   "id": "810081ae",
   "metadata": {},
   "outputs": [
    {
     "data": {
      "text/plain": [
       "product_id                 float64\n",
       "plu                        float64\n",
       "regular                    float64\n",
       "discount                   float64\n",
       "discount_amount            float64\n",
       "discount_proc              float64\n",
       "discount_code               object\n",
       "availability                object\n",
       "href                        object\n",
       "category                    object\n",
       "domain_name                 object\n",
       "scraping_time       datetime64[ns]\n",
       "parent_category             object\n",
       "link_to_category            object\n",
       "how_many_offers             object\n",
       "dtype: object"
      ]
     },
     "execution_count": 42,
     "metadata": {},
     "output_type": "execute_result"
    }
   ],
   "source": [
    "df.dtypes"
   ]
  },
  {
   "cell_type": "markdown",
   "id": "fb40af62",
   "metadata": {},
   "source": [
    "#### Przegląd typów zmiennych:\n",
    "<ul>\n",
    "    <li>\n",
    "        'product_id', 'plu' - z wiedzy eksperckiej ;) wiadomo, że są to identyfikatory poszczególnych ofert dlatego postanowiłem zmienić ich typ na 'int', choć nie jest to operacja niezbędna,\n",
    "    </li>\n",
    "    <li>\n",
    "        zmienne: 'regular' do 'discount_proc' poprawnie są interpretowane przez Python jako zmienne numeryczne - nie mogło być inaczej, ponieważ już na etapie zbirania danych zadbano o ich prawidłowe sładowanie,\n",
    "    </li>\n",
    "    <li>\n",
    "        'availability', 'href', 'category', 'domain_name', 'parent_category', 'link_to_category' - są to zmienne kategoryczne, interpretowane przeez Python jako 'object',\n",
    "    </li>\n",
    "    <li>\n",
    "        'scraping_time' - zmienna typu kategorycznego poprawnie zinterpretowana jako datę.\n",
    "    </li>\n",
    "    <li>\n",
    "        'how_many_offers' - zmienna liczbowa, która powinna być typu 'int' - zostanie to poprawione w kolejnym kroku.\n",
    "    </li>\n",
    "</ul>"
   ]
  },
  {
   "cell_type": "markdown",
   "id": "7e0ade13",
   "metadata": {},
   "source": [
    "#### Zmiany dla potrzeb dalszej analizy:\n",
    "<ol>\n",
    "    <li>\n",
    "        zmiana typu zmiennych 'plu' oraz 'how_many_offers' do typu 'int',\n",
    "    </li>\n",
    "    <li>\n",
    "        zastąpienie zmiennej 'scraping_time' na 'string' zawierający datę w formacie yyyy-mm-dd i nadanie jej nazwy 'date',\n",
    "    </li>\n",
    "    <li>\n",
    "        usunięcie niepotrzebnych kolumn - dotyczy to zmiennych, które nie wniosą nic pożytecznego do analizy, a mogą nie potrzebnie przeszkadzać, są to:\n",
    "        <ul>\n",
    "            <li>'product_id' (mamy już identyfikator 'plu'),</li>\n",
    "            <li>'href' (zmienna przechowywująca link do oferty),</li>\n",
    "            <li>'domain_name' (nazwa domeny - pozostałość po procesie zbierania danych),</li>\n",
    "            <li>'scraping_time' (nie potrzebna, bo zastępuję ją nową zmienną 'date'),</li>\n",
    "            <li>'link_to_category' (jak nazwa mówi - link do kategorii, nie potrzebny),</li>\n",
    "         </ul>\n",
    "    </li>\n",
    "</ol>"
   ]
  },
  {
   "cell_type": "code",
   "execution_count": 43,
   "id": "5bdf123b",
   "metadata": {},
   "outputs": [],
   "source": [
    "df.plu = df.plu.astype(int)\n",
    "df.how_many_offers = df.how_many_offers.astype(float).astype(int)"
   ]
  },
  {
   "cell_type": "code",
   "execution_count": 44,
   "id": "49a5585f",
   "metadata": {},
   "outputs": [],
   "source": [
    "df['date'] = df.scraping_time.dt.strftime('%Y-%m-%d')"
   ]
  },
  {
   "cell_type": "code",
   "execution_count": 45,
   "id": "0ab10138",
   "metadata": {},
   "outputs": [],
   "source": [
    "df.drop(labels=['product_id', 'href', 'domain_name', 'scraping_time', 'link_to_category'], axis=1, inplace=True)"
   ]
  },
  {
   "cell_type": "markdown",
   "id": "773b9cc3",
   "metadata": {},
   "source": [
    "#### Po zmianach:"
   ]
  },
  {
   "cell_type": "code",
   "execution_count": 46,
   "id": "b5f4b7c0",
   "metadata": {},
   "outputs": [
    {
     "data": {
      "text/plain": [
       "plu                  int32\n",
       "regular            float64\n",
       "discount           float64\n",
       "discount_amount    float64\n",
       "discount_proc      float64\n",
       "discount_code       object\n",
       "availability        object\n",
       "category            object\n",
       "parent_category     object\n",
       "how_many_offers      int32\n",
       "date                object\n",
       "dtype: object"
      ]
     },
     "execution_count": 46,
     "metadata": {},
     "output_type": "execute_result"
    }
   ],
   "source": [
    "df.dtypes"
   ]
  },
  {
   "cell_type": "code",
   "execution_count": null,
   "id": "f74667dd",
   "metadata": {},
   "outputs": [],
   "source": []
  }
 ],
 "metadata": {
  "kernelspec": {
   "display_name": "Python 3 (ipykernel)",
   "language": "python",
   "name": "python3"
  },
  "language_info": {
   "codemirror_mode": {
    "name": "ipython",
    "version": 3
   },
   "file_extension": ".py",
   "mimetype": "text/x-python",
   "name": "python",
   "nbconvert_exporter": "python",
   "pygments_lexer": "ipython3",
   "version": "3.7.3"
  }
 },
 "nbformat": 4,
 "nbformat_minor": 5
}
