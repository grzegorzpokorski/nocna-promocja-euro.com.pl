{
 "cells": [
  {
   "cell_type": "markdown",
   "id": "49e50e25",
   "metadata": {},
   "source": [
    "# Analiza 'nocnej promocji' w sklepie euro.com.pl"
   ]
  },
  {
   "cell_type": "markdown",
   "id": "92927913",
   "metadata": {},
   "source": [
    "## 1. Wprowadzenie"
   ]
  },
  {
   "cell_type": "markdown",
   "id": "69599343",
   "metadata": {},
   "source": [
    "### 1.1 Cel analizy"
   ]
  },
  {
   "cell_type": "markdown",
   "id": "9d702939",
   "metadata": {},
   "source": [
    "<p>\n",
    "Analiza promocji 'nocna promocja' dostępnej w sklepie internetowym euro.com.pl, ma na celu poznanie czy jseteśmy w stanie odkryć jakie produkty / kategorie produktów są częściej przeceniane.\n",
    "</p>\n",
    "<p>\n",
    "Postaram się znaleźć odpowiedź na pytanie czy warto codziennie przeglądać tą promocję, czy produkty się zmieniają, czy sklep 'odgrzewa stare kotlety'.\n",
    "</p>"
   ]
  },
  {
   "cell_type": "markdown",
   "id": "63eb1b87",
   "metadata": {},
   "source": [
    "### 1.2 O zbiorze danych"
   ]
  },
  {
   "cell_type": "markdown",
   "id": "b8273751",
   "metadata": {},
   "source": [
    "<p>\n",
    "Dane analizowane w tym miejscu pochodzą ze sklepu internetowego euro.com.pl, a zbierane były za pomocą autorskiego skryptu scrapującego napisanego w Pythonie. Dane ze strony pobierane były przez <strong>7 dni tygodnia - od 25.01.2022 r. do 31.01.2022 r.</strong> Skrypt scrapujący oraz zebrane pliki w formacie csv z danymi podzielonymi na poszczególne dni znajdują się w folderze 'data' tego repozytorium.\n",
    "</p>\n",
    "<p>\n",
    "    Zebrane dane o promocji wzbogacone zostaną o dane doytczące kategorii produktów dostępnych w tym sklepie, a których analiza znajduje się w pliku 'category_analysis' będącym w tym repozytorium.\n",
    "</p>"
   ]
  },
  {
   "cell_type": "markdown",
   "id": "e6a99d63",
   "metadata": {},
   "source": [
    "## 2. Przygotowanie zbioru"
   ]
  },
  {
   "cell_type": "markdown",
   "id": "ecd92b0f",
   "metadata": {},
   "source": [
    "### 2.1 Wczytanie potrzebnych bibliotek oraz plików z danymi"
   ]
  },
  {
   "cell_type": "markdown",
   "id": "a6fdea8c",
   "metadata": {},
   "source": [
    "#### Niezbędne biblioteki:"
   ]
  },
  {
   "cell_type": "code",
   "execution_count": 1,
   "id": "c7eb112a",
   "metadata": {},
   "outputs": [],
   "source": [
    "import os\n",
    "import pandas as pd\n",
    "import matplotlib.pyplot as plt"
   ]
  },
  {
   "cell_type": "markdown",
   "id": "619aa3dd",
   "metadata": {},
   "source": [
    "#### Wczytanie plików z danymi oraz połączenie z danymi dot. kategorii znajdujących się w sklepie:"
   ]
  },
  {
   "cell_type": "code",
   "execution_count": 2,
   "id": "464c3275",
   "metadata": {},
   "outputs": [],
   "source": [
    "pliki_z_danymi = []\n",
    "storage_path = './data'\n",
    "\n",
    "for item in os.listdir(storage_path):\n",
    "\tif item.endswith(\".csv\"):\n",
    "\t\tpliki_z_danymi.append(f'{storage_path}/{item}')\n",
    "\n",
    "df = pd.DataFrame()\n",
    "\n",
    "for plik in pliki_z_danymi:\n",
    "\tdf = pd.concat([df, pd.read_csv(plik, header=0, parse_dates=['scraping_time'])], ignore_index=True)\n",
    "\n",
    "df_categories = pd.read_csv('./categories/categories.csv', names=['parent_category', 'category', 'link_to_category', 'how_many_offers'])\n",
    "\n",
    "df = df.merge(df_categories, on='category')"
   ]
  },
  {
   "cell_type": "markdown",
   "id": "23ae6a74",
   "metadata": {},
   "source": [
    "#### Nazwy zmiennych"
   ]
  },
  {
   "cell_type": "markdown",
   "id": "dd1abbb3",
   "metadata": {},
   "source": [
    "<p>\n",
    "Na etapie zbierania danych zadbano o prawidłowe nazwanie zmiennych, aby łatwo można było się zorientować, z czym mamy do czynienia, dlatego nie ma potrzeby zmian.\n",
    "</p>"
   ]
  },
  {
   "cell_type": "markdown",
   "id": "4f439801",
   "metadata": {},
   "source": [
    "### 2.2 Zmiana typów zmiennych"
   ]
  },
  {
   "cell_type": "code",
   "execution_count": 3,
   "id": "810081ae",
   "metadata": {},
   "outputs": [
    {
     "data": {
      "text/plain": [
       "product_id                 float64\n",
       "plu                        float64\n",
       "regular                    float64\n",
       "discount                   float64\n",
       "discount_amount            float64\n",
       "discount_proc              float64\n",
       "discount_code               object\n",
       "availability                object\n",
       "href                        object\n",
       "category                    object\n",
       "domain_name                 object\n",
       "scraping_time       datetime64[ns]\n",
       "parent_category             object\n",
       "link_to_category            object\n",
       "how_many_offers             object\n",
       "dtype: object"
      ]
     },
     "execution_count": 3,
     "metadata": {},
     "output_type": "execute_result"
    }
   ],
   "source": [
    "df.dtypes"
   ]
  },
  {
   "cell_type": "markdown",
   "id": "fb40af62",
   "metadata": {},
   "source": [
    "#### Przegląd typów zmiennych:\n",
    "<ul>\n",
    "    <li>\n",
    "        'product_id', 'plu' - z wiedzy eksperckiej ;) wiadomo, że są to identyfikatory poszczególnych ofert dlatego postanowiłem zmienić ich typ na 'int', choć nie jest to operacja niezbędna,\n",
    "    </li>\n",
    "    <li>\n",
    "        zmienne: 'regular' do 'discount_proc' poprawnie są interpretowane przez Python jako zmienne numeryczne - nie mogło być inaczej, ponieważ już na etapie zbirania danych zadbano o ich prawidłowe sładowanie,\n",
    "    </li>\n",
    "    <li>\n",
    "        'availability', 'href', 'category', 'domain_name', 'parent_category', 'link_to_category' - są to zmienne kategoryczne, interpretowane przeez Python jako 'object',\n",
    "    </li>\n",
    "    <li>\n",
    "        'scraping_time' - zmienna typu kategorycznego poprawnie zinterpretowana jako datę.\n",
    "    </li>\n",
    "    <li>\n",
    "        'how_many_offers' - zmienna liczbowa, która powinna być typu 'int' - zostanie to poprawione w kolejnym kroku.\n",
    "    </li>\n",
    "</ul>"
   ]
  },
  {
   "cell_type": "markdown",
   "id": "7e0ade13",
   "metadata": {},
   "source": [
    "#### Zmiany dla potrzeb dalszej analizy:\n",
    "<ol>\n",
    "    <li>\n",
    "        zmiana typu zmiennych 'plu' oraz 'how_many_offers' do typu 'int',\n",
    "    </li>\n",
    "    <li>\n",
    "        dodanie zmiennej 'weekday' z numerem dnia tygodnia, w którym została zebrana obserwacja (1 - poniedziałek, (...) 7 - niedziela),\n",
    "        </li>\n",
    "    <li>\n",
    "        zastąpienie zmiennej 'scraping_time' na 'string' zawierający datę w formacie yyyy-mm-dd i nadanie jej nazwy 'date',\n",
    "    </li>\n",
    "    <li>\n",
    "        wyodrębnienie nazwy oferty z zmiennej przechowywującej link do oferty ('href') i zastąpienie jej zmienna o nazwie 'name',\n",
    "    </li>\n",
    "    <li>\n",
    "        usunięcie niepotrzebnych kolumn - dotyczy to zmiennych, które nie wniosą nic pożytecznego do analizy, a mogą nie potrzebnie przeszkadzać, są to:\n",
    "        <ul>\n",
    "            <li>'product_id' (mamy już identyfikator 'plu'),</li>\n",
    "            <li>'domain_name' (nazwa domeny - pozostałość po procesie zbierania danych),</li>\n",
    "            <li>'scraping_time' (nie potrzebna, bo zastępuję ją nową zmienną 'date'),</li>\n",
    "            <li>'link_to_category' (jak nazwa mówi - link do kategorii, nie potrzebny),</li>\n",
    "         </ul>\n",
    "    </li>\n",
    "    <li>\n",
    "        jako że dane są dosyć dobrze opisane, zgodnie z celem analizy, usunięte zostaną oblserwacje, które nie powinny się tu znależć - mam na myśli oferty nie posiadające rabatu ani kodu rabatowego, a mające normalną cenę wiekszą od 0.\n",
    "    </li>\n",
    "</ol>"
   ]
  },
  {
   "cell_type": "code",
   "execution_count": 4,
   "id": "5bdf123b",
   "metadata": {},
   "outputs": [],
   "source": [
    "df.plu = df.plu.astype(int)\n",
    "df.how_many_offers = df.how_many_offers.astype(float).astype(int)"
   ]
  },
  {
   "cell_type": "code",
   "execution_count": 5,
   "id": "49a5585f",
   "metadata": {},
   "outputs": [],
   "source": [
    "df['weekday'] = df.scraping_time.dt.strftime('%w')\n",
    "df.weekday = df.weekday.apply(lambda x: '7' if x=='0' else x)\n",
    "df['date'] = df.scraping_time.dt.strftime('%Y-%m-%d')"
   ]
  },
  {
   "cell_type": "code",
   "execution_count": 6,
   "id": "a258dea8",
   "metadata": {},
   "outputs": [],
   "source": [
    "df['name'] = df.href.apply(lambda x: x.split('/')[4][:-6])"
   ]
  },
  {
   "cell_type": "code",
   "execution_count": 7,
   "id": "0ab10138",
   "metadata": {},
   "outputs": [],
   "source": [
    "df.drop(labels=['product_id', 'href', 'domain_name', 'scraping_time', 'link_to_category'], axis=1, inplace=True)"
   ]
  },
  {
   "cell_type": "code",
   "execution_count": 8,
   "id": "23819fa7",
   "metadata": {},
   "outputs": [],
   "source": [
    "df.drop(df[(df.regular != 0) & (df.discount_amount == 0) & (df.discount_code.isnull())].index, axis=0, inplace=True)"
   ]
  },
  {
   "cell_type": "markdown",
   "id": "8a958e1f",
   "metadata": {},
   "source": [
    "#### Po zmianach:"
   ]
  },
  {
   "cell_type": "code",
   "execution_count": 9,
   "id": "3a409b78",
   "metadata": {},
   "outputs": [
    {
     "data": {
      "text/plain": [
       "plu                  int32\n",
       "regular            float64\n",
       "discount           float64\n",
       "discount_amount    float64\n",
       "discount_proc      float64\n",
       "discount_code       object\n",
       "availability        object\n",
       "category            object\n",
       "parent_category     object\n",
       "how_many_offers      int32\n",
       "weekday             object\n",
       "date                object\n",
       "name                object\n",
       "dtype: object"
      ]
     },
     "execution_count": 9,
     "metadata": {},
     "output_type": "execute_result"
    }
   ],
   "source": [
    "df.dtypes"
   ]
  },
  {
   "cell_type": "markdown",
   "id": "4f361ea8",
   "metadata": {},
   "source": [
    "## 3. Analiza braków danych"
   ]
  },
  {
   "cell_type": "code",
   "execution_count": 10,
   "id": "30444d48",
   "metadata": {},
   "outputs": [
    {
     "data": {
      "text/html": [
       "<div>\n",
       "<style scoped>\n",
       "    .dataframe tbody tr th:only-of-type {\n",
       "        vertical-align: middle;\n",
       "    }\n",
       "\n",
       "    .dataframe tbody tr th {\n",
       "        vertical-align: top;\n",
       "    }\n",
       "\n",
       "    .dataframe thead th {\n",
       "        text-align: right;\n",
       "    }\n",
       "</style>\n",
       "<table border=\"1\" class=\"dataframe\">\n",
       "  <thead>\n",
       "    <tr style=\"text-align: right;\">\n",
       "      <th></th>\n",
       "      <th>Dtypes</th>\n",
       "      <th>has_nulls</th>\n",
       "      <th>qty</th>\n",
       "      <th>%</th>\n",
       "    </tr>\n",
       "  </thead>\n",
       "  <tbody>\n",
       "    <tr>\n",
       "      <th>plu</th>\n",
       "      <td>int32</td>\n",
       "      <td>False</td>\n",
       "      <td>0</td>\n",
       "      <td>0.00</td>\n",
       "    </tr>\n",
       "    <tr>\n",
       "      <th>regular</th>\n",
       "      <td>float64</td>\n",
       "      <td>True</td>\n",
       "      <td>15</td>\n",
       "      <td>0.28</td>\n",
       "    </tr>\n",
       "    <tr>\n",
       "      <th>discount</th>\n",
       "      <td>float64</td>\n",
       "      <td>True</td>\n",
       "      <td>15</td>\n",
       "      <td>0.28</td>\n",
       "    </tr>\n",
       "    <tr>\n",
       "      <th>discount_amount</th>\n",
       "      <td>float64</td>\n",
       "      <td>True</td>\n",
       "      <td>15</td>\n",
       "      <td>0.28</td>\n",
       "    </tr>\n",
       "    <tr>\n",
       "      <th>discount_proc</th>\n",
       "      <td>float64</td>\n",
       "      <td>True</td>\n",
       "      <td>15</td>\n",
       "      <td>0.28</td>\n",
       "    </tr>\n",
       "    <tr>\n",
       "      <th>discount_code</th>\n",
       "      <td>object</td>\n",
       "      <td>True</td>\n",
       "      <td>62</td>\n",
       "      <td>1.15</td>\n",
       "    </tr>\n",
       "    <tr>\n",
       "      <th>availability</th>\n",
       "      <td>object</td>\n",
       "      <td>False</td>\n",
       "      <td>0</td>\n",
       "      <td>0.00</td>\n",
       "    </tr>\n",
       "    <tr>\n",
       "      <th>category</th>\n",
       "      <td>object</td>\n",
       "      <td>False</td>\n",
       "      <td>0</td>\n",
       "      <td>0.00</td>\n",
       "    </tr>\n",
       "    <tr>\n",
       "      <th>parent_category</th>\n",
       "      <td>object</td>\n",
       "      <td>False</td>\n",
       "      <td>0</td>\n",
       "      <td>0.00</td>\n",
       "    </tr>\n",
       "    <tr>\n",
       "      <th>how_many_offers</th>\n",
       "      <td>int32</td>\n",
       "      <td>False</td>\n",
       "      <td>0</td>\n",
       "      <td>0.00</td>\n",
       "    </tr>\n",
       "    <tr>\n",
       "      <th>weekday</th>\n",
       "      <td>object</td>\n",
       "      <td>False</td>\n",
       "      <td>0</td>\n",
       "      <td>0.00</td>\n",
       "    </tr>\n",
       "    <tr>\n",
       "      <th>date</th>\n",
       "      <td>object</td>\n",
       "      <td>False</td>\n",
       "      <td>0</td>\n",
       "      <td>0.00</td>\n",
       "    </tr>\n",
       "    <tr>\n",
       "      <th>name</th>\n",
       "      <td>object</td>\n",
       "      <td>False</td>\n",
       "      <td>0</td>\n",
       "      <td>0.00</td>\n",
       "    </tr>\n",
       "  </tbody>\n",
       "</table>\n",
       "</div>"
      ],
      "text/plain": [
       "                  Dtypes  has_nulls  qty     %\n",
       "plu                int32      False    0  0.00\n",
       "regular          float64       True   15  0.28\n",
       "discount         float64       True   15  0.28\n",
       "discount_amount  float64       True   15  0.28\n",
       "discount_proc    float64       True   15  0.28\n",
       "discount_code     object       True   62  1.15\n",
       "availability      object      False    0  0.00\n",
       "category          object      False    0  0.00\n",
       "parent_category   object      False    0  0.00\n",
       "how_many_offers    int32      False    0  0.00\n",
       "weekday           object      False    0  0.00\n",
       "date              object      False    0  0.00\n",
       "name              object      False    0  0.00"
      ]
     },
     "execution_count": 10,
     "metadata": {},
     "output_type": "execute_result"
    }
   ],
   "source": [
    "nulls = pd.DataFrame(df.dtypes, columns=['Dtypes'])\n",
    "nulls['has_nulls'] = df.isnull().any()\n",
    "nulls['qty'] = df.isnull().sum()\n",
    "nulls['%'] = round(df.isnull().mean()*100, 2)\n",
    "nulls"
   ]
  },
  {
   "cell_type": "markdown",
   "id": "189bffae",
   "metadata": {},
   "source": [
    "#### Interpretacja ujawnionych braków danych:\n",
    "<p>\n",
    "    Najwięcej braków ujawnione zostało w obręie zmiennej 'discount_code'. Jak sama nazwa podpowiada jest to zmienna przechowywująca kod rabatowy - co ważne, nie każda oferta promocyjna musi go posiadać. W związku z powyższym nie widzę potrzeby usówania tych obserwacji, a jedyne co można zrobić dla włąsnej wygody to ewentualnie wypełnić te puste pola czymś co ułatwi analizę.\n",
    "</p>\n",
    "<p>\n",
    "    Brak występują również w zmiennych dot. ceny promicyjnej tj. 'discoount', 'discount_proc', 'discount_amomunt' - zmienne te są od siebie zależne. Widocznie znalazły się jakieś oferty, które nie były promocyjne ;)\n",
    "</p>\n",
    "<p>\n",
    "    Co do objerwacji, w których brakuje ceny (zmienna: 'regular') - są to produkty, które nie są dostępne - tezę tą zweryfikowałem poniżej. Obserwacje te usuwam przed dalszą analizą.\n",
    "</p>"
   ]
  },
  {
   "cell_type": "code",
   "execution_count": 11,
   "id": "71f6e51a",
   "metadata": {},
   "outputs": [
    {
     "data": {
      "text/plain": [
       "['produkt tymczasowo niedostępny']"
      ]
     },
     "execution_count": 11,
     "metadata": {},
     "output_type": "execute_result"
    }
   ],
   "source": [
    "regular_nulls = df[df.regular.isnull()]\n",
    "regular_nulls.availability.unique().tolist()"
   ]
  },
  {
   "cell_type": "code",
   "execution_count": 12,
   "id": "0db08cc0",
   "metadata": {},
   "outputs": [],
   "source": [
    "df.drop(regular_nulls.index, axis=0, inplace=True)"
   ]
  },
  {
   "cell_type": "markdown",
   "id": "e17743f0",
   "metadata": {},
   "source": [
    "<p>\n",
    "    Po powyższych przekształceniach, w zbiorze pozostały obserwacje zawierajace braki tylko i wyłacznie w obrębie zmiennej 'discount_code' - kod rabatowy.\n",
    "</p>"
   ]
  },
  {
   "cell_type": "markdown",
   "id": "0283c814",
   "metadata": {},
   "source": [
    "#### Analiza braków w zmiennej 'discount_code'"
   ]
  },
  {
   "cell_type": "markdown",
   "id": "ecf96dec",
   "metadata": {},
   "source": [
    "<p>\n",
    "Jak widać \n",
    "</p>"
   ]
  },
  {
   "cell_type": "code",
   "execution_count": 13,
   "id": "a6936fd5",
   "metadata": {},
   "outputs": [
    {
     "data": {
      "text/html": [
       "<div>\n",
       "<style scoped>\n",
       "    .dataframe tbody tr th:only-of-type {\n",
       "        vertical-align: middle;\n",
       "    }\n",
       "\n",
       "    .dataframe tbody tr th {\n",
       "        vertical-align: top;\n",
       "    }\n",
       "\n",
       "    .dataframe thead th {\n",
       "        text-align: right;\n",
       "    }\n",
       "</style>\n",
       "<table border=\"1\" class=\"dataframe\">\n",
       "  <thead>\n",
       "    <tr style=\"text-align: right;\">\n",
       "      <th></th>\n",
       "      <th>Dtypes</th>\n",
       "      <th>has_nulls</th>\n",
       "      <th>qty</th>\n",
       "      <th>%</th>\n",
       "    </tr>\n",
       "  </thead>\n",
       "  <tbody>\n",
       "    <tr>\n",
       "      <th>plu</th>\n",
       "      <td>int32</td>\n",
       "      <td>False</td>\n",
       "      <td>0</td>\n",
       "      <td>0.00</td>\n",
       "    </tr>\n",
       "    <tr>\n",
       "      <th>regular</th>\n",
       "      <td>float64</td>\n",
       "      <td>False</td>\n",
       "      <td>0</td>\n",
       "      <td>0.00</td>\n",
       "    </tr>\n",
       "    <tr>\n",
       "      <th>discount</th>\n",
       "      <td>float64</td>\n",
       "      <td>False</td>\n",
       "      <td>0</td>\n",
       "      <td>0.00</td>\n",
       "    </tr>\n",
       "    <tr>\n",
       "      <th>discount_amount</th>\n",
       "      <td>float64</td>\n",
       "      <td>False</td>\n",
       "      <td>0</td>\n",
       "      <td>0.00</td>\n",
       "    </tr>\n",
       "    <tr>\n",
       "      <th>discount_proc</th>\n",
       "      <td>float64</td>\n",
       "      <td>False</td>\n",
       "      <td>0</td>\n",
       "      <td>0.00</td>\n",
       "    </tr>\n",
       "    <tr>\n",
       "      <th>discount_code</th>\n",
       "      <td>object</td>\n",
       "      <td>True</td>\n",
       "      <td>47</td>\n",
       "      <td>0.87</td>\n",
       "    </tr>\n",
       "    <tr>\n",
       "      <th>availability</th>\n",
       "      <td>object</td>\n",
       "      <td>False</td>\n",
       "      <td>0</td>\n",
       "      <td>0.00</td>\n",
       "    </tr>\n",
       "    <tr>\n",
       "      <th>category</th>\n",
       "      <td>object</td>\n",
       "      <td>False</td>\n",
       "      <td>0</td>\n",
       "      <td>0.00</td>\n",
       "    </tr>\n",
       "    <tr>\n",
       "      <th>parent_category</th>\n",
       "      <td>object</td>\n",
       "      <td>False</td>\n",
       "      <td>0</td>\n",
       "      <td>0.00</td>\n",
       "    </tr>\n",
       "    <tr>\n",
       "      <th>how_many_offers</th>\n",
       "      <td>int32</td>\n",
       "      <td>False</td>\n",
       "      <td>0</td>\n",
       "      <td>0.00</td>\n",
       "    </tr>\n",
       "    <tr>\n",
       "      <th>weekday</th>\n",
       "      <td>object</td>\n",
       "      <td>False</td>\n",
       "      <td>0</td>\n",
       "      <td>0.00</td>\n",
       "    </tr>\n",
       "    <tr>\n",
       "      <th>date</th>\n",
       "      <td>object</td>\n",
       "      <td>False</td>\n",
       "      <td>0</td>\n",
       "      <td>0.00</td>\n",
       "    </tr>\n",
       "    <tr>\n",
       "      <th>name</th>\n",
       "      <td>object</td>\n",
       "      <td>False</td>\n",
       "      <td>0</td>\n",
       "      <td>0.00</td>\n",
       "    </tr>\n",
       "  </tbody>\n",
       "</table>\n",
       "</div>"
      ],
      "text/plain": [
       "                  Dtypes  has_nulls  qty     %\n",
       "plu                int32      False    0  0.00\n",
       "regular          float64      False    0  0.00\n",
       "discount         float64      False    0  0.00\n",
       "discount_amount  float64      False    0  0.00\n",
       "discount_proc    float64      False    0  0.00\n",
       "discount_code     object       True   47  0.87\n",
       "availability      object      False    0  0.00\n",
       "category          object      False    0  0.00\n",
       "parent_category   object      False    0  0.00\n",
       "how_many_offers    int32      False    0  0.00\n",
       "weekday           object      False    0  0.00\n",
       "date              object      False    0  0.00\n",
       "name              object      False    0  0.00"
      ]
     },
     "execution_count": 13,
     "metadata": {},
     "output_type": "execute_result"
    }
   ],
   "source": [
    "nulls = pd.DataFrame(df.dtypes, columns=['Dtypes'])\n",
    "nulls['has_nulls'] = df.isnull().any()\n",
    "nulls['qty'] = df.isnull().sum()\n",
    "nulls['%'] = round(df.isnull().mean()*100, 2)\n",
    "nulls"
   ]
  },
  {
   "cell_type": "markdown",
   "id": "930421cd",
   "metadata": {},
   "source": [
    "## 4. Eksploracyjna analiza danych"
   ]
  },
  {
   "cell_type": "markdown",
   "id": "063073ff",
   "metadata": {},
   "source": [
    "### 4.1 Podstawowe statystyki"
   ]
  },
  {
   "cell_type": "markdown",
   "id": "2daa900d",
   "metadata": {},
   "source": [
    "#### 4.1.1 Podstawowe informacje o zbiorze"
   ]
  },
  {
   "cell_type": "code",
   "execution_count": 14,
   "id": "c7b69183",
   "metadata": {},
   "outputs": [
    {
     "name": "stdout",
     "output_type": "stream",
     "text": [
      "Analizowane będzie 5385 ofert z 13 zmiennymi.\n"
     ]
    }
   ],
   "source": [
    "print(f'Analizowane będzie {df.shape[0]} ofert z {df.shape[1]} zmiennymi.')"
   ]
  },
  {
   "cell_type": "markdown",
   "id": "e3089631",
   "metadata": {},
   "source": [
    "#### Wnioski:"
   ]
  },
  {
   "cell_type": "code",
   "execution_count": 15,
   "id": "f40197d9",
   "metadata": {},
   "outputs": [
    {
     "name": "stdout",
     "output_type": "stream",
     "text": [
      "Śrenio na jeden dzień promocji przypada 769 ofert promocyjnych.\n"
     ]
    }
   ],
   "source": [
    "print(f'Śrenio na jeden dzień promocji przypada {round(df.shape[0]/len(df.date.unique()))} ofert promocyjnych.')"
   ]
  },
  {
   "cell_type": "markdown",
   "id": "8ce9d965",
   "metadata": {},
   "source": [
    "#### 4.1.2 Podstawowe statystyki zmiennych numerycznych"
   ]
  },
  {
   "cell_type": "markdown",
   "id": "f88045de",
   "metadata": {},
   "source": [
    "#### W całym tygodniu:"
   ]
  },
  {
   "cell_type": "code",
   "execution_count": 16,
   "id": "df798067",
   "metadata": {
    "scrolled": false
   },
   "outputs": [
    {
     "data": {
      "text/html": [
       "<div>\n",
       "<style scoped>\n",
       "    .dataframe tbody tr th:only-of-type {\n",
       "        vertical-align: middle;\n",
       "    }\n",
       "\n",
       "    .dataframe tbody tr th {\n",
       "        vertical-align: top;\n",
       "    }\n",
       "\n",
       "    .dataframe thead th {\n",
       "        text-align: right;\n",
       "    }\n",
       "</style>\n",
       "<table border=\"1\" class=\"dataframe\">\n",
       "  <thead>\n",
       "    <tr style=\"text-align: right;\">\n",
       "      <th></th>\n",
       "      <th>count</th>\n",
       "      <th>mean</th>\n",
       "      <th>std</th>\n",
       "      <th>min</th>\n",
       "      <th>25%</th>\n",
       "      <th>50%</th>\n",
       "      <th>75%</th>\n",
       "      <th>max</th>\n",
       "    </tr>\n",
       "  </thead>\n",
       "  <tbody>\n",
       "    <tr>\n",
       "      <th>regular</th>\n",
       "      <td>5385.0</td>\n",
       "      <td>2006.204210</td>\n",
       "      <td>2377.647407</td>\n",
       "      <td>15.99</td>\n",
       "      <td>419.00</td>\n",
       "      <td>1249.00</td>\n",
       "      <td>2549.00</td>\n",
       "      <td>20099.00</td>\n",
       "    </tr>\n",
       "    <tr>\n",
       "      <th>discount</th>\n",
       "      <td>5385.0</td>\n",
       "      <td>1824.730696</td>\n",
       "      <td>2232.785739</td>\n",
       "      <td>7.99</td>\n",
       "      <td>369.00</td>\n",
       "      <td>1099.00</td>\n",
       "      <td>2299.00</td>\n",
       "      <td>19999.00</td>\n",
       "    </tr>\n",
       "    <tr>\n",
       "      <th>discount_amount</th>\n",
       "      <td>5385.0</td>\n",
       "      <td>181.473513</td>\n",
       "      <td>197.526221</td>\n",
       "      <td>5.00</td>\n",
       "      <td>50.00</td>\n",
       "      <td>104.00</td>\n",
       "      <td>240.00</td>\n",
       "      <td>2009.00</td>\n",
       "    </tr>\n",
       "    <tr>\n",
       "      <th>discount_proc</th>\n",
       "      <td>5385.0</td>\n",
       "      <td>12.632020</td>\n",
       "      <td>7.792485</td>\n",
       "      <td>0.50</td>\n",
       "      <td>7.15</td>\n",
       "      <td>11.11</td>\n",
       "      <td>16.67</td>\n",
       "      <td>68.24</td>\n",
       "    </tr>\n",
       "  </tbody>\n",
       "</table>\n",
       "</div>"
      ],
      "text/plain": [
       "                  count         mean          std    min     25%      50%  \\\n",
       "regular          5385.0  2006.204210  2377.647407  15.99  419.00  1249.00   \n",
       "discount         5385.0  1824.730696  2232.785739   7.99  369.00  1099.00   \n",
       "discount_amount  5385.0   181.473513   197.526221   5.00   50.00   104.00   \n",
       "discount_proc    5385.0    12.632020     7.792485   0.50    7.15    11.11   \n",
       "\n",
       "                     75%       max  \n",
       "regular          2549.00  20099.00  \n",
       "discount         2299.00  19999.00  \n",
       "discount_amount   240.00   2009.00  \n",
       "discount_proc      16.67     68.24  "
      ]
     },
     "execution_count": 16,
     "metadata": {},
     "output_type": "execute_result"
    }
   ],
   "source": [
    "df[['regular', 'discount', 'discount_amount', 'discount_proc']].describe().T"
   ]
  },
  {
   "cell_type": "markdown",
   "id": "55911fe7",
   "metadata": {},
   "source": [
    "#### W poszczególne dni:"
   ]
  },
  {
   "cell_type": "code",
   "execution_count": 17,
   "id": "7e7fae3a",
   "metadata": {
    "scrolled": true
   },
   "outputs": [
    {
     "data": {
      "text/html": [
       "<div>\n",
       "<style scoped>\n",
       "    .dataframe tbody tr th:only-of-type {\n",
       "        vertical-align: middle;\n",
       "    }\n",
       "\n",
       "    .dataframe tbody tr th {\n",
       "        vertical-align: top;\n",
       "    }\n",
       "\n",
       "    .dataframe thead th {\n",
       "        text-align: right;\n",
       "    }\n",
       "</style>\n",
       "<table border=\"1\" class=\"dataframe\">\n",
       "  <thead>\n",
       "    <tr style=\"text-align: right;\">\n",
       "      <th></th>\n",
       "      <th>weekday</th>\n",
       "      <th>1</th>\n",
       "      <th>2</th>\n",
       "      <th>3</th>\n",
       "      <th>4</th>\n",
       "      <th>5</th>\n",
       "      <th>6</th>\n",
       "      <th>7</th>\n",
       "    </tr>\n",
       "  </thead>\n",
       "  <tbody>\n",
       "    <tr>\n",
       "      <th rowspan=\"8\" valign=\"top\">regular</th>\n",
       "      <th>count</th>\n",
       "      <td>739.000000</td>\n",
       "      <td>680.000000</td>\n",
       "      <td>819.000000</td>\n",
       "      <td>781.000000</td>\n",
       "      <td>860.000000</td>\n",
       "      <td>673.000000</td>\n",
       "      <td>833.000000</td>\n",
       "    </tr>\n",
       "    <tr>\n",
       "      <th>mean</th>\n",
       "      <td>1958.382030</td>\n",
       "      <td>1804.753500</td>\n",
       "      <td>1864.609878</td>\n",
       "      <td>2102.029129</td>\n",
       "      <td>1999.182547</td>\n",
       "      <td>2335.943626</td>\n",
       "      <td>2003.296134</td>\n",
       "    </tr>\n",
       "    <tr>\n",
       "      <th>std</th>\n",
       "      <td>2325.767563</td>\n",
       "      <td>2174.152076</td>\n",
       "      <td>2398.744337</td>\n",
       "      <td>2510.148298</td>\n",
       "      <td>2348.886113</td>\n",
       "      <td>2458.991420</td>\n",
       "      <td>2373.002152</td>\n",
       "    </tr>\n",
       "    <tr>\n",
       "      <th>min</th>\n",
       "      <td>15.990000</td>\n",
       "      <td>19.990000</td>\n",
       "      <td>29.990000</td>\n",
       "      <td>19.990000</td>\n",
       "      <td>15.990000</td>\n",
       "      <td>29.990000</td>\n",
       "      <td>29.990000</td>\n",
       "    </tr>\n",
       "    <tr>\n",
       "      <th>25%</th>\n",
       "      <td>464.000000</td>\n",
       "      <td>466.500000</td>\n",
       "      <td>299.000000</td>\n",
       "      <td>469.000000</td>\n",
       "      <td>399.000000</td>\n",
       "      <td>649.000000</td>\n",
       "      <td>399.000000</td>\n",
       "    </tr>\n",
       "    <tr>\n",
       "      <th>50%</th>\n",
       "      <td>1199.000000</td>\n",
       "      <td>1234.000000</td>\n",
       "      <td>999.000000</td>\n",
       "      <td>1299.000000</td>\n",
       "      <td>1209.000000</td>\n",
       "      <td>1699.000000</td>\n",
       "      <td>1249.000000</td>\n",
       "    </tr>\n",
       "    <tr>\n",
       "      <th>75%</th>\n",
       "      <td>2434.000000</td>\n",
       "      <td>2299.000000</td>\n",
       "      <td>2299.000000</td>\n",
       "      <td>2599.000000</td>\n",
       "      <td>2599.000000</td>\n",
       "      <td>2999.000000</td>\n",
       "      <td>2599.000000</td>\n",
       "    </tr>\n",
       "    <tr>\n",
       "      <th>max</th>\n",
       "      <td>20099.000000</td>\n",
       "      <td>20099.000000</td>\n",
       "      <td>20099.000000</td>\n",
       "      <td>20099.000000</td>\n",
       "      <td>20099.000000</td>\n",
       "      <td>20099.000000</td>\n",
       "      <td>20099.000000</td>\n",
       "    </tr>\n",
       "    <tr>\n",
       "      <th rowspan=\"8\" valign=\"top\">discount</th>\n",
       "      <th>count</th>\n",
       "      <td>739.000000</td>\n",
       "      <td>680.000000</td>\n",
       "      <td>819.000000</td>\n",
       "      <td>781.000000</td>\n",
       "      <td>860.000000</td>\n",
       "      <td>673.000000</td>\n",
       "      <td>833.000000</td>\n",
       "    </tr>\n",
       "    <tr>\n",
       "      <th>mean</th>\n",
       "      <td>1765.638890</td>\n",
       "      <td>1633.008691</td>\n",
       "      <td>1698.988071</td>\n",
       "      <td>1919.530205</td>\n",
       "      <td>1821.320291</td>\n",
       "      <td>2131.789673</td>\n",
       "      <td>1823.850576</td>\n",
       "    </tr>\n",
       "    <tr>\n",
       "      <th>std</th>\n",
       "      <td>2176.350079</td>\n",
       "      <td>2038.306997</td>\n",
       "      <td>2247.185309</td>\n",
       "      <td>2361.374394</td>\n",
       "      <td>2207.518669</td>\n",
       "      <td>2316.076551</td>\n",
       "      <td>2231.373078</td>\n",
       "    </tr>\n",
       "    <tr>\n",
       "      <th>min</th>\n",
       "      <td>7.990000</td>\n",
       "      <td>7.990000</td>\n",
       "      <td>14.990000</td>\n",
       "      <td>9.990000</td>\n",
       "      <td>9.990000</td>\n",
       "      <td>14.990000</td>\n",
       "      <td>14.990000</td>\n",
       "    </tr>\n",
       "    <tr>\n",
       "      <th>25%</th>\n",
       "      <td>399.000000</td>\n",
       "      <td>399.000000</td>\n",
       "      <td>259.000000</td>\n",
       "      <td>399.000000</td>\n",
       "      <td>341.000000</td>\n",
       "      <td>549.000000</td>\n",
       "      <td>329.000000</td>\n",
       "    </tr>\n",
       "    <tr>\n",
       "      <th>50%</th>\n",
       "      <td>999.000000</td>\n",
       "      <td>1099.000000</td>\n",
       "      <td>899.000000</td>\n",
       "      <td>1099.000000</td>\n",
       "      <td>1099.000000</td>\n",
       "      <td>1499.000000</td>\n",
       "      <td>1099.000000</td>\n",
       "    </tr>\n",
       "    <tr>\n",
       "      <th>75%</th>\n",
       "      <td>2197.000000</td>\n",
       "      <td>1999.000000</td>\n",
       "      <td>1999.000000</td>\n",
       "      <td>2399.000000</td>\n",
       "      <td>2399.000000</td>\n",
       "      <td>2699.000000</td>\n",
       "      <td>2399.000000</td>\n",
       "    </tr>\n",
       "    <tr>\n",
       "      <th>max</th>\n",
       "      <td>19999.000000</td>\n",
       "      <td>19999.000000</td>\n",
       "      <td>19999.000000</td>\n",
       "      <td>19999.000000</td>\n",
       "      <td>19999.000000</td>\n",
       "      <td>19999.000000</td>\n",
       "      <td>19999.000000</td>\n",
       "    </tr>\n",
       "    <tr>\n",
       "      <th rowspan=\"8\" valign=\"top\">discount_amount</th>\n",
       "      <th>count</th>\n",
       "      <td>739.000000</td>\n",
       "      <td>680.000000</td>\n",
       "      <td>819.000000</td>\n",
       "      <td>781.000000</td>\n",
       "      <td>860.000000</td>\n",
       "      <td>673.000000</td>\n",
       "      <td>833.000000</td>\n",
       "    </tr>\n",
       "    <tr>\n",
       "      <th>mean</th>\n",
       "      <td>192.743139</td>\n",
       "      <td>171.744809</td>\n",
       "      <td>165.621807</td>\n",
       "      <td>182.498924</td>\n",
       "      <td>177.862256</td>\n",
       "      <td>204.153952</td>\n",
       "      <td>179.445558</td>\n",
       "    </tr>\n",
       "    <tr>\n",
       "      <th>std</th>\n",
       "      <td>205.244790</td>\n",
       "      <td>194.792055</td>\n",
       "      <td>197.622175</td>\n",
       "      <td>198.825631</td>\n",
       "      <td>192.922059</td>\n",
       "      <td>199.353093</td>\n",
       "      <td>193.116304</td>\n",
       "    </tr>\n",
       "    <tr>\n",
       "      <th>min</th>\n",
       "      <td>5.000000</td>\n",
       "      <td>5.000000</td>\n",
       "      <td>7.460000</td>\n",
       "      <td>5.000000</td>\n",
       "      <td>6.000000</td>\n",
       "      <td>10.000000</td>\n",
       "      <td>7.460000</td>\n",
       "    </tr>\n",
       "    <tr>\n",
       "      <th>25%</th>\n",
       "      <td>54.000000</td>\n",
       "      <td>50.000000</td>\n",
       "      <td>40.000000</td>\n",
       "      <td>50.000000</td>\n",
       "      <td>44.000000</td>\n",
       "      <td>70.000000</td>\n",
       "      <td>47.000000</td>\n",
       "    </tr>\n",
       "    <tr>\n",
       "      <th>50%</th>\n",
       "      <td>114.000000</td>\n",
       "      <td>102.000000</td>\n",
       "      <td>100.000000</td>\n",
       "      <td>100.000000</td>\n",
       "      <td>100.000000</td>\n",
       "      <td>160.000000</td>\n",
       "      <td>100.000000</td>\n",
       "    </tr>\n",
       "    <tr>\n",
       "      <th>75%</th>\n",
       "      <td>285.000000</td>\n",
       "      <td>200.000000</td>\n",
       "      <td>200.000000</td>\n",
       "      <td>220.000000</td>\n",
       "      <td>212.500000</td>\n",
       "      <td>300.000000</td>\n",
       "      <td>240.000000</td>\n",
       "    </tr>\n",
       "    <tr>\n",
       "      <th>max</th>\n",
       "      <td>1600.000000</td>\n",
       "      <td>2009.000000</td>\n",
       "      <td>2009.000000</td>\n",
       "      <td>2009.000000</td>\n",
       "      <td>2009.000000</td>\n",
       "      <td>2009.000000</td>\n",
       "      <td>2009.000000</td>\n",
       "    </tr>\n",
       "    <tr>\n",
       "      <th rowspan=\"8\" valign=\"top\">discount_proc</th>\n",
       "      <th>count</th>\n",
       "      <td>739.000000</td>\n",
       "      <td>680.000000</td>\n",
       "      <td>819.000000</td>\n",
       "      <td>781.000000</td>\n",
       "      <td>860.000000</td>\n",
       "      <td>673.000000</td>\n",
       "      <td>833.000000</td>\n",
       "    </tr>\n",
       "    <tr>\n",
       "      <th>mean</th>\n",
       "      <td>13.209540</td>\n",
       "      <td>12.854221</td>\n",
       "      <td>12.892869</td>\n",
       "      <td>12.512868</td>\n",
       "      <td>12.531593</td>\n",
       "      <td>11.740981</td>\n",
       "      <td>12.617107</td>\n",
       "    </tr>\n",
       "    <tr>\n",
       "      <th>std</th>\n",
       "      <td>7.959704</td>\n",
       "      <td>7.976312</td>\n",
       "      <td>8.080942</td>\n",
       "      <td>7.720850</td>\n",
       "      <td>7.832575</td>\n",
       "      <td>7.084350</td>\n",
       "      <td>7.732465</td>\n",
       "    </tr>\n",
       "    <tr>\n",
       "      <th>min</th>\n",
       "      <td>0.500000</td>\n",
       "      <td>0.500000</td>\n",
       "      <td>0.500000</td>\n",
       "      <td>0.500000</td>\n",
       "      <td>0.500000</td>\n",
       "      <td>0.500000</td>\n",
       "      <td>0.500000</td>\n",
       "    </tr>\n",
       "    <tr>\n",
       "      <th>25%</th>\n",
       "      <td>7.815000</td>\n",
       "      <td>7.157500</td>\n",
       "      <td>7.000000</td>\n",
       "      <td>6.940000</td>\n",
       "      <td>6.980000</td>\n",
       "      <td>6.850000</td>\n",
       "      <td>7.150000</td>\n",
       "    </tr>\n",
       "    <tr>\n",
       "      <th>50%</th>\n",
       "      <td>11.660000</td>\n",
       "      <td>11.120000</td>\n",
       "      <td>11.120000</td>\n",
       "      <td>10.940000</td>\n",
       "      <td>10.740000</td>\n",
       "      <td>10.050000</td>\n",
       "      <td>11.110000</td>\n",
       "    </tr>\n",
       "    <tr>\n",
       "      <th>75%</th>\n",
       "      <td>16.700000</td>\n",
       "      <td>16.680000</td>\n",
       "      <td>16.695000</td>\n",
       "      <td>16.390000</td>\n",
       "      <td>16.672500</td>\n",
       "      <td>14.930000</td>\n",
       "      <td>16.680000</td>\n",
       "    </tr>\n",
       "    <tr>\n",
       "      <th>max</th>\n",
       "      <td>68.240000</td>\n",
       "      <td>60.030000</td>\n",
       "      <td>50.020000</td>\n",
       "      <td>50.030000</td>\n",
       "      <td>50.170000</td>\n",
       "      <td>50.020000</td>\n",
       "      <td>56.260000</td>\n",
       "    </tr>\n",
       "  </tbody>\n",
       "</table>\n",
       "</div>"
      ],
      "text/plain": [
       "weekday                           1             2             3             4  \\\n",
       "regular         count    739.000000    680.000000    819.000000    781.000000   \n",
       "                mean    1958.382030   1804.753500   1864.609878   2102.029129   \n",
       "                std     2325.767563   2174.152076   2398.744337   2510.148298   \n",
       "                min       15.990000     19.990000     29.990000     19.990000   \n",
       "                25%      464.000000    466.500000    299.000000    469.000000   \n",
       "                50%     1199.000000   1234.000000    999.000000   1299.000000   \n",
       "                75%     2434.000000   2299.000000   2299.000000   2599.000000   \n",
       "                max    20099.000000  20099.000000  20099.000000  20099.000000   \n",
       "discount        count    739.000000    680.000000    819.000000    781.000000   \n",
       "                mean    1765.638890   1633.008691   1698.988071   1919.530205   \n",
       "                std     2176.350079   2038.306997   2247.185309   2361.374394   \n",
       "                min        7.990000      7.990000     14.990000      9.990000   \n",
       "                25%      399.000000    399.000000    259.000000    399.000000   \n",
       "                50%      999.000000   1099.000000    899.000000   1099.000000   \n",
       "                75%     2197.000000   1999.000000   1999.000000   2399.000000   \n",
       "                max    19999.000000  19999.000000  19999.000000  19999.000000   \n",
       "discount_amount count    739.000000    680.000000    819.000000    781.000000   \n",
       "                mean     192.743139    171.744809    165.621807    182.498924   \n",
       "                std      205.244790    194.792055    197.622175    198.825631   \n",
       "                min        5.000000      5.000000      7.460000      5.000000   \n",
       "                25%       54.000000     50.000000     40.000000     50.000000   \n",
       "                50%      114.000000    102.000000    100.000000    100.000000   \n",
       "                75%      285.000000    200.000000    200.000000    220.000000   \n",
       "                max     1600.000000   2009.000000   2009.000000   2009.000000   \n",
       "discount_proc   count    739.000000    680.000000    819.000000    781.000000   \n",
       "                mean      13.209540     12.854221     12.892869     12.512868   \n",
       "                std        7.959704      7.976312      8.080942      7.720850   \n",
       "                min        0.500000      0.500000      0.500000      0.500000   \n",
       "                25%        7.815000      7.157500      7.000000      6.940000   \n",
       "                50%       11.660000     11.120000     11.120000     10.940000   \n",
       "                75%       16.700000     16.680000     16.695000     16.390000   \n",
       "                max       68.240000     60.030000     50.020000     50.030000   \n",
       "\n",
       "weekday                           5             6             7  \n",
       "regular         count    860.000000    673.000000    833.000000  \n",
       "                mean    1999.182547   2335.943626   2003.296134  \n",
       "                std     2348.886113   2458.991420   2373.002152  \n",
       "                min       15.990000     29.990000     29.990000  \n",
       "                25%      399.000000    649.000000    399.000000  \n",
       "                50%     1209.000000   1699.000000   1249.000000  \n",
       "                75%     2599.000000   2999.000000   2599.000000  \n",
       "                max    20099.000000  20099.000000  20099.000000  \n",
       "discount        count    860.000000    673.000000    833.000000  \n",
       "                mean    1821.320291   2131.789673   1823.850576  \n",
       "                std     2207.518669   2316.076551   2231.373078  \n",
       "                min        9.990000     14.990000     14.990000  \n",
       "                25%      341.000000    549.000000    329.000000  \n",
       "                50%     1099.000000   1499.000000   1099.000000  \n",
       "                75%     2399.000000   2699.000000   2399.000000  \n",
       "                max    19999.000000  19999.000000  19999.000000  \n",
       "discount_amount count    860.000000    673.000000    833.000000  \n",
       "                mean     177.862256    204.153952    179.445558  \n",
       "                std      192.922059    199.353093    193.116304  \n",
       "                min        6.000000     10.000000      7.460000  \n",
       "                25%       44.000000     70.000000     47.000000  \n",
       "                50%      100.000000    160.000000    100.000000  \n",
       "                75%      212.500000    300.000000    240.000000  \n",
       "                max     2009.000000   2009.000000   2009.000000  \n",
       "discount_proc   count    860.000000    673.000000    833.000000  \n",
       "                mean      12.531593     11.740981     12.617107  \n",
       "                std        7.832575      7.084350      7.732465  \n",
       "                min        0.500000      0.500000      0.500000  \n",
       "                25%        6.980000      6.850000      7.150000  \n",
       "                50%       10.740000     10.050000     11.110000  \n",
       "                75%       16.672500     14.930000     16.680000  \n",
       "                max       50.170000     50.020000     56.260000  "
      ]
     },
     "execution_count": 17,
     "metadata": {},
     "output_type": "execute_result"
    }
   ],
   "source": [
    "df.set_index(['weekday'])[['regular', 'discount', 'discount_amount', 'discount_proc']].groupby('weekday').describe().T"
   ]
  },
  {
   "cell_type": "markdown",
   "id": "846fb883",
   "metadata": {},
   "source": [
    "### 4.2 Analiza zmiennych numerycznych"
   ]
  },
  {
   "cell_type": "markdown",
   "id": "4abdeb44",
   "metadata": {},
   "source": [
    "#### Ogólnie liczba produktów promocyjnych"
   ]
  },
  {
   "cell_type": "code",
   "execution_count": 89,
   "id": "e878a16b",
   "metadata": {},
   "outputs": [
    {
     "name": "stdout",
     "output_type": "stream",
     "text": [
      "Liczba unikalnych ofert w promocji: 1521\n"
     ]
    }
   ],
   "source": [
    "print(f'Liczba unikalnych ofert w promocji: {len(df.plu.unique())}')"
   ]
  },
  {
   "cell_type": "markdown",
   "id": "3e8f3945",
   "metadata": {},
   "source": [
    "#### Ogólnie liczba ofert w poszczególnych dniach tygodnia:"
   ]
  },
  {
   "cell_type": "code",
   "execution_count": 71,
   "id": "0fd77e15",
   "metadata": {},
   "outputs": [
    {
     "data": {
      "text/html": [
       "<div>\n",
       "<style scoped>\n",
       "    .dataframe tbody tr th:only-of-type {\n",
       "        vertical-align: middle;\n",
       "    }\n",
       "\n",
       "    .dataframe tbody tr th {\n",
       "        vertical-align: top;\n",
       "    }\n",
       "\n",
       "    .dataframe thead th {\n",
       "        text-align: right;\n",
       "    }\n",
       "</style>\n",
       "<table border=\"1\" class=\"dataframe\">\n",
       "  <thead>\n",
       "    <tr style=\"text-align: right;\">\n",
       "      <th>weekday</th>\n",
       "      <th>1</th>\n",
       "      <th>2</th>\n",
       "      <th>3</th>\n",
       "      <th>4</th>\n",
       "      <th>5</th>\n",
       "      <th>6</th>\n",
       "      <th>7</th>\n",
       "    </tr>\n",
       "  </thead>\n",
       "  <tbody>\n",
       "    <tr>\n",
       "      <th>count</th>\n",
       "      <td>739</td>\n",
       "      <td>680</td>\n",
       "      <td>819</td>\n",
       "      <td>781</td>\n",
       "      <td>860</td>\n",
       "      <td>673</td>\n",
       "      <td>833</td>\n",
       "    </tr>\n",
       "  </tbody>\n",
       "</table>\n",
       "</div>"
      ],
      "text/plain": [
       "weekday    1    2    3    4    5    6    7\n",
       "count    739  680  819  781  860  673  833"
      ]
     },
     "execution_count": 71,
     "metadata": {},
     "output_type": "execute_result"
    }
   ],
   "source": [
    "amount = df.set_index('weekday').groupby('weekday')['plu'].agg(['count'])\n",
    "amount = amount.T\n",
    "amount"
   ]
  },
  {
   "cell_type": "code",
   "execution_count": 205,
   "id": "0d7e9415",
   "metadata": {},
   "outputs": [
    {
     "data": {
      "image/png": "[encoded data removed]",
      "text/plain": [
       "<Figure size 648x288 with 1 Axes>"
      ]
     },
     "metadata": {
      "needs_background": "light"
     },
     "output_type": "display_data"
    }
   ],
   "source": [
    "plt.figure(figsize=(9,4))\n",
    "plt.bar(amount.columns.tolist(), amount.iloc[0].values, label='liczba ofert')\n",
    "plt.title('liczba promocyjnych ofert w poszczególnych dniach tygodnia')\n",
    "plt.xlabel('dzień tygodnia')\n",
    "plt.ylabel('licyba ofert')\n",
    "plt.axhline(y=amount.iloc[0].values.mean(), color = 'r', linestyle = '-', label='średnia')\n",
    "plt.legend(loc='lower left')\n",
    "plt.grid()\n",
    "plt.show()"
   ]
  },
  {
   "cell_type": "markdown",
   "id": "81aa6045",
   "metadata": {},
   "source": [
    "<p>\n",
    "    Liczba promocyjnych ofert w poszczególnych dniach tygodnia nie odstaje zbytnio od średniej.\n",
    "    </p>"
   ]
  },
  {
   "cell_type": "markdown",
   "id": "41f80293",
   "metadata": {},
   "source": [
    "#### Liczba unikalnych produktów promocyjnych w poszczególnych dniach tygodnia"
   ]
  },
  {
   "cell_type": "code",
   "execution_count": 181,
   "id": "e094b337",
   "metadata": {
    "scrolled": true
   },
   "outputs": [],
   "source": [
    "unique_plu = df.plu.unique()\n",
    "\n",
    "unique_plu_per_day = pd.DataFrame()\n",
    "\n",
    "for day in df.weekday.unique():\n",
    "    current = set(df[df.weekday == day].plu.values)\n",
    "    others = set(df[df.weekday != day].plu.unique())\n",
    "    unique_qty = len(current - others)\n",
    "    unique_plu_per_day = unique_plu_per_day.append({'weekday': day, 'offers_qty': len(current), 'unique_products_qty': unique_qty, 'unique_products_percent': round(unique_qty/len(current)*100,2)}, ignore_index=True)"
   ]
  },
  {
   "cell_type": "code",
   "execution_count": 182,
   "id": "a261983c",
   "metadata": {},
   "outputs": [],
   "source": [
    "unique_offers_per_day = pd.DataFrame()\n",
    "\n",
    "for day in df.weekday.unique():\n",
    "    \n",
    "    current = df[df.weekday == day][['plu','regular','discount_amount']].to_string(header=False, index=False, index_names=False).split('\\n')\n",
    "    current = set([','.join(ele.split()) for ele in current])\n",
    "   \n",
    "    others = df[df.weekday != day][['plu','regular','discount_amount']].to_string(header=False, index=False, index_names=False).split('\\n')\n",
    "    others = set([','.join(ele.split()) for ele in others])\n",
    "    \n",
    "    unique_offers_qty = len(current - others)\n",
    "    \n",
    "    unique_offers_per_day = unique_offers_per_day.append({'weekday': day, 'unique_offers_qty': unique_offers_qty}, ignore_index=True)"
   ]
  },
  {
   "cell_type": "code",
   "execution_count": 195,
   "id": "fc5460fe",
   "metadata": {
    "scrolled": true
   },
   "outputs": [
    {
     "data": {
      "text/html": [
       "<div>\n",
       "<style scoped>\n",
       "    .dataframe tbody tr th:only-of-type {\n",
       "        vertical-align: middle;\n",
       "    }\n",
       "\n",
       "    .dataframe tbody tr th {\n",
       "        vertical-align: top;\n",
       "    }\n",
       "\n",
       "    .dataframe thead th {\n",
       "        text-align: right;\n",
       "    }\n",
       "</style>\n",
       "<table border=\"1\" class=\"dataframe\">\n",
       "  <thead>\n",
       "    <tr style=\"text-align: right;\">\n",
       "      <th></th>\n",
       "      <th>offers_qty</th>\n",
       "      <th>unique_products_percent</th>\n",
       "      <th>unique_products_qty</th>\n",
       "      <th>unique_offers_qty</th>\n",
       "      <th>unique_offers_percent</th>\n",
       "    </tr>\n",
       "    <tr>\n",
       "      <th>weekday</th>\n",
       "      <th></th>\n",
       "      <th></th>\n",
       "      <th></th>\n",
       "      <th></th>\n",
       "      <th></th>\n",
       "    </tr>\n",
       "  </thead>\n",
       "  <tbody>\n",
       "    <tr>\n",
       "      <th>1</th>\n",
       "      <td>738.000</td>\n",
       "      <td>25.200</td>\n",
       "      <td>186.000</td>\n",
       "      <td>250.000</td>\n",
       "      <td>33.880</td>\n",
       "    </tr>\n",
       "    <tr>\n",
       "      <th>2</th>\n",
       "      <td>676.000</td>\n",
       "      <td>11.830</td>\n",
       "      <td>80.000</td>\n",
       "      <td>115.000</td>\n",
       "      <td>17.010</td>\n",
       "    </tr>\n",
       "    <tr>\n",
       "      <th>3</th>\n",
       "      <td>816.000</td>\n",
       "      <td>11.640</td>\n",
       "      <td>95.000</td>\n",
       "      <td>144.000</td>\n",
       "      <td>17.650</td>\n",
       "    </tr>\n",
       "    <tr>\n",
       "      <th>4</th>\n",
       "      <td>780.000</td>\n",
       "      <td>7.050</td>\n",
       "      <td>55.000</td>\n",
       "      <td>76.000</td>\n",
       "      <td>9.740</td>\n",
       "    </tr>\n",
       "    <tr>\n",
       "      <th>5</th>\n",
       "      <td>857.000</td>\n",
       "      <td>3.970</td>\n",
       "      <td>34.000</td>\n",
       "      <td>43.000</td>\n",
       "      <td>5.020</td>\n",
       "    </tr>\n",
       "    <tr>\n",
       "      <th>6</th>\n",
       "      <td>667.000</td>\n",
       "      <td>0.000</td>\n",
       "      <td>0.000</td>\n",
       "      <td>6.000</td>\n",
       "      <td>0.900</td>\n",
       "    </tr>\n",
       "    <tr>\n",
       "      <th>7</th>\n",
       "      <td>832.000</td>\n",
       "      <td>3.370</td>\n",
       "      <td>28.000</td>\n",
       "      <td>41.000</td>\n",
       "      <td>4.930</td>\n",
       "    </tr>\n",
       "  </tbody>\n",
       "</table>\n",
       "</div>"
      ],
      "text/plain": [
       "         offers_qty  unique_products_percent  unique_products_qty  \\\n",
       "weekday                                                             \n",
       "1           738.000                   25.200              186.000   \n",
       "2           676.000                   11.830               80.000   \n",
       "3           816.000                   11.640               95.000   \n",
       "4           780.000                    7.050               55.000   \n",
       "5           857.000                    3.970               34.000   \n",
       "6           667.000                    0.000                0.000   \n",
       "7           832.000                    3.370               28.000   \n",
       "\n",
       "         unique_offers_qty  unique_offers_percent  \n",
       "weekday                                            \n",
       "1                  250.000                 33.880  \n",
       "2                  115.000                 17.010  \n",
       "3                  144.000                 17.650  \n",
       "4                   76.000                  9.740  \n",
       "5                   43.000                  5.020  \n",
       "6                    6.000                  0.900  \n",
       "7                   41.000                  4.930  "
      ]
     },
     "execution_count": 195,
     "metadata": {},
     "output_type": "execute_result"
    }
   ],
   "source": [
    "unique = unique_plu_per_day.merge(unique_offers_per_day, on='weekday')\n",
    "unique['unique_offers_percent'] = round(unique.unique_offers_qty / unique.offers_qty * 100, 2)\n",
    "\n",
    "unique = unique.set_index('weekday').sort_values(by='weekday')\n",
    "unique"
   ]
  },
  {
   "cell_type": "markdown",
   "id": "e0e934da",
   "metadata": {},
   "source": [
    "<p>\n",
    "Z powyższej tabeli wynika, iż większość produktów w promocjach jest powtarzanych. Oczywiście zgodzę się z twierdzeniem, że im szerszy horyzont czasowy zostałby wzięty pod uwagę, to po pewnym czasie wszystkie produkty byłyby już kiedyś w przeszłości w tej promocji.\n",
    "</p><p>\n",
    "Jednakże analizowany okres to jeden tydzień. W sklepie tym znajduje się ponad 30 tysięcy unikalnych produktów (dane z analizy kategorii znajdującej się w tym repozytorium). W analizowanym okresie w promocji występowało 1521 unikalnych produktów i w dodatku można było liczyć na od 0% do 25% - częściej na ok 10% - niepowtarzających się produktów z tych 1521.\n",
    "</p><p>\n",
    "Wszystkich jednak zawsze w promocjach najbardziej interesuje cena. Z powyższej tabeli można wywnioskować, że pomimo tego, że produkty powtarzają się w kolejnych dniach tygodnia to cena — czy to w regularna, czy promocyjna — już niekoniecznie. Poniżej wizualizacja w postaci wykresu słupkowego.\n",
    "    </p><p>W dalszej części postaram się przeanalizować, w jakich zakresach ceny produktów oscylują.\n",
    "    </p>"
   ]
  },
  {
   "cell_type": "code",
   "execution_count": 204,
   "id": "22b5a469",
   "metadata": {},
   "outputs": [
    {
     "data": {
      "image/png": "[encoded data removed]",
      "text/plain": [
       "<Figure size 648x360 with 1 Axes>"
      ]
     },
     "metadata": {
      "needs_background": "light"
     },
     "output_type": "display_data"
    }
   ],
   "source": [
    "unique[['unique_products_qty','unique_offers_qty']].plot(kind='bar', figsize=(9,5))\n",
    "# ax = plt.subplot(111)\n",
    "# ax.bar(unique.index.values, unique.unique_products_qty.values, label='liczba unikalnych produktów')\n",
    "# ax.bar(unique.index.values, unique.unique_offers_qty.values, label='liczba unikalnych ofert')\n",
    "plt.title('liczba promocyjnych ofert w poszczególnych dniach tygodnia')\n",
    "plt.xlabel('dzień tygodnia')\n",
    "plt.ylabel('licyba ofert')\n",
    "plt.legend(['unikalne produkty', 'unikalne oferty'], loc='lower left')\n",
    "plt.grid()\n",
    "plt.show()"
   ]
  },
  {
   "cell_type": "markdown",
   "id": "48b4784a",
   "metadata": {},
   "source": [
    "#### 'discount_proc' - procent rabatu"
   ]
  },
  {
   "cell_type": "markdown",
   "id": "508056b0",
   "metadata": {},
   "source": [
    "### 4.2 Analiza zmiennych kategorycznych"
   ]
  },
  {
   "cell_type": "markdown",
   "id": "d424a652",
   "metadata": {},
   "source": [
    "#### 'availability' - czyli dostępność produktów"
   ]
  }
 ],
 "metadata": {
  "kernelspec": {
   "display_name": "Python 3 (ipykernel)",
   "language": "python",
   "name": "python3"
  },
  "language_info": {
   "codemirror_mode": {
    "name": "ipython",
    "version": 3
   },
   "file_extension": ".py",
   "mimetype": "text/x-python",
   "name": "python",
   "nbconvert_exporter": "python",
   "pygments_lexer": "ipython3",
   "version": "3.7.3"
  }
 },
 "nbformat": 4,
 "nbformat_minor": 5
}
