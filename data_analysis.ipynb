{
 "cells": [
  {
   "cell_type": "markdown",
   "id": "49e50e25",
   "metadata": {},
   "source": [
    "# Analiza 'nocnej promocji' w sklepie euro.com.pl"
   ]
  },
  {
   "cell_type": "markdown",
   "id": "92927913",
   "metadata": {},
   "source": [
    "## 1. Wprowadzenie"
   ]
  },
  {
   "cell_type": "markdown",
   "id": "69599343",
   "metadata": {},
   "source": [
    "### 1.1 Cel analizy"
   ]
  },
  {
   "cell_type": "markdown",
   "id": "9d702939",
   "metadata": {},
   "source": [
    "<p>\n",
    "Analiza promocji 'nocna promocja' dostępnej w sklepie internetowym euro.com.pl, ma na celu poznanie czy jseteśmy w stanie odkryć jakie produkty / kategorie produktów są częściej przeceniane.\n",
    "</p>\n",
    "<p>\n",
    "Postaram się znaleźć odpowiedź na pytanie czy warto codziennie przeglądać tą promocję, czy produkty się zmieniają, czy sklep 'odgrzewa stare kotlety'. Sprawdzę też ile jest prawdziwych okazji :)\n",
    "</p>"
   ]
  },
  {
   "cell_type": "markdown",
   "id": "63eb1b87",
   "metadata": {},
   "source": [
    "### 1.2 O zbiorze danych"
   ]
  },
  {
   "cell_type": "markdown",
   "id": "b8273751",
   "metadata": {},
   "source": [
    "<p>\n",
    "Dane analizowane w tym miejscu pochodzą ze sklepu internetowego euro.com.pl, a zbierane były za pomocą autorskiego skryptu scrapującego napisanego w Pythonie. Dane ze strony pobierane były przez <strong>7 dni tygodnia - od 25.01.2022 r. do 31.01.2022 r.</strong> Skrypt scrapujący oraz zebrane pliki w formacie csv z danymi podzielonymi na poszczególne dni znajdują się w folderze 'data' tego repozytorium.\n",
    "</p>\n",
    "<p>\n",
    "    Zebrane dane o promocji wzbogacone zostaną o dane doytczące kategorii produktów dostępnych w tym sklepie, a których analiza znajduje się w pliku 'category_analysis' będącym w tym repozytorium.\n",
    "</p>"
   ]
  },
  {
   "cell_type": "markdown",
   "id": "e6a99d63",
   "metadata": {},
   "source": [
    "## 2. Przygotowanie zbioru"
   ]
  },
  {
   "cell_type": "markdown",
   "id": "ecd92b0f",
   "metadata": {},
   "source": [
    "### 2.1 Wczytanie potrzebnych bibliotek oraz plików z danymi"
   ]
  },
  {
   "cell_type": "markdown",
   "id": "a6fdea8c",
   "metadata": {},
   "source": [
    "#### Niezbędne biblioteki:"
   ]
  },
  {
   "cell_type": "code",
   "execution_count": 1,
   "id": "c7eb112a",
   "metadata": {},
   "outputs": [],
   "source": [
    "import os\n",
    "import pandas as pd\n",
    "import matplotlib.pyplot as plt"
   ]
  },
  {
   "cell_type": "markdown",
   "id": "619aa3dd",
   "metadata": {},
   "source": [
    "#### Wczytanie plików z danymi oraz połączenie z danymi dot. kategorii znajdujących się w sklepie:"
   ]
  },
  {
   "cell_type": "code",
   "execution_count": 2,
   "id": "464c3275",
   "metadata": {},
   "outputs": [],
   "source": [
    "pliki_z_danymi = []\n",
    "storage_path = './data'\n",
    "\n",
    "for item in os.listdir(storage_path):\n",
    "\tif item.endswith(\".csv\"):\n",
    "\t\tpliki_z_danymi.append(f'{storage_path}/{item}')\n",
    "\n",
    "df = pd.DataFrame()\n",
    "\n",
    "for plik in pliki_z_danymi:\n",
    "\tdf = pd.concat([df, pd.read_csv(plik, header=0, parse_dates=['scraping_time'])], ignore_index=True)\n",
    "\n",
    "df_categories = pd.read_csv('./categories/categories.csv', names=['parent_category', 'category', 'link_to_category', 'how_many_offers'])\n",
    "\n",
    "df = df.merge(df_categories, on='category')"
   ]
  },
  {
   "cell_type": "markdown",
   "id": "23ae6a74",
   "metadata": {},
   "source": [
    "#### Nazwy zmiennych"
   ]
  },
  {
   "cell_type": "markdown",
   "id": "dd1abbb3",
   "metadata": {},
   "source": [
    "<p>\n",
    "Na etapie zbierania danych zadbano o prawidłowe nazwanie zmiennych, aby łatwo można było się zorientować, z czym mamy do czynienia, dlatego nie ma potrzeby zmian.\n",
    "</p>"
   ]
  },
  {
   "cell_type": "markdown",
   "id": "4f439801",
   "metadata": {},
   "source": [
    "### 2.2 Zmiana typów zmiennych"
   ]
  },
  {
   "cell_type": "code",
   "execution_count": 3,
   "id": "810081ae",
   "metadata": {},
   "outputs": [
    {
     "data": {
      "text/plain": [
       "product_id                 float64\n",
       "plu                        float64\n",
       "regular                    float64\n",
       "discount                   float64\n",
       "discount_amount            float64\n",
       "discount_proc              float64\n",
       "discount_code               object\n",
       "availability                object\n",
       "href                        object\n",
       "category                    object\n",
       "domain_name                 object\n",
       "scraping_time       datetime64[ns]\n",
       "parent_category             object\n",
       "link_to_category            object\n",
       "how_many_offers             object\n",
       "dtype: object"
      ]
     },
     "execution_count": 3,
     "metadata": {},
     "output_type": "execute_result"
    }
   ],
   "source": [
    "df.dtypes"
   ]
  },
  {
   "cell_type": "markdown",
   "id": "fb40af62",
   "metadata": {},
   "source": [
    "#### Przegląd typów zmiennych:\n",
    "<ul>\n",
    "    <li>\n",
    "        'product_id', 'plu' - z wiedzy eksperckiej ;) wiadomo, że są to identyfikatory poszczególnych ofert dlatego postanowiłem zmienić ich typ na 'int', choć nie jest to operacja niezbędna,\n",
    "    </li>\n",
    "    <li>\n",
    "        zmienne: 'regular' do 'discount_proc' poprawnie są interpretowane przez Python jako zmienne numeryczne - nie mogło być inaczej, ponieważ już na etapie zbirania danych zadbano o ich prawidłowe sładowanie,\n",
    "    </li>\n",
    "    <li>\n",
    "        'availability', 'href', 'category', 'domain_name', 'parent_category', 'link_to_category' - są to zmienne kategoryczne, interpretowane przeez Python jako 'object',\n",
    "    </li>\n",
    "    <li>\n",
    "        'scraping_time' - zmienna typu kategorycznego poprawnie zinterpretowana jako datę.\n",
    "    </li>\n",
    "    <li>\n",
    "        'how_many_offers' - zmienna liczbowa, która powinna być typu 'int' - zostanie to poprawione w kolejnym kroku.\n",
    "    </li>\n",
    "</ul>"
   ]
  },
  {
   "cell_type": "markdown",
   "id": "7e0ade13",
   "metadata": {},
   "source": [
    "#### Zmiany dla potrzeb dalszej analizy:\n",
    "<ol>\n",
    "    <li>\n",
    "        zmiana typu zmiennych 'plu' oraz 'how_many_offers' do typu 'int',\n",
    "    </li>\n",
    "    <li>\n",
    "        dodanie zmiennej 'weekday' z numerem dnia tygodnia, w którym została zebrana obserwacja (1 - poniedziałek, (...) 7 - niedziela),\n",
    "        </li>\n",
    "    <li>\n",
    "        zastąpienie zmiennej 'scraping_time' na 'string' zawierający datę w formacie yyyy-mm-dd i nadanie jej nazwy 'date',\n",
    "    </li>\n",
    "    <li>\n",
    "        wyodrębnienie nazwy oferty z zmiennej przechowywującej link do oferty ('href') i zastąpienie jej zmienna o nazwie 'name',\n",
    "    </li>\n",
    "    <li>\n",
    "        usunięcie niepotrzebnych kolumn - dotyczy to zmiennych, które nie wniosą nic pożytecznego do analizy, a mogą nie potrzebnie przeszkadzać, są to:\n",
    "        <ul>\n",
    "            <li>'product_id' (mamy już identyfikator 'plu'),</li>\n",
    "            <li>'domain_name' (nazwa domeny - pozostałość po procesie zbierania danych),</li>\n",
    "            <li>'scraping_time' (nie potrzebna, bo zastępuję ją nową zmienną 'date'),</li>\n",
    "            <li>'link_to_category' (jak nazwa mówi - link do kategorii, nie potrzebny),</li>\n",
    "         </ul>\n",
    "    </li>\n",
    "    <li>\n",
    "        jako że dane są dosyć dobrze opisane, zgodnie z celem analizy, usunięte zostaną oblserwacje, które nie powinny się tu znależć - mam na myśli oferty nie posiadające rabatu ani kodu rabatowego, a mające normalną cenę wiekszą od 0.\n",
    "    </li>\n",
    "</ol>"
   ]
  },
  {
   "cell_type": "code",
   "execution_count": 4,
   "id": "5bdf123b",
   "metadata": {},
   "outputs": [],
   "source": [
    "df.plu = df.plu.astype(int)\n",
    "df.how_many_offers = df.how_many_offers.astype(float).astype(int)"
   ]
  },
  {
   "cell_type": "code",
   "execution_count": 5,
   "id": "49a5585f",
   "metadata": {},
   "outputs": [],
   "source": [
    "df['weekday'] = df.scraping_time.dt.strftime('%w')\n",
    "df.weekday = df.weekday.apply(lambda x: '7' if x=='0' else x)\n",
    "df['date'] = df.scraping_time.dt.strftime('%Y-%m-%d')"
   ]
  },
  {
   "cell_type": "code",
   "execution_count": 6,
   "id": "a258dea8",
   "metadata": {},
   "outputs": [],
   "source": [
    "df['name'] = df.href.apply(lambda x: x.split('/')[4][:-6])"
   ]
  },
  {
   "cell_type": "code",
   "execution_count": 7,
   "id": "0ab10138",
   "metadata": {},
   "outputs": [],
   "source": [
    "df.drop(labels=['product_id', 'href', 'domain_name', 'scraping_time', 'link_to_category'], axis=1, inplace=True)"
   ]
  },
  {
   "cell_type": "code",
   "execution_count": 8,
   "id": "23819fa7",
   "metadata": {},
   "outputs": [],
   "source": [
    "df.drop(df[(df.regular != 0) & (df.discount_amount == 0) & (df.discount_code.isnull())].index, axis=0, inplace=True)"
   ]
  },
  {
   "cell_type": "markdown",
   "id": "8a958e1f",
   "metadata": {},
   "source": [
    "#### Po zmianach:"
   ]
  },
  {
   "cell_type": "code",
   "execution_count": 9,
   "id": "3a409b78",
   "metadata": {},
   "outputs": [
    {
     "data": {
      "text/plain": [
       "plu                  int32\n",
       "regular            float64\n",
       "discount           float64\n",
       "discount_amount    float64\n",
       "discount_proc      float64\n",
       "discount_code       object\n",
       "availability        object\n",
       "category            object\n",
       "parent_category     object\n",
       "how_many_offers      int32\n",
       "weekday             object\n",
       "date                object\n",
       "name                object\n",
       "dtype: object"
      ]
     },
     "execution_count": 9,
     "metadata": {},
     "output_type": "execute_result"
    }
   ],
   "source": [
    "df.dtypes"
   ]
  },
  {
   "cell_type": "markdown",
   "id": "4f361ea8",
   "metadata": {},
   "source": [
    "## 3. Analiza braków danych"
   ]
  },
  {
   "cell_type": "code",
   "execution_count": 10,
   "id": "30444d48",
   "metadata": {},
   "outputs": [
    {
     "data": {
      "text/html": [
       "<div>\n",
       "<style scoped>\n",
       "    .dataframe tbody tr th:only-of-type {\n",
       "        vertical-align: middle;\n",
       "    }\n",
       "\n",
       "    .dataframe tbody tr th {\n",
       "        vertical-align: top;\n",
       "    }\n",
       "\n",
       "    .dataframe thead th {\n",
       "        text-align: right;\n",
       "    }\n",
       "</style>\n",
       "<table border=\"1\" class=\"dataframe\">\n",
       "  <thead>\n",
       "    <tr style=\"text-align: right;\">\n",
       "      <th></th>\n",
       "      <th>Dtypes</th>\n",
       "      <th>has_nulls</th>\n",
       "      <th>qty</th>\n",
       "      <th>%</th>\n",
       "    </tr>\n",
       "  </thead>\n",
       "  <tbody>\n",
       "    <tr>\n",
       "      <th>plu</th>\n",
       "      <td>int32</td>\n",
       "      <td>False</td>\n",
       "      <td>0</td>\n",
       "      <td>0.00</td>\n",
       "    </tr>\n",
       "    <tr>\n",
       "      <th>regular</th>\n",
       "      <td>float64</td>\n",
       "      <td>True</td>\n",
       "      <td>15</td>\n",
       "      <td>0.28</td>\n",
       "    </tr>\n",
       "    <tr>\n",
       "      <th>discount</th>\n",
       "      <td>float64</td>\n",
       "      <td>True</td>\n",
       "      <td>15</td>\n",
       "      <td>0.28</td>\n",
       "    </tr>\n",
       "    <tr>\n",
       "      <th>discount_amount</th>\n",
       "      <td>float64</td>\n",
       "      <td>True</td>\n",
       "      <td>15</td>\n",
       "      <td>0.28</td>\n",
       "    </tr>\n",
       "    <tr>\n",
       "      <th>discount_proc</th>\n",
       "      <td>float64</td>\n",
       "      <td>True</td>\n",
       "      <td>15</td>\n",
       "      <td>0.28</td>\n",
       "    </tr>\n",
       "    <tr>\n",
       "      <th>discount_code</th>\n",
       "      <td>object</td>\n",
       "      <td>True</td>\n",
       "      <td>62</td>\n",
       "      <td>1.15</td>\n",
       "    </tr>\n",
       "    <tr>\n",
       "      <th>availability</th>\n",
       "      <td>object</td>\n",
       "      <td>False</td>\n",
       "      <td>0</td>\n",
       "      <td>0.00</td>\n",
       "    </tr>\n",
       "    <tr>\n",
       "      <th>category</th>\n",
       "      <td>object</td>\n",
       "      <td>False</td>\n",
       "      <td>0</td>\n",
       "      <td>0.00</td>\n",
       "    </tr>\n",
       "    <tr>\n",
       "      <th>parent_category</th>\n",
       "      <td>object</td>\n",
       "      <td>False</td>\n",
       "      <td>0</td>\n",
       "      <td>0.00</td>\n",
       "    </tr>\n",
       "    <tr>\n",
       "      <th>how_many_offers</th>\n",
       "      <td>int32</td>\n",
       "      <td>False</td>\n",
       "      <td>0</td>\n",
       "      <td>0.00</td>\n",
       "    </tr>\n",
       "    <tr>\n",
       "      <th>weekday</th>\n",
       "      <td>object</td>\n",
       "      <td>False</td>\n",
       "      <td>0</td>\n",
       "      <td>0.00</td>\n",
       "    </tr>\n",
       "    <tr>\n",
       "      <th>date</th>\n",
       "      <td>object</td>\n",
       "      <td>False</td>\n",
       "      <td>0</td>\n",
       "      <td>0.00</td>\n",
       "    </tr>\n",
       "    <tr>\n",
       "      <th>name</th>\n",
       "      <td>object</td>\n",
       "      <td>False</td>\n",
       "      <td>0</td>\n",
       "      <td>0.00</td>\n",
       "    </tr>\n",
       "  </tbody>\n",
       "</table>\n",
       "</div>"
      ],
      "text/plain": [
       "                  Dtypes  has_nulls  qty     %\n",
       "plu                int32      False    0  0.00\n",
       "regular          float64       True   15  0.28\n",
       "discount         float64       True   15  0.28\n",
       "discount_amount  float64       True   15  0.28\n",
       "discount_proc    float64       True   15  0.28\n",
       "discount_code     object       True   62  1.15\n",
       "availability      object      False    0  0.00\n",
       "category          object      False    0  0.00\n",
       "parent_category   object      False    0  0.00\n",
       "how_many_offers    int32      False    0  0.00\n",
       "weekday           object      False    0  0.00\n",
       "date              object      False    0  0.00\n",
       "name              object      False    0  0.00"
      ]
     },
     "execution_count": 10,
     "metadata": {},
     "output_type": "execute_result"
    }
   ],
   "source": [
    "nulls = pd.DataFrame(df.dtypes, columns=['Dtypes'])\n",
    "nulls['has_nulls'] = df.isnull().any()\n",
    "nulls['qty'] = df.isnull().sum()\n",
    "nulls['%'] = round(df.isnull().mean()*100, 2)\n",
    "nulls"
   ]
  },
  {
   "cell_type": "markdown",
   "id": "189bffae",
   "metadata": {},
   "source": [
    "#### Interpretacja ujawnionych braków danych:\n",
    "<p>\n",
    "    Najwięcej braków ujawnione zostało w obręie zmiennej 'discount_code'. Jak sama nazwa podpowiada jest to zmienna przechowywująca kod rabatowy - co ważne, nie każda oferta promocyjna musi go posiadać. W związku z powyższym nie widzę potrzeby usówania tych obserwacji, a jedyne co można zrobić dla włąsnej wygody to ewentualnie wypełnić te puste pola czymś co ułatwi analizę.\n",
    "</p>\n",
    "<p>\n",
    "    Brak występują również w zmiennych dot. ceny promicyjnej tj. 'discoount', 'discount_proc', 'discount_amomunt' - zmienne te są od siebie zależne. Widocznie znalazły się jakieś oferty, które nie były promocyjne ;)\n",
    "</p>\n",
    "<p>\n",
    "    Co do objerwacji, w których brakuje ceny (zmienna: 'regular') - są to produkty, które nie są dostępne - tezę tą zweryfikowałem poniżej. Obserwacje te usuwam przed dalszą analizą.\n",
    "</p>"
   ]
  },
  {
   "cell_type": "code",
   "execution_count": 11,
   "id": "71f6e51a",
   "metadata": {},
   "outputs": [
    {
     "data": {
      "text/plain": [
       "['produkt tymczasowo niedostępny']"
      ]
     },
     "execution_count": 11,
     "metadata": {},
     "output_type": "execute_result"
    }
   ],
   "source": [
    "regular_nulls = df[df.regular.isnull()]\n",
    "regular_nulls.availability.unique().tolist()"
   ]
  },
  {
   "cell_type": "code",
   "execution_count": 12,
   "id": "0db08cc0",
   "metadata": {},
   "outputs": [],
   "source": [
    "df.drop(regular_nulls.index, axis=0, inplace=True)"
   ]
  },
  {
   "cell_type": "markdown",
   "id": "e17743f0",
   "metadata": {},
   "source": [
    "<p>\n",
    "    Po powyższych przekształceniach, w zbiorze pozostały obserwacje zawierajace braki tylko i wyłacznie w obrębie zmiennej 'discount_code' - kod rabatowy.\n",
    "</p>"
   ]
  },
  {
   "cell_type": "code",
   "execution_count": 13,
   "id": "a6936fd5",
   "metadata": {},
   "outputs": [
    {
     "data": {
      "text/html": [
       "<div>\n",
       "<style scoped>\n",
       "    .dataframe tbody tr th:only-of-type {\n",
       "        vertical-align: middle;\n",
       "    }\n",
       "\n",
       "    .dataframe tbody tr th {\n",
       "        vertical-align: top;\n",
       "    }\n",
       "\n",
       "    .dataframe thead th {\n",
       "        text-align: right;\n",
       "    }\n",
       "</style>\n",
       "<table border=\"1\" class=\"dataframe\">\n",
       "  <thead>\n",
       "    <tr style=\"text-align: right;\">\n",
       "      <th></th>\n",
       "      <th>Dtypes</th>\n",
       "      <th>has_nulls</th>\n",
       "      <th>qty</th>\n",
       "      <th>%</th>\n",
       "    </tr>\n",
       "  </thead>\n",
       "  <tbody>\n",
       "    <tr>\n",
       "      <th>plu</th>\n",
       "      <td>int32</td>\n",
       "      <td>False</td>\n",
       "      <td>0</td>\n",
       "      <td>0.00</td>\n",
       "    </tr>\n",
       "    <tr>\n",
       "      <th>regular</th>\n",
       "      <td>float64</td>\n",
       "      <td>False</td>\n",
       "      <td>0</td>\n",
       "      <td>0.00</td>\n",
       "    </tr>\n",
       "    <tr>\n",
       "      <th>discount</th>\n",
       "      <td>float64</td>\n",
       "      <td>False</td>\n",
       "      <td>0</td>\n",
       "      <td>0.00</td>\n",
       "    </tr>\n",
       "    <tr>\n",
       "      <th>discount_amount</th>\n",
       "      <td>float64</td>\n",
       "      <td>False</td>\n",
       "      <td>0</td>\n",
       "      <td>0.00</td>\n",
       "    </tr>\n",
       "    <tr>\n",
       "      <th>discount_proc</th>\n",
       "      <td>float64</td>\n",
       "      <td>False</td>\n",
       "      <td>0</td>\n",
       "      <td>0.00</td>\n",
       "    </tr>\n",
       "    <tr>\n",
       "      <th>discount_code</th>\n",
       "      <td>object</td>\n",
       "      <td>True</td>\n",
       "      <td>47</td>\n",
       "      <td>0.87</td>\n",
       "    </tr>\n",
       "    <tr>\n",
       "      <th>availability</th>\n",
       "      <td>object</td>\n",
       "      <td>False</td>\n",
       "      <td>0</td>\n",
       "      <td>0.00</td>\n",
       "    </tr>\n",
       "    <tr>\n",
       "      <th>category</th>\n",
       "      <td>object</td>\n",
       "      <td>False</td>\n",
       "      <td>0</td>\n",
       "      <td>0.00</td>\n",
       "    </tr>\n",
       "    <tr>\n",
       "      <th>parent_category</th>\n",
       "      <td>object</td>\n",
       "      <td>False</td>\n",
       "      <td>0</td>\n",
       "      <td>0.00</td>\n",
       "    </tr>\n",
       "    <tr>\n",
       "      <th>how_many_offers</th>\n",
       "      <td>int32</td>\n",
       "      <td>False</td>\n",
       "      <td>0</td>\n",
       "      <td>0.00</td>\n",
       "    </tr>\n",
       "    <tr>\n",
       "      <th>weekday</th>\n",
       "      <td>object</td>\n",
       "      <td>False</td>\n",
       "      <td>0</td>\n",
       "      <td>0.00</td>\n",
       "    </tr>\n",
       "    <tr>\n",
       "      <th>date</th>\n",
       "      <td>object</td>\n",
       "      <td>False</td>\n",
       "      <td>0</td>\n",
       "      <td>0.00</td>\n",
       "    </tr>\n",
       "    <tr>\n",
       "      <th>name</th>\n",
       "      <td>object</td>\n",
       "      <td>False</td>\n",
       "      <td>0</td>\n",
       "      <td>0.00</td>\n",
       "    </tr>\n",
       "  </tbody>\n",
       "</table>\n",
       "</div>"
      ],
      "text/plain": [
       "                  Dtypes  has_nulls  qty     %\n",
       "plu                int32      False    0  0.00\n",
       "regular          float64      False    0  0.00\n",
       "discount         float64      False    0  0.00\n",
       "discount_amount  float64      False    0  0.00\n",
       "discount_proc    float64      False    0  0.00\n",
       "discount_code     object       True   47  0.87\n",
       "availability      object      False    0  0.00\n",
       "category          object      False    0  0.00\n",
       "parent_category   object      False    0  0.00\n",
       "how_many_offers    int32      False    0  0.00\n",
       "weekday           object      False    0  0.00\n",
       "date              object      False    0  0.00\n",
       "name              object      False    0  0.00"
      ]
     },
     "execution_count": 13,
     "metadata": {},
     "output_type": "execute_result"
    }
   ],
   "source": [
    "nulls = pd.DataFrame(df.dtypes, columns=['Dtypes'])\n",
    "nulls['has_nulls'] = df.isnull().any()\n",
    "nulls['qty'] = df.isnull().sum()\n",
    "nulls['%'] = round(df.isnull().mean()*100, 2)\n",
    "nulls"
   ]
  },
  {
   "cell_type": "markdown",
   "id": "930421cd",
   "metadata": {},
   "source": [
    "## 4. Eksploracyjna analiza danych"
   ]
  },
  {
   "cell_type": "markdown",
   "id": "063073ff",
   "metadata": {},
   "source": [
    "### 4.1 Podstawowe statystyki"
   ]
  },
  {
   "cell_type": "markdown",
   "id": "2daa900d",
   "metadata": {},
   "source": [
    "#### 4.1.1 Podstawowe informacje o zbiorze"
   ]
  },
  {
   "cell_type": "code",
   "execution_count": 14,
   "id": "c7b69183",
   "metadata": {},
   "outputs": [
    {
     "name": "stdout",
     "output_type": "stream",
     "text": [
      "Analizowane będzie 5385 ofert z 13 zmiennymi.\n"
     ]
    }
   ],
   "source": [
    "print(f'Analizowane będzie {df.shape[0]} ofert z {df.shape[1]} zmiennymi.')"
   ]
  },
  {
   "cell_type": "markdown",
   "id": "e3089631",
   "metadata": {},
   "source": [
    "#### Wnioski:"
   ]
  },
  {
   "cell_type": "code",
   "execution_count": 15,
   "id": "f40197d9",
   "metadata": {},
   "outputs": [
    {
     "name": "stdout",
     "output_type": "stream",
     "text": [
      "Śrenio na jeden dzień promocji przypada 769 ofert promocyjnych.\n"
     ]
    }
   ],
   "source": [
    "print(f'Śrenio na jeden dzień promocji przypada {round(df.shape[0]/len(df.date.unique()))} ofert promocyjnych.')"
   ]
  },
  {
   "cell_type": "markdown",
   "id": "8ce9d965",
   "metadata": {},
   "source": [
    "#### 4.1.2 Podstawowe statystyki zmiennych numerycznych"
   ]
  },
  {
   "cell_type": "markdown",
   "id": "f88045de",
   "metadata": {},
   "source": [
    "#### W całym tygodniu:"
   ]
  },
  {
   "cell_type": "code",
   "execution_count": 16,
   "id": "df798067",
   "metadata": {
    "scrolled": false
   },
   "outputs": [
    {
     "data": {
      "text/html": [
       "<div>\n",
       "<style scoped>\n",
       "    .dataframe tbody tr th:only-of-type {\n",
       "        vertical-align: middle;\n",
       "    }\n",
       "\n",
       "    .dataframe tbody tr th {\n",
       "        vertical-align: top;\n",
       "    }\n",
       "\n",
       "    .dataframe thead th {\n",
       "        text-align: right;\n",
       "    }\n",
       "</style>\n",
       "<table border=\"1\" class=\"dataframe\">\n",
       "  <thead>\n",
       "    <tr style=\"text-align: right;\">\n",
       "      <th></th>\n",
       "      <th>count</th>\n",
       "      <th>mean</th>\n",
       "      <th>std</th>\n",
       "      <th>min</th>\n",
       "      <th>25%</th>\n",
       "      <th>50%</th>\n",
       "      <th>75%</th>\n",
       "      <th>max</th>\n",
       "    </tr>\n",
       "  </thead>\n",
       "  <tbody>\n",
       "    <tr>\n",
       "      <th>regular</th>\n",
       "      <td>5385.0</td>\n",
       "      <td>2006.204210</td>\n",
       "      <td>2377.647407</td>\n",
       "      <td>15.99</td>\n",
       "      <td>419.00</td>\n",
       "      <td>1249.00</td>\n",
       "      <td>2549.00</td>\n",
       "      <td>20099.00</td>\n",
       "    </tr>\n",
       "    <tr>\n",
       "      <th>discount</th>\n",
       "      <td>5385.0</td>\n",
       "      <td>1824.730696</td>\n",
       "      <td>2232.785739</td>\n",
       "      <td>7.99</td>\n",
       "      <td>369.00</td>\n",
       "      <td>1099.00</td>\n",
       "      <td>2299.00</td>\n",
       "      <td>19999.00</td>\n",
       "    </tr>\n",
       "    <tr>\n",
       "      <th>discount_amount</th>\n",
       "      <td>5385.0</td>\n",
       "      <td>181.473513</td>\n",
       "      <td>197.526221</td>\n",
       "      <td>5.00</td>\n",
       "      <td>50.00</td>\n",
       "      <td>104.00</td>\n",
       "      <td>240.00</td>\n",
       "      <td>2009.00</td>\n",
       "    </tr>\n",
       "    <tr>\n",
       "      <th>discount_proc</th>\n",
       "      <td>5385.0</td>\n",
       "      <td>12.632020</td>\n",
       "      <td>7.792485</td>\n",
       "      <td>0.50</td>\n",
       "      <td>7.15</td>\n",
       "      <td>11.11</td>\n",
       "      <td>16.67</td>\n",
       "      <td>68.24</td>\n",
       "    </tr>\n",
       "  </tbody>\n",
       "</table>\n",
       "</div>"
      ],
      "text/plain": [
       "                  count         mean          std    min     25%      50%  \\\n",
       "regular          5385.0  2006.204210  2377.647407  15.99  419.00  1249.00   \n",
       "discount         5385.0  1824.730696  2232.785739   7.99  369.00  1099.00   \n",
       "discount_amount  5385.0   181.473513   197.526221   5.00   50.00   104.00   \n",
       "discount_proc    5385.0    12.632020     7.792485   0.50    7.15    11.11   \n",
       "\n",
       "                     75%       max  \n",
       "regular          2549.00  20099.00  \n",
       "discount         2299.00  19999.00  \n",
       "discount_amount   240.00   2009.00  \n",
       "discount_proc      16.67     68.24  "
      ]
     },
     "execution_count": 16,
     "metadata": {},
     "output_type": "execute_result"
    }
   ],
   "source": [
    "df[['regular', 'discount', 'discount_amount', 'discount_proc']].describe().T"
   ]
  },
  {
   "cell_type": "markdown",
   "id": "55911fe7",
   "metadata": {},
   "source": [
    "#### W poszczególne dni:"
   ]
  },
  {
   "cell_type": "code",
   "execution_count": 17,
   "id": "7e7fae3a",
   "metadata": {
    "scrolled": true
   },
   "outputs": [
    {
     "data": {
      "text/html": [
       "<div>\n",
       "<style scoped>\n",
       "    .dataframe tbody tr th:only-of-type {\n",
       "        vertical-align: middle;\n",
       "    }\n",
       "\n",
       "    .dataframe tbody tr th {\n",
       "        vertical-align: top;\n",
       "    }\n",
       "\n",
       "    .dataframe thead th {\n",
       "        text-align: right;\n",
       "    }\n",
       "</style>\n",
       "<table border=\"1\" class=\"dataframe\">\n",
       "  <thead>\n",
       "    <tr style=\"text-align: right;\">\n",
       "      <th></th>\n",
       "      <th>weekday</th>\n",
       "      <th>1</th>\n",
       "      <th>2</th>\n",
       "      <th>3</th>\n",
       "      <th>4</th>\n",
       "      <th>5</th>\n",
       "      <th>6</th>\n",
       "      <th>7</th>\n",
       "    </tr>\n",
       "  </thead>\n",
       "  <tbody>\n",
       "    <tr>\n",
       "      <th rowspan=\"8\" valign=\"top\">regular</th>\n",
       "      <th>count</th>\n",
       "      <td>739.000000</td>\n",
       "      <td>680.000000</td>\n",
       "      <td>819.000000</td>\n",
       "      <td>781.000000</td>\n",
       "      <td>860.000000</td>\n",
       "      <td>673.000000</td>\n",
       "      <td>833.000000</td>\n",
       "    </tr>\n",
       "    <tr>\n",
       "      <th>mean</th>\n",
       "      <td>1958.382030</td>\n",
       "      <td>1804.753500</td>\n",
       "      <td>1864.609878</td>\n",
       "      <td>2102.029129</td>\n",
       "      <td>1999.182547</td>\n",
       "      <td>2335.943626</td>\n",
       "      <td>2003.296134</td>\n",
       "    </tr>\n",
       "    <tr>\n",
       "      <th>std</th>\n",
       "      <td>2325.767563</td>\n",
       "      <td>2174.152076</td>\n",
       "      <td>2398.744337</td>\n",
       "      <td>2510.148298</td>\n",
       "      <td>2348.886113</td>\n",
       "      <td>2458.991420</td>\n",
       "      <td>2373.002152</td>\n",
       "    </tr>\n",
       "    <tr>\n",
       "      <th>min</th>\n",
       "      <td>15.990000</td>\n",
       "      <td>19.990000</td>\n",
       "      <td>29.990000</td>\n",
       "      <td>19.990000</td>\n",
       "      <td>15.990000</td>\n",
       "      <td>29.990000</td>\n",
       "      <td>29.990000</td>\n",
       "    </tr>\n",
       "    <tr>\n",
       "      <th>25%</th>\n",
       "      <td>464.000000</td>\n",
       "      <td>466.500000</td>\n",
       "      <td>299.000000</td>\n",
       "      <td>469.000000</td>\n",
       "      <td>399.000000</td>\n",
       "      <td>649.000000</td>\n",
       "      <td>399.000000</td>\n",
       "    </tr>\n",
       "    <tr>\n",
       "      <th>50%</th>\n",
       "      <td>1199.000000</td>\n",
       "      <td>1234.000000</td>\n",
       "      <td>999.000000</td>\n",
       "      <td>1299.000000</td>\n",
       "      <td>1209.000000</td>\n",
       "      <td>1699.000000</td>\n",
       "      <td>1249.000000</td>\n",
       "    </tr>\n",
       "    <tr>\n",
       "      <th>75%</th>\n",
       "      <td>2434.000000</td>\n",
       "      <td>2299.000000</td>\n",
       "      <td>2299.000000</td>\n",
       "      <td>2599.000000</td>\n",
       "      <td>2599.000000</td>\n",
       "      <td>2999.000000</td>\n",
       "      <td>2599.000000</td>\n",
       "    </tr>\n",
       "    <tr>\n",
       "      <th>max</th>\n",
       "      <td>20099.000000</td>\n",
       "      <td>20099.000000</td>\n",
       "      <td>20099.000000</td>\n",
       "      <td>20099.000000</td>\n",
       "      <td>20099.000000</td>\n",
       "      <td>20099.000000</td>\n",
       "      <td>20099.000000</td>\n",
       "    </tr>\n",
       "    <tr>\n",
       "      <th rowspan=\"8\" valign=\"top\">discount</th>\n",
       "      <th>count</th>\n",
       "      <td>739.000000</td>\n",
       "      <td>680.000000</td>\n",
       "      <td>819.000000</td>\n",
       "      <td>781.000000</td>\n",
       "      <td>860.000000</td>\n",
       "      <td>673.000000</td>\n",
       "      <td>833.000000</td>\n",
       "    </tr>\n",
       "    <tr>\n",
       "      <th>mean</th>\n",
       "      <td>1765.638890</td>\n",
       "      <td>1633.008691</td>\n",
       "      <td>1698.988071</td>\n",
       "      <td>1919.530205</td>\n",
       "      <td>1821.320291</td>\n",
       "      <td>2131.789673</td>\n",
       "      <td>1823.850576</td>\n",
       "    </tr>\n",
       "    <tr>\n",
       "      <th>std</th>\n",
       "      <td>2176.350079</td>\n",
       "      <td>2038.306997</td>\n",
       "      <td>2247.185309</td>\n",
       "      <td>2361.374394</td>\n",
       "      <td>2207.518669</td>\n",
       "      <td>2316.076551</td>\n",
       "      <td>2231.373078</td>\n",
       "    </tr>\n",
       "    <tr>\n",
       "      <th>min</th>\n",
       "      <td>7.990000</td>\n",
       "      <td>7.990000</td>\n",
       "      <td>14.990000</td>\n",
       "      <td>9.990000</td>\n",
       "      <td>9.990000</td>\n",
       "      <td>14.990000</td>\n",
       "      <td>14.990000</td>\n",
       "    </tr>\n",
       "    <tr>\n",
       "      <th>25%</th>\n",
       "      <td>399.000000</td>\n",
       "      <td>399.000000</td>\n",
       "      <td>259.000000</td>\n",
       "      <td>399.000000</td>\n",
       "      <td>341.000000</td>\n",
       "      <td>549.000000</td>\n",
       "      <td>329.000000</td>\n",
       "    </tr>\n",
       "    <tr>\n",
       "      <th>50%</th>\n",
       "      <td>999.000000</td>\n",
       "      <td>1099.000000</td>\n",
       "      <td>899.000000</td>\n",
       "      <td>1099.000000</td>\n",
       "      <td>1099.000000</td>\n",
       "      <td>1499.000000</td>\n",
       "      <td>1099.000000</td>\n",
       "    </tr>\n",
       "    <tr>\n",
       "      <th>75%</th>\n",
       "      <td>2197.000000</td>\n",
       "      <td>1999.000000</td>\n",
       "      <td>1999.000000</td>\n",
       "      <td>2399.000000</td>\n",
       "      <td>2399.000000</td>\n",
       "      <td>2699.000000</td>\n",
       "      <td>2399.000000</td>\n",
       "    </tr>\n",
       "    <tr>\n",
       "      <th>max</th>\n",
       "      <td>19999.000000</td>\n",
       "      <td>19999.000000</td>\n",
       "      <td>19999.000000</td>\n",
       "      <td>19999.000000</td>\n",
       "      <td>19999.000000</td>\n",
       "      <td>19999.000000</td>\n",
       "      <td>19999.000000</td>\n",
       "    </tr>\n",
       "    <tr>\n",
       "      <th rowspan=\"8\" valign=\"top\">discount_amount</th>\n",
       "      <th>count</th>\n",
       "      <td>739.000000</td>\n",
       "      <td>680.000000</td>\n",
       "      <td>819.000000</td>\n",
       "      <td>781.000000</td>\n",
       "      <td>860.000000</td>\n",
       "      <td>673.000000</td>\n",
       "      <td>833.000000</td>\n",
       "    </tr>\n",
       "    <tr>\n",
       "      <th>mean</th>\n",
       "      <td>192.743139</td>\n",
       "      <td>171.744809</td>\n",
       "      <td>165.621807</td>\n",
       "      <td>182.498924</td>\n",
       "      <td>177.862256</td>\n",
       "      <td>204.153952</td>\n",
       "      <td>179.445558</td>\n",
       "    </tr>\n",
       "    <tr>\n",
       "      <th>std</th>\n",
       "      <td>205.244790</td>\n",
       "      <td>194.792055</td>\n",
       "      <td>197.622175</td>\n",
       "      <td>198.825631</td>\n",
       "      <td>192.922059</td>\n",
       "      <td>199.353093</td>\n",
       "      <td>193.116304</td>\n",
       "    </tr>\n",
       "    <tr>\n",
       "      <th>min</th>\n",
       "      <td>5.000000</td>\n",
       "      <td>5.000000</td>\n",
       "      <td>7.460000</td>\n",
       "      <td>5.000000</td>\n",
       "      <td>6.000000</td>\n",
       "      <td>10.000000</td>\n",
       "      <td>7.460000</td>\n",
       "    </tr>\n",
       "    <tr>\n",
       "      <th>25%</th>\n",
       "      <td>54.000000</td>\n",
       "      <td>50.000000</td>\n",
       "      <td>40.000000</td>\n",
       "      <td>50.000000</td>\n",
       "      <td>44.000000</td>\n",
       "      <td>70.000000</td>\n",
       "      <td>47.000000</td>\n",
       "    </tr>\n",
       "    <tr>\n",
       "      <th>50%</th>\n",
       "      <td>114.000000</td>\n",
       "      <td>102.000000</td>\n",
       "      <td>100.000000</td>\n",
       "      <td>100.000000</td>\n",
       "      <td>100.000000</td>\n",
       "      <td>160.000000</td>\n",
       "      <td>100.000000</td>\n",
       "    </tr>\n",
       "    <tr>\n",
       "      <th>75%</th>\n",
       "      <td>285.000000</td>\n",
       "      <td>200.000000</td>\n",
       "      <td>200.000000</td>\n",
       "      <td>220.000000</td>\n",
       "      <td>212.500000</td>\n",
       "      <td>300.000000</td>\n",
       "      <td>240.000000</td>\n",
       "    </tr>\n",
       "    <tr>\n",
       "      <th>max</th>\n",
       "      <td>1600.000000</td>\n",
       "      <td>2009.000000</td>\n",
       "      <td>2009.000000</td>\n",
       "      <td>2009.000000</td>\n",
       "      <td>2009.000000</td>\n",
       "      <td>2009.000000</td>\n",
       "      <td>2009.000000</td>\n",
       "    </tr>\n",
       "    <tr>\n",
       "      <th rowspan=\"8\" valign=\"top\">discount_proc</th>\n",
       "      <th>count</th>\n",
       "      <td>739.000000</td>\n",
       "      <td>680.000000</td>\n",
       "      <td>819.000000</td>\n",
       "      <td>781.000000</td>\n",
       "      <td>860.000000</td>\n",
       "      <td>673.000000</td>\n",
       "      <td>833.000000</td>\n",
       "    </tr>\n",
       "    <tr>\n",
       "      <th>mean</th>\n",
       "      <td>13.209540</td>\n",
       "      <td>12.854221</td>\n",
       "      <td>12.892869</td>\n",
       "      <td>12.512868</td>\n",
       "      <td>12.531593</td>\n",
       "      <td>11.740981</td>\n",
       "      <td>12.617107</td>\n",
       "    </tr>\n",
       "    <tr>\n",
       "      <th>std</th>\n",
       "      <td>7.959704</td>\n",
       "      <td>7.976312</td>\n",
       "      <td>8.080942</td>\n",
       "      <td>7.720850</td>\n",
       "      <td>7.832575</td>\n",
       "      <td>7.084350</td>\n",
       "      <td>7.732465</td>\n",
       "    </tr>\n",
       "    <tr>\n",
       "      <th>min</th>\n",
       "      <td>0.500000</td>\n",
       "      <td>0.500000</td>\n",
       "      <td>0.500000</td>\n",
       "      <td>0.500000</td>\n",
       "      <td>0.500000</td>\n",
       "      <td>0.500000</td>\n",
       "      <td>0.500000</td>\n",
       "    </tr>\n",
       "    <tr>\n",
       "      <th>25%</th>\n",
       "      <td>7.815000</td>\n",
       "      <td>7.157500</td>\n",
       "      <td>7.000000</td>\n",
       "      <td>6.940000</td>\n",
       "      <td>6.980000</td>\n",
       "      <td>6.850000</td>\n",
       "      <td>7.150000</td>\n",
       "    </tr>\n",
       "    <tr>\n",
       "      <th>50%</th>\n",
       "      <td>11.660000</td>\n",
       "      <td>11.120000</td>\n",
       "      <td>11.120000</td>\n",
       "      <td>10.940000</td>\n",
       "      <td>10.740000</td>\n",
       "      <td>10.050000</td>\n",
       "      <td>11.110000</td>\n",
       "    </tr>\n",
       "    <tr>\n",
       "      <th>75%</th>\n",
       "      <td>16.700000</td>\n",
       "      <td>16.680000</td>\n",
       "      <td>16.695000</td>\n",
       "      <td>16.390000</td>\n",
       "      <td>16.672500</td>\n",
       "      <td>14.930000</td>\n",
       "      <td>16.680000</td>\n",
       "    </tr>\n",
       "    <tr>\n",
       "      <th>max</th>\n",
       "      <td>68.240000</td>\n",
       "      <td>60.030000</td>\n",
       "      <td>50.020000</td>\n",
       "      <td>50.030000</td>\n",
       "      <td>50.170000</td>\n",
       "      <td>50.020000</td>\n",
       "      <td>56.260000</td>\n",
       "    </tr>\n",
       "  </tbody>\n",
       "</table>\n",
       "</div>"
      ],
      "text/plain": [
       "weekday                           1             2             3             4  \\\n",
       "regular         count    739.000000    680.000000    819.000000    781.000000   \n",
       "                mean    1958.382030   1804.753500   1864.609878   2102.029129   \n",
       "                std     2325.767563   2174.152076   2398.744337   2510.148298   \n",
       "                min       15.990000     19.990000     29.990000     19.990000   \n",
       "                25%      464.000000    466.500000    299.000000    469.000000   \n",
       "                50%     1199.000000   1234.000000    999.000000   1299.000000   \n",
       "                75%     2434.000000   2299.000000   2299.000000   2599.000000   \n",
       "                max    20099.000000  20099.000000  20099.000000  20099.000000   \n",
       "discount        count    739.000000    680.000000    819.000000    781.000000   \n",
       "                mean    1765.638890   1633.008691   1698.988071   1919.530205   \n",
       "                std     2176.350079   2038.306997   2247.185309   2361.374394   \n",
       "                min        7.990000      7.990000     14.990000      9.990000   \n",
       "                25%      399.000000    399.000000    259.000000    399.000000   \n",
       "                50%      999.000000   1099.000000    899.000000   1099.000000   \n",
       "                75%     2197.000000   1999.000000   1999.000000   2399.000000   \n",
       "                max    19999.000000  19999.000000  19999.000000  19999.000000   \n",
       "discount_amount count    739.000000    680.000000    819.000000    781.000000   \n",
       "                mean     192.743139    171.744809    165.621807    182.498924   \n",
       "                std      205.244790    194.792055    197.622175    198.825631   \n",
       "                min        5.000000      5.000000      7.460000      5.000000   \n",
       "                25%       54.000000     50.000000     40.000000     50.000000   \n",
       "                50%      114.000000    102.000000    100.000000    100.000000   \n",
       "                75%      285.000000    200.000000    200.000000    220.000000   \n",
       "                max     1600.000000   2009.000000   2009.000000   2009.000000   \n",
       "discount_proc   count    739.000000    680.000000    819.000000    781.000000   \n",
       "                mean      13.209540     12.854221     12.892869     12.512868   \n",
       "                std        7.959704      7.976312      8.080942      7.720850   \n",
       "                min        0.500000      0.500000      0.500000      0.500000   \n",
       "                25%        7.815000      7.157500      7.000000      6.940000   \n",
       "                50%       11.660000     11.120000     11.120000     10.940000   \n",
       "                75%       16.700000     16.680000     16.695000     16.390000   \n",
       "                max       68.240000     60.030000     50.020000     50.030000   \n",
       "\n",
       "weekday                           5             6             7  \n",
       "regular         count    860.000000    673.000000    833.000000  \n",
       "                mean    1999.182547   2335.943626   2003.296134  \n",
       "                std     2348.886113   2458.991420   2373.002152  \n",
       "                min       15.990000     29.990000     29.990000  \n",
       "                25%      399.000000    649.000000    399.000000  \n",
       "                50%     1209.000000   1699.000000   1249.000000  \n",
       "                75%     2599.000000   2999.000000   2599.000000  \n",
       "                max    20099.000000  20099.000000  20099.000000  \n",
       "discount        count    860.000000    673.000000    833.000000  \n",
       "                mean    1821.320291   2131.789673   1823.850576  \n",
       "                std     2207.518669   2316.076551   2231.373078  \n",
       "                min        9.990000     14.990000     14.990000  \n",
       "                25%      341.000000    549.000000    329.000000  \n",
       "                50%     1099.000000   1499.000000   1099.000000  \n",
       "                75%     2399.000000   2699.000000   2399.000000  \n",
       "                max    19999.000000  19999.000000  19999.000000  \n",
       "discount_amount count    860.000000    673.000000    833.000000  \n",
       "                mean     177.862256    204.153952    179.445558  \n",
       "                std      192.922059    199.353093    193.116304  \n",
       "                min        6.000000     10.000000      7.460000  \n",
       "                25%       44.000000     70.000000     47.000000  \n",
       "                50%      100.000000    160.000000    100.000000  \n",
       "                75%      212.500000    300.000000    240.000000  \n",
       "                max     2009.000000   2009.000000   2009.000000  \n",
       "discount_proc   count    860.000000    673.000000    833.000000  \n",
       "                mean      12.531593     11.740981     12.617107  \n",
       "                std        7.832575      7.084350      7.732465  \n",
       "                min        0.500000      0.500000      0.500000  \n",
       "                25%        6.980000      6.850000      7.150000  \n",
       "                50%       10.740000     10.050000     11.110000  \n",
       "                75%       16.672500     14.930000     16.680000  \n",
       "                max       50.170000     50.020000     56.260000  "
      ]
     },
     "execution_count": 17,
     "metadata": {},
     "output_type": "execute_result"
    }
   ],
   "source": [
    "df.set_index(['weekday'])[['regular', 'discount', 'discount_amount', 'discount_proc']].groupby('weekday').describe().T"
   ]
  },
  {
   "cell_type": "markdown",
   "id": "846fb883",
   "metadata": {},
   "source": [
    "### 4.2 Analiza zmiennych numerycznych"
   ]
  },
  {
   "cell_type": "markdown",
   "id": "227a5985",
   "metadata": {},
   "source": [
    "#### 4.2.1 Liczba ofert i produktów"
   ]
  },
  {
   "cell_type": "markdown",
   "id": "4abdeb44",
   "metadata": {},
   "source": [
    "#### Ogólnie liczba produktów promocyjnych"
   ]
  },
  {
   "cell_type": "code",
   "execution_count": 18,
   "id": "e878a16b",
   "metadata": {
    "scrolled": true
   },
   "outputs": [
    {
     "name": "stdout",
     "output_type": "stream",
     "text": [
      "Liczba unikalnych ofert w promocji: 1521\n"
     ]
    }
   ],
   "source": [
    "print(f'Liczba unikalnych ofert w promocji: {len(df.plu.unique())}')"
   ]
  },
  {
   "cell_type": "markdown",
   "id": "3e8f3945",
   "metadata": {},
   "source": [
    "#### Ogólnie liczba ofert w poszczególnych dniach tygodnia"
   ]
  },
  {
   "cell_type": "code",
   "execution_count": 19,
   "id": "0fd77e15",
   "metadata": {},
   "outputs": [
    {
     "data": {
      "text/html": [
       "<div>\n",
       "<style scoped>\n",
       "    .dataframe tbody tr th:only-of-type {\n",
       "        vertical-align: middle;\n",
       "    }\n",
       "\n",
       "    .dataframe tbody tr th {\n",
       "        vertical-align: top;\n",
       "    }\n",
       "\n",
       "    .dataframe thead th {\n",
       "        text-align: right;\n",
       "    }\n",
       "</style>\n",
       "<table border=\"1\" class=\"dataframe\">\n",
       "  <thead>\n",
       "    <tr style=\"text-align: right;\">\n",
       "      <th>weekday</th>\n",
       "      <th>1</th>\n",
       "      <th>2</th>\n",
       "      <th>3</th>\n",
       "      <th>4</th>\n",
       "      <th>5</th>\n",
       "      <th>6</th>\n",
       "      <th>7</th>\n",
       "    </tr>\n",
       "  </thead>\n",
       "  <tbody>\n",
       "    <tr>\n",
       "      <th>count</th>\n",
       "      <td>739</td>\n",
       "      <td>680</td>\n",
       "      <td>819</td>\n",
       "      <td>781</td>\n",
       "      <td>860</td>\n",
       "      <td>673</td>\n",
       "      <td>833</td>\n",
       "    </tr>\n",
       "  </tbody>\n",
       "</table>\n",
       "</div>"
      ],
      "text/plain": [
       "weekday    1    2    3    4    5    6    7\n",
       "count    739  680  819  781  860  673  833"
      ]
     },
     "execution_count": 19,
     "metadata": {},
     "output_type": "execute_result"
    }
   ],
   "source": [
    "amount = df.set_index('weekday').groupby('weekday')['plu'].agg(['count'])\n",
    "amount = amount.T\n",
    "amount"
   ]
  },
  {
   "cell_type": "code",
   "execution_count": 20,
   "id": "0d7e9415",
   "metadata": {},
   "outputs": [
    {
     "data": {
      "image/png": "[encoded data removed]",
      "text/plain": [
       "<Figure size 1008x360 with 1 Axes>"
      ]
     },
     "metadata": {
      "needs_background": "light"
     },
     "output_type": "display_data"
    }
   ],
   "source": [
    "plt.figure(figsize=(14,5))\n",
    "plt.bar(amount.columns.tolist(), amount.iloc[0].values, label='liczba ofert')\n",
    "plt.title('liczba promocyjnych ofert w poszczególnych dniach tygodnia')\n",
    "plt.xlabel('dzień tygodnia')\n",
    "plt.ylabel('licyba ofert')\n",
    "plt.axhline(y=amount.iloc[0].values.mean(), color = 'r', linestyle = '-', label='średnia')\n",
    "plt.legend(loc='lower left')\n",
    "plt.grid()\n",
    "plt.show()"
   ]
  },
  {
   "cell_type": "code",
   "execution_count": 21,
   "id": "ff060a35",
   "metadata": {},
   "outputs": [
    {
     "name": "stdout",
     "output_type": "stream",
     "text": [
      "Liczba promocyjnych ofert w poszczególnych dniach tygodnia nie odstaje zbytnio od średniej wynoszącej 769.0 .\n"
     ]
    }
   ],
   "source": [
    "print(f'Liczba promocyjnych ofert w poszczególnych dniach tygodnia nie odstaje zbytnio od średniej wynoszącej {round(amount.iloc[0].values.mean(), 0)} .')"
   ]
  },
  {
   "cell_type": "markdown",
   "id": "41f80293",
   "metadata": {},
   "source": [
    "#### Liczba unikalnych produktów promocyjnych oraz ofert w poszczególnych dniach tygodnia"
   ]
  },
  {
   "cell_type": "code",
   "execution_count": 22,
   "id": "e094b337",
   "metadata": {
    "scrolled": true
   },
   "outputs": [],
   "source": [
    "unique_plu = df.plu.unique()\n",
    "\n",
    "unique_plu_per_day = pd.DataFrame()\n",
    "\n",
    "for day in df.weekday.unique():\n",
    "    current = set(df[df.weekday == day].plu.values)\n",
    "    others = set(df[df.weekday != day].plu.unique())\n",
    "    unique_qty = len(current - others)\n",
    "    unique_plu_per_day = unique_plu_per_day.append({'weekday': day, 'offers_qty': len(current), 'unique_products_qty': unique_qty, 'unique_products_percent': round(unique_qty/len(current)*100,2)}, ignore_index=True)"
   ]
  },
  {
   "cell_type": "code",
   "execution_count": 23,
   "id": "a261983c",
   "metadata": {},
   "outputs": [],
   "source": [
    "unique_offers_per_day = pd.DataFrame()\n",
    "\n",
    "for day in df.weekday.unique():\n",
    "    \n",
    "    current = df[df.weekday == day][['plu','regular','discount_amount']].to_string(header=False, index=False, index_names=False).split('\\n')\n",
    "    current = set([','.join(ele.split()) for ele in current])\n",
    "   \n",
    "    others = df[df.weekday < day][['plu','regular','discount_amount']].to_string(header=False, index=False, index_names=False).split('\\n')\n",
    "    others = set([','.join(ele.split()) for ele in others])\n",
    "    \n",
    "    unique_offers_qty = len(current - others)\n",
    "    \n",
    "    unique_offers_per_day = unique_offers_per_day.append({'weekday': day, 'unique_offers_qty': unique_offers_qty}, ignore_index=True)"
   ]
  },
  {
   "cell_type": "code",
   "execution_count": 24,
   "id": "fc5460fe",
   "metadata": {
    "scrolled": true
   },
   "outputs": [
    {
     "data": {
      "text/html": [
       "<div>\n",
       "<style scoped>\n",
       "    .dataframe tbody tr th:only-of-type {\n",
       "        vertical-align: middle;\n",
       "    }\n",
       "\n",
       "    .dataframe tbody tr th {\n",
       "        vertical-align: top;\n",
       "    }\n",
       "\n",
       "    .dataframe thead th {\n",
       "        text-align: right;\n",
       "    }\n",
       "</style>\n",
       "<table border=\"1\" class=\"dataframe\">\n",
       "  <thead>\n",
       "    <tr style=\"text-align: right;\">\n",
       "      <th></th>\n",
       "      <th>offers_qty</th>\n",
       "      <th>unique_products_percent</th>\n",
       "      <th>unique_products_qty</th>\n",
       "      <th>unique_offers_qty</th>\n",
       "      <th>unique_offers_percent</th>\n",
       "    </tr>\n",
       "    <tr>\n",
       "      <th>weekday</th>\n",
       "      <th></th>\n",
       "      <th></th>\n",
       "      <th></th>\n",
       "      <th></th>\n",
       "      <th></th>\n",
       "    </tr>\n",
       "  </thead>\n",
       "  <tbody>\n",
       "    <tr>\n",
       "      <th>1</th>\n",
       "      <td>738.0</td>\n",
       "      <td>25.20</td>\n",
       "      <td>186.0</td>\n",
       "      <td>738.0</td>\n",
       "      <td>100.00</td>\n",
       "    </tr>\n",
       "    <tr>\n",
       "      <th>2</th>\n",
       "      <td>676.0</td>\n",
       "      <td>11.83</td>\n",
       "      <td>80.0</td>\n",
       "      <td>330.0</td>\n",
       "      <td>48.82</td>\n",
       "    </tr>\n",
       "    <tr>\n",
       "      <th>3</th>\n",
       "      <td>816.0</td>\n",
       "      <td>11.64</td>\n",
       "      <td>95.0</td>\n",
       "      <td>277.0</td>\n",
       "      <td>33.95</td>\n",
       "    </tr>\n",
       "    <tr>\n",
       "      <th>4</th>\n",
       "      <td>780.0</td>\n",
       "      <td>7.05</td>\n",
       "      <td>55.0</td>\n",
       "      <td>143.0</td>\n",
       "      <td>18.33</td>\n",
       "    </tr>\n",
       "    <tr>\n",
       "      <th>5</th>\n",
       "      <td>857.0</td>\n",
       "      <td>3.97</td>\n",
       "      <td>34.0</td>\n",
       "      <td>169.0</td>\n",
       "      <td>19.72</td>\n",
       "    </tr>\n",
       "    <tr>\n",
       "      <th>6</th>\n",
       "      <td>667.0</td>\n",
       "      <td>0.00</td>\n",
       "      <td>0.0</td>\n",
       "      <td>9.0</td>\n",
       "      <td>1.35</td>\n",
       "    </tr>\n",
       "    <tr>\n",
       "      <th>7</th>\n",
       "      <td>832.0</td>\n",
       "      <td>3.37</td>\n",
       "      <td>28.0</td>\n",
       "      <td>41.0</td>\n",
       "      <td>4.93</td>\n",
       "    </tr>\n",
       "  </tbody>\n",
       "</table>\n",
       "</div>"
      ],
      "text/plain": [
       "         offers_qty  unique_products_percent  unique_products_qty  \\\n",
       "weekday                                                             \n",
       "1             738.0                    25.20                186.0   \n",
       "2             676.0                    11.83                 80.0   \n",
       "3             816.0                    11.64                 95.0   \n",
       "4             780.0                     7.05                 55.0   \n",
       "5             857.0                     3.97                 34.0   \n",
       "6             667.0                     0.00                  0.0   \n",
       "7             832.0                     3.37                 28.0   \n",
       "\n",
       "         unique_offers_qty  unique_offers_percent  \n",
       "weekday                                            \n",
       "1                    738.0                 100.00  \n",
       "2                    330.0                  48.82  \n",
       "3                    277.0                  33.95  \n",
       "4                    143.0                  18.33  \n",
       "5                    169.0                  19.72  \n",
       "6                      9.0                   1.35  \n",
       "7                     41.0                   4.93  "
      ]
     },
     "execution_count": 24,
     "metadata": {},
     "output_type": "execute_result"
    }
   ],
   "source": [
    "unique = unique_plu_per_day.merge(unique_offers_per_day, on='weekday')\n",
    "unique['unique_offers_percent'] = round(unique.unique_offers_qty / unique.offers_qty * 100, 2)\n",
    "\n",
    "unique = unique.set_index('weekday').sort_values(by='weekday')\n",
    "unique"
   ]
  },
  {
   "cell_type": "markdown",
   "id": "e0e934da",
   "metadata": {},
   "source": [
    "<p>\n",
    "Z powyższej tabeli wynika, iż większość produktów w promocjach jest powtarzanych. Oczywiście zgodzę się z twierdzeniem, że im szerszy horyzont czasowy zostałby wzięty pod uwagę, to po pewnym czasie wszystkie produkty byłyby już kiedyś w przeszłości w tej promocji.\n",
    "</p><p>\n",
    "Jednakże analizowany okres to jeden tydzień. W sklepie tym znajduje się ponad 30 tysięcy unikalnych produktów (dane z analizy kategorii znajdującej się w tym repozytorium). W analizowanym okresie w promocji występowało 1521 unikalnych produktów im dłużej promocja trwa tym większe prawdopodobieństwo, że widzieliśmy już te promocje w dniach poprzednich.\n",
    "</p><p>\n",
    "Wszystkich jednak zawsze w promocjach najbardziej interesuje cena. Z powyższej tabeli można wywnioskować, że pomimo tego, że produkty powtarzają się w kolejnych dniach tygodnia to cena — czy to w regularna, czy promocyjna — już niekoniecznie. Poniżej wizualizacja w postaci wykresu słupkowego.\n",
    "    </p><p>W dalszej części postaram się przeanalizować, w jakich zakresach ceny produktów oscylują w punkcie 4.2.3.\n",
    "    </p>"
   ]
  },
  {
   "cell_type": "code",
   "execution_count": 25,
   "id": "22b5a469",
   "metadata": {
    "scrolled": true
   },
   "outputs": [
    {
     "data": {
      "image/png": "[encoded data removed]",
      "text/plain": [
       "<Figure size 1008x360 with 1 Axes>"
      ]
     },
     "metadata": {
      "needs_background": "light"
     },
     "output_type": "display_data"
    }
   ],
   "source": [
    "unique[['unique_products_qty','unique_offers_qty']].plot(kind='bar', figsize=(14,5))\n",
    "# ax = plt.subplot(111)\n",
    "# ax.bar(unique.index.values, unique.unique_products_qty.values, label='liczba unikalnych produktów')\n",
    "# ax.bar(unique.index.values, unique.unique_offers_qty.values, label='liczba unikalnych ofert')\n",
    "plt.title('liczba promocyjnych produktów oraz ofert w poszczególnych dniach tygodnia')\n",
    "plt.xlabel('dzień tygodnia')\n",
    "plt.ylabel('licyba ofert')\n",
    "plt.legend(['unikalne produkty', 'unikalne oferty'], loc='lower left')\n",
    "plt.grid()\n",
    "plt.show()"
   ]
  },
  {
   "cell_type": "markdown",
   "id": "31e254ba",
   "metadata": {},
   "source": [
    "#### 4.2.2 'regular' - czli cena regularna"
   ]
  },
  {
   "cell_type": "code",
   "execution_count": 26,
   "id": "a48e2cbe",
   "metadata": {},
   "outputs": [
    {
     "data": {
      "image/png": "[encoded data removed]",
      "text/plain": [
       "<Figure size 1008x360 with 1 Axes>"
      ]
     },
     "metadata": {
      "needs_background": "light"
     },
     "output_type": "display_data"
    }
   ],
   "source": [
    "df[['category','regular']].boxplot(vert=False, figsize=(14,5))\n",
    "plt.xlabel('wartość regularna produktu')\n",
    "plt.show()"
   ]
  },
  {
   "cell_type": "markdown",
   "id": "fd98aa6e",
   "metadata": {},
   "source": [
    "##### przed odjęciem ofert odstających:"
   ]
  },
  {
   "cell_type": "code",
   "execution_count": 27,
   "id": "37de534f",
   "metadata": {},
   "outputs": [
    {
     "data": {
      "text/plain": [
       "count     5385.000000\n",
       "mean      2006.204210\n",
       "std       2377.647407\n",
       "min         15.990000\n",
       "25%        419.000000\n",
       "50%       1249.000000\n",
       "75%       2549.000000\n",
       "max      20099.000000\n",
       "Name: regular, dtype: float64"
      ]
     },
     "execution_count": 27,
     "metadata": {},
     "output_type": "execute_result"
    }
   ],
   "source": [
    "df.regular.describe()"
   ]
  },
  {
   "cell_type": "code",
   "execution_count": 28,
   "id": "4e35db33",
   "metadata": {
    "scrolled": false
   },
   "outputs": [
    {
     "name": "stdout",
     "output_type": "stream",
     "text": [
      "współczynnik zmienności ceny regulaarnej jest bardzo wysoki i wynosi: 118.51%.\n"
     ]
    }
   ],
   "source": [
    "print(f'współczynnik zmienności ceny regulaarnej jest bardzo wysoki i wynosi: {round(df.regular.std() / df.regular.mean() * 100, 2)}%.')"
   ]
  },
  {
   "cell_type": "markdown",
   "id": "3cf1217e",
   "metadata": {},
   "source": [
    "<p>Z powyższego wynika, że produkty promocyjne pochodzą z bardzo różnych przedziałów cenowych.</p>\n",
    "<p>Poniżej histogram ukazujący rozkład ilości ofert w poszczególnych przediałach cenowych.:</p>"
   ]
  },
  {
   "cell_type": "code",
   "execution_count": 29,
   "id": "1b1bd259",
   "metadata": {
    "scrolled": false
   },
   "outputs": [
    {
     "data": {
      "image/png": "[encoded data removed]",
      "text/plain": [
       "<Figure size 432x288 with 1 Axes>"
      ]
     },
     "metadata": {
      "needs_background": "light"
     },
     "output_type": "display_data"
    }
   ],
   "source": [
    "df.regular.hist()\n",
    "plt.show()"
   ]
  },
  {
   "cell_type": "code",
   "execution_count": 30,
   "id": "d6ea555b",
   "metadata": {},
   "outputs": [
    {
     "name": "stdout",
     "output_type": "stream",
     "text": [
      "Większość przecenianianych produktów mieści się w następującym przedziale cenowym: [419.0, 2549.0] złotych.\n"
     ]
    }
   ],
   "source": [
    "print(f'Większość przecenianianych produktów mieści się w następującym przedziale cenowym: {df.regular.quantile([.25,.75]).tolist()} złotych.')"
   ]
  },
  {
   "cell_type": "markdown",
   "id": "15eba3c1",
   "metadata": {},
   "source": [
    "##### po odjeciu ofert odstających:"
   ]
  },
  {
   "cell_type": "code",
   "execution_count": 31,
   "id": "6feaa11c",
   "metadata": {},
   "outputs": [],
   "source": [
    "q1, q3 = df.regular.quantile([.25,.75])\n",
    "iqr = q3 - q1\n",
    "lower_boundary = q1 - iqr * 1.5 \n",
    "upper_boundary = q3 + iqr * 1.5 \n",
    "regular_without_outliers = df[(df.regular > lower_boundary) & (df.regular < upper_boundary)]"
   ]
  },
  {
   "cell_type": "code",
   "execution_count": 32,
   "id": "8e1a9440",
   "metadata": {},
   "outputs": [
    {
     "data": {
      "text/plain": [
       "count    5009.000000\n",
       "mean     1505.920477\n",
       "std      1353.153642\n",
       "min        15.990000\n",
       "25%       399.000000\n",
       "50%      1099.000000\n",
       "75%      2239.000000\n",
       "max      5699.000000\n",
       "Name: regular, dtype: float64"
      ]
     },
     "execution_count": 32,
     "metadata": {},
     "output_type": "execute_result"
    }
   ],
   "source": [
    "regular_without_outliers.regular.describe()"
   ]
  },
  {
   "cell_type": "code",
   "execution_count": 33,
   "id": "85221b8f",
   "metadata": {
    "scrolled": false
   },
   "outputs": [
    {
     "name": "stdout",
     "output_type": "stream",
     "text": [
      "Współczynnik zmienności ceny regulaarnej po odjęciu ofert odstających nadal jest bardzo wysoki i wynosi: 89.86%.\n"
     ]
    }
   ],
   "source": [
    "print(f'Współczynnik zmienności ceny regulaarnej po odjęciu ofert odstających nadal jest bardzo wysoki i wynosi: {round(regular_without_outliers.regular.std() / regular_without_outliers.regular.mean() * 100, 2)}%.')"
   ]
  },
  {
   "cell_type": "code",
   "execution_count": 34,
   "id": "fe3747df",
   "metadata": {
    "scrolled": true
   },
   "outputs": [
    {
     "data": {
      "image/png": "[encoded data removed]",
      "text/plain": [
       "<Figure size 432x288 with 1 Axes>"
      ]
     },
     "metadata": {
      "needs_background": "light"
     },
     "output_type": "display_data"
    }
   ],
   "source": [
    "regular_without_outliers.regular.hist()\n",
    "plt.show()"
   ]
  },
  {
   "cell_type": "code",
   "execution_count": 35,
   "id": "5776f02a",
   "metadata": {},
   "outputs": [
    {
     "name": "stdout",
     "output_type": "stream",
     "text": [
      "Ewidentnie widać, iż większość przecenianianych produktów mieści się w następującym przedziale cenowym: [399.0, 2239.0]\n"
     ]
    }
   ],
   "source": [
    "print(f'Ewidentnie widać, iż większość przecenianianych produktów mieści się w następującym przedziale cenowym: {regular_without_outliers.regular.quantile([.25,.75]).tolist()}')"
   ]
  },
  {
   "cell_type": "markdown",
   "id": "48b4784a",
   "metadata": {},
   "source": [
    "#### 4.2.2 'discount_amount' - wartość rabatu i jego zmienność"
   ]
  },
  {
   "cell_type": "code",
   "execution_count": 36,
   "id": "83c62070",
   "metadata": {},
   "outputs": [
    {
     "data": {
      "image/png": "[encoded data removed]",
      "text/plain": [
       "<Figure size 1008x360 with 1 Axes>"
      ]
     },
     "metadata": {
      "needs_background": "light"
     },
     "output_type": "display_data"
    }
   ],
   "source": [
    "df[['category','discount_amount']].boxplot(vert=False, figsize=(14,5))\n",
    "plt.xlabel('wartość rabatu')\n",
    "plt.show()"
   ]
  },
  {
   "cell_type": "markdown",
   "id": "6bfee8c9",
   "metadata": {},
   "source": [
    "##### przed odjęciem ofert odstających:"
   ]
  },
  {
   "cell_type": "code",
   "execution_count": 37,
   "id": "d2489317",
   "metadata": {
    "scrolled": false
   },
   "outputs": [
    {
     "data": {
      "text/plain": [
       "count    5385.000000\n",
       "mean      181.473513\n",
       "std       197.526221\n",
       "min         5.000000\n",
       "25%        50.000000\n",
       "50%       104.000000\n",
       "75%       240.000000\n",
       "max      2009.000000\n",
       "Name: discount_amount, dtype: float64"
      ]
     },
     "execution_count": 37,
     "metadata": {},
     "output_type": "execute_result"
    }
   ],
   "source": [
    "df.discount_amount.describe()"
   ]
  },
  {
   "cell_type": "markdown",
   "id": "45198abc",
   "metadata": {},
   "source": [
    "<p>Rozkład wartości rabatu:</p>"
   ]
  },
  {
   "cell_type": "code",
   "execution_count": 38,
   "id": "f18161bb",
   "metadata": {
    "scrolled": false
   },
   "outputs": [
    {
     "data": {
      "image/png": "[encoded data removed]",
      "text/plain": [
       "<Figure size 432x288 with 1 Axes>"
      ]
     },
     "metadata": {
      "needs_background": "light"
     },
     "output_type": "display_data"
    }
   ],
   "source": [
    "df.discount_amount.hist()\n",
    "plt.show()"
   ]
  },
  {
   "cell_type": "markdown",
   "id": "354b3a08",
   "metadata": {},
   "source": [
    "##### po odjęciu ofert odstających:"
   ]
  },
  {
   "cell_type": "code",
   "execution_count": 39,
   "id": "1d127318",
   "metadata": {},
   "outputs": [],
   "source": [
    "q1, q3 = df.discount_amount.quantile([.25,.75])\n",
    "iqr = q3 - q1\n",
    "lower_boundary = q1 - iqr * 1.5\n",
    "upper_boundary = q3 + iqr * 1.5\n",
    "discount_amount_wo = df[(df.discount_amount > lower_boundary) & (df.discount_amount < upper_boundary)].discount_amount"
   ]
  },
  {
   "cell_type": "code",
   "execution_count": 40,
   "id": "c8e41fcc",
   "metadata": {
    "scrolled": true
   },
   "outputs": [
    {
     "data": {
      "text/plain": [
       "count    5169.000000\n",
       "mean      152.999781\n",
       "std       129.285811\n",
       "min         5.000000\n",
       "25%        50.000000\n",
       "50%       100.000000\n",
       "75%       200.000000\n",
       "max       504.000000\n",
       "Name: discount_amount, dtype: float64"
      ]
     },
     "execution_count": 40,
     "metadata": {},
     "output_type": "execute_result"
    }
   ],
   "source": [
    "discount_amount_wo.describe()"
   ]
  },
  {
   "cell_type": "markdown",
   "id": "360c275b",
   "metadata": {},
   "source": [
    "<p>Rozkład warości rabatu:</p>"
   ]
  },
  {
   "cell_type": "code",
   "execution_count": 41,
   "id": "68818128",
   "metadata": {
    "scrolled": true
   },
   "outputs": [
    {
     "data": {
      "image/png": "[encoded data removed]",
      "text/plain": [
       "<Figure size 432x288 with 1 Axes>"
      ]
     },
     "metadata": {
      "needs_background": "light"
     },
     "output_type": "display_data"
    }
   ],
   "source": [
    "discount_amount_wo.hist()\n",
    "plt.show()"
   ]
  },
  {
   "cell_type": "markdown",
   "id": "a3c7071d",
   "metadata": {},
   "source": [
    "#### 4.2.3 'discount_proc' - czyli procent rabatu"
   ]
  },
  {
   "cell_type": "code",
   "execution_count": 42,
   "id": "84aa747d",
   "metadata": {},
   "outputs": [
    {
     "data": {
      "image/png": "[encoded data removed]",
      "text/plain": [
       "<Figure size 1008x360 with 1 Axes>"
      ]
     },
     "metadata": {
      "needs_background": "light"
     },
     "output_type": "display_data"
    }
   ],
   "source": [
    "df[['category','discount_proc']].boxplot(vert=False, figsize=(14,5))\n",
    "plt.xlabel('procent rabatu')\n",
    "plt.show()"
   ]
  },
  {
   "cell_type": "code",
   "execution_count": 43,
   "id": "173299fa",
   "metadata": {
    "scrolled": false
   },
   "outputs": [
    {
     "data": {
      "text/plain": [
       "count    5385.000000\n",
       "mean       12.632020\n",
       "std         7.792485\n",
       "min         0.500000\n",
       "25%         7.150000\n",
       "50%        11.110000\n",
       "75%        16.670000\n",
       "max        68.240000\n",
       "Name: discount_proc, dtype: float64"
      ]
     },
     "execution_count": 43,
     "metadata": {},
     "output_type": "execute_result"
    }
   ],
   "source": [
    "df.discount_proc.describe()"
   ]
  },
  {
   "cell_type": "code",
   "execution_count": 44,
   "id": "4dd3dcfa",
   "metadata": {
    "scrolled": true
   },
   "outputs": [
    {
     "data": {
      "image/png": "[encoded data removed]",
      "text/plain": [
       "<Figure size 432x288 with 1 Axes>"
      ]
     },
     "metadata": {
      "needs_background": "light"
     },
     "output_type": "display_data"
    }
   ],
   "source": [
    "df.discount_proc.hist()\n",
    "plt.show()"
   ]
  },
  {
   "cell_type": "markdown",
   "id": "508056b0",
   "metadata": {},
   "source": [
    "### 4.3 Analiza zmiennych kategorycznych"
   ]
  },
  {
   "cell_type": "markdown",
   "id": "d424a652",
   "metadata": {},
   "source": [
    "#### 4.3.1 'availability' - czyli dostępność produktów"
   ]
  },
  {
   "cell_type": "code",
   "execution_count": 45,
   "id": "29e8d96c",
   "metadata": {
    "scrolled": true
   },
   "outputs": [
    {
     "data": {
      "text/html": [
       "<div>\n",
       "<style scoped>\n",
       "    .dataframe tbody tr th:only-of-type {\n",
       "        vertical-align: middle;\n",
       "    }\n",
       "\n",
       "    .dataframe tbody tr th {\n",
       "        vertical-align: top;\n",
       "    }\n",
       "\n",
       "    .dataframe thead th {\n",
       "        text-align: right;\n",
       "    }\n",
       "</style>\n",
       "<table border=\"1\" class=\"dataframe\">\n",
       "  <thead>\n",
       "    <tr style=\"text-align: right;\">\n",
       "      <th></th>\n",
       "      <th>qty</th>\n",
       "      <th>percent</th>\n",
       "    </tr>\n",
       "    <tr>\n",
       "      <th>availability</th>\n",
       "      <th></th>\n",
       "      <th></th>\n",
       "    </tr>\n",
       "  </thead>\n",
       "  <tbody>\n",
       "    <tr>\n",
       "      <th>do koszyka</th>\n",
       "      <td>5364</td>\n",
       "      <td>99.61</td>\n",
       "    </tr>\n",
       "    <tr>\n",
       "      <th>obejrzyj w sklepie</th>\n",
       "      <td>21</td>\n",
       "      <td>0.39</td>\n",
       "    </tr>\n",
       "  </tbody>\n",
       "</table>\n",
       "</div>"
      ],
      "text/plain": [
       "                     qty  percent\n",
       "availability                     \n",
       "do koszyka          5364    99.61\n",
       "obejrzyj w sklepie    21     0.39"
      ]
     },
     "execution_count": 45,
     "metadata": {},
     "output_type": "execute_result"
    }
   ],
   "source": [
    "availability_general = df.groupby('availability').agg(qty=('plu', 'count'))\n",
    "availability_general['percent'] = round(availability_general.qty/availability_general.qty.sum() * 100, 2)\n",
    "availability_general"
   ]
  },
  {
   "cell_type": "markdown",
   "id": "dea6b95e",
   "metadata": {},
   "source": [
    "<p>\n",
    "   Produkty promocyjne dzielą się na dwie kategorie, jeśli chodzi o dostępność. Dostępność produktu determinuje, w jaki sposób można do zakupić.\n",
    "    </p>\n",
    "    <p>\n",
    "    Z powyższej tabeli wynika, że większość produktów dostępnych do kupienia w promocji można zarezerwować / kupić przez internet, a po 0.39% produktów należy udać się do sklepu stacjonarnego.\n",
    "    </p>"
   ]
  },
  {
   "cell_type": "markdown",
   "id": "99810c57",
   "metadata": {},
   "source": [
    "#### 4.3.2 'parent_category' - czyli popularność kategorii głównych"
   ]
  },
  {
   "cell_type": "code",
   "execution_count": 46,
   "id": "1d7c269a",
   "metadata": {},
   "outputs": [
    {
     "name": "stdout",
     "output_type": "stream",
     "text": [
      "Podczas całego analizowanego okresu w promocji udział brały produkty z 7 kategorii głównych.\n"
     ]
    }
   ],
   "source": [
    "print(f'Podczas całego analizowanego okresu w promocji udział brały produkty z {len(df.parent_category.unique())} kategorii głównych.')"
   ]
  },
  {
   "cell_type": "code",
   "execution_count": 47,
   "id": "5bbca071",
   "metadata": {
    "scrolled": false
   },
   "outputs": [
    {
     "data": {
      "text/html": [
       "<div>\n",
       "<style scoped>\n",
       "    .dataframe tbody tr th:only-of-type {\n",
       "        vertical-align: middle;\n",
       "    }\n",
       "\n",
       "    .dataframe tbody tr th {\n",
       "        vertical-align: top;\n",
       "    }\n",
       "\n",
       "    .dataframe thead th {\n",
       "        text-align: right;\n",
       "    }\n",
       "</style>\n",
       "<table border=\"1\" class=\"dataframe\">\n",
       "  <thead>\n",
       "    <tr style=\"text-align: right;\">\n",
       "      <th></th>\n",
       "      <th>qty</th>\n",
       "      <th>proc</th>\n",
       "    </tr>\n",
       "    <tr>\n",
       "      <th>parent_category</th>\n",
       "      <th></th>\n",
       "      <th></th>\n",
       "    </tr>\n",
       "  </thead>\n",
       "  <tbody>\n",
       "    <tr>\n",
       "      <th>agd</th>\n",
       "      <td>2148</td>\n",
       "      <td>39.89</td>\n",
       "    </tr>\n",
       "    <tr>\n",
       "      <th>agd-male</th>\n",
       "      <td>904</td>\n",
       "      <td>16.79</td>\n",
       "    </tr>\n",
       "    <tr>\n",
       "      <th>rtv</th>\n",
       "      <td>884</td>\n",
       "      <td>16.42</td>\n",
       "    </tr>\n",
       "    <tr>\n",
       "      <th>komputery</th>\n",
       "      <td>632</td>\n",
       "      <td>11.74</td>\n",
       "    </tr>\n",
       "    <tr>\n",
       "      <th>agd-do-zabudowy</th>\n",
       "      <td>447</td>\n",
       "      <td>8.30</td>\n",
       "    </tr>\n",
       "    <tr>\n",
       "      <th>telefony-i-nawigacja-gps</th>\n",
       "      <td>283</td>\n",
       "      <td>5.26</td>\n",
       "    </tr>\n",
       "    <tr>\n",
       "      <th>gry-i-konsole</th>\n",
       "      <td>87</td>\n",
       "      <td>1.62</td>\n",
       "    </tr>\n",
       "  </tbody>\n",
       "</table>\n",
       "</div>"
      ],
      "text/plain": [
       "                           qty   proc\n",
       "parent_category                      \n",
       "agd                       2148  39.89\n",
       "agd-male                   904  16.79\n",
       "rtv                        884  16.42\n",
       "komputery                  632  11.74\n",
       "agd-do-zabudowy            447   8.30\n",
       "telefony-i-nawigacja-gps   283   5.26\n",
       "gry-i-konsole               87   1.62"
      ]
     },
     "execution_count": 47,
     "metadata": {},
     "output_type": "execute_result"
    }
   ],
   "source": [
    "parent_category_general = df.groupby('parent_category').agg(qty=('plu','count'))\n",
    "parent_category_general['proc'] = round(parent_category_general.qty / df.plu.count() * 100, 2)\n",
    "parent_category_general.sort_values(by='proc', ascending=False)"
   ]
  },
  {
   "cell_type": "code",
   "execution_count": 48,
   "id": "59640817",
   "metadata": {
    "scrolled": true
   },
   "outputs": [
    {
     "data": {
      "image/png": "[encoded data removed]",
      "text/plain": [
       "<Figure size 1008x360 with 1 Axes>"
      ]
     },
     "metadata": {
      "needs_background": "light"
     },
     "output_type": "display_data"
    }
   ],
   "source": [
    "fig = plt.figure(figsize=(14,5))\n",
    "plt.bar(parent_category_general.index, parent_category_general.qty, label='liczba ofert')\n",
    "plt.axhline(y=parent_category_general.qty.mean(), color = 'r', linestyle = '-', label='średnia')\n",
    "plt.axhline(y=parent_category_general.qty.median(), color = 'g', linestyle = '-', label='mediana')\n",
    "plt.title('liczba ofert w poszczególnych kategoriach główncyh')\n",
    "plt.legend()\n",
    "plt.show()"
   ]
  },
  {
   "cell_type": "code",
   "execution_count": 49,
   "id": "a2204883",
   "metadata": {
    "scrolled": true
   },
   "outputs": [
    {
     "data": {
      "image/png": "[encoded data removed]",
      "text/plain": [
       "<Figure size 432x432 with 1 Axes>"
      ]
     },
     "metadata": {},
     "output_type": "display_data"
    }
   ],
   "source": [
    "parent_category_general['proc'].plot.pie(autopct='%1.1f%%', figsize=(6,6))\n",
    "plt.title('procentowy udział poszczególnych kategorii główncyh')\n",
    "plt.ylabel('')\n",
    "plt.legend(loc='lower left', bbox_to_anchor=(1,.5))\n",
    "plt.show()"
   ]
  },
  {
   "cell_type": "code",
   "execution_count": 50,
   "id": "31835e3f",
   "metadata": {},
   "outputs": [],
   "source": [
    "parent_category_by_weekday = df.groupby(['weekday', 'parent_category']).agg(qty=('plu', 'count')).reset_index()\n",
    "parent_category_by_weekday = parent_category_by_weekday.merge(unique.offers_qty.reset_index(), on='weekday')\n",
    "parent_category_by_weekday['percent'] = round(parent_category_by_weekday.qty / parent_category_by_weekday.offers_qty * 100, 2)\n",
    "parent_category_by_weekday.drop('offers_qty', axis=1, inplace=True)"
   ]
  },
  {
   "cell_type": "code",
   "execution_count": 51,
   "id": "4101eaf0",
   "metadata": {},
   "outputs": [],
   "source": [
    "pivot = parent_category_by_weekday.pivot(index='weekday', columns='parent_category', values=['qty', 'percent'])"
   ]
  },
  {
   "cell_type": "code",
   "execution_count": 52,
   "id": "3afcf3e8",
   "metadata": {
    "scrolled": true
   },
   "outputs": [
    {
     "data": {
      "text/html": [
       "<div>\n",
       "<style scoped>\n",
       "    .dataframe tbody tr th:only-of-type {\n",
       "        vertical-align: middle;\n",
       "    }\n",
       "\n",
       "    .dataframe tbody tr th {\n",
       "        vertical-align: top;\n",
       "    }\n",
       "\n",
       "    .dataframe thead th {\n",
       "        text-align: right;\n",
       "    }\n",
       "</style>\n",
       "<table border=\"1\" class=\"dataframe\">\n",
       "  <thead>\n",
       "    <tr style=\"text-align: right;\">\n",
       "      <th>parent_category</th>\n",
       "      <th>agd</th>\n",
       "      <th>agd-do-zabudowy</th>\n",
       "      <th>agd-male</th>\n",
       "      <th>gry-i-konsole</th>\n",
       "      <th>komputery</th>\n",
       "      <th>rtv</th>\n",
       "      <th>telefony-i-nawigacja-gps</th>\n",
       "    </tr>\n",
       "    <tr>\n",
       "      <th>weekday</th>\n",
       "      <th></th>\n",
       "      <th></th>\n",
       "      <th></th>\n",
       "      <th></th>\n",
       "      <th></th>\n",
       "      <th></th>\n",
       "      <th></th>\n",
       "    </tr>\n",
       "  </thead>\n",
       "  <tbody>\n",
       "    <tr>\n",
       "      <th>1</th>\n",
       "      <td>44.04</td>\n",
       "      <td>11.38</td>\n",
       "      <td>14.77</td>\n",
       "      <td>0.54</td>\n",
       "      <td>9.35</td>\n",
       "      <td>16.26</td>\n",
       "      <td>3.79</td>\n",
       "    </tr>\n",
       "    <tr>\n",
       "      <th>2</th>\n",
       "      <td>39.05</td>\n",
       "      <td>8.73</td>\n",
       "      <td>19.67</td>\n",
       "      <td>2.81</td>\n",
       "      <td>6.95</td>\n",
       "      <td>17.75</td>\n",
       "      <td>5.62</td>\n",
       "    </tr>\n",
       "    <tr>\n",
       "      <th>3</th>\n",
       "      <td>40.44</td>\n",
       "      <td>7.60</td>\n",
       "      <td>16.42</td>\n",
       "      <td>1.96</td>\n",
       "      <td>10.29</td>\n",
       "      <td>16.05</td>\n",
       "      <td>7.60</td>\n",
       "    </tr>\n",
       "    <tr>\n",
       "      <th>4</th>\n",
       "      <td>39.36</td>\n",
       "      <td>8.08</td>\n",
       "      <td>17.18</td>\n",
       "      <td>1.67</td>\n",
       "      <td>14.49</td>\n",
       "      <td>16.79</td>\n",
       "      <td>2.56</td>\n",
       "    </tr>\n",
       "    <tr>\n",
       "      <th>5</th>\n",
       "      <td>39.44</td>\n",
       "      <td>7.35</td>\n",
       "      <td>14.70</td>\n",
       "      <td>1.87</td>\n",
       "      <td>12.72</td>\n",
       "      <td>16.80</td>\n",
       "      <td>7.47</td>\n",
       "    </tr>\n",
       "    <tr>\n",
       "      <th>6</th>\n",
       "      <td>37.03</td>\n",
       "      <td>7.95</td>\n",
       "      <td>18.74</td>\n",
       "      <td>1.65</td>\n",
       "      <td>14.84</td>\n",
       "      <td>19.34</td>\n",
       "      <td>1.35</td>\n",
       "    </tr>\n",
       "    <tr>\n",
       "      <th>7</th>\n",
       "      <td>40.50</td>\n",
       "      <td>7.57</td>\n",
       "      <td>17.19</td>\n",
       "      <td>0.96</td>\n",
       "      <td>13.34</td>\n",
       "      <td>13.10</td>\n",
       "      <td>7.45</td>\n",
       "    </tr>\n",
       "  </tbody>\n",
       "</table>\n",
       "</div>"
      ],
      "text/plain": [
       "parent_category    agd  agd-do-zabudowy  agd-male  gry-i-konsole  komputery  \\\n",
       "weekday                                                                       \n",
       "1                44.04            11.38     14.77           0.54       9.35   \n",
       "2                39.05             8.73     19.67           2.81       6.95   \n",
       "3                40.44             7.60     16.42           1.96      10.29   \n",
       "4                39.36             8.08     17.18           1.67      14.49   \n",
       "5                39.44             7.35     14.70           1.87      12.72   \n",
       "6                37.03             7.95     18.74           1.65      14.84   \n",
       "7                40.50             7.57     17.19           0.96      13.34   \n",
       "\n",
       "parent_category    rtv  telefony-i-nawigacja-gps  \n",
       "weekday                                           \n",
       "1                16.26                      3.79  \n",
       "2                17.75                      5.62  \n",
       "3                16.05                      7.60  \n",
       "4                16.79                      2.56  \n",
       "5                16.80                      7.47  \n",
       "6                19.34                      1.35  \n",
       "7                13.10                      7.45  "
      ]
     },
     "execution_count": 52,
     "metadata": {},
     "output_type": "execute_result"
    }
   ],
   "source": [
    "pivot['percent']"
   ]
  },
  {
   "cell_type": "markdown",
   "id": "ad059828",
   "metadata": {},
   "source": [
    "<p>\n",
    "    Powyższa tabela prezentuje procentowy udział każdej z kategorii głównych w ofercie promocyjnej w podziale na poszczególne dni tygodnia.\n",
    "    </p>"
   ]
  },
  {
   "cell_type": "code",
   "execution_count": 53,
   "id": "e84ea021",
   "metadata": {
    "scrolled": true
   },
   "outputs": [
    {
     "data": {
      "text/html": [
       "<div>\n",
       "<style scoped>\n",
       "    .dataframe tbody tr th:only-of-type {\n",
       "        vertical-align: middle;\n",
       "    }\n",
       "\n",
       "    .dataframe tbody tr th {\n",
       "        vertical-align: top;\n",
       "    }\n",
       "\n",
       "    .dataframe thead th {\n",
       "        text-align: right;\n",
       "    }\n",
       "</style>\n",
       "<table border=\"1\" class=\"dataframe\">\n",
       "  <thead>\n",
       "    <tr style=\"text-align: right;\">\n",
       "      <th>parent_category</th>\n",
       "      <th>agd</th>\n",
       "      <th>agd-do-zabudowy</th>\n",
       "      <th>agd-male</th>\n",
       "      <th>gry-i-konsole</th>\n",
       "      <th>komputery</th>\n",
       "      <th>rtv</th>\n",
       "      <th>telefony-i-nawigacja-gps</th>\n",
       "    </tr>\n",
       "    <tr>\n",
       "      <th>weekday</th>\n",
       "      <th></th>\n",
       "      <th></th>\n",
       "      <th></th>\n",
       "      <th></th>\n",
       "      <th></th>\n",
       "      <th></th>\n",
       "      <th></th>\n",
       "    </tr>\n",
       "  </thead>\n",
       "  <tbody>\n",
       "    <tr>\n",
       "      <th>1</th>\n",
       "      <td>325.0</td>\n",
       "      <td>84.0</td>\n",
       "      <td>109.0</td>\n",
       "      <td>4.0</td>\n",
       "      <td>69.0</td>\n",
       "      <td>120.0</td>\n",
       "      <td>28.0</td>\n",
       "    </tr>\n",
       "    <tr>\n",
       "      <th>2</th>\n",
       "      <td>264.0</td>\n",
       "      <td>59.0</td>\n",
       "      <td>133.0</td>\n",
       "      <td>19.0</td>\n",
       "      <td>47.0</td>\n",
       "      <td>120.0</td>\n",
       "      <td>38.0</td>\n",
       "    </tr>\n",
       "    <tr>\n",
       "      <th>3</th>\n",
       "      <td>330.0</td>\n",
       "      <td>62.0</td>\n",
       "      <td>134.0</td>\n",
       "      <td>16.0</td>\n",
       "      <td>84.0</td>\n",
       "      <td>131.0</td>\n",
       "      <td>62.0</td>\n",
       "    </tr>\n",
       "    <tr>\n",
       "      <th>4</th>\n",
       "      <td>307.0</td>\n",
       "      <td>63.0</td>\n",
       "      <td>134.0</td>\n",
       "      <td>13.0</td>\n",
       "      <td>113.0</td>\n",
       "      <td>131.0</td>\n",
       "      <td>20.0</td>\n",
       "    </tr>\n",
       "    <tr>\n",
       "      <th>5</th>\n",
       "      <td>338.0</td>\n",
       "      <td>63.0</td>\n",
       "      <td>126.0</td>\n",
       "      <td>16.0</td>\n",
       "      <td>109.0</td>\n",
       "      <td>144.0</td>\n",
       "      <td>64.0</td>\n",
       "    </tr>\n",
       "    <tr>\n",
       "      <th>6</th>\n",
       "      <td>247.0</td>\n",
       "      <td>53.0</td>\n",
       "      <td>125.0</td>\n",
       "      <td>11.0</td>\n",
       "      <td>99.0</td>\n",
       "      <td>129.0</td>\n",
       "      <td>9.0</td>\n",
       "    </tr>\n",
       "    <tr>\n",
       "      <th>7</th>\n",
       "      <td>337.0</td>\n",
       "      <td>63.0</td>\n",
       "      <td>143.0</td>\n",
       "      <td>8.0</td>\n",
       "      <td>111.0</td>\n",
       "      <td>109.0</td>\n",
       "      <td>62.0</td>\n",
       "    </tr>\n",
       "  </tbody>\n",
       "</table>\n",
       "</div>"
      ],
      "text/plain": [
       "parent_category    agd  agd-do-zabudowy  agd-male  gry-i-konsole  komputery  \\\n",
       "weekday                                                                       \n",
       "1                325.0             84.0     109.0            4.0       69.0   \n",
       "2                264.0             59.0     133.0           19.0       47.0   \n",
       "3                330.0             62.0     134.0           16.0       84.0   \n",
       "4                307.0             63.0     134.0           13.0      113.0   \n",
       "5                338.0             63.0     126.0           16.0      109.0   \n",
       "6                247.0             53.0     125.0           11.0       99.0   \n",
       "7                337.0             63.0     143.0            8.0      111.0   \n",
       "\n",
       "parent_category    rtv  telefony-i-nawigacja-gps  \n",
       "weekday                                           \n",
       "1                120.0                      28.0  \n",
       "2                120.0                      38.0  \n",
       "3                131.0                      62.0  \n",
       "4                131.0                      20.0  \n",
       "5                144.0                      64.0  \n",
       "6                129.0                       9.0  \n",
       "7                109.0                      62.0  "
      ]
     },
     "execution_count": 53,
     "metadata": {},
     "output_type": "execute_result"
    }
   ],
   "source": [
    "pivot['qty']"
   ]
  },
  {
   "cell_type": "markdown",
   "id": "1b564618",
   "metadata": {},
   "source": [
    "<p>Powyższa tabela ilość ofert w każdej z kategorii głównych w ofercie promocyjnej, w podziale na  poszczególne dni tygodnia.</p>"
   ]
  },
  {
   "cell_type": "code",
   "execution_count": 54,
   "id": "d1bd4b60",
   "metadata": {
    "scrolled": false
   },
   "outputs": [
    {
     "data": {
      "image/png": "[encoded data removed]",
      "text/plain": [
       "<Figure size 1008x360 with 1 Axes>"
      ]
     },
     "metadata": {
      "needs_background": "light"
     },
     "output_type": "display_data"
    }
   ],
   "source": [
    "labels = pivot['qty'].columns.tolist()\n",
    "pivot['qty'].plot(kind='bar', figsize=(14,5))\n",
    "plt.title('ilość ofert w poszczególnych kategoriach głównych po dniach tygodnia')\n",
    "plt.xlabel('dzień tygodnia')\n",
    "plt.ylabel('ilość')\n",
    "plt.legend(labels, loc='center left', bbox_to_anchor=(1, 0.5))\n",
    "plt.grid()\n",
    "plt.show()"
   ]
  },
  {
   "cell_type": "code",
   "execution_count": 55,
   "id": "fc2e9dd7",
   "metadata": {},
   "outputs": [
    {
     "data": {
      "image/png": "[encoded data removed]",
      "text/plain": [
       "<Figure size 1008x360 with 1 Axes>"
      ]
     },
     "metadata": {
      "needs_background": "light"
     },
     "output_type": "display_data"
    }
   ],
   "source": [
    "pivot['percent'].plot(kind='bar', stacked=True, figsize=(14,5))\n",
    "plt.legend(labels, loc='center left', bbox_to_anchor=(1, 0.5))\n",
    "plt.title('udział procentowy ofert z poszczególnych kategorii głównych po dnaich tygodnia')\n",
    "plt.xlabel('dzień tygodnia')\n",
    "plt.ylabel('procent')\n",
    "plt.show()"
   ]
  },
  {
   "cell_type": "markdown",
   "id": "a834e24c",
   "metadata": {},
   "source": [
    "#### 4.3.2 'category' - czyli popularność kategorii podrzędnych"
   ]
  },
  {
   "cell_type": "code",
   "execution_count": 56,
   "id": "522822ba",
   "metadata": {
    "scrolled": true
   },
   "outputs": [
    {
     "name": "stdout",
     "output_type": "stream",
     "text": [
      "Podczas całego analizowanego okresu w promocji udział brały produkty z 130 kategorii podrzędnych.\n"
     ]
    }
   ],
   "source": [
    "print(f'Podczas całego analizowanego okresu w promocji udział brały produkty z {len(df.category.unique())} kategorii podrzędnych.')"
   ]
  },
  {
   "cell_type": "code",
   "execution_count": 57,
   "id": "eda41bc5",
   "metadata": {},
   "outputs": [
    {
     "data": {
      "text/html": [
       "<div>\n",
       "<style scoped>\n",
       "    .dataframe tbody tr th:only-of-type {\n",
       "        vertical-align: middle;\n",
       "    }\n",
       "\n",
       "    .dataframe tbody tr th {\n",
       "        vertical-align: top;\n",
       "    }\n",
       "\n",
       "    .dataframe thead th {\n",
       "        text-align: right;\n",
       "    }\n",
       "</style>\n",
       "<table border=\"1\" class=\"dataframe\">\n",
       "  <thead>\n",
       "    <tr style=\"text-align: right;\">\n",
       "      <th></th>\n",
       "      <th>parent_category</th>\n",
       "      <th>how_many_categories</th>\n",
       "    </tr>\n",
       "  </thead>\n",
       "  <tbody>\n",
       "    <tr>\n",
       "      <th>2</th>\n",
       "      <td>agd-male</td>\n",
       "      <td>41</td>\n",
       "    </tr>\n",
       "    <tr>\n",
       "      <th>5</th>\n",
       "      <td>rtv</td>\n",
       "      <td>34</td>\n",
       "    </tr>\n",
       "    <tr>\n",
       "      <th>0</th>\n",
       "      <td>agd</td>\n",
       "      <td>20</td>\n",
       "    </tr>\n",
       "    <tr>\n",
       "      <th>4</th>\n",
       "      <td>komputery</td>\n",
       "      <td>14</td>\n",
       "    </tr>\n",
       "    <tr>\n",
       "      <th>6</th>\n",
       "      <td>telefony-i-nawigacja-gps</td>\n",
       "      <td>11</td>\n",
       "    </tr>\n",
       "    <tr>\n",
       "      <th>1</th>\n",
       "      <td>agd-do-zabudowy</td>\n",
       "      <td>7</td>\n",
       "    </tr>\n",
       "    <tr>\n",
       "      <th>3</th>\n",
       "      <td>gry-i-konsole</td>\n",
       "      <td>3</td>\n",
       "    </tr>\n",
       "  </tbody>\n",
       "</table>\n",
       "</div>"
      ],
      "text/plain": [
       "            parent_category  how_many_categories\n",
       "2                  agd-male                   41\n",
       "5                       rtv                   34\n",
       "0                       agd                   20\n",
       "4                 komputery                   14\n",
       "6  telefony-i-nawigacja-gps                   11\n",
       "1           agd-do-zabudowy                    7\n",
       "3             gry-i-konsole                    3"
      ]
     },
     "execution_count": 57,
     "metadata": {},
     "output_type": "execute_result"
    }
   ],
   "source": [
    "how_many_categrories_in_parent = df.groupby('parent_category').category.apply(lambda x: len(set(x))).reset_index().sort_values(by='category', ascending=False)\n",
    "how_many_categrories_in_parent.rename(columns={'category': 'how_many_categories'}, inplace=True)\n",
    "how_many_categrories_in_parent"
   ]
  },
  {
   "cell_type": "code",
   "execution_count": 58,
   "id": "9a049fbe",
   "metadata": {
    "scrolled": true
   },
   "outputs": [
    {
     "data": {
      "text/html": [
       "<div>\n",
       "<style scoped>\n",
       "    .dataframe tbody tr th:only-of-type {\n",
       "        vertical-align: middle;\n",
       "    }\n",
       "\n",
       "    .dataframe tbody tr th {\n",
       "        vertical-align: top;\n",
       "    }\n",
       "\n",
       "    .dataframe thead th {\n",
       "        text-align: right;\n",
       "    }\n",
       "</style>\n",
       "<table border=\"1\" class=\"dataframe\">\n",
       "  <thead>\n",
       "    <tr style=\"text-align: right;\">\n",
       "      <th></th>\n",
       "      <th>parent_category</th>\n",
       "      <th>how_many_prod</th>\n",
       "      <th>category</th>\n",
       "      <th>proc_of_parent_cat</th>\n",
       "    </tr>\n",
       "  </thead>\n",
       "  <tbody>\n",
       "    <tr>\n",
       "      <th>4</th>\n",
       "      <td>komputery</td>\n",
       "      <td>154</td>\n",
       "      <td>laptopy-i-netbooki</td>\n",
       "      <td>77.00</td>\n",
       "    </tr>\n",
       "    <tr>\n",
       "      <th>0</th>\n",
       "      <td>agd</td>\n",
       "      <td>138</td>\n",
       "      <td>okapy</td>\n",
       "      <td>23.67</td>\n",
       "    </tr>\n",
       "    <tr>\n",
       "      <th>6</th>\n",
       "      <td>telefony-i-nawigacja-gps</td>\n",
       "      <td>86</td>\n",
       "      <td>smartwatch</td>\n",
       "      <td>48.04</td>\n",
       "    </tr>\n",
       "    <tr>\n",
       "      <th>5</th>\n",
       "      <td>rtv</td>\n",
       "      <td>57</td>\n",
       "      <td>telewizory-led-lcd-plazmowe</td>\n",
       "      <td>21.67</td>\n",
       "    </tr>\n",
       "    <tr>\n",
       "      <th>1</th>\n",
       "      <td>agd-do-zabudowy</td>\n",
       "      <td>48</td>\n",
       "      <td>plyty-do-zabudowy</td>\n",
       "      <td>46.60</td>\n",
       "    </tr>\n",
       "    <tr>\n",
       "      <th>2</th>\n",
       "      <td>agd-male</td>\n",
       "      <td>27</td>\n",
       "      <td>odkurzacze</td>\n",
       "      <td>16.56</td>\n",
       "    </tr>\n",
       "    <tr>\n",
       "      <th>3</th>\n",
       "      <td>gry-i-konsole</td>\n",
       "      <td>18</td>\n",
       "      <td>konsole-xbox-series</td>\n",
       "      <td>60.00</td>\n",
       "    </tr>\n",
       "  </tbody>\n",
       "</table>\n",
       "</div>"
      ],
      "text/plain": [
       "            parent_category  how_many_prod                     category  \\\n",
       "4                 komputery            154           laptopy-i-netbooki   \n",
       "0                       agd            138                        okapy   \n",
       "6  telefony-i-nawigacja-gps             86                   smartwatch   \n",
       "5                       rtv             57  telewizory-led-lcd-plazmowe   \n",
       "1           agd-do-zabudowy             48            plyty-do-zabudowy   \n",
       "2                  agd-male             27                   odkurzacze   \n",
       "3             gry-i-konsole             18          konsole-xbox-series   \n",
       "\n",
       "   proc_of_parent_cat  \n",
       "4               77.00  \n",
       "0               23.67  \n",
       "6               48.04  \n",
       "5               21.67  \n",
       "1               46.60  \n",
       "2               16.56  \n",
       "3               60.00  "
      ]
     },
     "execution_count": 58,
     "metadata": {},
     "output_type": "execute_result"
    }
   ],
   "source": [
    "x = df.drop_duplicates(subset='plu')\n",
    "a = x.groupby(['parent_category', 'category']).agg(how_many_prod=('plu','count')).reset_index()\n",
    "b = a.groupby('parent_category').how_many_prod.max().reset_index()\n",
    "most_popular_categories_by_parent_c = b.merge(a[['category','parent_category', 'how_many_prod']], on=['parent_category', 'how_many_prod'])\n",
    "\n",
    "most_popular_categories_by_parent_c['proc_of_parent_cat'] = most_popular_categories_by_parent_c.parent_category.apply(lambda x: len(set(df[df.parent_category == x].plu)))\n",
    "most_popular_categories_by_parent_c['proc_of_parent_cat'] = round(most_popular_categories_by_parent_c.how_many_prod / most_popular_categories_by_parent_c.proc_of_parent_cat * 100, 2)\n",
    "\n",
    "most_popular_categories_by_parent_c.sort_values(by='how_many_prod', ascending=False)"
   ]
  },
  {
   "cell_type": "markdown",
   "id": "62357fbb",
   "metadata": {},
   "source": [
    "<p>Tabela powyżej prezentuje wśród, jakich kategorii podrzędnych można było liczyć na najbardziej różnorodną ofertę promocyjną oraz jaka miała największy udział w poszczególnej kategorii głównej; prezentuje również jaki procent katgorii głównej stanowi dana kategoria podrzędna w całej ofercie promocyjnej.</p>"
   ]
  },
  {
   "cell_type": "code",
   "execution_count": 59,
   "id": "472690ba",
   "metadata": {},
   "outputs": [],
   "source": [
    "category_general = df.groupby('category').agg(qty=('plu','count'))\n",
    "category_general['proc'] = round(category_general.qty / df.plu.count() * 100, 2)\n",
    "category_general = category_general.sort_values(by='proc', ascending=False)"
   ]
  },
  {
   "cell_type": "markdown",
   "id": "ca7a309e",
   "metadata": {},
   "source": [
    "<p>Poniżej tabela z 10 kategoriami, gdzie oferta była najbardziej różnorodna - znajduje się tam liczba ofert oraz procent, jaki stanowią w stosunku do całej oferty promocyjnej.</p>"
   ]
  },
  {
   "cell_type": "code",
   "execution_count": 60,
   "id": "4fbdfb40",
   "metadata": {
    "scrolled": true
   },
   "outputs": [
    {
     "data": {
      "text/html": [
       "<div>\n",
       "<style scoped>\n",
       "    .dataframe tbody tr th:only-of-type {\n",
       "        vertical-align: middle;\n",
       "    }\n",
       "\n",
       "    .dataframe tbody tr th {\n",
       "        vertical-align: top;\n",
       "    }\n",
       "\n",
       "    .dataframe thead th {\n",
       "        text-align: right;\n",
       "    }\n",
       "</style>\n",
       "<table border=\"1\" class=\"dataframe\">\n",
       "  <thead>\n",
       "    <tr style=\"text-align: right;\">\n",
       "      <th></th>\n",
       "      <th>qty</th>\n",
       "      <th>proc</th>\n",
       "    </tr>\n",
       "    <tr>\n",
       "      <th>category</th>\n",
       "      <th></th>\n",
       "      <th></th>\n",
       "    </tr>\n",
       "  </thead>\n",
       "  <tbody>\n",
       "    <tr>\n",
       "      <th>okapy</th>\n",
       "      <td>766</td>\n",
       "      <td>14.22</td>\n",
       "    </tr>\n",
       "    <tr>\n",
       "      <th>laptopy-i-netbooki</th>\n",
       "      <td>560</td>\n",
       "      <td>10.40</td>\n",
       "    </tr>\n",
       "    <tr>\n",
       "      <th>lodowki</th>\n",
       "      <td>360</td>\n",
       "      <td>6.69</td>\n",
       "    </tr>\n",
       "    <tr>\n",
       "      <th>telewizory-led-lcd-plazmowe</th>\n",
       "      <td>305</td>\n",
       "      <td>5.66</td>\n",
       "    </tr>\n",
       "    <tr>\n",
       "      <th>zlewozmywaki</th>\n",
       "      <td>234</td>\n",
       "      <td>4.35</td>\n",
       "    </tr>\n",
       "    <tr>\n",
       "      <th>plyty-do-zabudowy</th>\n",
       "      <td>208</td>\n",
       "      <td>3.86</td>\n",
       "    </tr>\n",
       "    <tr>\n",
       "      <th>baterie-kuchenne</th>\n",
       "      <td>204</td>\n",
       "      <td>3.79</td>\n",
       "    </tr>\n",
       "    <tr>\n",
       "      <th>pralki</th>\n",
       "      <td>184</td>\n",
       "      <td>3.42</td>\n",
       "    </tr>\n",
       "    <tr>\n",
       "      <th>oczyszczacze-powietrza</th>\n",
       "      <td>148</td>\n",
       "      <td>2.75</td>\n",
       "    </tr>\n",
       "    <tr>\n",
       "      <th>odkurzacze</th>\n",
       "      <td>134</td>\n",
       "      <td>2.49</td>\n",
       "    </tr>\n",
       "  </tbody>\n",
       "</table>\n",
       "</div>"
      ],
      "text/plain": [
       "                             qty   proc\n",
       "category                               \n",
       "okapy                        766  14.22\n",
       "laptopy-i-netbooki           560  10.40\n",
       "lodowki                      360   6.69\n",
       "telewizory-led-lcd-plazmowe  305   5.66\n",
       "zlewozmywaki                 234   4.35\n",
       "plyty-do-zabudowy            208   3.86\n",
       "baterie-kuchenne             204   3.79\n",
       "pralki                       184   3.42\n",
       "oczyszczacze-powietrza       148   2.75\n",
       "odkurzacze                   134   2.49"
      ]
     },
     "execution_count": 60,
     "metadata": {},
     "output_type": "execute_result"
    }
   ],
   "source": [
    "category_general.head(10)"
   ]
  },
  {
   "cell_type": "markdown",
   "id": "85b2a3c4",
   "metadata": {},
   "source": [
    "<p>Poniżej tabela z 10 kategoriami, gdzie oferta była najmniej różnorodna  - znajduje się tam liczba ofert oraz procent, jaki stanowią w stosunku do całej oferty promocyjnej.</p>"
   ]
  },
  {
   "cell_type": "code",
   "execution_count": 61,
   "id": "4da9065c",
   "metadata": {
    "scrolled": true
   },
   "outputs": [
    {
     "data": {
      "text/html": [
       "<div>\n",
       "<style scoped>\n",
       "    .dataframe tbody tr th:only-of-type {\n",
       "        vertical-align: middle;\n",
       "    }\n",
       "\n",
       "    .dataframe tbody tr th {\n",
       "        vertical-align: top;\n",
       "    }\n",
       "\n",
       "    .dataframe thead th {\n",
       "        text-align: right;\n",
       "    }\n",
       "</style>\n",
       "<table border=\"1\" class=\"dataframe\">\n",
       "  <thead>\n",
       "    <tr style=\"text-align: right;\">\n",
       "      <th></th>\n",
       "      <th>qty</th>\n",
       "      <th>proc</th>\n",
       "    </tr>\n",
       "    <tr>\n",
       "      <th>category</th>\n",
       "      <th></th>\n",
       "      <th></th>\n",
       "    </tr>\n",
       "  </thead>\n",
       "  <tbody>\n",
       "    <tr>\n",
       "      <th>akcesoria-do-komputerow</th>\n",
       "      <td>2</td>\n",
       "      <td>0.04</td>\n",
       "    </tr>\n",
       "    <tr>\n",
       "      <th>podstawki-chlodzace</th>\n",
       "      <td>2</td>\n",
       "      <td>0.04</td>\n",
       "    </tr>\n",
       "    <tr>\n",
       "      <th>okulary-vr</th>\n",
       "      <td>2</td>\n",
       "      <td>0.04</td>\n",
       "    </tr>\n",
       "    <tr>\n",
       "      <th>stacje-dokujace-ipod-iphone</th>\n",
       "      <td>2</td>\n",
       "      <td>0.04</td>\n",
       "    </tr>\n",
       "    <tr>\n",
       "      <th>radioodtwarzacze-cd</th>\n",
       "      <td>1</td>\n",
       "      <td>0.02</td>\n",
       "    </tr>\n",
       "    <tr>\n",
       "      <th>uchwyty-glosnikowe</th>\n",
       "      <td>1</td>\n",
       "      <td>0.02</td>\n",
       "    </tr>\n",
       "    <tr>\n",
       "      <th>huby-usb-i-stacje-dokujace</th>\n",
       "      <td>1</td>\n",
       "      <td>0.02</td>\n",
       "    </tr>\n",
       "    <tr>\n",
       "      <th>mapy-gps</th>\n",
       "      <td>1</td>\n",
       "      <td>0.02</td>\n",
       "    </tr>\n",
       "    <tr>\n",
       "      <th>kontrolery-do-gier</th>\n",
       "      <td>1</td>\n",
       "      <td>0.02</td>\n",
       "    </tr>\n",
       "    <tr>\n",
       "      <th>adaptery</th>\n",
       "      <td>1</td>\n",
       "      <td>0.02</td>\n",
       "    </tr>\n",
       "  </tbody>\n",
       "</table>\n",
       "</div>"
      ],
      "text/plain": [
       "                             qty  proc\n",
       "category                              \n",
       "akcesoria-do-komputerow        2  0.04\n",
       "podstawki-chlodzace            2  0.04\n",
       "okulary-vr                     2  0.04\n",
       "stacje-dokujace-ipod-iphone    2  0.04\n",
       "radioodtwarzacze-cd            1  0.02\n",
       "uchwyty-glosnikowe             1  0.02\n",
       "huby-usb-i-stacje-dokujace     1  0.02\n",
       "mapy-gps                       1  0.02\n",
       "kontrolery-do-gier             1  0.02\n",
       "adaptery                       1  0.02"
      ]
     },
     "execution_count": 61,
     "metadata": {},
     "output_type": "execute_result"
    }
   ],
   "source": [
    "category_general.tail(10)"
   ]
  },
  {
   "cell_type": "markdown",
   "id": "c71eb174",
   "metadata": {},
   "source": [
    "### 4.4 Analiza wartości odstających - czyli nasze perełki wśród ofert ;)"
   ]
  },
  {
   "cell_type": "markdown",
   "id": "a52b897b",
   "metadata": {},
   "source": [
    "<p>Oferty odstające w tej sytuacji to oferty z największym rabatem. Do znalezienia ich posłużę się zasadą 1.5 krotności rozstępu kwartylnego.</p>"
   ]
  },
  {
   "cell_type": "markdown",
   "id": "6d99587b",
   "metadata": {},
   "source": [
    "#### po procencie rabatu"
   ]
  },
  {
   "cell_type": "code",
   "execution_count": 62,
   "id": "fe040fe9",
   "metadata": {},
   "outputs": [],
   "source": [
    "q1, q3 = df.discount_proc.quantile([.25,.75])\n",
    "iqr = q3 - q1\n",
    "upper_boundary = q3 + 1.5 * iqr"
   ]
  },
  {
   "cell_type": "code",
   "execution_count": 63,
   "id": "e13f17d5",
   "metadata": {},
   "outputs": [],
   "source": [
    "outliers = df[df.discount_proc > upper_boundary]"
   ]
  },
  {
   "cell_type": "code",
   "execution_count": 64,
   "id": "60cdb2e8",
   "metadata": {},
   "outputs": [
    {
     "data": {
      "text/html": [
       "<div>\n",
       "<style scoped>\n",
       "    .dataframe tbody tr th:only-of-type {\n",
       "        vertical-align: middle;\n",
       "    }\n",
       "\n",
       "    .dataframe tbody tr th {\n",
       "        vertical-align: top;\n",
       "    }\n",
       "\n",
       "    .dataframe thead th {\n",
       "        text-align: right;\n",
       "    }\n",
       "</style>\n",
       "<table border=\"1\" class=\"dataframe\">\n",
       "  <thead>\n",
       "    <tr style=\"text-align: right;\">\n",
       "      <th></th>\n",
       "      <th>date</th>\n",
       "      <th>weekday</th>\n",
       "      <th>how_many_outliers</th>\n",
       "      <th>offers_count</th>\n",
       "      <th>percent_of_offers</th>\n",
       "    </tr>\n",
       "  </thead>\n",
       "  <tbody>\n",
       "    <tr>\n",
       "      <th>0</th>\n",
       "      <td>2022-01-25</td>\n",
       "      <td>2</td>\n",
       "      <td>28</td>\n",
       "      <td>680</td>\n",
       "      <td>4.12</td>\n",
       "    </tr>\n",
       "    <tr>\n",
       "      <th>1</th>\n",
       "      <td>2022-01-26</td>\n",
       "      <td>3</td>\n",
       "      <td>33</td>\n",
       "      <td>819</td>\n",
       "      <td>4.03</td>\n",
       "    </tr>\n",
       "    <tr>\n",
       "      <th>2</th>\n",
       "      <td>2022-01-27</td>\n",
       "      <td>4</td>\n",
       "      <td>28</td>\n",
       "      <td>781</td>\n",
       "      <td>3.59</td>\n",
       "    </tr>\n",
       "    <tr>\n",
       "      <th>3</th>\n",
       "      <td>2022-01-28</td>\n",
       "      <td>5</td>\n",
       "      <td>32</td>\n",
       "      <td>860</td>\n",
       "      <td>3.72</td>\n",
       "    </tr>\n",
       "    <tr>\n",
       "      <th>4</th>\n",
       "      <td>2022-01-29</td>\n",
       "      <td>6</td>\n",
       "      <td>17</td>\n",
       "      <td>673</td>\n",
       "      <td>2.53</td>\n",
       "    </tr>\n",
       "    <tr>\n",
       "      <th>5</th>\n",
       "      <td>2022-01-30</td>\n",
       "      <td>7</td>\n",
       "      <td>25</td>\n",
       "      <td>833</td>\n",
       "      <td>3.00</td>\n",
       "    </tr>\n",
       "    <tr>\n",
       "      <th>6</th>\n",
       "      <td>2022-01-31</td>\n",
       "      <td>1</td>\n",
       "      <td>26</td>\n",
       "      <td>739</td>\n",
       "      <td>3.52</td>\n",
       "    </tr>\n",
       "  </tbody>\n",
       "</table>\n",
       "</div>"
      ],
      "text/plain": [
       "         date weekday  how_many_outliers  offers_count  percent_of_offers\n",
       "0  2022-01-25       2                 28           680               4.12\n",
       "1  2022-01-26       3                 33           819               4.03\n",
       "2  2022-01-27       4                 28           781               3.59\n",
       "3  2022-01-28       5                 32           860               3.72\n",
       "4  2022-01-29       6                 17           673               2.53\n",
       "5  2022-01-30       7                 25           833               3.00\n",
       "6  2022-01-31       1                 26           739               3.52"
      ]
     },
     "execution_count": 64,
     "metadata": {},
     "output_type": "execute_result"
    }
   ],
   "source": [
    "outliers_summary = df[df.discount_proc > upper_boundary].groupby(['date', 'weekday']).agg(how_many_outliers=('plu','count')).reset_index()\n",
    "outliers_summary = outliers_summary.merge(df.groupby('weekday').agg(offers_count=('plu','count')).reset_index(), on='weekday')\n",
    "outliers_summary['percent_of_offers'] = round(outliers_summary.how_many_outliers / outliers_summary.offers_count * 100, 2)\n",
    "outliers_summary"
   ]
  },
  {
   "cell_type": "code",
   "execution_count": 65,
   "id": "173423b1",
   "metadata": {
    "scrolled": true
   },
   "outputs": [
    {
     "name": "stdout",
     "output_type": "stream",
     "text": [
      "Oferty odstające od inncyh uważam za 'prawdziwe' oferty promocyjne.\n",
      "Powyższa tabela pokazuje, że codzienne można liczyć na 17 do 33 takich okazji,\n",
      "a stanowią one średnio 3.5 % wszytkich ofert w danym dniu.\n"
     ]
    }
   ],
   "source": [
    "print(f\"Oferty odstające od inncyh uważam za 'prawdziwe' oferty promocyjne.\\nPowyższa tabela pokazuje, że codzienne można liczyć na {outliers_summary.how_many_outliers.min()} do {outliers_summary.how_many_outliers.max()} takich okazji,\\na stanowią one średnio {round(outliers_summary.percent_of_offers.mean(), 2)} % wszytkich ofert w danym dniu.\")"
   ]
  },
  {
   "cell_type": "code",
   "execution_count": 66,
   "id": "b71862e8",
   "metadata": {
    "scrolled": true
   },
   "outputs": [
    {
     "data": {
      "text/html": [
       "<div>\n",
       "<style scoped>\n",
       "    .dataframe tbody tr th:only-of-type {\n",
       "        vertical-align: middle;\n",
       "    }\n",
       "\n",
       "    .dataframe tbody tr th {\n",
       "        vertical-align: top;\n",
       "    }\n",
       "\n",
       "    .dataframe thead th {\n",
       "        text-align: right;\n",
       "    }\n",
       "</style>\n",
       "<table border=\"1\" class=\"dataframe\">\n",
       "  <thead>\n",
       "    <tr style=\"text-align: right;\">\n",
       "      <th></th>\n",
       "      <th>parent_category</th>\n",
       "      <th>count</th>\n",
       "    </tr>\n",
       "  </thead>\n",
       "  <tbody>\n",
       "    <tr>\n",
       "      <th>1</th>\n",
       "      <td>agd-male</td>\n",
       "      <td>71</td>\n",
       "    </tr>\n",
       "    <tr>\n",
       "      <th>0</th>\n",
       "      <td>agd</td>\n",
       "      <td>55</td>\n",
       "    </tr>\n",
       "    <tr>\n",
       "      <th>4</th>\n",
       "      <td>rtv</td>\n",
       "      <td>29</td>\n",
       "    </tr>\n",
       "    <tr>\n",
       "      <th>5</th>\n",
       "      <td>telefony-i-nawigacja-gps</td>\n",
       "      <td>19</td>\n",
       "    </tr>\n",
       "    <tr>\n",
       "      <th>3</th>\n",
       "      <td>komputery</td>\n",
       "      <td>14</td>\n",
       "    </tr>\n",
       "    <tr>\n",
       "      <th>2</th>\n",
       "      <td>gry-i-konsole</td>\n",
       "      <td>1</td>\n",
       "    </tr>\n",
       "  </tbody>\n",
       "</table>\n",
       "</div>"
      ],
      "text/plain": [
       "            parent_category  count\n",
       "1                  agd-male     71\n",
       "0                       agd     55\n",
       "4                       rtv     29\n",
       "5  telefony-i-nawigacja-gps     19\n",
       "3                 komputery     14\n",
       "2             gry-i-konsole      1"
      ]
     },
     "execution_count": 66,
     "metadata": {},
     "output_type": "execute_result"
    }
   ],
   "source": [
    "outliers.groupby('parent_category').agg(count=('plu','count')).reset_index().sort_values(by='count', ascending=False)"
   ]
  },
  {
   "cell_type": "markdown",
   "id": "86ec5707",
   "metadata": {},
   "source": [
    "<p>\n",
    "    Prawdziwe promocje najczęściej trafiały się w kategori głównej 'adg-male', najrzadziej w 'gry-i-konsole'.\n",
    "    </p>"
   ]
  },
  {
   "cell_type": "code",
   "execution_count": 67,
   "id": "334c3ccb",
   "metadata": {
    "scrolled": true
   },
   "outputs": [
    {
     "data": {
      "image/png": "[encoded data removed]",
      "text/plain": [
       "<Figure size 432x288 with 1 Axes>"
      ]
     },
     "metadata": {
      "needs_background": "light"
     },
     "output_type": "display_data"
    }
   ],
   "source": [
    "outliers.discount_proc.plot.hist(figsize=(6,4))\n",
    "plt.title('jaki procent rabatu najcześciej występował w ofertach wyróżniających się pod tym względem')\n",
    "plt.xlabel('procent rabatu')\n",
    "plt.ylabel('ilość ofert')\n",
    "plt.show()"
   ]
  },
  {
   "cell_type": "code",
   "execution_count": 68,
   "id": "94d1f1c9",
   "metadata": {
    "scrolled": true
   },
   "outputs": [
    {
     "name": "stdout",
     "output_type": "stream",
     "text": [
      "W najlepszych ofertach najczęściej można było liczyć na rabat w wysokości 36.36 %, wartościowo to najczęściej 40.0 zł.\n"
     ]
    }
   ],
   "source": [
    "print(f'W najlepszych ofertach najczęściej można było liczyć na rabat w wysokości {round(outliers.discount_proc.median(), 2)} %, wartościowo to najczęściej {round(outliers.discount_amount.median(), 2)} zł.')"
   ]
  },
  {
   "cell_type": "markdown",
   "id": "9092c35e",
   "metadata": {},
   "source": [
    "<p>Z powyższego wynika, iż najczęściej najlepsze oferty jeśli chodzi o procent rabatu występują w kategorii AGD małe i agd.</p>"
   ]
  },
  {
   "cell_type": "code",
   "execution_count": 69,
   "id": "003e160d",
   "metadata": {},
   "outputs": [
    {
     "name": "stdout",
     "output_type": "stream",
     "text": [
      "Ceny regularne takich produktów mieszczą się w przedziale: [69.99, 249.0] złotych.\n"
     ]
    }
   ],
   "source": [
    "print(f'Ceny regularne takich produktów mieszczą się w przedziale: {outliers.regular.quantile([.25,.75]).tolist()} złotych.')"
   ]
  },
  {
   "cell_type": "code",
   "execution_count": 70,
   "id": "0fa29908",
   "metadata": {
    "scrolled": true
   },
   "outputs": [
    {
     "name": "stdout",
     "output_type": "stream",
     "text": [
      "Najczęściej są to produkty o cenie regularnej wynoszącej 99.0 złotych.\n"
     ]
    }
   ],
   "source": [
    "print(f\"Najczęściej są to produkty o cenie regularnej wynoszącej {outliers.regular.median()} złotych.\")"
   ]
  },
  {
   "cell_type": "markdown",
   "id": "942d1a79",
   "metadata": {},
   "source": [
    "<p>A teraz cream de la cerem, czyli same perełki z największym procentowo rabatem ;)\n",
    "    </p>"
   ]
  },
  {
   "cell_type": "code",
   "execution_count": 71,
   "id": "860a891a",
   "metadata": {
    "scrolled": true
   },
   "outputs": [
    {
     "data": {
      "text/html": [
       "<div>\n",
       "<style scoped>\n",
       "    .dataframe tbody tr th:only-of-type {\n",
       "        vertical-align: middle;\n",
       "    }\n",
       "\n",
       "    .dataframe tbody tr th {\n",
       "        vertical-align: top;\n",
       "    }\n",
       "\n",
       "    .dataframe thead th {\n",
       "        text-align: right;\n",
       "    }\n",
       "</style>\n",
       "<table border=\"1\" class=\"dataframe\">\n",
       "  <thead>\n",
       "    <tr style=\"text-align: right;\">\n",
       "      <th></th>\n",
       "      <th>plu</th>\n",
       "      <th>regular</th>\n",
       "      <th>discount</th>\n",
       "      <th>discount_amount</th>\n",
       "      <th>discount_proc</th>\n",
       "      <th>discount_code</th>\n",
       "      <th>availability</th>\n",
       "      <th>category</th>\n",
       "      <th>parent_category</th>\n",
       "      <th>how_many_offers</th>\n",
       "      <th>weekday</th>\n",
       "      <th>date</th>\n",
       "      <th>name</th>\n",
       "    </tr>\n",
       "  </thead>\n",
       "  <tbody>\n",
       "    <tr>\n",
       "      <th>4998</th>\n",
       "      <td>1238641</td>\n",
       "      <td>1099.00</td>\n",
       "      <td>349.00</td>\n",
       "      <td>750.00</td>\n",
       "      <td>68.24</td>\n",
       "      <td>NOCNA310122</td>\n",
       "      <td>do koszyka</td>\n",
       "      <td>sztucce</td>\n",
       "      <td>agd-male</td>\n",
       "      <td>56</td>\n",
       "      <td>1</td>\n",
       "      <td>2022-01-31</td>\n",
       "      <td>zwilling-soho-30-elementow</td>\n",
       "    </tr>\n",
       "    <tr>\n",
       "      <th>4999</th>\n",
       "      <td>1238643</td>\n",
       "      <td>2399.00</td>\n",
       "      <td>799.00</td>\n",
       "      <td>1600.00</td>\n",
       "      <td>66.69</td>\n",
       "      <td>NOCNA310122</td>\n",
       "      <td>do koszyka</td>\n",
       "      <td>sztucce</td>\n",
       "      <td>agd-male</td>\n",
       "      <td>56</td>\n",
       "      <td>1</td>\n",
       "      <td>2022-01-31</td>\n",
       "      <td>zwilling-soho-68-elementow</td>\n",
       "    </tr>\n",
       "    <tr>\n",
       "      <th>0</th>\n",
       "      <td>1235529</td>\n",
       "      <td>19.99</td>\n",
       "      <td>7.99</td>\n",
       "      <td>12.00</td>\n",
       "      <td>60.03</td>\n",
       "      <td>NOCNA250122</td>\n",
       "      <td>do koszyka</td>\n",
       "      <td>kable</td>\n",
       "      <td>rtv</td>\n",
       "      <td>295</td>\n",
       "      <td>2</td>\n",
       "      <td>2022-01-25</td>\n",
       "      <td>rca-kabel-stereo-jack-2xchinch-0-75-m-rca</td>\n",
       "    </tr>\n",
       "    <tr>\n",
       "      <th>1657</th>\n",
       "      <td>1229605</td>\n",
       "      <td>79.99</td>\n",
       "      <td>34.99</td>\n",
       "      <td>45.00</td>\n",
       "      <td>56.26</td>\n",
       "      <td>NOCNA300122</td>\n",
       "      <td>do koszyka</td>\n",
       "      <td>sluchawki-dla-graczy-pc</td>\n",
       "      <td>komputery</td>\n",
       "      <td>448</td>\n",
       "      <td>7</td>\n",
       "      <td>2022-01-30</td>\n",
       "      <td>natec-sluchawki-z-mikrofonem-natec-drone-usb</td>\n",
       "    </tr>\n",
       "    <tr>\n",
       "      <th>5000</th>\n",
       "      <td>1238642</td>\n",
       "      <td>1099.00</td>\n",
       "      <td>499.00</td>\n",
       "      <td>600.00</td>\n",
       "      <td>54.60</td>\n",
       "      <td>NOCNA310122</td>\n",
       "      <td>do koszyka</td>\n",
       "      <td>sztucce</td>\n",
       "      <td>agd-male</td>\n",
       "      <td>56</td>\n",
       "      <td>1</td>\n",
       "      <td>2022-01-31</td>\n",
       "      <td>zwilling-opus-60-elementow</td>\n",
       "    </tr>\n",
       "    <tr>\n",
       "      <th>5559</th>\n",
       "      <td>1228651</td>\n",
       "      <td>299.00</td>\n",
       "      <td>149.00</td>\n",
       "      <td>150.00</td>\n",
       "      <td>50.17</td>\n",
       "      <td>NOCNA280122</td>\n",
       "      <td>do koszyka</td>\n",
       "      <td>okulary-vr</td>\n",
       "      <td>telefony-i-nawigacja-gps</td>\n",
       "      <td>16</td>\n",
       "      <td>5</td>\n",
       "      <td>2022-01-28</td>\n",
       "      <td>htc-vive-cool-gasket-htc</td>\n",
       "    </tr>\n",
       "    <tr>\n",
       "      <th>5001</th>\n",
       "      <td>1238644</td>\n",
       "      <td>1359.00</td>\n",
       "      <td>679.00</td>\n",
       "      <td>680.00</td>\n",
       "      <td>50.04</td>\n",
       "      <td>NOCNA310122</td>\n",
       "      <td>do koszyka</td>\n",
       "      <td>sztucce</td>\n",
       "      <td>agd-male</td>\n",
       "      <td>56</td>\n",
       "      <td>1</td>\n",
       "      <td>2022-01-31</td>\n",
       "      <td>zwilling-opus-68-elementow</td>\n",
       "    </tr>\n",
       "    <tr>\n",
       "      <th>896</th>\n",
       "      <td>1231847</td>\n",
       "      <td>19.99</td>\n",
       "      <td>9.99</td>\n",
       "      <td>10.00</td>\n",
       "      <td>50.03</td>\n",
       "      <td>NOCNA270122</td>\n",
       "      <td>do koszyka</td>\n",
       "      <td>kable-glosnikowe</td>\n",
       "      <td>rtv</td>\n",
       "      <td>34</td>\n",
       "      <td>4</td>\n",
       "      <td>2022-01-27</td>\n",
       "      <td>pure-acoustics-kabel-glosnikowy-2x0-75mm-10-0-...</td>\n",
       "    </tr>\n",
       "    <tr>\n",
       "      <th>11</th>\n",
       "      <td>1235528</td>\n",
       "      <td>15.99</td>\n",
       "      <td>7.99</td>\n",
       "      <td>8.00</td>\n",
       "      <td>50.03</td>\n",
       "      <td>NOCNA310122</td>\n",
       "      <td>do koszyka</td>\n",
       "      <td>kable</td>\n",
       "      <td>rtv</td>\n",
       "      <td>295</td>\n",
       "      <td>1</td>\n",
       "      <td>2022-01-31</td>\n",
       "      <td>rca-kabel-stereo-jack-2xchinch-0-5-m-rca</td>\n",
       "    </tr>\n",
       "    <tr>\n",
       "      <th>13</th>\n",
       "      <td>1225027</td>\n",
       "      <td>29.99</td>\n",
       "      <td>14.99</td>\n",
       "      <td>15.00</td>\n",
       "      <td>50.02</td>\n",
       "      <td>NOCNA250122</td>\n",
       "      <td>do koszyka</td>\n",
       "      <td>glosniki-przenosne</td>\n",
       "      <td>rtv</td>\n",
       "      <td>295</td>\n",
       "      <td>2</td>\n",
       "      <td>2022-01-25</td>\n",
       "      <td>setty-fun-red-glosnik-bt-setty</td>\n",
       "    </tr>\n",
       "    <tr>\n",
       "      <th>1649</th>\n",
       "      <td>1219280</td>\n",
       "      <td>39.99</td>\n",
       "      <td>19.99</td>\n",
       "      <td>20.00</td>\n",
       "      <td>50.01</td>\n",
       "      <td>NOCNA280122</td>\n",
       "      <td>do koszyka</td>\n",
       "      <td>sluchawki-dla-graczy-pc</td>\n",
       "      <td>komputery</td>\n",
       "      <td>448</td>\n",
       "      <td>5</td>\n",
       "      <td>2022-01-28</td>\n",
       "      <td>natec-sluchawki-z-mikrofonem-natec-canary</td>\n",
       "    </tr>\n",
       "    <tr>\n",
       "      <th>5144</th>\n",
       "      <td>1220542</td>\n",
       "      <td>149.99</td>\n",
       "      <td>78.99</td>\n",
       "      <td>71.00</td>\n",
       "      <td>47.34</td>\n",
       "      <td>NOCNA260122</td>\n",
       "      <td>do koszyka</td>\n",
       "      <td>latarki</td>\n",
       "      <td>rtv</td>\n",
       "      <td>94</td>\n",
       "      <td>3</td>\n",
       "      <td>2022-01-26</td>\n",
       "      <td>varta-indestructible-f20-pro</td>\n",
       "    </tr>\n",
       "    <tr>\n",
       "      <th>5002</th>\n",
       "      <td>1238640</td>\n",
       "      <td>619.00</td>\n",
       "      <td>329.00</td>\n",
       "      <td>290.00</td>\n",
       "      <td>46.85</td>\n",
       "      <td>NOCNA310122</td>\n",
       "      <td>do koszyka</td>\n",
       "      <td>sztucce</td>\n",
       "      <td>agd-male</td>\n",
       "      <td>56</td>\n",
       "      <td>1</td>\n",
       "      <td>2022-01-31</td>\n",
       "      <td>zwilling-opus-30-elementow</td>\n",
       "    </tr>\n",
       "    <tr>\n",
       "      <th>4410</th>\n",
       "      <td>1245158</td>\n",
       "      <td>659.00</td>\n",
       "      <td>359.00</td>\n",
       "      <td>300.00</td>\n",
       "      <td>45.52</td>\n",
       "      <td>NOCNA260122</td>\n",
       "      <td>do koszyka</td>\n",
       "      <td>smartwatch</td>\n",
       "      <td>telefony-i-nawigacja-gps</td>\n",
       "      <td>611</td>\n",
       "      <td>3</td>\n",
       "      <td>2022-01-26</td>\n",
       "      <td>garett-smartwatch-kids-cute-plus-4g-blue-gare</td>\n",
       "    </tr>\n",
       "    <tr>\n",
       "      <th>4409</th>\n",
       "      <td>1245159</td>\n",
       "      <td>659.00</td>\n",
       "      <td>359.00</td>\n",
       "      <td>300.00</td>\n",
       "      <td>45.52</td>\n",
       "      <td>NOCNA260122</td>\n",
       "      <td>do koszyka</td>\n",
       "      <td>smartwatch</td>\n",
       "      <td>telefony-i-nawigacja-gps</td>\n",
       "      <td>611</td>\n",
       "      <td>3</td>\n",
       "      <td>2022-01-26</td>\n",
       "      <td>garett-smartwatch-kids-cute-plus-4g-pink-gare</td>\n",
       "    </tr>\n",
       "    <tr>\n",
       "      <th>5547</th>\n",
       "      <td>605462</td>\n",
       "      <td>54.99</td>\n",
       "      <td>29.99</td>\n",
       "      <td>25.00</td>\n",
       "      <td>45.46</td>\n",
       "      <td>NOCNA270122</td>\n",
       "      <td>do koszyka</td>\n",
       "      <td>mapy-gps</td>\n",
       "      <td>telefony-i-nawigacja-gps</td>\n",
       "      <td>3</td>\n",
       "      <td>4</td>\n",
       "      <td>2022-01-27</td>\n",
       "      <td>mapamap-polska-90-dni</td>\n",
       "    </tr>\n",
       "    <tr>\n",
       "      <th>1</th>\n",
       "      <td>350846</td>\n",
       "      <td>69.99</td>\n",
       "      <td>39.99</td>\n",
       "      <td>30.00</td>\n",
       "      <td>42.86</td>\n",
       "      <td>NOCNA250122</td>\n",
       "      <td>do koszyka</td>\n",
       "      <td>kable</td>\n",
       "      <td>rtv</td>\n",
       "      <td>295</td>\n",
       "      <td>2</td>\n",
       "      <td>2022-01-25</td>\n",
       "      <td>techlink-710202-hdmi</td>\n",
       "    </tr>\n",
       "    <tr>\n",
       "      <th>31</th>\n",
       "      <td>1216182</td>\n",
       "      <td>69.99</td>\n",
       "      <td>39.99</td>\n",
       "      <td>30.00</td>\n",
       "      <td>42.86</td>\n",
       "      <td>NOCNA250122</td>\n",
       "      <td>do koszyka</td>\n",
       "      <td>formy-i-akcesoria-do-pieczenia</td>\n",
       "      <td>agd-male</td>\n",
       "      <td>62</td>\n",
       "      <td>2</td>\n",
       "      <td>2022-01-25</td>\n",
       "      <td>tefal-forma-delibake-okragla-20cm</td>\n",
       "    </tr>\n",
       "    <tr>\n",
       "      <th>5512</th>\n",
       "      <td>1247016</td>\n",
       "      <td>119.99</td>\n",
       "      <td>70.00</td>\n",
       "      <td>49.99</td>\n",
       "      <td>41.66</td>\n",
       "      <td>NOCNA300122</td>\n",
       "      <td>do koszyka</td>\n",
       "      <td>syfony-i-akcesoria</td>\n",
       "      <td>agd</td>\n",
       "      <td>77</td>\n",
       "      <td>7</td>\n",
       "      <td>2022-01-30</td>\n",
       "      <td>kfa-armatura-mungo-242-000-10</td>\n",
       "    </tr>\n",
       "    <tr>\n",
       "      <th>1177</th>\n",
       "      <td>1247053</td>\n",
       "      <td>219.00</td>\n",
       "      <td>129.00</td>\n",
       "      <td>90.00</td>\n",
       "      <td>41.10</td>\n",
       "      <td>NOCNA310122</td>\n",
       "      <td>do koszyka</td>\n",
       "      <td>baterie-kuchenne</td>\n",
       "      <td>agd</td>\n",
       "      <td>654</td>\n",
       "      <td>1</td>\n",
       "      <td>2022-01-31</td>\n",
       "      <td>armatura-krakow-bateria-kuchenna-krzem-4210-91...</td>\n",
       "    </tr>\n",
       "    <tr>\n",
       "      <th>1658</th>\n",
       "      <td>1201891</td>\n",
       "      <td>84.79</td>\n",
       "      <td>49.99</td>\n",
       "      <td>34.80</td>\n",
       "      <td>41.04</td>\n",
       "      <td>NOCNA300122</td>\n",
       "      <td>do koszyka</td>\n",
       "      <td>sluchawki-dla-graczy-pc</td>\n",
       "      <td>komputery</td>\n",
       "      <td>448</td>\n",
       "      <td>7</td>\n",
       "      <td>2022-01-30</td>\n",
       "      <td>-sluchawki-do-ps4-qsmart-qshps004</td>\n",
       "    </tr>\n",
       "    <tr>\n",
       "      <th>4411</th>\n",
       "      <td>1249301</td>\n",
       "      <td>99.00</td>\n",
       "      <td>59.00</td>\n",
       "      <td>40.00</td>\n",
       "      <td>40.40</td>\n",
       "      <td>NOCNA260122</td>\n",
       "      <td>do koszyka</td>\n",
       "      <td>smartwatch</td>\n",
       "      <td>telefony-i-nawigacja-gps</td>\n",
       "      <td>611</td>\n",
       "      <td>3</td>\n",
       "      <td>2022-01-26</td>\n",
       "      <td>forever-kids-watch-call-me-2-kw-60-niebieski</td>\n",
       "    </tr>\n",
       "    <tr>\n",
       "      <th>3264</th>\n",
       "      <td>1082773</td>\n",
       "      <td>249.00</td>\n",
       "      <td>149.00</td>\n",
       "      <td>100.00</td>\n",
       "      <td>40.16</td>\n",
       "      <td>NOCNA260122</td>\n",
       "      <td>do koszyka</td>\n",
       "      <td>zestawy-kolumn</td>\n",
       "      <td>rtv</td>\n",
       "      <td>29</td>\n",
       "      <td>3</td>\n",
       "      <td>2022-01-26</td>\n",
       "      <td>prism-audio-vienna-grand-kolumny-surround-cent...</td>\n",
       "    </tr>\n",
       "    <tr>\n",
       "      <th>912</th>\n",
       "      <td>208751</td>\n",
       "      <td>99.99</td>\n",
       "      <td>59.99</td>\n",
       "      <td>40.00</td>\n",
       "      <td>40.00</td>\n",
       "      <td>NOCNA280122</td>\n",
       "      <td>do koszyka</td>\n",
       "      <td>wyposazenie-do-ekspresow</td>\n",
       "      <td>agd-male</td>\n",
       "      <td>60</td>\n",
       "      <td>5</td>\n",
       "      <td>2022-01-28</td>\n",
       "      <td>nivona-claris-nirf-700</td>\n",
       "    </tr>\n",
       "    <tr>\n",
       "      <th>1719</th>\n",
       "      <td>1187249</td>\n",
       "      <td>69.99</td>\n",
       "      <td>42.00</td>\n",
       "      <td>27.99</td>\n",
       "      <td>39.99</td>\n",
       "      <td>NOCNA260122</td>\n",
       "      <td>do koszyka</td>\n",
       "      <td>dozowniki-do-mydla</td>\n",
       "      <td>agd</td>\n",
       "      <td>82</td>\n",
       "      <td>3</td>\n",
       "      <td>2022-01-26</td>\n",
       "      <td>alveus-yoko-1016099-chrom</td>\n",
       "    </tr>\n",
       "    <tr>\n",
       "      <th>78</th>\n",
       "      <td>1255559</td>\n",
       "      <td>249.00</td>\n",
       "      <td>149.99</td>\n",
       "      <td>99.01</td>\n",
       "      <td>39.76</td>\n",
       "      <td>NOCNA250122</td>\n",
       "      <td>do koszyka</td>\n",
       "      <td>rejestratory-jazdy</td>\n",
       "      <td>rtv</td>\n",
       "      <td>93</td>\n",
       "      <td>2</td>\n",
       "      <td>2022-01-25</td>\n",
       "      <td>tracer-rejestrator-jazdy-mobimirror-g-pa-tracer</td>\n",
       "    </tr>\n",
       "    <tr>\n",
       "      <th>84</th>\n",
       "      <td>1197053</td>\n",
       "      <td>249.00</td>\n",
       "      <td>149.99</td>\n",
       "      <td>99.01</td>\n",
       "      <td>39.76</td>\n",
       "      <td>NOCNA260122</td>\n",
       "      <td>do koszyka</td>\n",
       "      <td>rejestratory-jazdy</td>\n",
       "      <td>rtv</td>\n",
       "      <td>93</td>\n",
       "      <td>3</td>\n",
       "      <td>2022-01-26</td>\n",
       "      <td>navitel-rejest-jazdy-r400-night-vision-navitel</td>\n",
       "    </tr>\n",
       "    <tr>\n",
       "      <th>2504</th>\n",
       "      <td>1199468</td>\n",
       "      <td>89.99</td>\n",
       "      <td>54.99</td>\n",
       "      <td>35.00</td>\n",
       "      <td>38.89</td>\n",
       "      <td>NOCNA270122</td>\n",
       "      <td>do koszyka</td>\n",
       "      <td>torby-do-laptopow</td>\n",
       "      <td>komputery</td>\n",
       "      <td>495</td>\n",
       "      <td>4</td>\n",
       "      <td>2022-01-27</td>\n",
       "      <td>rivacase-torba-na-laptop-regent-14-czarny</td>\n",
       "    </tr>\n",
       "    <tr>\n",
       "      <th>119</th>\n",
       "      <td>1209388</td>\n",
       "      <td>129.00</td>\n",
       "      <td>79.00</td>\n",
       "      <td>50.00</td>\n",
       "      <td>38.76</td>\n",
       "      <td>NOCNA250122</td>\n",
       "      <td>do koszyka</td>\n",
       "      <td>ladowarki-do-telefonow1</td>\n",
       "      <td>telefony-i-nawigacja-gps</td>\n",
       "      <td>222</td>\n",
       "      <td>2</td>\n",
       "      <td>2022-01-25</td>\n",
       "      <td>xblitz-zasilacz-kamer-sam-r5-power-xblitz</td>\n",
       "    </tr>\n",
       "  </tbody>\n",
       "</table>\n",
       "</div>"
      ],
      "text/plain": [
       "          plu  regular  discount  discount_amount  discount_proc  \\\n",
       "4998  1238641  1099.00    349.00           750.00          68.24   \n",
       "4999  1238643  2399.00    799.00          1600.00          66.69   \n",
       "0     1235529    19.99      7.99            12.00          60.03   \n",
       "1657  1229605    79.99     34.99            45.00          56.26   \n",
       "5000  1238642  1099.00    499.00           600.00          54.60   \n",
       "5559  1228651   299.00    149.00           150.00          50.17   \n",
       "5001  1238644  1359.00    679.00           680.00          50.04   \n",
       "896   1231847    19.99      9.99            10.00          50.03   \n",
       "11    1235528    15.99      7.99             8.00          50.03   \n",
       "13    1225027    29.99     14.99            15.00          50.02   \n",
       "1649  1219280    39.99     19.99            20.00          50.01   \n",
       "5144  1220542   149.99     78.99            71.00          47.34   \n",
       "5002  1238640   619.00    329.00           290.00          46.85   \n",
       "4410  1245158   659.00    359.00           300.00          45.52   \n",
       "4409  1245159   659.00    359.00           300.00          45.52   \n",
       "5547   605462    54.99     29.99            25.00          45.46   \n",
       "1      350846    69.99     39.99            30.00          42.86   \n",
       "31    1216182    69.99     39.99            30.00          42.86   \n",
       "5512  1247016   119.99     70.00            49.99          41.66   \n",
       "1177  1247053   219.00    129.00            90.00          41.10   \n",
       "1658  1201891    84.79     49.99            34.80          41.04   \n",
       "4411  1249301    99.00     59.00            40.00          40.40   \n",
       "3264  1082773   249.00    149.00           100.00          40.16   \n",
       "912    208751    99.99     59.99            40.00          40.00   \n",
       "1719  1187249    69.99     42.00            27.99          39.99   \n",
       "78    1255559   249.00    149.99            99.01          39.76   \n",
       "84    1197053   249.00    149.99            99.01          39.76   \n",
       "2504  1199468    89.99     54.99            35.00          38.89   \n",
       "119   1209388   129.00     79.00            50.00          38.76   \n",
       "\n",
       "     discount_code availability                        category  \\\n",
       "4998   NOCNA310122   do koszyka                         sztucce   \n",
       "4999   NOCNA310122   do koszyka                         sztucce   \n",
       "0      NOCNA250122   do koszyka                           kable   \n",
       "1657   NOCNA300122   do koszyka         sluchawki-dla-graczy-pc   \n",
       "5000   NOCNA310122   do koszyka                         sztucce   \n",
       "5559   NOCNA280122   do koszyka                      okulary-vr   \n",
       "5001   NOCNA310122   do koszyka                         sztucce   \n",
       "896    NOCNA270122   do koszyka                kable-glosnikowe   \n",
       "11     NOCNA310122   do koszyka                           kable   \n",
       "13     NOCNA250122   do koszyka              glosniki-przenosne   \n",
       "1649   NOCNA280122   do koszyka         sluchawki-dla-graczy-pc   \n",
       "5144   NOCNA260122   do koszyka                         latarki   \n",
       "5002   NOCNA310122   do koszyka                         sztucce   \n",
       "4410   NOCNA260122   do koszyka                      smartwatch   \n",
       "4409   NOCNA260122   do koszyka                      smartwatch   \n",
       "5547   NOCNA270122   do koszyka                        mapy-gps   \n",
       "1      NOCNA250122   do koszyka                           kable   \n",
       "31     NOCNA250122   do koszyka  formy-i-akcesoria-do-pieczenia   \n",
       "5512   NOCNA300122   do koszyka              syfony-i-akcesoria   \n",
       "1177   NOCNA310122   do koszyka                baterie-kuchenne   \n",
       "1658   NOCNA300122   do koszyka         sluchawki-dla-graczy-pc   \n",
       "4411   NOCNA260122   do koszyka                      smartwatch   \n",
       "3264   NOCNA260122   do koszyka                  zestawy-kolumn   \n",
       "912    NOCNA280122   do koszyka        wyposazenie-do-ekspresow   \n",
       "1719   NOCNA260122   do koszyka              dozowniki-do-mydla   \n",
       "78     NOCNA250122   do koszyka              rejestratory-jazdy   \n",
       "84     NOCNA260122   do koszyka              rejestratory-jazdy   \n",
       "2504   NOCNA270122   do koszyka               torby-do-laptopow   \n",
       "119    NOCNA250122   do koszyka         ladowarki-do-telefonow1   \n",
       "\n",
       "               parent_category  how_many_offers weekday        date  \\\n",
       "4998                  agd-male               56       1  2022-01-31   \n",
       "4999                  agd-male               56       1  2022-01-31   \n",
       "0                          rtv              295       2  2022-01-25   \n",
       "1657                 komputery              448       7  2022-01-30   \n",
       "5000                  agd-male               56       1  2022-01-31   \n",
       "5559  telefony-i-nawigacja-gps               16       5  2022-01-28   \n",
       "5001                  agd-male               56       1  2022-01-31   \n",
       "896                        rtv               34       4  2022-01-27   \n",
       "11                         rtv              295       1  2022-01-31   \n",
       "13                         rtv              295       2  2022-01-25   \n",
       "1649                 komputery              448       5  2022-01-28   \n",
       "5144                       rtv               94       3  2022-01-26   \n",
       "5002                  agd-male               56       1  2022-01-31   \n",
       "4410  telefony-i-nawigacja-gps              611       3  2022-01-26   \n",
       "4409  telefony-i-nawigacja-gps              611       3  2022-01-26   \n",
       "5547  telefony-i-nawigacja-gps                3       4  2022-01-27   \n",
       "1                          rtv              295       2  2022-01-25   \n",
       "31                    agd-male               62       2  2022-01-25   \n",
       "5512                       agd               77       7  2022-01-30   \n",
       "1177                       agd              654       1  2022-01-31   \n",
       "1658                 komputery              448       7  2022-01-30   \n",
       "4411  telefony-i-nawigacja-gps              611       3  2022-01-26   \n",
       "3264                       rtv               29       3  2022-01-26   \n",
       "912                   agd-male               60       5  2022-01-28   \n",
       "1719                       agd               82       3  2022-01-26   \n",
       "78                         rtv               93       2  2022-01-25   \n",
       "84                         rtv               93       3  2022-01-26   \n",
       "2504                 komputery              495       4  2022-01-27   \n",
       "119   telefony-i-nawigacja-gps              222       2  2022-01-25   \n",
       "\n",
       "                                                   name  \n",
       "4998                         zwilling-soho-30-elementow  \n",
       "4999                         zwilling-soho-68-elementow  \n",
       "0             rca-kabel-stereo-jack-2xchinch-0-75-m-rca  \n",
       "1657       natec-sluchawki-z-mikrofonem-natec-drone-usb  \n",
       "5000                         zwilling-opus-60-elementow  \n",
       "5559                           htc-vive-cool-gasket-htc  \n",
       "5001                         zwilling-opus-68-elementow  \n",
       "896   pure-acoustics-kabel-glosnikowy-2x0-75mm-10-0-...  \n",
       "11             rca-kabel-stereo-jack-2xchinch-0-5-m-rca  \n",
       "13                       setty-fun-red-glosnik-bt-setty  \n",
       "1649          natec-sluchawki-z-mikrofonem-natec-canary  \n",
       "5144                       varta-indestructible-f20-pro  \n",
       "5002                         zwilling-opus-30-elementow  \n",
       "4410      garett-smartwatch-kids-cute-plus-4g-blue-gare  \n",
       "4409      garett-smartwatch-kids-cute-plus-4g-pink-gare  \n",
       "5547                              mapamap-polska-90-dni  \n",
       "1                                  techlink-710202-hdmi  \n",
       "31                    tefal-forma-delibake-okragla-20cm  \n",
       "5512                      kfa-armatura-mungo-242-000-10  \n",
       "1177  armatura-krakow-bateria-kuchenna-krzem-4210-91...  \n",
       "1658                  -sluchawki-do-ps4-qsmart-qshps004  \n",
       "4411       forever-kids-watch-call-me-2-kw-60-niebieski  \n",
       "3264  prism-audio-vienna-grand-kolumny-surround-cent...  \n",
       "912                              nivona-claris-nirf-700  \n",
       "1719                          alveus-yoko-1016099-chrom  \n",
       "78      tracer-rejestrator-jazdy-mobimirror-g-pa-tracer  \n",
       "84       navitel-rejest-jazdy-r400-night-vision-navitel  \n",
       "2504          rivacase-torba-na-laptop-regent-14-czarny  \n",
       "119           xblitz-zasilacz-kamer-sam-r5-power-xblitz  "
      ]
     },
     "execution_count": 71,
     "metadata": {},
     "output_type": "execute_result"
    }
   ],
   "source": [
    "pearls = outliers[outliers.discount_proc > outliers.discount_proc.quantile(.75)]\n",
    "\n",
    "pearls.drop_duplicates(subset=['plu','regular','discount']).sort_values(by='discount_proc', ascending=False)"
   ]
  },
  {
   "cell_type": "markdown",
   "id": "8eb73885",
   "metadata": {},
   "source": [
    "#### po wartości rabatu"
   ]
  },
  {
   "cell_type": "code",
   "execution_count": 72,
   "id": "28923036",
   "metadata": {},
   "outputs": [],
   "source": [
    "q1, q3 = df.discount_amount.quantile([.25,.75])\n",
    "iqr = q3 - q1\n",
    "upper_boundary = q3 + 1.5 * iqr"
   ]
  },
  {
   "cell_type": "code",
   "execution_count": 73,
   "id": "bee789de",
   "metadata": {},
   "outputs": [],
   "source": [
    "outliers_by_value = df[df.discount_amount > upper_boundary]"
   ]
  },
  {
   "cell_type": "code",
   "execution_count": 74,
   "id": "3a3de83a",
   "metadata": {
    "scrolled": false
   },
   "outputs": [
    {
     "data": {
      "text/html": [
       "<div>\n",
       "<style scoped>\n",
       "    .dataframe tbody tr th:only-of-type {\n",
       "        vertical-align: middle;\n",
       "    }\n",
       "\n",
       "    .dataframe tbody tr th {\n",
       "        vertical-align: top;\n",
       "    }\n",
       "\n",
       "    .dataframe thead th {\n",
       "        text-align: right;\n",
       "    }\n",
       "</style>\n",
       "<table border=\"1\" class=\"dataframe\">\n",
       "  <thead>\n",
       "    <tr style=\"text-align: right;\">\n",
       "      <th></th>\n",
       "      <th>date</th>\n",
       "      <th>weekday</th>\n",
       "      <th>how_many_outliers</th>\n",
       "      <th>offers_count</th>\n",
       "      <th>percent_of_offers</th>\n",
       "    </tr>\n",
       "  </thead>\n",
       "  <tbody>\n",
       "    <tr>\n",
       "      <th>0</th>\n",
       "      <td>2022-01-25</td>\n",
       "      <td>2</td>\n",
       "      <td>26</td>\n",
       "      <td>680</td>\n",
       "      <td>3.82</td>\n",
       "    </tr>\n",
       "    <tr>\n",
       "      <th>1</th>\n",
       "      <td>2022-01-26</td>\n",
       "      <td>3</td>\n",
       "      <td>29</td>\n",
       "      <td>819</td>\n",
       "      <td>3.54</td>\n",
       "    </tr>\n",
       "    <tr>\n",
       "      <th>2</th>\n",
       "      <td>2022-01-27</td>\n",
       "      <td>4</td>\n",
       "      <td>28</td>\n",
       "      <td>781</td>\n",
       "      <td>3.59</td>\n",
       "    </tr>\n",
       "    <tr>\n",
       "      <th>3</th>\n",
       "      <td>2022-01-28</td>\n",
       "      <td>5</td>\n",
       "      <td>33</td>\n",
       "      <td>860</td>\n",
       "      <td>3.84</td>\n",
       "    </tr>\n",
       "    <tr>\n",
       "      <th>4</th>\n",
       "      <td>2022-01-29</td>\n",
       "      <td>6</td>\n",
       "      <td>31</td>\n",
       "      <td>673</td>\n",
       "      <td>4.61</td>\n",
       "    </tr>\n",
       "    <tr>\n",
       "      <th>5</th>\n",
       "      <td>2022-01-30</td>\n",
       "      <td>7</td>\n",
       "      <td>32</td>\n",
       "      <td>833</td>\n",
       "      <td>3.84</td>\n",
       "    </tr>\n",
       "    <tr>\n",
       "      <th>6</th>\n",
       "      <td>2022-01-31</td>\n",
       "      <td>1</td>\n",
       "      <td>37</td>\n",
       "      <td>739</td>\n",
       "      <td>5.01</td>\n",
       "    </tr>\n",
       "  </tbody>\n",
       "</table>\n",
       "</div>"
      ],
      "text/plain": [
       "         date weekday  how_many_outliers  offers_count  percent_of_offers\n",
       "0  2022-01-25       2                 26           680               3.82\n",
       "1  2022-01-26       3                 29           819               3.54\n",
       "2  2022-01-27       4                 28           781               3.59\n",
       "3  2022-01-28       5                 33           860               3.84\n",
       "4  2022-01-29       6                 31           673               4.61\n",
       "5  2022-01-30       7                 32           833               3.84\n",
       "6  2022-01-31       1                 37           739               5.01"
      ]
     },
     "execution_count": 74,
     "metadata": {},
     "output_type": "execute_result"
    }
   ],
   "source": [
    "outliers_by_value_summary = df[df.discount_amount > upper_boundary].groupby(['date', 'weekday']).agg(how_many_outliers=('plu','count')).reset_index()\n",
    "outliers_by_value_summary = outliers_by_value_summary.merge(df.groupby('weekday').agg(offers_count=('plu','count')).reset_index(), on='weekday')\n",
    "outliers_by_value_summary['percent_of_offers'] = round(outliers_by_value_summary.how_many_outliers / outliers_by_value_summary.offers_count * 100, 2)\n",
    "outliers_by_value_summary"
   ]
  },
  {
   "cell_type": "code",
   "execution_count": 75,
   "id": "650b5d2d",
   "metadata": {},
   "outputs": [
    {
     "data": {
      "text/html": [
       "<div>\n",
       "<style scoped>\n",
       "    .dataframe tbody tr th:only-of-type {\n",
       "        vertical-align: middle;\n",
       "    }\n",
       "\n",
       "    .dataframe tbody tr th {\n",
       "        vertical-align: top;\n",
       "    }\n",
       "\n",
       "    .dataframe thead th {\n",
       "        text-align: right;\n",
       "    }\n",
       "</style>\n",
       "<table border=\"1\" class=\"dataframe\">\n",
       "  <thead>\n",
       "    <tr style=\"text-align: right;\">\n",
       "      <th></th>\n",
       "      <th>parent_category</th>\n",
       "      <th>count</th>\n",
       "    </tr>\n",
       "  </thead>\n",
       "  <tbody>\n",
       "    <tr>\n",
       "      <th>4</th>\n",
       "      <td>rtv</td>\n",
       "      <td>88</td>\n",
       "    </tr>\n",
       "    <tr>\n",
       "      <th>3</th>\n",
       "      <td>komputery</td>\n",
       "      <td>49</td>\n",
       "    </tr>\n",
       "    <tr>\n",
       "      <th>0</th>\n",
       "      <td>agd</td>\n",
       "      <td>44</td>\n",
       "    </tr>\n",
       "    <tr>\n",
       "      <th>1</th>\n",
       "      <td>agd-do-zabudowy</td>\n",
       "      <td>31</td>\n",
       "    </tr>\n",
       "    <tr>\n",
       "      <th>2</th>\n",
       "      <td>agd-male</td>\n",
       "      <td>4</td>\n",
       "    </tr>\n",
       "  </tbody>\n",
       "</table>\n",
       "</div>"
      ],
      "text/plain": [
       "   parent_category  count\n",
       "4              rtv     88\n",
       "3        komputery     49\n",
       "0              agd     44\n",
       "1  agd-do-zabudowy     31\n",
       "2         agd-male      4"
      ]
     },
     "execution_count": 75,
     "metadata": {},
     "output_type": "execute_result"
    }
   ],
   "source": [
    "outliers_by_value.groupby('parent_category').agg(count=('plu','count')).reset_index().sort_values(by='count', ascending=False)"
   ]
  },
  {
   "cell_type": "code",
   "execution_count": 76,
   "id": "b76b8cb9",
   "metadata": {},
   "outputs": [
    {
     "data": {
      "image/png": "[encoded data removed]",
      "text/plain": [
       "<Figure size 432x288 with 1 Axes>"
      ]
     },
     "metadata": {
      "needs_background": "light"
     },
     "output_type": "display_data"
    }
   ],
   "source": [
    "outliers_by_value.discount_amount.plot.hist(figsize=(6,4))\n",
    "plt.title('jaki wartościowo rabat najcześciej występował w ofertach wyróżniających się pod tym względem')\n",
    "plt.xlabel('procent rabatu')\n",
    "plt.ylabel('ilość ofert')\n",
    "plt.show()"
   ]
  },
  {
   "cell_type": "markdown",
   "id": "5f676fee",
   "metadata": {},
   "source": [
    "<p>A teraz cream de la cerem, czyli same perełki z największym wartościowo rabatem ;)\n",
    "    </p>"
   ]
  },
  {
   "cell_type": "code",
   "execution_count": 77,
   "id": "8a28b4b5",
   "metadata": {},
   "outputs": [
    {
     "data": {
      "text/html": [
       "<div>\n",
       "<style scoped>\n",
       "    .dataframe tbody tr th:only-of-type {\n",
       "        vertical-align: middle;\n",
       "    }\n",
       "\n",
       "    .dataframe tbody tr th {\n",
       "        vertical-align: top;\n",
       "    }\n",
       "\n",
       "    .dataframe thead th {\n",
       "        text-align: right;\n",
       "    }\n",
       "</style>\n",
       "<table border=\"1\" class=\"dataframe\">\n",
       "  <thead>\n",
       "    <tr style=\"text-align: right;\">\n",
       "      <th></th>\n",
       "      <th>plu</th>\n",
       "      <th>regular</th>\n",
       "      <th>discount</th>\n",
       "      <th>discount_amount</th>\n",
       "      <th>discount_proc</th>\n",
       "      <th>discount_code</th>\n",
       "      <th>availability</th>\n",
       "      <th>category</th>\n",
       "      <th>parent_category</th>\n",
       "      <th>how_many_offers</th>\n",
       "      <th>weekday</th>\n",
       "      <th>date</th>\n",
       "      <th>name</th>\n",
       "    </tr>\n",
       "  </thead>\n",
       "  <tbody>\n",
       "    <tr>\n",
       "      <th>4999</th>\n",
       "      <td>1238643</td>\n",
       "      <td>2399.0</td>\n",
       "      <td>799.0</td>\n",
       "      <td>1600.0</td>\n",
       "      <td>66.69</td>\n",
       "      <td>NOCNA310122</td>\n",
       "      <td>do koszyka</td>\n",
       "      <td>sztucce</td>\n",
       "      <td>agd-male</td>\n",
       "      <td>56</td>\n",
       "      <td>1</td>\n",
       "      <td>2022-01-31</td>\n",
       "      <td>zwilling-soho-68-elementow</td>\n",
       "    </tr>\n",
       "    <tr>\n",
       "      <th>2766</th>\n",
       "      <td>1235216</td>\n",
       "      <td>5599.0</td>\n",
       "      <td>4495.0</td>\n",
       "      <td>1104.0</td>\n",
       "      <td>19.72</td>\n",
       "      <td>NOCNA250122</td>\n",
       "      <td>do koszyka</td>\n",
       "      <td>telewizory-led-lcd-plazmowe</td>\n",
       "      <td>rtv</td>\n",
       "      <td>428</td>\n",
       "      <td>2</td>\n",
       "      <td>2022-01-25</td>\n",
       "      <td>lg-75up8100-tv-uhd-uhd-4k-lg</td>\n",
       "    </tr>\n",
       "    <tr>\n",
       "      <th>4556</th>\n",
       "      <td>1223399</td>\n",
       "      <td>4999.0</td>\n",
       "      <td>3999.0</td>\n",
       "      <td>1000.0</td>\n",
       "      <td>20.00</td>\n",
       "      <td>NOCNA270122</td>\n",
       "      <td>do koszyka</td>\n",
       "      <td>zmywarki-do-zabudowy</td>\n",
       "      <td>agd-do-zabudowy</td>\n",
       "      <td>147</td>\n",
       "      <td>4</td>\n",
       "      <td>2022-01-27</td>\n",
       "      <td>siemens-iq500-sn65zx67ce</td>\n",
       "    </tr>\n",
       "    <tr>\n",
       "      <th>3238</th>\n",
       "      <td>1239918</td>\n",
       "      <td>4699.0</td>\n",
       "      <td>3699.0</td>\n",
       "      <td>1000.0</td>\n",
       "      <td>21.28</td>\n",
       "      <td>NOCNA310122</td>\n",
       "      <td>do koszyka</td>\n",
       "      <td>piekarniki-do-zabudowy</td>\n",
       "      <td>agd-do-zabudowy</td>\n",
       "      <td>318</td>\n",
       "      <td>1</td>\n",
       "      <td>2022-01-31</td>\n",
       "      <td>bosch-cdg634ab0</td>\n",
       "    </tr>\n",
       "    <tr>\n",
       "      <th>1248</th>\n",
       "      <td>1192240</td>\n",
       "      <td>2999.0</td>\n",
       "      <td>1999.0</td>\n",
       "      <td>1000.0</td>\n",
       "      <td>33.34</td>\n",
       "      <td>NOCNA250122</td>\n",
       "      <td>do koszyka</td>\n",
       "      <td>kolumny-audio</td>\n",
       "      <td>rtv</td>\n",
       "      <td>163</td>\n",
       "      <td>2</td>\n",
       "      <td>2022-01-25</td>\n",
       "      <td>wilson-raptor-7-white-para-kolumn</td>\n",
       "    </tr>\n",
       "    <tr>\n",
       "      <th>2765</th>\n",
       "      <td>1215469</td>\n",
       "      <td>3999.0</td>\n",
       "      <td>3195.0</td>\n",
       "      <td>804.0</td>\n",
       "      <td>20.11</td>\n",
       "      <td>NOCNA250122</td>\n",
       "      <td>do koszyka</td>\n",
       "      <td>telewizory-led-lcd-plazmowe</td>\n",
       "      <td>rtv</td>\n",
       "      <td>428</td>\n",
       "      <td>2</td>\n",
       "      <td>2022-01-25</td>\n",
       "      <td>manta-75lua120d-4k-uhd-smart-tv</td>\n",
       "    </tr>\n",
       "    <tr>\n",
       "      <th>2641</th>\n",
       "      <td>1223367</td>\n",
       "      <td>3499.0</td>\n",
       "      <td>2699.0</td>\n",
       "      <td>800.0</td>\n",
       "      <td>22.86</td>\n",
       "      <td>NOCNA280122</td>\n",
       "      <td>do koszyka</td>\n",
       "      <td>suszarki</td>\n",
       "      <td>agd</td>\n",
       "      <td>107</td>\n",
       "      <td>5</td>\n",
       "      <td>2022-01-28</td>\n",
       "      <td>bosch-serie-6-wtw8760epl</td>\n",
       "    </tr>\n",
       "    <tr>\n",
       "      <th>4325</th>\n",
       "      <td>1236633</td>\n",
       "      <td>3399.0</td>\n",
       "      <td>2599.0</td>\n",
       "      <td>800.0</td>\n",
       "      <td>23.54</td>\n",
       "      <td>NOCNA280122</td>\n",
       "      <td>do koszyka</td>\n",
       "      <td>pralko-suszarki</td>\n",
       "      <td>agd</td>\n",
       "      <td>61</td>\n",
       "      <td>5</td>\n",
       "      <td>2022-01-28</td>\n",
       "      <td>bosch-wna24401pl</td>\n",
       "    </tr>\n",
       "    <tr>\n",
       "      <th>124</th>\n",
       "      <td>1236832</td>\n",
       "      <td>2699.0</td>\n",
       "      <td>1899.0</td>\n",
       "      <td>800.0</td>\n",
       "      <td>29.64</td>\n",
       "      <td>NOCNA250122</td>\n",
       "      <td>do koszyka</td>\n",
       "      <td>okapy</td>\n",
       "      <td>agd</td>\n",
       "      <td>700</td>\n",
       "      <td>2</td>\n",
       "      <td>2022-01-25</td>\n",
       "      <td>vdb-cube-w-glass-white</td>\n",
       "    </tr>\n",
       "    <tr>\n",
       "      <th>4998</th>\n",
       "      <td>1238641</td>\n",
       "      <td>1099.0</td>\n",
       "      <td>349.0</td>\n",
       "      <td>750.0</td>\n",
       "      <td>68.24</td>\n",
       "      <td>NOCNA310122</td>\n",
       "      <td>do koszyka</td>\n",
       "      <td>sztucce</td>\n",
       "      <td>agd-male</td>\n",
       "      <td>56</td>\n",
       "      <td>1</td>\n",
       "      <td>2022-01-31</td>\n",
       "      <td>zwilling-soho-30-elementow</td>\n",
       "    </tr>\n",
       "    <tr>\n",
       "      <th>4572</th>\n",
       "      <td>1223433</td>\n",
       "      <td>3499.0</td>\n",
       "      <td>2799.0</td>\n",
       "      <td>700.0</td>\n",
       "      <td>20.01</td>\n",
       "      <td>NOCNA310122</td>\n",
       "      <td>do koszyka</td>\n",
       "      <td>zmywarki-do-zabudowy</td>\n",
       "      <td>agd-do-zabudowy</td>\n",
       "      <td>147</td>\n",
       "      <td>1</td>\n",
       "      <td>2022-01-31</td>\n",
       "      <td>siemens-iq500-sr65zx16me</td>\n",
       "    </tr>\n",
       "    <tr>\n",
       "      <th>5001</th>\n",
       "      <td>1238644</td>\n",
       "      <td>1359.0</td>\n",
       "      <td>679.0</td>\n",
       "      <td>680.0</td>\n",
       "      <td>50.04</td>\n",
       "      <td>NOCNA310122</td>\n",
       "      <td>do koszyka</td>\n",
       "      <td>sztucce</td>\n",
       "      <td>agd-male</td>\n",
       "      <td>56</td>\n",
       "      <td>1</td>\n",
       "      <td>2022-01-31</td>\n",
       "      <td>zwilling-opus-68-elementow</td>\n",
       "    </tr>\n",
       "    <tr>\n",
       "      <th>2414</th>\n",
       "      <td>1124256</td>\n",
       "      <td>2699.0</td>\n",
       "      <td>2049.0</td>\n",
       "      <td>650.0</td>\n",
       "      <td>24.08</td>\n",
       "      <td>NOCNA250122</td>\n",
       "      <td>do koszyka</td>\n",
       "      <td>zmywarki</td>\n",
       "      <td>agd</td>\n",
       "      <td>110</td>\n",
       "      <td>2</td>\n",
       "      <td>2022-01-25</td>\n",
       "      <td>aeg-ffb62700pm</td>\n",
       "    </tr>\n",
       "    <tr>\n",
       "      <th>1801</th>\n",
       "      <td>1253933</td>\n",
       "      <td>2429.0</td>\n",
       "      <td>1799.0</td>\n",
       "      <td>630.0</td>\n",
       "      <td>25.94</td>\n",
       "      <td>NOCNA250122</td>\n",
       "      <td>do koszyka</td>\n",
       "      <td>plyty-do-zabudowy</td>\n",
       "      <td>agd-do-zabudowy</td>\n",
       "      <td>444</td>\n",
       "      <td>2</td>\n",
       "      <td>2022-01-25</td>\n",
       "      <td>teka-gzc-75330-xbc-wh-e4</td>\n",
       "    </tr>\n",
       "    <tr>\n",
       "      <th>1828</th>\n",
       "      <td>1253933</td>\n",
       "      <td>2419.0</td>\n",
       "      <td>1799.0</td>\n",
       "      <td>620.0</td>\n",
       "      <td>25.63</td>\n",
       "      <td>NOCNA260122</td>\n",
       "      <td>do koszyka</td>\n",
       "      <td>plyty-do-zabudowy</td>\n",
       "      <td>agd-do-zabudowy</td>\n",
       "      <td>444</td>\n",
       "      <td>3</td>\n",
       "      <td>2022-01-26</td>\n",
       "      <td>teka-gzc-75330-xbc-wh-e4</td>\n",
       "    </tr>\n",
       "    <tr>\n",
       "      <th>2639</th>\n",
       "      <td>1225692</td>\n",
       "      <td>2449.0</td>\n",
       "      <td>1849.0</td>\n",
       "      <td>600.0</td>\n",
       "      <td>24.50</td>\n",
       "      <td>NOCNA280122</td>\n",
       "      <td>do koszyka</td>\n",
       "      <td>suszarki</td>\n",
       "      <td>agd</td>\n",
       "      <td>107</td>\n",
       "      <td>5</td>\n",
       "      <td>2022-01-28</td>\n",
       "      <td>bosch-wth85v0epl-serie-4</td>\n",
       "    </tr>\n",
       "    <tr>\n",
       "      <th>2638</th>\n",
       "      <td>1207221</td>\n",
       "      <td>2399.0</td>\n",
       "      <td>1799.0</td>\n",
       "      <td>600.0</td>\n",
       "      <td>25.01</td>\n",
       "      <td>NOCNA280122</td>\n",
       "      <td>do koszyka</td>\n",
       "      <td>suszarki</td>\n",
       "      <td>agd</td>\n",
       "      <td>107</td>\n",
       "      <td>5</td>\n",
       "      <td>2022-01-28</td>\n",
       "      <td>candy-suszarka-cso-h7a3te-s-candy</td>\n",
       "    </tr>\n",
       "    <tr>\n",
       "      <th>3449</th>\n",
       "      <td>1248422</td>\n",
       "      <td>2099.0</td>\n",
       "      <td>1499.0</td>\n",
       "      <td>600.0</td>\n",
       "      <td>28.59</td>\n",
       "      <td>NOCNA280122</td>\n",
       "      <td>do koszyka</td>\n",
       "      <td>pralki</td>\n",
       "      <td>agd</td>\n",
       "      <td>296</td>\n",
       "      <td>5</td>\n",
       "      <td>2022-01-28</td>\n",
       "      <td>whirlpool-pralka-ffd9458bvee-whirlpool</td>\n",
       "    </tr>\n",
       "    <tr>\n",
       "      <th>1883</th>\n",
       "      <td>1253933</td>\n",
       "      <td>2399.0</td>\n",
       "      <td>1799.0</td>\n",
       "      <td>600.0</td>\n",
       "      <td>25.01</td>\n",
       "      <td>NOCNA280122</td>\n",
       "      <td>do koszyka</td>\n",
       "      <td>plyty-do-zabudowy</td>\n",
       "      <td>agd-do-zabudowy</td>\n",
       "      <td>444</td>\n",
       "      <td>5</td>\n",
       "      <td>2022-01-28</td>\n",
       "      <td>teka-gzc-75330-xbc-wh-e4</td>\n",
       "    </tr>\n",
       "    <tr>\n",
       "      <th>5000</th>\n",
       "      <td>1238642</td>\n",
       "      <td>1099.0</td>\n",
       "      <td>499.0</td>\n",
       "      <td>600.0</td>\n",
       "      <td>54.60</td>\n",
       "      <td>NOCNA310122</td>\n",
       "      <td>do koszyka</td>\n",
       "      <td>sztucce</td>\n",
       "      <td>agd-male</td>\n",
       "      <td>56</td>\n",
       "      <td>1</td>\n",
       "      <td>2022-01-31</td>\n",
       "      <td>zwilling-opus-60-elementow</td>\n",
       "    </tr>\n",
       "    <tr>\n",
       "      <th>2617</th>\n",
       "      <td>1225692</td>\n",
       "      <td>2449.0</td>\n",
       "      <td>1899.0</td>\n",
       "      <td>550.0</td>\n",
       "      <td>22.46</td>\n",
       "      <td>NOCNA250122</td>\n",
       "      <td>do koszyka</td>\n",
       "      <td>suszarki</td>\n",
       "      <td>agd</td>\n",
       "      <td>107</td>\n",
       "      <td>2</td>\n",
       "      <td>2022-01-25</td>\n",
       "      <td>bosch-wth85v0epl-serie-4</td>\n",
       "    </tr>\n",
       "  </tbody>\n",
       "</table>\n",
       "</div>"
      ],
      "text/plain": [
       "          plu  regular  discount  discount_amount  discount_proc  \\\n",
       "4999  1238643   2399.0     799.0           1600.0          66.69   \n",
       "2766  1235216   5599.0    4495.0           1104.0          19.72   \n",
       "4556  1223399   4999.0    3999.0           1000.0          20.00   \n",
       "3238  1239918   4699.0    3699.0           1000.0          21.28   \n",
       "1248  1192240   2999.0    1999.0           1000.0          33.34   \n",
       "2765  1215469   3999.0    3195.0            804.0          20.11   \n",
       "2641  1223367   3499.0    2699.0            800.0          22.86   \n",
       "4325  1236633   3399.0    2599.0            800.0          23.54   \n",
       "124   1236832   2699.0    1899.0            800.0          29.64   \n",
       "4998  1238641   1099.0     349.0            750.0          68.24   \n",
       "4572  1223433   3499.0    2799.0            700.0          20.01   \n",
       "5001  1238644   1359.0     679.0            680.0          50.04   \n",
       "2414  1124256   2699.0    2049.0            650.0          24.08   \n",
       "1801  1253933   2429.0    1799.0            630.0          25.94   \n",
       "1828  1253933   2419.0    1799.0            620.0          25.63   \n",
       "2639  1225692   2449.0    1849.0            600.0          24.50   \n",
       "2638  1207221   2399.0    1799.0            600.0          25.01   \n",
       "3449  1248422   2099.0    1499.0            600.0          28.59   \n",
       "1883  1253933   2399.0    1799.0            600.0          25.01   \n",
       "5000  1238642   1099.0     499.0            600.0          54.60   \n",
       "2617  1225692   2449.0    1899.0            550.0          22.46   \n",
       "\n",
       "     discount_code availability                     category  parent_category  \\\n",
       "4999   NOCNA310122   do koszyka                      sztucce         agd-male   \n",
       "2766   NOCNA250122   do koszyka  telewizory-led-lcd-plazmowe              rtv   \n",
       "4556   NOCNA270122   do koszyka         zmywarki-do-zabudowy  agd-do-zabudowy   \n",
       "3238   NOCNA310122   do koszyka       piekarniki-do-zabudowy  agd-do-zabudowy   \n",
       "1248   NOCNA250122   do koszyka                kolumny-audio              rtv   \n",
       "2765   NOCNA250122   do koszyka  telewizory-led-lcd-plazmowe              rtv   \n",
       "2641   NOCNA280122   do koszyka                     suszarki              agd   \n",
       "4325   NOCNA280122   do koszyka              pralko-suszarki              agd   \n",
       "124    NOCNA250122   do koszyka                        okapy              agd   \n",
       "4998   NOCNA310122   do koszyka                      sztucce         agd-male   \n",
       "4572   NOCNA310122   do koszyka         zmywarki-do-zabudowy  agd-do-zabudowy   \n",
       "5001   NOCNA310122   do koszyka                      sztucce         agd-male   \n",
       "2414   NOCNA250122   do koszyka                     zmywarki              agd   \n",
       "1801   NOCNA250122   do koszyka            plyty-do-zabudowy  agd-do-zabudowy   \n",
       "1828   NOCNA260122   do koszyka            plyty-do-zabudowy  agd-do-zabudowy   \n",
       "2639   NOCNA280122   do koszyka                     suszarki              agd   \n",
       "2638   NOCNA280122   do koszyka                     suszarki              agd   \n",
       "3449   NOCNA280122   do koszyka                       pralki              agd   \n",
       "1883   NOCNA280122   do koszyka            plyty-do-zabudowy  agd-do-zabudowy   \n",
       "5000   NOCNA310122   do koszyka                      sztucce         agd-male   \n",
       "2617   NOCNA250122   do koszyka                     suszarki              agd   \n",
       "\n",
       "      how_many_offers weekday        date  \\\n",
       "4999               56       1  2022-01-31   \n",
       "2766              428       2  2022-01-25   \n",
       "4556              147       4  2022-01-27   \n",
       "3238              318       1  2022-01-31   \n",
       "1248              163       2  2022-01-25   \n",
       "2765              428       2  2022-01-25   \n",
       "2641              107       5  2022-01-28   \n",
       "4325               61       5  2022-01-28   \n",
       "124               700       2  2022-01-25   \n",
       "4998               56       1  2022-01-31   \n",
       "4572              147       1  2022-01-31   \n",
       "5001               56       1  2022-01-31   \n",
       "2414              110       2  2022-01-25   \n",
       "1801              444       2  2022-01-25   \n",
       "1828              444       3  2022-01-26   \n",
       "2639              107       5  2022-01-28   \n",
       "2638              107       5  2022-01-28   \n",
       "3449              296       5  2022-01-28   \n",
       "1883              444       5  2022-01-28   \n",
       "5000               56       1  2022-01-31   \n",
       "2617              107       2  2022-01-25   \n",
       "\n",
       "                                        name  \n",
       "4999              zwilling-soho-68-elementow  \n",
       "2766            lg-75up8100-tv-uhd-uhd-4k-lg  \n",
       "4556                siemens-iq500-sn65zx67ce  \n",
       "3238                         bosch-cdg634ab0  \n",
       "1248       wilson-raptor-7-white-para-kolumn  \n",
       "2765         manta-75lua120d-4k-uhd-smart-tv  \n",
       "2641                bosch-serie-6-wtw8760epl  \n",
       "4325                        bosch-wna24401pl  \n",
       "124                   vdb-cube-w-glass-white  \n",
       "4998              zwilling-soho-30-elementow  \n",
       "4572                siemens-iq500-sr65zx16me  \n",
       "5001              zwilling-opus-68-elementow  \n",
       "2414                          aeg-ffb62700pm  \n",
       "1801                teka-gzc-75330-xbc-wh-e4  \n",
       "1828                teka-gzc-75330-xbc-wh-e4  \n",
       "2639                bosch-wth85v0epl-serie-4  \n",
       "2638       candy-suszarka-cso-h7a3te-s-candy  \n",
       "3449  whirlpool-pralka-ffd9458bvee-whirlpool  \n",
       "1883                teka-gzc-75330-xbc-wh-e4  \n",
       "5000              zwilling-opus-60-elementow  \n",
       "2617                bosch-wth85v0epl-serie-4  "
      ]
     },
     "execution_count": 77,
     "metadata": {},
     "output_type": "execute_result"
    }
   ],
   "source": [
    "pearls_val = outliers_by_value[outliers_by_value.discount_proc > outliers_by_value.discount_proc.quantile(.75)]\n",
    "\n",
    "pearls_val.bdrop_duplicates(subset=['plu','regular','discount']).sort_values(by='discount_amount', ascending=False)"
   ]
  },
  {
   "cell_type": "markdown",
   "id": "6698a29a",
   "metadata": {},
   "source": [
    "### 4.5 Analiza zmienności rabatu wśród produktów powtarzających się w różnych odsłonach promocji"
   ]
  },
  {
   "cell_type": "code",
   "execution_count": 78,
   "id": "6a00b12e",
   "metadata": {
    "scrolled": true
   },
   "outputs": [],
   "source": [
    "d_a_agg = df.groupby('plu').agg(discount_amount_std=('discount_amount', 'std'))\n",
    "repeated = d_a_agg.dropna(subset=['discount_amount_std'], axis=0)\n",
    "# changed_over_time = repeated.loc[repeated.discount_amount_std > 0]\n",
    "changed_over_time = d_a_agg.dropna(subset=['discount_amount_std'], axis=0).loc[repeated.discount_amount_std > 0]"
   ]
  },
  {
   "cell_type": "code",
   "execution_count": 134,
   "id": "8a4572bd",
   "metadata": {
    "scrolled": true
   },
   "outputs": [
    {
     "name": "stdout",
     "output_type": "stream",
     "text": [
      "W ofercie promocyjnej w analizowanym okresie było 1521 unikalnych produktów.\n",
      "1044 produktów wystąpiło w przynajmniej 2 dniach promocji.\n"
     ]
    }
   ],
   "source": [
    "print(f'W ofercie promocyjnej w analizowanym okresie było {len(df.plu.unique())} unikalnych produktów.')\n",
    "print(f'{repeated.shape[0]} produktów wystąpiło w przynajmniej 2 dniach promocji.')\n",
    "#print(f'{repeated[repeated.discount_amount_std == 0].shape[0]} produktów miało stały niezmienny wartościowo rabat.')\n",
    "#print(f'{changed_over_time[changed_over_time.discount_amount_std > 0].shape[0]} produktów miało zmienny wartościowo rabat.')"
   ]
  },
  {
   "cell_type": "code",
   "execution_count": 189,
   "id": "49236d2f",
   "metadata": {},
   "outputs": [
    {
     "data": {
      "text/html": [
       "<div>\n",
       "<style scoped>\n",
       "    .dataframe tbody tr th:only-of-type {\n",
       "        vertical-align: middle;\n",
       "    }\n",
       "\n",
       "    .dataframe tbody tr th {\n",
       "        vertical-align: top;\n",
       "    }\n",
       "\n",
       "    .dataframe thead th {\n",
       "        text-align: right;\n",
       "    }\n",
       "</style>\n",
       "<table border=\"1\" class=\"dataframe\">\n",
       "  <thead>\n",
       "    <tr style=\"text-align: right;\">\n",
       "      <th></th>\n",
       "      <th>plu</th>\n",
       "      <th>da_std</th>\n",
       "      <th>r_std</th>\n",
       "      <th>r_mean</th>\n",
       "      <th>d_std</th>\n",
       "    </tr>\n",
       "  </thead>\n",
       "  <tbody>\n",
       "    <tr>\n",
       "      <th>0</th>\n",
       "      <td>114655</td>\n",
       "      <td>35.355339</td>\n",
       "      <td>35.355339</td>\n",
       "      <td>6624.0</td>\n",
       "      <td>0.000000</td>\n",
       "    </tr>\n",
       "    <tr>\n",
       "      <th>1</th>\n",
       "      <td>115770</td>\n",
       "      <td>0.000000</td>\n",
       "      <td>0.000000</td>\n",
       "      <td>499.0</td>\n",
       "      <td>0.000000</td>\n",
       "    </tr>\n",
       "    <tr>\n",
       "      <th>2</th>\n",
       "      <td>116593</td>\n",
       "      <td>0.000000</td>\n",
       "      <td>0.000000</td>\n",
       "      <td>249.0</td>\n",
       "      <td>0.000000</td>\n",
       "    </tr>\n",
       "    <tr>\n",
       "      <th>3</th>\n",
       "      <td>116606</td>\n",
       "      <td>0.000000</td>\n",
       "      <td>0.000000</td>\n",
       "      <td>379.0</td>\n",
       "      <td>0.000000</td>\n",
       "    </tr>\n",
       "    <tr>\n",
       "      <th>4</th>\n",
       "      <td>116958</td>\n",
       "      <td>0.000000</td>\n",
       "      <td>0.000000</td>\n",
       "      <td>519.0</td>\n",
       "      <td>0.000000</td>\n",
       "    </tr>\n",
       "    <tr>\n",
       "      <th>...</th>\n",
       "      <td>...</td>\n",
       "      <td>...</td>\n",
       "      <td>...</td>\n",
       "      <td>...</td>\n",
       "      <td>...</td>\n",
       "    </tr>\n",
       "    <tr>\n",
       "      <th>1039</th>\n",
       "      <td>1258116</td>\n",
       "      <td>0.000000</td>\n",
       "      <td>0.000000</td>\n",
       "      <td>8499.0</td>\n",
       "      <td>0.000000</td>\n",
       "    </tr>\n",
       "    <tr>\n",
       "      <th>1040</th>\n",
       "      <td>1258138</td>\n",
       "      <td>0.000000</td>\n",
       "      <td>0.000000</td>\n",
       "      <td>2799.0</td>\n",
       "      <td>0.000000</td>\n",
       "    </tr>\n",
       "    <tr>\n",
       "      <th>1041</th>\n",
       "      <td>1258265</td>\n",
       "      <td>178.885438</td>\n",
       "      <td>0.000000</td>\n",
       "      <td>4199.0</td>\n",
       "      <td>178.885438</td>\n",
       "    </tr>\n",
       "    <tr>\n",
       "      <th>1042</th>\n",
       "      <td>1258266</td>\n",
       "      <td>134.164079</td>\n",
       "      <td>0.000000</td>\n",
       "      <td>3199.0</td>\n",
       "      <td>134.164079</td>\n",
       "    </tr>\n",
       "    <tr>\n",
       "      <th>1043</th>\n",
       "      <td>1258635</td>\n",
       "      <td>0.000000</td>\n",
       "      <td>0.000000</td>\n",
       "      <td>3267.0</td>\n",
       "      <td>0.000000</td>\n",
       "    </tr>\n",
       "  </tbody>\n",
       "</table>\n",
       "<p>1044 rows × 5 columns</p>\n",
       "</div>"
      ],
      "text/plain": [
       "          plu      da_std      r_std  r_mean       d_std\n",
       "0      114655   35.355339  35.355339  6624.0    0.000000\n",
       "1      115770    0.000000   0.000000   499.0    0.000000\n",
       "2      116593    0.000000   0.000000   249.0    0.000000\n",
       "3      116606    0.000000   0.000000   379.0    0.000000\n",
       "4      116958    0.000000   0.000000   519.0    0.000000\n",
       "...       ...         ...        ...     ...         ...\n",
       "1039  1258116    0.000000   0.000000  8499.0    0.000000\n",
       "1040  1258138    0.000000   0.000000  2799.0    0.000000\n",
       "1041  1258265  178.885438   0.000000  4199.0  178.885438\n",
       "1042  1258266  134.164079   0.000000  3199.0  134.164079\n",
       "1043  1258635    0.000000   0.000000  3267.0    0.000000\n",
       "\n",
       "[1044 rows x 5 columns]"
      ]
     },
     "execution_count": 189,
     "metadata": {},
     "output_type": "execute_result"
    }
   ],
   "source": [
    "dev = df.groupby('plu').agg(da_std=('discount_amount', 'std'), r_std=('regular', 'std'), r_mean=('regular', 'mean'), d_std=('discount', 'std')).dropna(axis='rows').reset_index()\n",
    "dev"
   ]
  },
  {
   "cell_type": "code",
   "execution_count": 201,
   "id": "7fc9225a",
   "metadata": {},
   "outputs": [
    {
     "name": "stdout",
     "output_type": "stream",
     "text": [
      "Wśród 905 produktów, które powtarzały się w promocji, wartość rabatu zmieniała się wraz z wartością przedmiotu 1:1\n"
     ]
    }
   ],
   "source": [
    "nie_zmiana = dev.loc[dev.da_std == dev.r_std]\n",
    "print(f'Wśród {nie_zmiana.shape[0]} produktów, które powtarzały się w promocji, wartość rabatu zmieniała się wraz z wartością przedmiotu 1:1')"
   ]
  },
  {
   "cell_type": "code",
   "execution_count": 202,
   "id": "1ce5e920",
   "metadata": {},
   "outputs": [
    {
     "name": "stdout",
     "output_type": "stream",
     "text": [
      "Wśród 139 produktów, które powtarzały się w promocji, wartość rabatu lub cena regularna się zmieniała \n"
     ]
    }
   ],
   "source": [
    "zmiana = dev.loc[~dev.plu.isin(nie_zmiana.plu)]\n",
    "print(f'Wśród {zmiana.shape[0]} produktów, które powtarzały się w promocji, wartość rabatu lub cena regularna się zmieniała ')"
   ]
  },
  {
   "cell_type": "code",
   "execution_count": 203,
   "id": "a336a154",
   "metadata": {},
   "outputs": [
    {
     "name": "stdout",
     "output_type": "stream",
     "text": [
      "Wśród 24 produktów, które powtarzały się w promocji, wartość rabatu lub cena regularna się zmieniała, ale cena promocyjna pozostawała taka sama.\n"
     ]
    }
   ],
   "source": [
    "discount_sie_niezmienia = zmiana.loc[zmiana.d_std == 0]\n",
    "print(f'Wśród {discount_sie_niezmienia.shape[0]} produktów, które powtarzały się w promocji, wartość rabatu lub cena regularna się zmieniała, ale cena promocyjna pozostawała taka sama.')"
   ]
  },
  {
   "cell_type": "code",
   "execution_count": 209,
   "id": "00adce51",
   "metadata": {},
   "outputs": [
    {
     "name": "stderr",
     "output_type": "stream",
     "text": [
      "c:\\users\\grzegorz\\appdata\\local\\programs\\python\\python37-32\\lib\\site-packages\\ipykernel_launcher.py:2: SettingWithCopyWarning: \n",
      "A value is trying to be set on a copy of a slice from a DataFrame.\n",
      "Try using .loc[row_indexer,col_indexer] = value instead\n",
      "\n",
      "See the caveats in the documentation: https://pandas.pydata.org/pandas-docs/stable/user_guide/indexing.html#returning-a-view-versus-a-copy\n",
      "  \n"
     ]
    },
    {
     "data": {
      "text/plain": [
       "count    115.000000\n",
       "mean       2.196370\n",
       "std        1.992456\n",
       "min        0.011343\n",
       "25%        0.922378\n",
       "50%        1.687917\n",
       "75%        2.815617\n",
       "max       15.540808\n",
       "Name: procent_zmiany, dtype: float64"
      ]
     },
     "execution_count": 209,
     "metadata": {},
     "output_type": "execute_result"
    }
   ],
   "source": [
    "discount_sie_zmienia = zmiana.loc[~zmiana.plu.isin(discount_sie_niezmienia.plu)]\n",
    "discount_sie_zmienia['procent_zmiany'] = discount_sie_zmienia.d_std / discount_sie_zmienia.r_mean * 100\n",
    "discount_sie_zmienia.procent_zmiany.describe()\n",
    "# print(f'Wśród {discount_sie_niezmienia.shape[0]} produktów, które powtarzały się w promocji, wartość rabatu lub cena regularna się zmieniała i cena promocyjna była.')"
   ]
  },
  {
   "cell_type": "code",
   "execution_count": 213,
   "id": "a9b940d5",
   "metadata": {
    "scrolled": true
   },
   "outputs": [
    {
     "name": "stdout",
     "output_type": "stream",
     "text": [
      "Wśród 115 produktów, które powtarzały się w promocji, wartość produktu lub rabatu zmianiała się, 1.69 % na korzyść lub niekorzyść kupującego.\n"
     ]
    }
   ],
   "source": [
    "print(f'Wśród {discount_sie_zmienia.shape[0]} produktów, które powtarzały się w promocji, wartość produktu lub rabatu zmianiała się, {round(discount_sie_zmienia.procent_zmiany.median(), 2)} % na korzyść lub niekorzyść kupującego.')"
   ]
  },
  {
   "cell_type": "markdown",
   "id": "9090df78",
   "metadata": {},
   "source": [
    "##### wnioski:"
   ]
  },
  {
   "cell_type": "code",
   "execution_count": 226,
   "id": "478c8d71",
   "metadata": {
    "scrolled": false
   },
   "outputs": [
    {
     "name": "stdout",
     "output_type": "stream",
     "text": [
      "Jedynie 7.56 % powtarzających się produktów zmianiało swój rabat na korzyśc lub niekorzyść kupującego.\n",
      "68.64 % produktów powtarzało się w przynajmniej 2 dniach promocji\n"
     ]
    }
   ],
   "source": [
    "print(f'Jedynie {round(discount_sie_zmienia.shape[0] / df.plu.unique().shape[0] * 100, 2)} % powtarzających się produktów zmianiało swój rabat na korzyśc lub niekorzyść kupującego.')\n",
    "print(f'{round(repeated.shape[0] / df.plu.unique().shape[0] * 100, 2)} % produktów powtarzało się w przynajmniej 2 dniach promocji')"
   ]
  },
  {
   "cell_type": "markdown",
   "id": "e332719b",
   "metadata": {},
   "source": [
    "## 5. Podsumowanie"
   ]
  },
  {
   "cell_type": "markdown",
   "id": "43b919a8",
   "metadata": {},
   "source": [
    "<p>W dużym skrócie:\n",
    "    </p>\n",
    "   <ul>\n",
    "    <li>\n",
    "        Liczba promocyjnych produktów w poszczególnych dniach jest przeważnie stała - ok 770.\n",
    "    </li>\n",
    "     <li>\n",
    "        Najwięcej promocyjnych ofert znajdziemy w kategoriach związanych z 'AGD', a najmniej w 'gry i konsole'.\n",
    "        </li>\n",
    "    <li>\n",
    "        Większość produktów powtarza się dzień po dniu - w skrajnym przypadku w dniu promocji nie pojawił się żaden nowy produkt, a tylko 1.35% ofert różniło się od tych z dni poprzednich.\n",
    "        </li>\n",
    "    <li>\n",
    "        Przeciętnie pro\n",
    "        </li>\n",
    "    <li>\n",
    "        Za dobrą ofertę można uznać produkt przeceniony o ok. 36%\n",
    "        </li>\n",
    "    <li>\n",
    "        Prawdziwe perełki wśród okazji trafiają się codziennie, lecz stanowią najczęściej 3.5% całej promocyjnej oferty i są to produkty o wartości do 250 złotych pochodzące z kategorii 'AGD małe'.\n",
    "        </li>\n",
    "    <li>\n",
    "        jeśli wyznacznikiem dobrej okazji jest nie wysokość procentowa, a wartościowa rabatu to tu również codziennie takie okazje się trafiają i tu najczęściej są to kategorie 'RTV' oraz 'komputery'.\n",
    "        </li>\n",
    "    <li>Jeśli zainteresuje nas jakiś produkt z promocji, to zdecydowanie warto poczekać na 'nocą promocję' i nie przepłacać za dnia ;), a nawet jak ją prześpimy to bardzo prawdopodobne, że będziemy mogli dokonać zakupu w kolejnej odsłonie tej promocji bez uszczerbku dla naszego portfela.\n",
    "        </li>\n",
    "    <li>\n",
    "        Warto poczekać z zakupem laptopa czy okapu do tej promocji.\n",
    "        </li>\n",
    "   </ul>"
   ]
  }
 ],
 "metadata": {
  "kernelspec": {
   "display_name": "Python 3 (ipykernel)",
   "language": "python",
   "name": "python3"
  },
  "language_info": {
   "codemirror_mode": {
    "name": "ipython",
    "version": 3
   },
   "file_extension": ".py",
   "mimetype": "text/x-python",
   "name": "python",
   "nbconvert_exporter": "python",
   "pygments_lexer": "ipython3",
   "version": "3.7.3"
  }
 },
 "nbformat": 4,
 "nbformat_minor": 5
}
